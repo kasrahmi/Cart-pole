{
  "cells": [
    {
      "cell_type": "markdown",
      "metadata": {
        "id": "yroSYUnGNfdh"
      },
      "source": [
        "# Deep Reinforcement Learning"
      ]
    },
    {
      "cell_type": "markdown",
      "metadata": {
        "id": "Lvs0fyVcTssp"
      },
      "source": [
        " Reinforcement Learning (RL) is an approach wherein an agent learns to make sequential decisions by interacting with an environment. The objective is for the agent to maximize the cumulative reward it receives over time.\n",
        " The agent goes through this process by repeatedly evaluating the consequences of its actions, trying to select actions that lead to better outcomes.\n",
        "\n",
        "To do this, we will use Gym, an platform for developing and comparing reinforcement learning algorithms. Gym provides an interface for interacting with different environments, it accepts actions from agents and plays them out in an environment, providing rewards.\n"
      ]
    },
    {
      "cell_type": "markdown",
      "metadata": {
        "id": "14HoqbdQNdoi"
      },
      "source": [
        "## Environment\n",
        "\n",
        "We will be using `CartPole` environment from gym's library for this assignment.  In this environment, a pole is attached by an un-actuated joint to a cart, which moves along a frictionless track. The pendulum is placed upright on the cart and the goal is to balance the pole by applying forces in the left and right direction on the cart.\n",
        "\n",
        "You can use the code below to run an instance of a random agent in this environment and see the results."
      ]
    },
    {
      "cell_type": "code",
      "execution_count": 1,
      "metadata": {
        "id": "wDUl4VKUTI6a"
      },
      "outputs": [],
      "source": [
        "from IPython.display import HTML\n",
        "from base64 import b64encode\n",
        "\n",
        "def show_video(path):\n",
        "    mp4 = open(path, 'rb').read()\n",
        "    data_url = \"data:video/mp4;base64,\" + b64encode(mp4).decode()\n",
        "    return HTML(\"\"\"\n",
        "    <video width=400 controls>\n",
        "          <source src=\"%s\" type=\"video/mp4\">\n",
        "    </video>\n",
        "    \"\"\" % data_url)"
      ]
    },
    {
      "cell_type": "code",
      "execution_count": 2,
      "metadata": {
        "id": "OgJvrYtuOJ6i",
        "colab": {
          "base_uri": "https://localhost:8080/"
        },
        "outputId": "3addc0dd-1fe2-4b3c-dd9a-489825d9e705"
      },
      "outputs": [
        {
          "output_type": "stream",
          "name": "stdout",
          "text": [
            "\u001b[?25l     \u001b[90m━━━━━━━━━━━━━━━━━━━━━━━━━━━━━━━━━━━━━━━━\u001b[0m \u001b[32m0.0/1.6 MB\u001b[0m \u001b[31m?\u001b[0m eta \u001b[36m-:--:--\u001b[0m\r\u001b[2K     \u001b[91m━━\u001b[0m\u001b[91m╸\u001b[0m\u001b[90m━━━━━━━━━━━━━━━━━━━━━━━━━━━━━━━━━━━━━\u001b[0m \u001b[32m0.1/1.6 MB\u001b[0m \u001b[31m4.2 MB/s\u001b[0m eta \u001b[36m0:00:01\u001b[0m\r\u001b[2K     \u001b[91m━━━━━━━━━━━━━━\u001b[0m\u001b[91m╸\u001b[0m\u001b[90m━━━━━━━━━━━━━━━━━━━━━━━━━\u001b[0m \u001b[32m0.6/1.6 MB\u001b[0m \u001b[31m9.7 MB/s\u001b[0m eta \u001b[36m0:00:01\u001b[0m\r\u001b[2K     \u001b[91m━━━━━━━━━━━━━━━━━━━━━━━━━━━━━━━━━\u001b[0m\u001b[90m╺\u001b[0m\u001b[90m━━━━━━\u001b[0m \u001b[32m1.4/1.6 MB\u001b[0m \u001b[31m13.9 MB/s\u001b[0m eta \u001b[36m0:00:01\u001b[0m\r\u001b[2K     \u001b[90m━━━━━━━━━━━━━━━━━━━━━━━━━━━━━━━━━━━━━━━━\u001b[0m \u001b[32m1.6/1.6 MB\u001b[0m \u001b[31m13.1 MB/s\u001b[0m eta \u001b[36m0:00:00\u001b[0m\n",
            "\u001b[?25h\u001b[?25l     \u001b[90m━━━━━━━━━━━━━━━━━━━━━━━━━━━━━━━━━━━━━━━━\u001b[0m \u001b[32m0.0/434.7 kB\u001b[0m \u001b[31m?\u001b[0m eta \u001b[36m-:--:--\u001b[0m\r\u001b[2K     \u001b[90m━━━━━━━━━━━━━━━━━━━━━━━━━━━━━━━━━━━━━━━━\u001b[0m \u001b[32m434.7/434.7 kB\u001b[0m \u001b[31m19.0 MB/s\u001b[0m eta \u001b[36m0:00:00\u001b[0m\n",
            "\u001b[?25h  Installing build dependencies ... \u001b[?25l\u001b[?25hdone\n",
            "  Getting requirements to build wheel ... \u001b[?25l\u001b[?25hdone\n",
            "  Preparing metadata (pyproject.toml) ... \u001b[?25l\u001b[?25hdone\n",
            "  Building wheel for AutoROM.accept-rom-license (pyproject.toml) ... \u001b[?25l\u001b[?25hdone\n"
          ]
        }
      ],
      "source": [
        "!pip install gym[atari,accept-rom-license] -qq\n",
        "!pip install imageio -qq"
      ]
    },
    {
      "cell_type": "code",
      "execution_count": 3,
      "metadata": {
        "id": "FAaKrhvfKe25"
      },
      "outputs": [],
      "source": [
        "import cv2\n",
        "import gym\n",
        "import imageio\n",
        "import numpy as np\n",
        "from gym import spaces"
      ]
    },
    {
      "cell_type": "markdown",
      "metadata": {
        "id": "mH0xWnEWToMa"
      },
      "source": [
        "We use `gym.make()` to make an instance of a certain environemtn. We can then use `.step()` method which accepts an action as input and performs it. Before that we reset the environment to its initial state by using `.reset()` method."
      ]
    },
    {
      "source": [
        "env_name = 'CartPole-v1'\n",
        "\n",
        "# Create an instance of the environment\n",
        "env = gym.make(env_name)\n",
        "\n",
        "env.reset()\n",
        "\n",
        "frames = []\n",
        "\n",
        "for _ in range(500):\n",
        "    action = env.action_space.sample()\n",
        "\n",
        "    obs, reward, done, _ = env.step(action)\n",
        "\n",
        "    # render this frame and add to the list of frames\n",
        "    render_output = env.render(mode='rgb_array') # Change render mode to 'rgb_array'\n",
        "    if render_output is not None:\n",
        "        frames.append(render_output)\n",
        "\n",
        "    if done:\n",
        "        env.reset()\n",
        "\n",
        "env.close()\n",
        "imageio.mimsave('./cartpole.mp4', frames, fps=25) # Save the video file"
      ],
      "cell_type": "code",
      "metadata": {
        "colab": {
          "base_uri": "https://localhost:8080/"
        },
        "id": "2RlavojcVATC",
        "outputId": "7a0cc4b0-15fb-4e27-f5f5-2f9e09e8935e"
      },
      "execution_count": 10,
      "outputs": [
        {
          "output_type": "stream",
          "name": "stderr",
          "text": [
            "WARNING:imageio_ffmpeg:IMAGEIO FFMPEG_WRITER WARNING: input image is not divisible by macro_block_size=16, resizing from (600, 400) to (608, 400) to ensure video compatibility with most codecs and players. To prevent resizing, make your input image divisible by the macro_block_size or set the macro_block_size to 1 (risking incompatibility).\n"
          ]
        }
      ]
    },
    {
      "cell_type": "code",
      "execution_count": 11,
      "metadata": {
        "colab": {
          "base_uri": "https://localhost:8080/",
          "height": 284
        },
        "id": "LTW3cWeXTbAB",
        "outputId": "401460e3-d9c8-41ab-9dc6-a64ce296fe39"
      },
      "outputs": [
        {
          "output_type": "execute_result",
          "data": {
            "text/plain": [
              "<IPython.core.display.HTML object>"
            ],
            "text/html": [
              "\n",
              "    <video width=400 controls>\n",
              "          <source src=\"data:video/mp4;base64,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\" type=\"video/mp4\">\n",
              "    </video>\n",
              "    "
            ]
          },
          "metadata": {},
          "execution_count": 11
        }
      ],
      "source": [
        "show_video('./cartpole.mp4')"
      ]
    },
    {
      "cell_type": "markdown",
      "metadata": {
        "id": "qRqBG6pnZE36"
      },
      "source": [
        "As you can see, the cart fails to keep the balance of the pole. In the next section we will train an agent to learn how to perform this task."
      ]
    },
    {
      "cell_type": "markdown",
      "metadata": {
        "id": "xXVxCrWQqg-8"
      },
      "source": [
        "## Algorithm\n",
        "We will be using A2C algorithm.\n",
        "\n",
        "Advantage Actor-Critic (A2C) is a reinforcement learning algorithm.\n",
        "It consists of an actor (which predicts the best action based on the current state) and a critic (which estimates the state's value function to measure expected future rewards).\n",
        "\n",
        "We will implement this together step by step.\n",
        "\n",
        "\n"
      ]
    },
    {
      "cell_type": "code",
      "execution_count": 12,
      "metadata": {
        "id": "7DkxgycMx2gy"
      },
      "outputs": [],
      "source": [
        "import torch\n",
        "import torch.nn as nn\n",
        "import torch.optim as optim\n",
        "import torch.nn.functional as F\n",
        "from torch.distributions.categorical import Categorical\n",
        "\n",
        "import numpy as np\n",
        "import gym\n",
        "from collections import deque\n",
        "from tqdm import tqdm"
      ]
    },
    {
      "cell_type": "markdown",
      "metadata": {
        "id": "SDk5mnV8o4r9"
      },
      "source": [
        "## Neural Network\n",
        "\n",
        "Here we design a simple feed forward model to embed the observation from the environment to a hidden layer. We then use two fully connected layers on top of the hidden layer, to predict the next action and estimate the value of current state. This acts as both actor, and critic.\n"
      ]
    },
    {
      "cell_type": "code",
      "execution_count": 13,
      "metadata": {
        "id": "T_xktF4MxvFT"
      },
      "outputs": [],
      "source": [
        "class ActorCritic(nn.Module):\n",
        "    def __init__(self, input_size, hidden_size, num_outputs):\n",
        "        super(ActorCritic, self).__init__()\n",
        "        self.fc1 = nn.Linear(input_size, hidden_size)\n",
        "        self.fc_actor = nn.Linear(hidden_size, num_outputs)\n",
        "        self.fc_critic = nn.Linear(hidden_size, 1)\n",
        "\n",
        "    def forward(self, x):\n",
        "        x = F.relu(self.fc1(x))\n",
        "        action_probs = F.softmax(self.fc_actor(x), dim=-1)\n",
        "        value = self.fc_critic(x)\n",
        "        return action_probs, value"
      ]
    },
    {
      "cell_type": "markdown",
      "metadata": {
        "id": "JmFYH_ls08da"
      },
      "source": [
        "## A2C"
      ]
    },
    {
      "cell_type": "markdown",
      "metadata": {
        "id": "8mq8eMC3Z4gM"
      },
      "source": [
        "The A2C algorithm aims to jointly train both the actor and the critic to improve the policy. It does this by updating the parameters\n",
        "of the actor to increase the likelihood of good actions and updating the parameters\n",
        "of the critic to better estimate the value function.\n",
        "\n",
        "In each iteration A2C plays the until it ends. During this time it records log probabality of actions, rewards, and predicted values in each step. These values will be used to update the model at the end of this trajectory.\n",
        "\n",
        "The actor is updated using the objective below:\n",
        "\n",
        "$$ L_{\\text{actor}} = -\\log \\pi(a|s;\\theta) \\times A(s, a) $$\n",
        "Where advantage is calculated as:\n",
        "$$A(s, a) = Q(s, a) - V(s) $$\n",
        "\n",
        "Namely the function $Q(s,a)$ is the estimated value of taking action\n",
        "$a$\n",
        " in state\n",
        "$s$.\n",
        "$V(s)$ is the predicted value of our critic.\n",
        "\n",
        "This loss function aims to improve the probability of playing actions that result in higher rewards.\n",
        "\n",
        "As for the critic the loss function is defined as a simple mean square loss between actual value of an state and the predicted one:\n",
        "\n",
        "$$ L_{\\text{critic}} = \\frac{1}{2} ( R - V(s))^2 $$"
      ]
    },
    {
      "cell_type": "code",
      "execution_count": 14,
      "metadata": {
        "id": "A3YES4iP1DYb"
      },
      "outputs": [],
      "source": [
        "class A2CAgent:\n",
        "    def __init__(self, env, num_episodes=1000, max_steps=500, gamma=0.99, lr=1e-3, hidden_size=256):\n",
        "        self.env = env\n",
        "        self.num_episodes = num_episodes\n",
        "        self.max_steps = max_steps\n",
        "        self.gamma = gamma\n",
        "        self.device = torch.device(\"cuda\" if torch.cuda.is_available() else \"cpu\")\n",
        "\n",
        "        # Get the size of the observation space and the number of actions\n",
        "        input_size = env.observation_space.shape[0]\n",
        "        num_outputs = env.action_space.n\n",
        "\n",
        "        # Define your actor-critic network\n",
        "        self.policy_net = ActorCritic(input_size, hidden_size, num_outputs).to(self.device)\n",
        "        self.optimizer = optim.Adam(self.policy_net.parameters(), lr=lr)\n",
        "        self.critic_loss = nn.MSELoss()\n",
        "\n",
        "    def choose_action(self, state):\n",
        "        state = torch.FloatTensor(state).unsqueeze(0).to(self.device)\n",
        "        action_probs, _ = self.policy_net(state)\n",
        "        action = torch.multinomial(action_probs, 1).item()\n",
        "        return action\n",
        "\n",
        "    def compute_returns(self, rewards):\n",
        "        returns = []\n",
        "        R = 0\n",
        "        for r in reversed(rewards):\n",
        "            R = r + self.gamma * R\n",
        "            returns.insert(0, R)\n",
        "        returns = torch.tensor(returns).to(self.device)\n",
        "        return returns\n",
        "\n",
        "    def train(self):\n",
        "        episode_rewards = []\n",
        "\n",
        "        for episode in tqdm(range(self.num_episodes)):\n",
        "            state = self.env.reset()\n",
        "            if state is None or len(state) != self.env.observation_space.shape[0]:\n",
        "                print(f\"Invalid initial state: {state}\")\n",
        "                continue\n",
        "\n",
        "            log_probs = []\n",
        "            values = []\n",
        "            rewards = []\n",
        "            episode_reward = 0\n",
        "\n",
        "            for step in range(self.max_steps):\n",
        "                action = self.choose_action(state)\n",
        "                next_state, reward, done, _ = self.env.step(action)\n",
        "\n",
        "                if next_state is None or len(next_state) != self.env.observation_space.shape[0]:\n",
        "                    print(f\"Invalid next state at step {step}: {next_state}\")\n",
        "                    break\n",
        "\n",
        "                state_tensor = torch.FloatTensor(state).unsqueeze(0).to(self.device)\n",
        "                _, value = self.policy_net(state_tensor)\n",
        "                log_prob = torch.log(self.policy_net(state_tensor)[0][0][action])\n",
        "\n",
        "                log_probs.append(log_prob)\n",
        "                values.append(value)\n",
        "                rewards.append(reward)\n",
        "                episode_reward += reward\n",
        "\n",
        "                state = next_state\n",
        "                if done:\n",
        "                    break\n",
        "\n",
        "            episode_rewards.append(episode_reward)\n",
        "\n",
        "            # Calculate the discounted rewards\n",
        "            returns = self.compute_returns(rewards)\n",
        "\n",
        "            # Convert lists to tensors\n",
        "            log_probs = torch.stack(log_probs)\n",
        "            values = torch.stack(values).squeeze()\n",
        "\n",
        "            # Calculate advantage\n",
        "            advantage = returns - values\n",
        "\n",
        "            # Compute actor and critic loss\n",
        "            actor_loss = -(log_probs * advantage.detach()).mean()\n",
        "            critic_loss = self.critic_loss(values, returns)\n",
        "            loss = actor_loss + critic_loss\n",
        "\n",
        "            # Perform backpropagation\n",
        "            self.optimizer.zero_grad()\n",
        "            loss.backward()\n",
        "            self.optimizer.step()\n",
        "\n",
        "            print(f\"Episode {episode + 1}, Reward: {episode_reward}\")\n",
        "\n",
        "        self.env.close()\n",
        "        return episode_rewards"
      ]
    },
    {
      "cell_type": "markdown",
      "metadata": {
        "id": "Hb1bgYVWeCdD"
      },
      "source": [
        "Define the model and set hyperparameters."
      ]
    },
    {
      "cell_type": "code",
      "execution_count": 15,
      "metadata": {
        "id": "ngtRu4PH4I0L",
        "colab": {
          "base_uri": "https://localhost:8080/"
        },
        "outputId": "5f5fdd96-5ccc-4ff2-8947-a0c51b99b7c6"
      },
      "outputs": [
        {
          "output_type": "stream",
          "name": "stderr",
          "text": [
            "/usr/local/lib/python3.10/dist-packages/gym/core.py:317: DeprecationWarning: \u001b[33mWARN: Initializing wrapper in old step API which returns one bool instead of two. It is recommended to set `new_step_api=True` to use new step API. This will be the default behaviour in future.\u001b[0m\n",
            "  deprecation(\n",
            "/usr/local/lib/python3.10/dist-packages/gym/wrappers/step_api_compatibility.py:39: DeprecationWarning: \u001b[33mWARN: Initializing environment in old step API which returns one bool instead of two. It is recommended to set `new_step_api=True` to use new step API. This will be the default behaviour in future.\u001b[0m\n",
            "  deprecation(\n"
          ]
        }
      ],
      "source": [
        "env = gym.make('CartPole-v1')\n",
        "num_episodes = 1000\n",
        "max_steps = 500\n",
        "lr = 1e-3\n",
        "hidden_size = 256\n",
        "\n",
        "a2c_model = A2CAgent(env, num_episodes=num_episodes, max_steps=max_steps, lr=lr, hidden_size=hidden_size)"
      ]
    },
    {
      "cell_type": "markdown",
      "metadata": {
        "id": "H0SN8RoJeFZy"
      },
      "source": [
        "Train the model."
      ]
    },
    {
      "cell_type": "code",
      "execution_count": 16,
      "metadata": {
        "id": "7s6WdYRz4V4z",
        "colab": {
          "base_uri": "https://localhost:8080/"
        },
        "outputId": "2a0c518b-9e06-4c60-8bc1-c763dbe7f2df"
      },
      "outputs": [
        {
          "output_type": "stream",
          "name": "stderr",
          "text": [
            "\r  0%|          | 0/1000 [00:00<?, ?it/s]/usr/local/lib/python3.10/dist-packages/gym/utils/passive_env_checker.py:241: DeprecationWarning: `np.bool8` is a deprecated alias for `np.bool_`.  (Deprecated NumPy 1.24)\n",
            "  if not isinstance(terminated, (bool, np.bool8)):\n",
            "  1%|          | 6/1000 [00:01<02:53,  5.74it/s]"
          ]
        },
        {
          "output_type": "stream",
          "name": "stdout",
          "text": [
            "Episode 1, Reward: 14.0\n",
            "Episode 2, Reward: 10.0\n",
            "Episode 3, Reward: 10.0\n",
            "Episode 4, Reward: 16.0\n",
            "Episode 5, Reward: 14.0\n",
            "Episode 6, Reward: 14.0\n",
            "Episode 7, Reward: 13.0\n",
            "Episode 8, Reward: 9.0\n",
            "Episode 9, Reward: 13.0\n"
          ]
        },
        {
          "output_type": "stream",
          "name": "stderr",
          "text": [
            "  2%|▏         | 16/1000 [00:01<00:56, 17.44it/s]"
          ]
        },
        {
          "output_type": "stream",
          "name": "stdout",
          "text": [
            "Episode 10, Reward: 23.0\n",
            "Episode 11, Reward: 11.0\n",
            "Episode 12, Reward: 11.0\n",
            "Episode 13, Reward: 10.0\n",
            "Episode 14, Reward: 15.0\n",
            "Episode 15, Reward: 12.0\n",
            "Episode 16, Reward: 11.0\n",
            "Episode 17, Reward: 13.0\n",
            "Episode 18, Reward: 10.0\n",
            "Episode 19, Reward: 9.0\n",
            "Episode 20, Reward: 15.0\n"
          ]
        },
        {
          "output_type": "stream",
          "name": "stderr",
          "text": [
            "  3%|▎         | 28/1000 [00:01<00:31, 30.91it/s]"
          ]
        },
        {
          "output_type": "stream",
          "name": "stdout",
          "text": [
            "Episode 21, Reward: 11.0\n",
            "Episode 22, Reward: 11.0\n",
            "Episode 23, Reward: 13.0\n",
            "Episode 24, Reward: 10.0\n",
            "Episode 25, Reward: 12.0\n",
            "Episode 26, Reward: 10.0\n",
            "Episode 27, Reward: 11.0\n",
            "Episode 28, Reward: 10.0\n",
            "Episode 29, Reward: 15.0\n",
            "Episode 30, Reward: 8.0\n",
            "Episode 31, Reward: 12.0\n",
            "Episode 32, Reward: 10.0\n"
          ]
        },
        {
          "output_type": "stream",
          "name": "stderr",
          "text": [
            "  4%|▍         | 41/1000 [00:02<00:22, 42.67it/s]"
          ]
        },
        {
          "output_type": "stream",
          "name": "stdout",
          "text": [
            "Episode 33, Reward: 9.0\n",
            "Episode 34, Reward: 8.0\n",
            "Episode 35, Reward: 10.0\n",
            "Episode 36, Reward: 12.0\n",
            "Episode 37, Reward: 12.0\n",
            "Episode 38, Reward: 11.0\n",
            "Episode 39, Reward: 16.0\n",
            "Episode 40, Reward: 11.0\n",
            "Episode 41, Reward: 9.0\n",
            "Episode 42, Reward: 11.0\n",
            "Episode 43, Reward: 10.0\n",
            "Episode 44, Reward: 9.0\n",
            "Episode 45, Reward: 9.0\n"
          ]
        },
        {
          "output_type": "stream",
          "name": "stderr",
          "text": [
            "  6%|▌         | 55/1000 [00:02<00:17, 52.87it/s]"
          ]
        },
        {
          "output_type": "stream",
          "name": "stdout",
          "text": [
            "Episode 46, Reward: 12.0\n",
            "Episode 47, Reward: 11.0\n",
            "Episode 48, Reward: 8.0\n",
            "Episode 49, Reward: 11.0\n",
            "Episode 50, Reward: 11.0\n",
            "Episode 51, Reward: 8.0\n",
            "Episode 52, Reward: 8.0\n",
            "Episode 53, Reward: 8.0\n",
            "Episode 54, Reward: 9.0\n",
            "Episode 55, Reward: 12.0\n",
            "Episode 56, Reward: 10.0\n",
            "Episode 57, Reward: 9.0\n",
            "Episode 58, Reward: 10.0\n"
          ]
        },
        {
          "output_type": "stream",
          "name": "stderr",
          "text": [
            "  7%|▋         | 68/1000 [00:02<00:16, 56.92it/s]"
          ]
        },
        {
          "output_type": "stream",
          "name": "stdout",
          "text": [
            "Episode 59, Reward: 11.0\n",
            "Episode 60, Reward: 9.0\n",
            "Episode 61, Reward: 9.0\n",
            "Episode 62, Reward: 8.0\n",
            "Episode 63, Reward: 9.0\n",
            "Episode 64, Reward: 11.0\n",
            "Episode 65, Reward: 8.0\n",
            "Episode 66, Reward: 9.0\n",
            "Episode 67, Reward: 10.0\n",
            "Episode 68, Reward: 9.0\n",
            "Episode 69, Reward: 10.0\n",
            "Episode 70, Reward: 10.0\n",
            "Episode 71, Reward: 9.0\n",
            "Episode 72, Reward: 8.0\n"
          ]
        },
        {
          "output_type": "stream",
          "name": "stderr",
          "text": [
            "  8%|▊         | 82/1000 [00:02<00:15, 57.54it/s]"
          ]
        },
        {
          "output_type": "stream",
          "name": "stdout",
          "text": [
            "Episode 73, Reward: 10.0\n",
            "Episode 74, Reward: 10.0\n",
            "Episode 75, Reward: 18.0\n",
            "Episode 76, Reward: 8.0\n",
            "Episode 77, Reward: 10.0\n",
            "Episode 78, Reward: 8.0\n",
            "Episode 79, Reward: 10.0\n",
            "Episode 80, Reward: 9.0\n",
            "Episode 81, Reward: 12.0\n",
            "Episode 82, Reward: 9.0\n",
            "Episode 83, Reward: 13.0\n"
          ]
        },
        {
          "output_type": "stream",
          "name": "stderr",
          "text": [
            " 10%|▉         | 95/1000 [00:02<00:15, 59.33it/s]"
          ]
        },
        {
          "output_type": "stream",
          "name": "stdout",
          "text": [
            "Episode 84, Reward: 10.0\n",
            "Episode 85, Reward: 9.0\n",
            "Episode 86, Reward: 10.0\n",
            "Episode 87, Reward: 10.0\n",
            "Episode 88, Reward: 14.0\n",
            "Episode 89, Reward: 11.0\n",
            "Episode 90, Reward: 12.0\n",
            "Episode 91, Reward: 9.0\n",
            "Episode 92, Reward: 8.0\n",
            "Episode 93, Reward: 9.0\n",
            "Episode 94, Reward: 10.0\n",
            "Episode 95, Reward: 8.0\n",
            "Episode 96, Reward: 9.0\n"
          ]
        },
        {
          "output_type": "stream",
          "name": "stderr",
          "text": [
            "\r 10%|█         | 102/1000 [00:03<00:15, 59.53it/s]"
          ]
        },
        {
          "output_type": "stream",
          "name": "stdout",
          "text": [
            "Episode 97, Reward: 9.0\n",
            "Episode 98, Reward: 16.0\n",
            "Episode 99, Reward: 10.0\n",
            "Episode 100, Reward: 10.0\n",
            "Episode 101, Reward: 9.0\n",
            "Episode 102, Reward: 10.0\n",
            "Episode 103, Reward: 15.0\n",
            "Episode 104, Reward: 10.0\n",
            "Episode 105, Reward: 10.0\n",
            "Episode 106, Reward: 10.0\n",
            "Episode 107, Reward: 9.0\n",
            "Episode 108, Reward: 11.0\n"
          ]
        },
        {
          "output_type": "stream",
          "name": "stderr",
          "text": [
            " 12%|█▏        | 116/1000 [00:03<00:14, 60.76it/s]"
          ]
        },
        {
          "output_type": "stream",
          "name": "stdout",
          "text": [
            "Episode 109, Reward: 9.0\n",
            "Episode 110, Reward: 9.0\n",
            "Episode 111, Reward: 10.0\n",
            "Episode 112, Reward: 9.0\n",
            "Episode 113, Reward: 10.0\n",
            "Episode 114, Reward: 9.0\n",
            "Episode 115, Reward: 10.0\n",
            "Episode 116, Reward: 10.0\n",
            "Episode 117, Reward: 13.0\n",
            "Episode 118, Reward: 10.0\n",
            "Episode 119, Reward: 9.0\n",
            "Episode 120, Reward: 9.0\n",
            "Episode 121, Reward: 10.0\n"
          ]
        },
        {
          "output_type": "stream",
          "name": "stderr",
          "text": [
            " 13%|█▎        | 130/1000 [00:03<00:14, 60.87it/s]"
          ]
        },
        {
          "output_type": "stream",
          "name": "stdout",
          "text": [
            "Episode 122, Reward: 9.0\n",
            "Episode 123, Reward: 10.0\n",
            "Episode 124, Reward: 8.0\n",
            "Episode 125, Reward: 9.0\n",
            "Episode 126, Reward: 9.0\n",
            "Episode 127, Reward: 9.0\n",
            "Episode 128, Reward: 9.0\n",
            "Episode 129, Reward: 8.0\n",
            "Episode 130, Reward: 10.0\n",
            "Episode 131, Reward: 11.0\n",
            "Episode 132, Reward: 9.0\n",
            "Episode 133, Reward: 9.0\n",
            "Episode 134, Reward: 9.0\n",
            "Episode 135, Reward: 8.0\n"
          ]
        },
        {
          "output_type": "stream",
          "name": "stderr",
          "text": [
            " 14%|█▍        | 144/1000 [00:03<00:14, 58.16it/s]"
          ]
        },
        {
          "output_type": "stream",
          "name": "stdout",
          "text": [
            "Episode 136, Reward: 10.0\n",
            "Episode 137, Reward: 15.0\n",
            "Episode 138, Reward: 9.0\n",
            "Episode 139, Reward: 10.0\n",
            "Episode 140, Reward: 12.0\n",
            "Episode 141, Reward: 9.0\n",
            "Episode 142, Reward: 10.0\n",
            "Episode 143, Reward: 10.0\n",
            "Episode 144, Reward: 10.0\n",
            "Episode 145, Reward: 9.0\n",
            "Episode 146, Reward: 11.0\n"
          ]
        },
        {
          "output_type": "stream",
          "name": "stderr",
          "text": [
            " 16%|█▌        | 158/1000 [00:03<00:13, 60.55it/s]"
          ]
        },
        {
          "output_type": "stream",
          "name": "stdout",
          "text": [
            "Episode 147, Reward: 10.0\n",
            "Episode 148, Reward: 9.0\n",
            "Episode 149, Reward: 9.0\n",
            "Episode 150, Reward: 10.0\n",
            "Episode 151, Reward: 10.0\n",
            "Episode 152, Reward: 9.0\n",
            "Episode 153, Reward: 10.0\n",
            "Episode 154, Reward: 8.0\n",
            "Episode 155, Reward: 9.0\n",
            "Episode 156, Reward: 10.0\n",
            "Episode 157, Reward: 9.0\n",
            "Episode 158, Reward: 10.0\n",
            "Episode 159, Reward: 11.0\n"
          ]
        },
        {
          "output_type": "stream",
          "name": "stderr",
          "text": [
            " 17%|█▋        | 172/1000 [00:04<00:13, 62.71it/s]"
          ]
        },
        {
          "output_type": "stream",
          "name": "stdout",
          "text": [
            "Episode 160, Reward: 11.0\n",
            "Episode 161, Reward: 10.0\n",
            "Episode 162, Reward: 10.0\n",
            "Episode 163, Reward: 9.0\n",
            "Episode 164, Reward: 11.0\n",
            "Episode 165, Reward: 8.0\n",
            "Episode 166, Reward: 9.0\n",
            "Episode 167, Reward: 9.0\n",
            "Episode 168, Reward: 10.0\n",
            "Episode 169, Reward: 8.0\n",
            "Episode 170, Reward: 10.0\n",
            "Episode 171, Reward: 10.0\n",
            "Episode 172, Reward: 9.0\n",
            "Episode 173, Reward: 10.0\n"
          ]
        },
        {
          "output_type": "stream",
          "name": "stderr",
          "text": [
            " 19%|█▊        | 186/1000 [00:04<00:12, 63.00it/s]"
          ]
        },
        {
          "output_type": "stream",
          "name": "stdout",
          "text": [
            "Episode 174, Reward: 10.0\n",
            "Episode 175, Reward: 9.0\n",
            "Episode 176, Reward: 10.0\n",
            "Episode 177, Reward: 10.0\n",
            "Episode 178, Reward: 12.0\n",
            "Episode 179, Reward: 10.0\n",
            "Episode 180, Reward: 8.0\n",
            "Episode 181, Reward: 10.0\n",
            "Episode 182, Reward: 12.0\n",
            "Episode 183, Reward: 10.0\n",
            "Episode 184, Reward: 9.0\n",
            "Episode 185, Reward: 9.0\n",
            "Episode 186, Reward: 10.0\n"
          ]
        },
        {
          "output_type": "stream",
          "name": "stderr",
          "text": [
            "\r 19%|█▉        | 193/1000 [00:04<00:13, 61.08it/s]"
          ]
        },
        {
          "output_type": "stream",
          "name": "stdout",
          "text": [
            "Episode 187, Reward: 10.0\n",
            "Episode 188, Reward: 9.0\n",
            "Episode 189, Reward: 9.0\n",
            "Episode 190, Reward: 10.0\n",
            "Episode 191, Reward: 8.0\n",
            "Episode 192, Reward: 10.0\n",
            "Episode 193, Reward: 10.0\n",
            "Episode 194, Reward: 9.0\n",
            "Episode 195, Reward: 10.0\n",
            "Episode 196, Reward: 9.0\n",
            "Episode 197, Reward: 12.0\n",
            "Episode 198, Reward: 10.0\n"
          ]
        },
        {
          "output_type": "stream",
          "name": "stderr",
          "text": [
            " 21%|██        | 206/1000 [00:04<00:15, 52.55it/s]"
          ]
        },
        {
          "output_type": "stream",
          "name": "stdout",
          "text": [
            "Episode 199, Reward: 10.0\n",
            "Episode 200, Reward: 12.0\n",
            "Episode 201, Reward: 8.0\n",
            "Episode 202, Reward: 9.0\n",
            "Episode 203, Reward: 12.0\n",
            "Episode 204, Reward: 9.0\n",
            "Episode 205, Reward: 10.0\n",
            "Episode 206, Reward: 9.0\n"
          ]
        },
        {
          "output_type": "stream",
          "name": "stderr",
          "text": [
            "\r 21%|██        | 212/1000 [00:04<00:16, 48.82it/s]"
          ]
        },
        {
          "output_type": "stream",
          "name": "stdout",
          "text": [
            "Episode 207, Reward: 13.0\n",
            "Episode 208, Reward: 11.0\n",
            "Episode 209, Reward: 12.0\n",
            "Episode 210, Reward: 12.0\n",
            "Episode 211, Reward: 9.0\n",
            "Episode 212, Reward: 9.0\n",
            "Episode 213, Reward: 9.0\n",
            "Episode 214, Reward: 9.0\n",
            "Episode 215, Reward: 10.0\n",
            "Episode 216, Reward: 9.0\n"
          ]
        },
        {
          "output_type": "stream",
          "name": "stderr",
          "text": [
            " 22%|██▏       | 222/1000 [00:05<00:15, 48.83it/s]"
          ]
        },
        {
          "output_type": "stream",
          "name": "stdout",
          "text": [
            "Episode 217, Reward: 11.0\n",
            "Episode 218, Reward: 8.0\n",
            "Episode 219, Reward: 11.0\n",
            "Episode 220, Reward: 12.0\n",
            "Episode 221, Reward: 10.0\n",
            "Episode 222, Reward: 10.0\n",
            "Episode 223, Reward: 9.0\n",
            "Episode 224, Reward: 10.0\n",
            "Episode 225, Reward: 9.0\n",
            "Episode 226, Reward: 12.0\n"
          ]
        },
        {
          "output_type": "stream",
          "name": "stderr",
          "text": [
            " 23%|██▎       | 232/1000 [00:05<00:16, 47.04it/s]"
          ]
        },
        {
          "output_type": "stream",
          "name": "stdout",
          "text": [
            "Episode 227, Reward: 13.0\n",
            "Episode 228, Reward: 14.0\n",
            "Episode 229, Reward: 8.0\n",
            "Episode 230, Reward: 12.0\n",
            "Episode 231, Reward: 10.0\n",
            "Episode 232, Reward: 8.0\n",
            "Episode 233, Reward: 11.0\n",
            "Episode 234, Reward: 11.0\n",
            "Episode 235, Reward: 9.0\n",
            "Episode 236, Reward: 9.0\n",
            "Episode 237, Reward: 9.0\n"
          ]
        },
        {
          "output_type": "stream",
          "name": "stderr",
          "text": [
            " 24%|██▍       | 243/1000 [00:05<00:16, 45.86it/s]"
          ]
        },
        {
          "output_type": "stream",
          "name": "stdout",
          "text": [
            "Episode 238, Reward: 12.0\n",
            "Episode 239, Reward: 16.0\n",
            "Episode 240, Reward: 12.0\n",
            "Episode 241, Reward: 13.0\n",
            "Episode 242, Reward: 10.0\n",
            "Episode 243, Reward: 11.0\n",
            "Episode 244, Reward: 13.0\n",
            "Episode 245, Reward: 11.0\n"
          ]
        },
        {
          "output_type": "stream",
          "name": "stderr",
          "text": [
            "\r 25%|██▍       | 248/1000 [00:05<00:17, 42.00it/s]"
          ]
        },
        {
          "output_type": "stream",
          "name": "stdout",
          "text": [
            "Episode 246, Reward: 11.0\n",
            "Episode 247, Reward: 12.0\n",
            "Episode 248, Reward: 13.0\n",
            "Episode 249, Reward: 15.0\n",
            "Episode 250, Reward: 13.0\n",
            "Episode 251, Reward: 16.0\n"
          ]
        },
        {
          "output_type": "stream",
          "name": "stderr",
          "text": [
            "\r 25%|██▌       | 253/1000 [00:06<00:24, 30.90it/s]"
          ]
        },
        {
          "output_type": "stream",
          "name": "stdout",
          "text": [
            "Episode 252, Reward: 14.0\n",
            "Episode 253, Reward: 20.0\n",
            "Episode 254, Reward: 12.0\n"
          ]
        },
        {
          "output_type": "stream",
          "name": "stderr",
          "text": [
            "\r 26%|██▌       | 257/1000 [00:06<00:30, 24.16it/s]"
          ]
        },
        {
          "output_type": "stream",
          "name": "stdout",
          "text": [
            "Episode 255, Reward: 20.0\n",
            "Episode 256, Reward: 12.0\n",
            "Episode 257, Reward: 20.0\n"
          ]
        },
        {
          "output_type": "stream",
          "name": "stderr",
          "text": [
            "\r 26%|██▌       | 260/1000 [00:06<00:35, 21.03it/s]"
          ]
        },
        {
          "output_type": "stream",
          "name": "stdout",
          "text": [
            "Episode 258, Reward: 16.0\n",
            "Episode 259, Reward: 13.0\n",
            "Episode 260, Reward: 15.0\n",
            "Episode 261, Reward: 23.0\n",
            "Episode 262, Reward: 23.0\n"
          ]
        },
        {
          "output_type": "stream",
          "name": "stderr",
          "text": [
            " 27%|██▋       | 266/1000 [00:07<00:50, 14.49it/s]"
          ]
        },
        {
          "output_type": "stream",
          "name": "stdout",
          "text": [
            "Episode 263, Reward: 50.0\n",
            "Episode 264, Reward: 19.0\n",
            "Episode 265, Reward: 18.0\n",
            "Episode 266, Reward: 26.0\n"
          ]
        },
        {
          "output_type": "stream",
          "name": "stderr",
          "text": [
            "\r 27%|██▋       | 268/1000 [00:07<00:53, 13.63it/s]"
          ]
        },
        {
          "output_type": "stream",
          "name": "stdout",
          "text": [
            "Episode 267, Reward: 21.0\n",
            "Episode 268, Reward: 20.0\n",
            "Episode 269, Reward: 24.0\n"
          ]
        },
        {
          "output_type": "stream",
          "name": "stderr",
          "text": [
            "\r 27%|██▋       | 270/1000 [00:07<00:51, 14.08it/s]"
          ]
        },
        {
          "output_type": "stream",
          "name": "stdout",
          "text": [
            "Episode 270, Reward: 12.0\n",
            "Episode 271, Reward: 36.0\n"
          ]
        },
        {
          "output_type": "stream",
          "name": "stderr",
          "text": [
            "\r 27%|██▋       | 272/1000 [00:07<01:00, 12.08it/s]"
          ]
        },
        {
          "output_type": "stream",
          "name": "stdout",
          "text": [
            "Episode 272, Reward: 45.0\n",
            "Episode 273, Reward: 53.0\n"
          ]
        },
        {
          "output_type": "stream",
          "name": "stderr",
          "text": [
            "\r 27%|██▋       | 274/1000 [00:08<01:13,  9.91it/s]"
          ]
        },
        {
          "output_type": "stream",
          "name": "stdout",
          "text": [
            "Episode 274, Reward: 33.0\n",
            "Episode 275, Reward: 64.0\n"
          ]
        },
        {
          "output_type": "stream",
          "name": "stderr",
          "text": [
            "\r 28%|██▊       | 276/1000 [00:08<01:14,  9.68it/s]"
          ]
        },
        {
          "output_type": "stream",
          "name": "stdout",
          "text": [
            "Episode 276, Reward: 29.0\n",
            "Episode 277, Reward: 19.0\n"
          ]
        },
        {
          "output_type": "stream",
          "name": "stderr",
          "text": [
            " 28%|██▊       | 281/1000 [00:08<01:07, 10.72it/s]"
          ]
        },
        {
          "output_type": "stream",
          "name": "stdout",
          "text": [
            "Episode 278, Reward: 56.0\n",
            "Episode 279, Reward: 21.0\n",
            "Episode 280, Reward: 20.0\n",
            "Episode 281, Reward: 45.0\n",
            "Episode 282, Reward: 27.0\n"
          ]
        },
        {
          "output_type": "stream",
          "name": "stderr",
          "text": [
            "\r 28%|██▊       | 284/1000 [00:08<00:58, 12.30it/s]"
          ]
        },
        {
          "output_type": "stream",
          "name": "stdout",
          "text": [
            "Episode 283, Reward: 33.0\n",
            "Episode 284, Reward: 58.0\n",
            "Episode 285, Reward: 22.0\n",
            "Episode 286, Reward: 35.0\n"
          ]
        },
        {
          "output_type": "stream",
          "name": "stderr",
          "text": [
            " 29%|██▉       | 290/1000 [00:09<00:41, 16.97it/s]"
          ]
        },
        {
          "output_type": "stream",
          "name": "stdout",
          "text": [
            "Episode 287, Reward: 28.0\n",
            "Episode 288, Reward: 20.0\n",
            "Episode 289, Reward: 29.0\n",
            "Episode 290, Reward: 26.0\n",
            "Episode 291, Reward: 27.0\n"
          ]
        },
        {
          "output_type": "stream",
          "name": "stderr",
          "text": [
            " 29%|██▉       | 294/1000 [00:09<00:55, 12.77it/s]"
          ]
        },
        {
          "output_type": "stream",
          "name": "stdout",
          "text": [
            "Episode 292, Reward: 103.0\n",
            "Episode 293, Reward: 62.0\n",
            "Episode 294, Reward: 30.0\n",
            "Episode 295, Reward: 26.0\n"
          ]
        },
        {
          "output_type": "stream",
          "name": "stderr",
          "text": [
            " 30%|██▉       | 298/1000 [00:09<00:53, 13.03it/s]"
          ]
        },
        {
          "output_type": "stream",
          "name": "stdout",
          "text": [
            "Episode 296, Reward: 64.0\n",
            "Episode 297, Reward: 49.0\n",
            "Episode 298, Reward: 43.0\n"
          ]
        },
        {
          "output_type": "stream",
          "name": "stderr",
          "text": [
            "\r 30%|███       | 300/1000 [00:10<00:51, 13.48it/s]"
          ]
        },
        {
          "output_type": "stream",
          "name": "stdout",
          "text": [
            "Episode 299, Reward: 42.0\n",
            "Episode 300, Reward: 49.0\n",
            "Episode 301, Reward: 82.0\n"
          ]
        },
        {
          "output_type": "stream",
          "name": "stderr",
          "text": [
            " 30%|███       | 305/1000 [00:10<00:44, 15.71it/s]"
          ]
        },
        {
          "output_type": "stream",
          "name": "stdout",
          "text": [
            "Episode 302, Reward: 19.0\n",
            "Episode 303, Reward: 19.0\n",
            "Episode 304, Reward: 21.0\n",
            "Episode 305, Reward: 48.0\n"
          ]
        },
        {
          "output_type": "stream",
          "name": "stderr",
          "text": [
            "\r 31%|███       | 307/1000 [00:10<00:58, 11.92it/s]"
          ]
        },
        {
          "output_type": "stream",
          "name": "stdout",
          "text": [
            "Episode 306, Reward: 128.0\n",
            "Episode 307, Reward: 66.0\n",
            "Episode 308, Reward: 37.0\n"
          ]
        },
        {
          "output_type": "stream",
          "name": "stderr",
          "text": [
            " 31%|███       | 311/1000 [00:10<00:53, 12.85it/s]"
          ]
        },
        {
          "output_type": "stream",
          "name": "stdout",
          "text": [
            "Episode 309, Reward: 82.0\n",
            "Episode 310, Reward: 39.0\n",
            "Episode 311, Reward: 27.0\n",
            "Episode 312, Reward: 16.0\n",
            "Episode 313, Reward: 24.0\n"
          ]
        },
        {
          "output_type": "stream",
          "name": "stderr",
          "text": [
            " 32%|███▏      | 317/1000 [00:11<00:39, 17.27it/s]"
          ]
        },
        {
          "output_type": "stream",
          "name": "stdout",
          "text": [
            "Episode 314, Reward: 41.0\n",
            "Episode 315, Reward: 15.0\n",
            "Episode 316, Reward: 46.0\n",
            "Episode 317, Reward: 32.0\n"
          ]
        },
        {
          "output_type": "stream",
          "name": "stderr",
          "text": [
            "\r 32%|███▏      | 319/1000 [00:11<00:44, 15.26it/s]"
          ]
        },
        {
          "output_type": "stream",
          "name": "stdout",
          "text": [
            "Episode 318, Reward: 89.0\n",
            "Episode 319, Reward: 33.0\n",
            "Episode 320, Reward: 100.0\n"
          ]
        },
        {
          "output_type": "stream",
          "name": "stderr",
          "text": [
            " 32%|███▏      | 323/1000 [00:11<01:04, 10.56it/s]"
          ]
        },
        {
          "output_type": "stream",
          "name": "stdout",
          "text": [
            "Episode 321, Reward: 144.0\n",
            "Episode 322, Reward: 55.0\n",
            "Episode 323, Reward: 69.0\n"
          ]
        },
        {
          "output_type": "stream",
          "name": "stderr",
          "text": [
            "\r 32%|███▎      | 325/1000 [00:12<01:07,  9.98it/s]"
          ]
        },
        {
          "output_type": "stream",
          "name": "stdout",
          "text": [
            "Episode 324, Reward: 87.0\n",
            "Episode 325, Reward: 75.0\n",
            "Episode 326, Reward: 34.0\n",
            "Episode 327, Reward: 21.0\n"
          ]
        },
        {
          "output_type": "stream",
          "name": "stderr",
          "text": [
            " 33%|███▎      | 330/1000 [00:12<00:55, 12.01it/s]"
          ]
        },
        {
          "output_type": "stream",
          "name": "stdout",
          "text": [
            "Episode 328, Reward: 50.0\n",
            "Episode 329, Reward: 82.0\n",
            "Episode 330, Reward: 36.0\n"
          ]
        },
        {
          "output_type": "stream",
          "name": "stderr",
          "text": [
            "\r 33%|███▎      | 332/1000 [00:12<00:57, 11.65it/s]"
          ]
        },
        {
          "output_type": "stream",
          "name": "stdout",
          "text": [
            "Episode 331, Reward: 68.0\n",
            "Episode 332, Reward: 59.0\n",
            "Episode 333, Reward: 98.0\n"
          ]
        },
        {
          "output_type": "stream",
          "name": "stderr",
          "text": [
            "\r 33%|███▎      | 334/1000 [00:13<01:18,  8.46it/s]"
          ]
        },
        {
          "output_type": "stream",
          "name": "stdout",
          "text": [
            "Episode 334, Reward: 167.0\n"
          ]
        },
        {
          "output_type": "stream",
          "name": "stderr",
          "text": [
            "\r 34%|███▎      | 336/1000 [00:13<01:22,  8.04it/s]"
          ]
        },
        {
          "output_type": "stream",
          "name": "stdout",
          "text": [
            "Episode 335, Reward: 144.0\n",
            "Episode 336, Reward: 50.0\n",
            "Episode 337, Reward: 44.0\n"
          ]
        },
        {
          "output_type": "stream",
          "name": "stderr",
          "text": [
            " 34%|███▍      | 340/1000 [00:13<01:06,  9.89it/s]"
          ]
        },
        {
          "output_type": "stream",
          "name": "stdout",
          "text": [
            "Episode 338, Reward: 105.0\n",
            "Episode 339, Reward: 39.0\n",
            "Episode 340, Reward: 30.0\n"
          ]
        },
        {
          "output_type": "stream",
          "name": "stderr",
          "text": [
            "\r 34%|███▍      | 342/1000 [00:14<01:28,  7.47it/s]"
          ]
        },
        {
          "output_type": "stream",
          "name": "stdout",
          "text": [
            "Episode 341, Reward: 170.0\n",
            "Episode 342, Reward: 112.0\n"
          ]
        },
        {
          "output_type": "stream",
          "name": "stderr",
          "text": [
            " 34%|███▍      | 344/1000 [00:14<01:35,  6.84it/s]"
          ]
        },
        {
          "output_type": "stream",
          "name": "stdout",
          "text": [
            "Episode 343, Reward: 153.0\n",
            "Episode 344, Reward: 85.0\n"
          ]
        },
        {
          "output_type": "stream",
          "name": "stderr",
          "text": [
            " 35%|███▍      | 346/1000 [00:14<01:33,  6.97it/s]"
          ]
        },
        {
          "output_type": "stream",
          "name": "stdout",
          "text": [
            "Episode 345, Reward: 87.0\n",
            "Episode 346, Reward: 101.0\n",
            "Episode 347, Reward: 29.0\n"
          ]
        },
        {
          "output_type": "stream",
          "name": "stderr",
          "text": [
            " 35%|███▍      | 349/1000 [00:14<01:19,  8.14it/s]"
          ]
        },
        {
          "output_type": "stream",
          "name": "stdout",
          "text": [
            "Episode 348, Reward: 82.0\n",
            "Episode 349, Reward: 94.0\n"
          ]
        },
        {
          "output_type": "stream",
          "name": "stderr",
          "text": [
            " 35%|███▌      | 351/1000 [00:15<01:21,  7.96it/s]"
          ]
        },
        {
          "output_type": "stream",
          "name": "stdout",
          "text": [
            "Episode 350, Reward: 93.0\n",
            "Episode 351, Reward: 90.0\n"
          ]
        },
        {
          "output_type": "stream",
          "name": "stderr",
          "text": [
            " 35%|███▌      | 353/1000 [00:15<01:36,  6.72it/s]"
          ]
        },
        {
          "output_type": "stream",
          "name": "stdout",
          "text": [
            "Episode 352, Reward: 97.0\n",
            "Episode 353, Reward: 142.0\n"
          ]
        },
        {
          "output_type": "stream",
          "name": "stderr",
          "text": [
            " 36%|███▌      | 355/1000 [00:15<01:35,  6.79it/s]"
          ]
        },
        {
          "output_type": "stream",
          "name": "stdout",
          "text": [
            "Episode 354, Reward: 117.0\n",
            "Episode 355, Reward: 74.0\n",
            "Episode 356, Reward: 54.0\n"
          ]
        },
        {
          "output_type": "stream",
          "name": "stderr",
          "text": [
            " 36%|███▌      | 358/1000 [00:16<01:19,  8.10it/s]"
          ]
        },
        {
          "output_type": "stream",
          "name": "stdout",
          "text": [
            "Episode 357, Reward: 93.0\n",
            "Episode 358, Reward: 76.0\n",
            "Episode 359, Reward: 29.0\n"
          ]
        },
        {
          "output_type": "stream",
          "name": "stderr",
          "text": [
            " 36%|███▌      | 361/1000 [00:16<01:17,  8.21it/s]"
          ]
        },
        {
          "output_type": "stream",
          "name": "stdout",
          "text": [
            "Episode 360, Reward: 116.0\n",
            "Episode 361, Reward: 101.0\n"
          ]
        },
        {
          "output_type": "stream",
          "name": "stderr",
          "text": [
            " 36%|███▋      | 363/1000 [00:16<01:30,  7.02it/s]"
          ]
        },
        {
          "output_type": "stream",
          "name": "stdout",
          "text": [
            "Episode 362, Reward: 125.0\n",
            "Episode 363, Reward: 97.0\n"
          ]
        },
        {
          "output_type": "stream",
          "name": "stderr",
          "text": [
            "\r 36%|███▋      | 365/1000 [00:17<01:07,  9.35it/s]"
          ]
        },
        {
          "output_type": "stream",
          "name": "stdout",
          "text": [
            "Episode 364, Reward: 37.0\n",
            "Episode 365, Reward: 34.0\n"
          ]
        },
        {
          "output_type": "stream",
          "name": "stderr",
          "text": [
            "\r 37%|███▋      | 367/1000 [00:17<01:04,  9.78it/s]"
          ]
        },
        {
          "output_type": "stream",
          "name": "stdout",
          "text": [
            "Episode 366, Reward: 68.0\n",
            "Episode 367, Reward: 16.0\n",
            "Episode 368, Reward: 77.0\n"
          ]
        },
        {
          "output_type": "stream",
          "name": "stderr",
          "text": [
            " 37%|███▋      | 370/1000 [00:17<01:38,  6.40it/s]"
          ]
        },
        {
          "output_type": "stream",
          "name": "stdout",
          "text": [
            "Episode 369, Reward: 154.0\n",
            "Episode 370, Reward: 108.0\n"
          ]
        },
        {
          "output_type": "stream",
          "name": "stderr",
          "text": [
            "\r 37%|███▋      | 371/1000 [00:18<01:38,  6.40it/s]"
          ]
        },
        {
          "output_type": "stream",
          "name": "stdout",
          "text": [
            "Episode 371, Reward: 79.0\n"
          ]
        },
        {
          "output_type": "stream",
          "name": "stderr",
          "text": [
            "\r 37%|███▋      | 372/1000 [00:18<02:22,  4.41it/s]"
          ]
        },
        {
          "output_type": "stream",
          "name": "stdout",
          "text": [
            "Episode 372, Reward: 212.0\n"
          ]
        },
        {
          "output_type": "stream",
          "name": "stderr",
          "text": [
            "\r 37%|███▋      | 373/1000 [00:18<02:21,  4.43it/s]"
          ]
        },
        {
          "output_type": "stream",
          "name": "stdout",
          "text": [
            "Episode 373, Reward: 95.0\n"
          ]
        },
        {
          "output_type": "stream",
          "name": "stderr",
          "text": [
            " 38%|███▊      | 375/1000 [00:19<02:02,  5.11it/s]"
          ]
        },
        {
          "output_type": "stream",
          "name": "stdout",
          "text": [
            "Episode 374, Reward: 105.0\n",
            "Episode 375, Reward: 45.0\n",
            "Episode 376, Reward: 28.0\n"
          ]
        },
        {
          "output_type": "stream",
          "name": "stderr",
          "text": [
            " 38%|███▊      | 379/1000 [00:19<01:10,  8.75it/s]"
          ]
        },
        {
          "output_type": "stream",
          "name": "stdout",
          "text": [
            "Episode 377, Reward: 43.0\n",
            "Episode 378, Reward: 68.0\n",
            "Episode 379, Reward: 43.0\n"
          ]
        },
        {
          "output_type": "stream",
          "name": "stderr",
          "text": [
            "\r 38%|███▊      | 381/1000 [00:19<01:20,  7.68it/s]"
          ]
        },
        {
          "output_type": "stream",
          "name": "stdout",
          "text": [
            "Episode 380, Reward: 101.0\n",
            "Episode 381, Reward: 114.0\n",
            "Episode 382, Reward: 45.0\n"
          ]
        },
        {
          "output_type": "stream",
          "name": "stderr",
          "text": [
            "\r 38%|███▊      | 383/1000 [00:20<01:32,  6.70it/s]"
          ]
        },
        {
          "output_type": "stream",
          "name": "stdout",
          "text": [
            "Episode 383, Reward: 202.0\n"
          ]
        },
        {
          "output_type": "stream",
          "name": "stderr",
          "text": [
            "\r 38%|███▊      | 384/1000 [00:20<01:40,  6.11it/s]"
          ]
        },
        {
          "output_type": "stream",
          "name": "stdout",
          "text": [
            "Episode 384, Reward: 156.0\n"
          ]
        },
        {
          "output_type": "stream",
          "name": "stderr",
          "text": [
            "\r 38%|███▊      | 385/1000 [00:20<01:57,  5.22it/s]"
          ]
        },
        {
          "output_type": "stream",
          "name": "stdout",
          "text": [
            "Episode 385, Reward: 203.0\n"
          ]
        },
        {
          "output_type": "stream",
          "name": "stderr",
          "text": [
            "\r 39%|███▊      | 386/1000 [00:20<02:10,  4.71it/s]"
          ]
        },
        {
          "output_type": "stream",
          "name": "stdout",
          "text": [
            "Episode 386, Reward: 188.0\n"
          ]
        },
        {
          "output_type": "stream",
          "name": "stderr",
          "text": [
            " 39%|███▉      | 388/1000 [00:21<02:10,  4.67it/s]"
          ]
        },
        {
          "output_type": "stream",
          "name": "stdout",
          "text": [
            "Episode 387, Reward: 167.0\n",
            "Episode 388, Reward: 135.0\n"
          ]
        },
        {
          "output_type": "stream",
          "name": "stderr",
          "text": [
            "\r 39%|███▉      | 390/1000 [00:21<01:41,  6.00it/s]"
          ]
        },
        {
          "output_type": "stream",
          "name": "stdout",
          "text": [
            "Episode 389, Reward: 57.0\n",
            "Episode 390, Reward: 80.0\n"
          ]
        },
        {
          "output_type": "stream",
          "name": "stderr",
          "text": [
            " 39%|███▉      | 392/1000 [00:21<01:38,  6.14it/s]"
          ]
        },
        {
          "output_type": "stream",
          "name": "stdout",
          "text": [
            "Episode 391, Reward: 152.0\n",
            "Episode 392, Reward: 71.0\n"
          ]
        },
        {
          "output_type": "stream",
          "name": "stderr",
          "text": [
            "\r 39%|███▉      | 393/1000 [00:21<01:30,  6.69it/s]"
          ]
        },
        {
          "output_type": "stream",
          "name": "stdout",
          "text": [
            "Episode 393, Reward: 76.0\n"
          ]
        },
        {
          "output_type": "stream",
          "name": "stderr",
          "text": [
            " 40%|███▉      | 395/1000 [00:22<02:04,  4.86it/s]"
          ]
        },
        {
          "output_type": "stream",
          "name": "stdout",
          "text": [
            "Episode 394, Reward: 278.0\n",
            "Episode 395, Reward: 115.0\n"
          ]
        },
        {
          "output_type": "stream",
          "name": "stderr",
          "text": [
            "\r 40%|███▉      | 396/1000 [00:22<02:08,  4.69it/s]"
          ]
        },
        {
          "output_type": "stream",
          "name": "stdout",
          "text": [
            "Episode 396, Reward: 133.0\n"
          ]
        },
        {
          "output_type": "stream",
          "name": "stderr",
          "text": [
            " 40%|███▉      | 398/1000 [00:23<02:06,  4.78it/s]"
          ]
        },
        {
          "output_type": "stream",
          "name": "stdout",
          "text": [
            "Episode 397, Reward: 175.0\n",
            "Episode 398, Reward: 112.0\n"
          ]
        },
        {
          "output_type": "stream",
          "name": "stderr",
          "text": [
            " 40%|████      | 401/1000 [00:23<01:13,  8.16it/s]"
          ]
        },
        {
          "output_type": "stream",
          "name": "stdout",
          "text": [
            "Episode 399, Reward: 70.0\n",
            "Episode 400, Reward: 42.0\n",
            "Episode 401, Reward: 30.0\n",
            "Episode 402, Reward: 26.0\n"
          ]
        },
        {
          "output_type": "stream",
          "name": "stderr",
          "text": [
            "\r 40%|████      | 403/1000 [00:23<00:59, 10.00it/s]"
          ]
        },
        {
          "output_type": "stream",
          "name": "stdout",
          "text": [
            "Episode 403, Reward: 59.0\n",
            "Episode 404, Reward: 34.0\n",
            "Episode 405, Reward: 22.0\n"
          ]
        },
        {
          "output_type": "stream",
          "name": "stderr",
          "text": [
            "\r 41%|████      | 406/1000 [00:23<00:54, 10.99it/s]"
          ]
        },
        {
          "output_type": "stream",
          "name": "stdout",
          "text": [
            "Episode 406, Reward: 99.0\n",
            "Episode 407, Reward: 209.0\n"
          ]
        },
        {
          "output_type": "stream",
          "name": "stderr",
          "text": [
            " 41%|████      | 409/1000 [00:24<01:44,  5.65it/s]"
          ]
        },
        {
          "output_type": "stream",
          "name": "stdout",
          "text": [
            "Episode 408, Reward: 304.0\n",
            "Episode 409, Reward: 120.0\n"
          ]
        },
        {
          "output_type": "stream",
          "name": "stderr",
          "text": [
            " 41%|████      | 411/1000 [00:24<01:34,  6.25it/s]"
          ]
        },
        {
          "output_type": "stream",
          "name": "stdout",
          "text": [
            "Episode 410, Reward: 114.0\n",
            "Episode 411, Reward: 75.0\n"
          ]
        },
        {
          "output_type": "stream",
          "name": "stderr",
          "text": [
            " 41%|████▏     | 414/1000 [00:25<01:07,  8.64it/s]"
          ]
        },
        {
          "output_type": "stream",
          "name": "stdout",
          "text": [
            "Episode 412, Reward: 105.0\n",
            "Episode 413, Reward: 27.0\n",
            "Episode 414, Reward: 43.0\n",
            "Episode 415, Reward: 33.0\n"
          ]
        },
        {
          "output_type": "stream",
          "name": "stderr",
          "text": [
            " 42%|████▏     | 418/1000 [00:25<00:48, 11.93it/s]"
          ]
        },
        {
          "output_type": "stream",
          "name": "stdout",
          "text": [
            "Episode 416, Reward: 37.0\n",
            "Episode 417, Reward: 45.0\n",
            "Episode 418, Reward: 48.0\n"
          ]
        },
        {
          "output_type": "stream",
          "name": "stderr",
          "text": [
            "\r 42%|████▏     | 420/1000 [00:25<00:48, 11.95it/s]"
          ]
        },
        {
          "output_type": "stream",
          "name": "stdout",
          "text": [
            "Episode 419, Reward: 54.0\n",
            "Episode 420, Reward: 58.0\n",
            "Episode 421, Reward: 32.0\n"
          ]
        },
        {
          "output_type": "stream",
          "name": "stderr",
          "text": [
            "\r 42%|████▏     | 422/1000 [00:25<00:46, 12.34it/s]"
          ]
        },
        {
          "output_type": "stream",
          "name": "stdout",
          "text": [
            "Episode 422, Reward: 57.0\n",
            "Episode 423, Reward: 120.0\n"
          ]
        },
        {
          "output_type": "stream",
          "name": "stderr",
          "text": [
            "\r 42%|████▏     | 424/1000 [00:26<01:08,  8.36it/s]"
          ]
        },
        {
          "output_type": "stream",
          "name": "stdout",
          "text": [
            "Episode 424, Reward: 163.0\n",
            "Episode 425, Reward: 106.0\n"
          ]
        },
        {
          "output_type": "stream",
          "name": "stderr",
          "text": [
            " 43%|████▎     | 427/1000 [00:26<01:10,  8.17it/s]"
          ]
        },
        {
          "output_type": "stream",
          "name": "stdout",
          "text": [
            "Episode 426, Reward: 65.0\n",
            "Episode 427, Reward: 81.0\n"
          ]
        },
        {
          "output_type": "stream",
          "name": "stderr",
          "text": [
            "\r 43%|████▎     | 428/1000 [00:26<01:35,  6.00it/s]"
          ]
        },
        {
          "output_type": "stream",
          "name": "stdout",
          "text": [
            "Episode 428, Reward: 227.0\n"
          ]
        },
        {
          "output_type": "stream",
          "name": "stderr",
          "text": [
            " 43%|████▎     | 431/1000 [00:27<01:23,  6.79it/s]"
          ]
        },
        {
          "output_type": "stream",
          "name": "stdout",
          "text": [
            "Episode 429, Reward: 192.0\n",
            "Episode 430, Reward: 18.0\n",
            "Episode 431, Reward: 77.0\n"
          ]
        },
        {
          "output_type": "stream",
          "name": "stderr",
          "text": [
            "\r 43%|████▎     | 432/1000 [00:27<01:51,  5.10it/s]"
          ]
        },
        {
          "output_type": "stream",
          "name": "stdout",
          "text": [
            "Episode 432, Reward: 259.0\n"
          ]
        },
        {
          "output_type": "stream",
          "name": "stderr",
          "text": [
            " 43%|████▎     | 434/1000 [00:28<02:04,  4.55it/s]"
          ]
        },
        {
          "output_type": "stream",
          "name": "stdout",
          "text": [
            "Episode 433, Reward: 212.0\n",
            "Episode 434, Reward: 130.0\n"
          ]
        },
        {
          "output_type": "stream",
          "name": "stderr",
          "text": [
            "\r 44%|████▎     | 435/1000 [00:28<02:02,  4.60it/s]"
          ]
        },
        {
          "output_type": "stream",
          "name": "stdout",
          "text": [
            "Episode 435, Reward: 144.0\n"
          ]
        },
        {
          "output_type": "stream",
          "name": "stderr",
          "text": [
            "\r 44%|████▎     | 436/1000 [00:28<02:00,  4.68it/s]"
          ]
        },
        {
          "output_type": "stream",
          "name": "stdout",
          "text": [
            "Episode 436, Reward: 135.0\n",
            "Episode 437, Reward: 19.0\n"
          ]
        },
        {
          "output_type": "stream",
          "name": "stderr",
          "text": [
            "\r 44%|████▍     | 438/1000 [00:28<01:33,  6.00it/s]"
          ]
        },
        {
          "output_type": "stream",
          "name": "stdout",
          "text": [
            "Episode 438, Reward: 121.0\n",
            "Episode 439, Reward: 40.0\n"
          ]
        },
        {
          "output_type": "stream",
          "name": "stderr",
          "text": [
            "\r 44%|████▍     | 440/1000 [00:29<01:45,  5.33it/s]"
          ]
        },
        {
          "output_type": "stream",
          "name": "stdout",
          "text": [
            "Episode 440, Reward: 223.0\n"
          ]
        },
        {
          "output_type": "stream",
          "name": "stderr",
          "text": [
            " 44%|████▍     | 442/1000 [00:29<01:50,  5.07it/s]"
          ]
        },
        {
          "output_type": "stream",
          "name": "stdout",
          "text": [
            "Episode 441, Reward: 185.0\n",
            "Episode 442, Reward: 53.0\n"
          ]
        },
        {
          "output_type": "stream",
          "name": "stderr",
          "text": [
            "\r 44%|████▍     | 443/1000 [00:30<02:00,  4.63it/s]"
          ]
        },
        {
          "output_type": "stream",
          "name": "stdout",
          "text": [
            "Episode 443, Reward: 155.0\n"
          ]
        },
        {
          "output_type": "stream",
          "name": "stderr",
          "text": [
            "\r 44%|████▍     | 444/1000 [00:30<02:36,  3.55it/s]"
          ]
        },
        {
          "output_type": "stream",
          "name": "stdout",
          "text": [
            "Episode 444, Reward: 221.0\n"
          ]
        },
        {
          "output_type": "stream",
          "name": "stderr",
          "text": [
            "\r 44%|████▍     | 445/1000 [00:30<02:54,  3.17it/s]"
          ]
        },
        {
          "output_type": "stream",
          "name": "stdout",
          "text": [
            "Episode 445, Reward: 185.0\n"
          ]
        },
        {
          "output_type": "stream",
          "name": "stderr",
          "text": [
            "\r 45%|████▍     | 446/1000 [00:31<03:18,  2.79it/s]"
          ]
        },
        {
          "output_type": "stream",
          "name": "stdout",
          "text": [
            "Episode 446, Reward: 221.0\n"
          ]
        },
        {
          "output_type": "stream",
          "name": "stderr",
          "text": [
            " 45%|████▍     | 448/1000 [00:32<03:07,  2.94it/s]"
          ]
        },
        {
          "output_type": "stream",
          "name": "stdout",
          "text": [
            "Episode 447, Reward: 345.0\n",
            "Episode 448, Reward: 144.0\n"
          ]
        },
        {
          "output_type": "stream",
          "name": "stderr",
          "text": [
            "\r 45%|████▍     | 449/1000 [00:32<02:38,  3.48it/s]"
          ]
        },
        {
          "output_type": "stream",
          "name": "stdout",
          "text": [
            "Episode 449, Reward: 112.0\n"
          ]
        },
        {
          "output_type": "stream",
          "name": "stderr",
          "text": [
            " 45%|████▌     | 452/1000 [00:32<01:42,  5.37it/s]"
          ]
        },
        {
          "output_type": "stream",
          "name": "stdout",
          "text": [
            "Episode 450, Reward: 177.0\n",
            "Episode 451, Reward: 55.0\n",
            "Episode 452, Reward: 36.0\n"
          ]
        },
        {
          "output_type": "stream",
          "name": "stderr",
          "text": [
            "\r 45%|████▌     | 454/1000 [00:32<01:26,  6.31it/s]"
          ]
        },
        {
          "output_type": "stream",
          "name": "stdout",
          "text": [
            "Episode 453, Reward: 48.0\n",
            "Episode 454, Reward: 111.0\n"
          ]
        },
        {
          "output_type": "stream",
          "name": "stderr",
          "text": [
            " 46%|████▌     | 456/1000 [00:33<01:39,  5.45it/s]"
          ]
        },
        {
          "output_type": "stream",
          "name": "stdout",
          "text": [
            "Episode 455, Reward: 269.0\n",
            "Episode 456, Reward: 63.0\n"
          ]
        },
        {
          "output_type": "stream",
          "name": "stderr",
          "text": [
            "\r 46%|████▌     | 457/1000 [00:33<01:32,  5.85it/s]"
          ]
        },
        {
          "output_type": "stream",
          "name": "stdout",
          "text": [
            "Episode 457, Reward: 91.0\n"
          ]
        },
        {
          "output_type": "stream",
          "name": "stderr",
          "text": [
            "\r 46%|████▌     | 458/1000 [00:33<01:38,  5.51it/s]"
          ]
        },
        {
          "output_type": "stream",
          "name": "stdout",
          "text": [
            "Episode 458, Reward: 142.0\n"
          ]
        },
        {
          "output_type": "stream",
          "name": "stderr",
          "text": [
            "\r 46%|████▌     | 459/1000 [00:34<01:58,  4.56it/s]"
          ]
        },
        {
          "output_type": "stream",
          "name": "stdout",
          "text": [
            "Episode 459, Reward: 229.0\n"
          ]
        },
        {
          "output_type": "stream",
          "name": "stderr",
          "text": [
            "\r 46%|████▌     | 460/1000 [00:34<02:07,  4.23it/s]"
          ]
        },
        {
          "output_type": "stream",
          "name": "stdout",
          "text": [
            "Episode 460, Reward: 192.0\n"
          ]
        },
        {
          "output_type": "stream",
          "name": "stderr",
          "text": [
            " 46%|████▌     | 462/1000 [00:34<02:25,  3.71it/s]"
          ]
        },
        {
          "output_type": "stream",
          "name": "stdout",
          "text": [
            "Episode 461, Reward: 361.0\n",
            "Episode 462, Reward: 104.0\n"
          ]
        },
        {
          "output_type": "stream",
          "name": "stderr",
          "text": [
            "\r 46%|████▋     | 463/1000 [00:35<02:43,  3.28it/s]"
          ]
        },
        {
          "output_type": "stream",
          "name": "stdout",
          "text": [
            "Episode 463, Reward: 284.0\n"
          ]
        },
        {
          "output_type": "stream",
          "name": "stderr",
          "text": [
            "\r 46%|████▋     | 464/1000 [00:35<02:39,  3.37it/s]"
          ]
        },
        {
          "output_type": "stream",
          "name": "stdout",
          "text": [
            "Episode 464, Reward: 182.0\n"
          ]
        },
        {
          "output_type": "stream",
          "name": "stderr",
          "text": [
            "\r 46%|████▋     | 465/1000 [00:35<02:36,  3.42it/s]"
          ]
        },
        {
          "output_type": "stream",
          "name": "stdout",
          "text": [
            "Episode 465, Reward: 196.0\n"
          ]
        },
        {
          "output_type": "stream",
          "name": "stderr",
          "text": [
            "\r 47%|████▋     | 466/1000 [00:36<03:02,  2.92it/s]"
          ]
        },
        {
          "output_type": "stream",
          "name": "stdout",
          "text": [
            "Episode 466, Reward: 325.0\n"
          ]
        },
        {
          "output_type": "stream",
          "name": "stderr",
          "text": [
            "\r 47%|████▋     | 467/1000 [00:36<02:58,  2.98it/s]"
          ]
        },
        {
          "output_type": "stream",
          "name": "stdout",
          "text": [
            "Episode 467, Reward: 207.0\n",
            "Episode 468, Reward: 64.0\n"
          ]
        },
        {
          "output_type": "stream",
          "name": "stderr",
          "text": [
            "\r 47%|████▋     | 469/1000 [00:37<02:33,  3.47it/s]"
          ]
        },
        {
          "output_type": "stream",
          "name": "stdout",
          "text": [
            "Episode 469, Reward: 265.0\n"
          ]
        },
        {
          "output_type": "stream",
          "name": "stderr",
          "text": [
            "\r 47%|████▋     | 470/1000 [00:37<02:49,  3.12it/s]"
          ]
        },
        {
          "output_type": "stream",
          "name": "stdout",
          "text": [
            "Episode 470, Reward: 291.0\n",
            "Episode 471, Reward: 50.0\n"
          ]
        },
        {
          "output_type": "stream",
          "name": "stderr",
          "text": [
            "\r 47%|████▋     | 472/1000 [00:37<02:14,  3.92it/s]"
          ]
        },
        {
          "output_type": "stream",
          "name": "stdout",
          "text": [
            "Episode 472, Reward: 177.0\n"
          ]
        },
        {
          "output_type": "stream",
          "name": "stderr",
          "text": [
            "\r 47%|████▋     | 473/1000 [00:38<02:29,  3.52it/s]"
          ]
        },
        {
          "output_type": "stream",
          "name": "stdout",
          "text": [
            "Episode 473, Reward: 280.0\n"
          ]
        },
        {
          "output_type": "stream",
          "name": "stderr",
          "text": [
            "\r 47%|████▋     | 474/1000 [00:38<03:13,  2.72it/s]"
          ]
        },
        {
          "output_type": "stream",
          "name": "stdout",
          "text": [
            "Episode 474, Reward: 421.0\n"
          ]
        },
        {
          "output_type": "stream",
          "name": "stderr",
          "text": [
            "\r 48%|████▊     | 475/1000 [00:39<02:53,  3.03it/s]"
          ]
        },
        {
          "output_type": "stream",
          "name": "stdout",
          "text": [
            "Episode 475, Reward: 143.0\n"
          ]
        },
        {
          "output_type": "stream",
          "name": "stderr",
          "text": [
            "\r 48%|████▊     | 476/1000 [00:39<02:45,  3.17it/s]"
          ]
        },
        {
          "output_type": "stream",
          "name": "stdout",
          "text": [
            "Episode 476, Reward: 193.0\n"
          ]
        },
        {
          "output_type": "stream",
          "name": "stderr",
          "text": [
            "\r 48%|████▊     | 477/1000 [00:39<02:40,  3.26it/s]"
          ]
        },
        {
          "output_type": "stream",
          "name": "stdout",
          "text": [
            "Episode 477, Reward: 184.0\n"
          ]
        },
        {
          "output_type": "stream",
          "name": "stderr",
          "text": [
            "\r 48%|████▊     | 478/1000 [00:39<02:35,  3.35it/s]"
          ]
        },
        {
          "output_type": "stream",
          "name": "stdout",
          "text": [
            "Episode 478, Reward: 192.0\n"
          ]
        },
        {
          "output_type": "stream",
          "name": "stderr",
          "text": [
            "\r 48%|████▊     | 479/1000 [00:40<02:38,  3.28it/s]"
          ]
        },
        {
          "output_type": "stream",
          "name": "stdout",
          "text": [
            "Episode 479, Reward: 224.0\n"
          ]
        },
        {
          "output_type": "stream",
          "name": "stderr",
          "text": [
            "\r 48%|████▊     | 480/1000 [00:40<03:08,  2.76it/s]"
          ]
        },
        {
          "output_type": "stream",
          "name": "stdout",
          "text": [
            "Episode 480, Reward: 336.0\n"
          ]
        },
        {
          "output_type": "stream",
          "name": "stderr",
          "text": [
            " 48%|████▊     | 482/1000 [00:41<02:23,  3.62it/s]"
          ]
        },
        {
          "output_type": "stream",
          "name": "stdout",
          "text": [
            "Episode 481, Reward: 188.0\n",
            "Episode 482, Reward: 86.0\n"
          ]
        },
        {
          "output_type": "stream",
          "name": "stderr",
          "text": [
            "\r 48%|████▊     | 483/1000 [00:41<02:42,  3.19it/s]"
          ]
        },
        {
          "output_type": "stream",
          "name": "stdout",
          "text": [
            "Episode 483, Reward: 206.0\n"
          ]
        },
        {
          "output_type": "stream",
          "name": "stderr",
          "text": [
            "\r 48%|████▊     | 484/1000 [00:41<02:50,  3.03it/s]"
          ]
        },
        {
          "output_type": "stream",
          "name": "stdout",
          "text": [
            "Episode 484, Reward: 197.0\n"
          ]
        },
        {
          "output_type": "stream",
          "name": "stderr",
          "text": [
            "\r 48%|████▊     | 485/1000 [00:42<03:12,  2.68it/s]"
          ]
        },
        {
          "output_type": "stream",
          "name": "stdout",
          "text": [
            "Episode 485, Reward: 254.0\n"
          ]
        },
        {
          "output_type": "stream",
          "name": "stderr",
          "text": [
            " 49%|████▊     | 487/1000 [00:43<03:52,  2.20it/s]"
          ]
        },
        {
          "output_type": "stream",
          "name": "stdout",
          "text": [
            "Episode 486, Reward: 488.0\n",
            "Episode 487, Reward: 104.0\n"
          ]
        },
        {
          "output_type": "stream",
          "name": "stderr",
          "text": [
            "\r 49%|████▉     | 488/1000 [00:44<03:56,  2.17it/s]"
          ]
        },
        {
          "output_type": "stream",
          "name": "stdout",
          "text": [
            "Episode 488, Reward: 337.0\n"
          ]
        },
        {
          "output_type": "stream",
          "name": "stderr",
          "text": [
            "\r 49%|████▉     | 489/1000 [00:44<03:48,  2.24it/s]"
          ]
        },
        {
          "output_type": "stream",
          "name": "stdout",
          "text": [
            "Episode 489, Reward: 280.0\n"
          ]
        },
        {
          "output_type": "stream",
          "name": "stderr",
          "text": [
            "\r 49%|████▉     | 490/1000 [00:44<03:33,  2.39it/s]"
          ]
        },
        {
          "output_type": "stream",
          "name": "stdout",
          "text": [
            "Episode 490, Reward: 229.0\n"
          ]
        },
        {
          "output_type": "stream",
          "name": "stderr",
          "text": [
            "\r 49%|████▉     | 491/1000 [00:45<03:04,  2.76it/s]"
          ]
        },
        {
          "output_type": "stream",
          "name": "stdout",
          "text": [
            "Episode 491, Reward: 155.0\n"
          ]
        },
        {
          "output_type": "stream",
          "name": "stderr",
          "text": [
            "\r 49%|████▉     | 492/1000 [00:45<02:41,  3.14it/s]"
          ]
        },
        {
          "output_type": "stream",
          "name": "stdout",
          "text": [
            "Episode 492, Reward: 145.0\n"
          ]
        },
        {
          "output_type": "stream",
          "name": "stderr",
          "text": [
            "\r 49%|████▉     | 493/1000 [00:45<02:47,  3.02it/s]"
          ]
        },
        {
          "output_type": "stream",
          "name": "stdout",
          "text": [
            "Episode 493, Reward: 230.0\n"
          ]
        },
        {
          "output_type": "stream",
          "name": "stderr",
          "text": [
            "\r 49%|████▉     | 494/1000 [00:46<02:45,  3.06it/s]"
          ]
        },
        {
          "output_type": "stream",
          "name": "stdout",
          "text": [
            "Episode 494, Reward: 220.0\n"
          ]
        },
        {
          "output_type": "stream",
          "name": "stderr",
          "text": [
            "\r 50%|████▉     | 495/1000 [00:46<02:36,  3.24it/s]"
          ]
        },
        {
          "output_type": "stream",
          "name": "stdout",
          "text": [
            "Episode 495, Reward: 185.0\n"
          ]
        },
        {
          "output_type": "stream",
          "name": "stderr",
          "text": [
            "\r 50%|████▉     | 496/1000 [00:46<02:27,  3.41it/s]"
          ]
        },
        {
          "output_type": "stream",
          "name": "stdout",
          "text": [
            "Episode 496, Reward: 176.0\n"
          ]
        },
        {
          "output_type": "stream",
          "name": "stderr",
          "text": [
            "\r 50%|████▉     | 497/1000 [00:46<02:24,  3.48it/s]"
          ]
        },
        {
          "output_type": "stream",
          "name": "stdout",
          "text": [
            "Episode 497, Reward: 181.0\n"
          ]
        },
        {
          "output_type": "stream",
          "name": "stderr",
          "text": [
            "\r 50%|████▉     | 498/1000 [00:47<02:24,  3.48it/s]"
          ]
        },
        {
          "output_type": "stream",
          "name": "stdout",
          "text": [
            "Episode 498, Reward: 206.0\n"
          ]
        },
        {
          "output_type": "stream",
          "name": "stderr",
          "text": [
            " 50%|█████     | 500/1000 [00:47<02:05,  3.97it/s]"
          ]
        },
        {
          "output_type": "stream",
          "name": "stdout",
          "text": [
            "Episode 499, Reward: 195.0\n",
            "Episode 500, Reward: 120.0\n"
          ]
        },
        {
          "output_type": "stream",
          "name": "stderr",
          "text": [
            "\r 50%|█████     | 501/1000 [00:47<02:16,  3.67it/s]"
          ]
        },
        {
          "output_type": "stream",
          "name": "stdout",
          "text": [
            "Episode 501, Reward: 206.0\n"
          ]
        },
        {
          "output_type": "stream",
          "name": "stderr",
          "text": [
            "\r 50%|█████     | 502/1000 [00:48<02:32,  3.27it/s]"
          ]
        },
        {
          "output_type": "stream",
          "name": "stdout",
          "text": [
            "Episode 502, Reward: 271.0\n"
          ]
        },
        {
          "output_type": "stream",
          "name": "stderr",
          "text": [
            "\r 50%|█████     | 503/1000 [00:48<02:35,  3.19it/s]"
          ]
        },
        {
          "output_type": "stream",
          "name": "stdout",
          "text": [
            "Episode 503, Reward: 226.0\n"
          ]
        },
        {
          "output_type": "stream",
          "name": "stderr",
          "text": [
            "\r 50%|█████     | 504/1000 [00:48<02:30,  3.30it/s]"
          ]
        },
        {
          "output_type": "stream",
          "name": "stdout",
          "text": [
            "Episode 504, Reward: 180.0\n"
          ]
        },
        {
          "output_type": "stream",
          "name": "stderr",
          "text": [
            "\r 50%|█████     | 505/1000 [00:49<02:42,  3.04it/s]"
          ]
        },
        {
          "output_type": "stream",
          "name": "stdout",
          "text": [
            "Episode 505, Reward: 273.0\n"
          ]
        },
        {
          "output_type": "stream",
          "name": "stderr",
          "text": [
            " 51%|█████     | 507/1000 [00:49<02:10,  3.78it/s]"
          ]
        },
        {
          "output_type": "stream",
          "name": "stdout",
          "text": [
            "Episode 506, Reward: 177.0\n",
            "Episode 507, Reward: 104.0\n"
          ]
        },
        {
          "output_type": "stream",
          "name": "stderr",
          "text": [
            "\r 51%|█████     | 508/1000 [00:50<02:22,  3.46it/s]"
          ]
        },
        {
          "output_type": "stream",
          "name": "stdout",
          "text": [
            "Episode 508, Reward: 228.0\n"
          ]
        },
        {
          "output_type": "stream",
          "name": "stderr",
          "text": [
            " 51%|█████     | 510/1000 [00:50<01:53,  4.32it/s]"
          ]
        },
        {
          "output_type": "stream",
          "name": "stdout",
          "text": [
            "Episode 509, Reward: 169.0\n",
            "Episode 510, Reward: 87.0\n"
          ]
        },
        {
          "output_type": "stream",
          "name": "stderr",
          "text": [
            "\r 51%|█████     | 511/1000 [00:50<01:52,  4.35it/s]"
          ]
        },
        {
          "output_type": "stream",
          "name": "stdout",
          "text": [
            "Episode 511, Reward: 149.0\n"
          ]
        },
        {
          "output_type": "stream",
          "name": "stderr",
          "text": [
            "\r 51%|█████     | 512/1000 [00:51<02:20,  3.46it/s]"
          ]
        },
        {
          "output_type": "stream",
          "name": "stdout",
          "text": [
            "Episode 512, Reward: 292.0\n"
          ]
        },
        {
          "output_type": "stream",
          "name": "stderr",
          "text": [
            "\r 51%|█████▏    | 513/1000 [00:51<02:22,  3.43it/s]"
          ]
        },
        {
          "output_type": "stream",
          "name": "stdout",
          "text": [
            "Episode 513, Reward: 207.0\n"
          ]
        },
        {
          "output_type": "stream",
          "name": "stderr",
          "text": [
            "\r 51%|█████▏    | 514/1000 [00:51<02:29,  3.24it/s]"
          ]
        },
        {
          "output_type": "stream",
          "name": "stdout",
          "text": [
            "Episode 514, Reward: 235.0\n"
          ]
        },
        {
          "output_type": "stream",
          "name": "stderr",
          "text": [
            " 52%|█████▏    | 516/1000 [00:52<01:52,  4.32it/s]"
          ]
        },
        {
          "output_type": "stream",
          "name": "stdout",
          "text": [
            "Episode 515, Reward: 156.0\n",
            "Episode 516, Reward: 66.0\n"
          ]
        },
        {
          "output_type": "stream",
          "name": "stderr",
          "text": [
            "\r 52%|█████▏    | 517/1000 [00:52<01:51,  4.32it/s]"
          ]
        },
        {
          "output_type": "stream",
          "name": "stdout",
          "text": [
            "Episode 517, Reward: 162.0\n"
          ]
        },
        {
          "output_type": "stream",
          "name": "stderr",
          "text": [
            "\r 52%|█████▏    | 518/1000 [00:52<01:54,  4.22it/s]"
          ]
        },
        {
          "output_type": "stream",
          "name": "stdout",
          "text": [
            "Episode 518, Reward: 176.0\n"
          ]
        },
        {
          "output_type": "stream",
          "name": "stderr",
          "text": [
            "\r 52%|█████▏    | 519/1000 [00:52<02:21,  3.41it/s]"
          ]
        },
        {
          "output_type": "stream",
          "name": "stdout",
          "text": [
            "Episode 519, Reward: 264.0\n"
          ]
        },
        {
          "output_type": "stream",
          "name": "stderr",
          "text": [
            "\r 52%|█████▏    | 520/1000 [00:53<02:27,  3.25it/s]"
          ]
        },
        {
          "output_type": "stream",
          "name": "stdout",
          "text": [
            "Episode 520, Reward: 237.0\n"
          ]
        },
        {
          "output_type": "stream",
          "name": "stderr",
          "text": [
            "\r 52%|█████▏    | 521/1000 [00:53<02:28,  3.22it/s]"
          ]
        },
        {
          "output_type": "stream",
          "name": "stdout",
          "text": [
            "Episode 521, Reward: 185.0\n"
          ]
        },
        {
          "output_type": "stream",
          "name": "stderr",
          "text": [
            "\r 52%|█████▏    | 522/1000 [00:54<03:35,  2.21it/s]"
          ]
        },
        {
          "output_type": "stream",
          "name": "stdout",
          "text": [
            "Episode 522, Reward: 413.0\n"
          ]
        },
        {
          "output_type": "stream",
          "name": "stderr",
          "text": [
            "\r 52%|█████▏    | 523/1000 [00:54<03:31,  2.26it/s]"
          ]
        },
        {
          "output_type": "stream",
          "name": "stdout",
          "text": [
            "Episode 523, Reward: 202.0\n"
          ]
        },
        {
          "output_type": "stream",
          "name": "stderr",
          "text": [
            "\r 52%|█████▏    | 524/1000 [00:55<04:21,  1.82it/s]"
          ]
        },
        {
          "output_type": "stream",
          "name": "stdout",
          "text": [
            "Episode 524, Reward: 378.0\n"
          ]
        },
        {
          "output_type": "stream",
          "name": "stderr",
          "text": [
            "\r 52%|█████▎    | 525/1000 [00:56<04:02,  1.96it/s]"
          ]
        },
        {
          "output_type": "stream",
          "name": "stdout",
          "text": [
            "Episode 525, Reward: 284.0\n"
          ]
        },
        {
          "output_type": "stream",
          "name": "stderr",
          "text": [
            "\r 53%|█████▎    | 526/1000 [00:56<03:44,  2.11it/s]"
          ]
        },
        {
          "output_type": "stream",
          "name": "stdout",
          "text": [
            "Episode 526, Reward: 271.0\n"
          ]
        },
        {
          "output_type": "stream",
          "name": "stderr",
          "text": [
            "\r 53%|█████▎    | 527/1000 [00:56<03:07,  2.53it/s]"
          ]
        },
        {
          "output_type": "stream",
          "name": "stdout",
          "text": [
            "Episode 527, Reward: 135.0\n"
          ]
        },
        {
          "output_type": "stream",
          "name": "stderr",
          "text": [
            "\r 53%|█████▎    | 528/1000 [00:57<03:25,  2.29it/s]"
          ]
        },
        {
          "output_type": "stream",
          "name": "stdout",
          "text": [
            "Episode 528, Reward: 257.0\n"
          ]
        },
        {
          "output_type": "stream",
          "name": "stderr",
          "text": [
            "\r 53%|█████▎    | 529/1000 [00:58<04:28,  1.75it/s]"
          ]
        },
        {
          "output_type": "stream",
          "name": "stdout",
          "text": [
            "Episode 529, Reward: 500.0\n"
          ]
        },
        {
          "output_type": "stream",
          "name": "stderr",
          "text": [
            "\r 53%|█████▎    | 530/1000 [00:58<03:46,  2.07it/s]"
          ]
        },
        {
          "output_type": "stream",
          "name": "stdout",
          "text": [
            "Episode 530, Reward: 183.0\n"
          ]
        },
        {
          "output_type": "stream",
          "name": "stderr",
          "text": [
            " 53%|█████▎    | 532/1000 [00:58<02:59,  2.61it/s]"
          ]
        },
        {
          "output_type": "stream",
          "name": "stdout",
          "text": [
            "Episode 531, Reward: 356.0\n",
            "Episode 532, Reward: 91.0\n"
          ]
        },
        {
          "output_type": "stream",
          "name": "stderr",
          "text": [
            "\r 53%|█████▎    | 533/1000 [00:59<03:02,  2.56it/s]"
          ]
        },
        {
          "output_type": "stream",
          "name": "stdout",
          "text": [
            "Episode 533, Reward: 281.0\n"
          ]
        },
        {
          "output_type": "stream",
          "name": "stderr",
          "text": [
            "\r 53%|█████▎    | 534/1000 [00:59<03:00,  2.58it/s]"
          ]
        },
        {
          "output_type": "stream",
          "name": "stdout",
          "text": [
            "Episode 534, Reward: 258.0\n"
          ]
        },
        {
          "output_type": "stream",
          "name": "stderr",
          "text": [
            "\r 54%|█████▎    | 535/1000 [01:00<02:52,  2.70it/s]"
          ]
        },
        {
          "output_type": "stream",
          "name": "stdout",
          "text": [
            "Episode 535, Reward: 224.0\n"
          ]
        },
        {
          "output_type": "stream",
          "name": "stderr",
          "text": [
            "\r 54%|█████▎    | 536/1000 [01:00<02:42,  2.85it/s]"
          ]
        },
        {
          "output_type": "stream",
          "name": "stdout",
          "text": [
            "Episode 536, Reward: 208.0\n"
          ]
        },
        {
          "output_type": "stream",
          "name": "stderr",
          "text": [
            "\r 54%|█████▎    | 537/1000 [01:00<02:41,  2.87it/s]"
          ]
        },
        {
          "output_type": "stream",
          "name": "stdout",
          "text": [
            "Episode 537, Reward: 220.0\n"
          ]
        },
        {
          "output_type": "stream",
          "name": "stderr",
          "text": [
            "\r 54%|█████▍    | 538/1000 [01:01<02:29,  3.08it/s]"
          ]
        },
        {
          "output_type": "stream",
          "name": "stdout",
          "text": [
            "Episode 538, Reward: 184.0\n"
          ]
        },
        {
          "output_type": "stream",
          "name": "stderr",
          "text": [
            "\r 54%|█████▍    | 539/1000 [01:01<02:43,  2.82it/s]"
          ]
        },
        {
          "output_type": "stream",
          "name": "stdout",
          "text": [
            "Episode 539, Reward: 297.0\n"
          ]
        },
        {
          "output_type": "stream",
          "name": "stderr",
          "text": [
            "\r 54%|█████▍    | 540/1000 [01:01<02:35,  2.95it/s]"
          ]
        },
        {
          "output_type": "stream",
          "name": "stdout",
          "text": [
            "Episode 540, Reward: 201.0\n"
          ]
        },
        {
          "output_type": "stream",
          "name": "stderr",
          "text": [
            "\r 54%|█████▍    | 541/1000 [01:02<02:51,  2.68it/s]"
          ]
        },
        {
          "output_type": "stream",
          "name": "stdout",
          "text": [
            "Episode 541, Reward: 318.0\n"
          ]
        },
        {
          "output_type": "stream",
          "name": "stderr",
          "text": [
            "\r 54%|█████▍    | 542/1000 [01:02<03:01,  2.52it/s]"
          ]
        },
        {
          "output_type": "stream",
          "name": "stdout",
          "text": [
            "Episode 542, Reward: 312.0\n"
          ]
        },
        {
          "output_type": "stream",
          "name": "stderr",
          "text": [
            "\r 54%|█████▍    | 543/1000 [01:03<02:58,  2.56it/s]"
          ]
        },
        {
          "output_type": "stream",
          "name": "stdout",
          "text": [
            "Episode 543, Reward: 265.0\n"
          ]
        },
        {
          "output_type": "stream",
          "name": "stderr",
          "text": [
            "\r 54%|█████▍    | 544/1000 [01:03<03:25,  2.22it/s]"
          ]
        },
        {
          "output_type": "stream",
          "name": "stdout",
          "text": [
            "Episode 544, Reward: 411.0\n"
          ]
        },
        {
          "output_type": "stream",
          "name": "stderr",
          "text": [
            "\r 55%|█████▍    | 545/1000 [01:04<03:41,  2.06it/s]"
          ]
        },
        {
          "output_type": "stream",
          "name": "stdout",
          "text": [
            "Episode 545, Reward: 392.0\n"
          ]
        },
        {
          "output_type": "stream",
          "name": "stderr",
          "text": [
            "\r 55%|█████▍    | 546/1000 [01:04<03:11,  2.37it/s]"
          ]
        },
        {
          "output_type": "stream",
          "name": "stdout",
          "text": [
            "Episode 546, Reward: 185.0\n"
          ]
        },
        {
          "output_type": "stream",
          "name": "stderr",
          "text": [
            "\r 55%|█████▍    | 547/1000 [01:04<03:10,  2.37it/s]"
          ]
        },
        {
          "output_type": "stream",
          "name": "stdout",
          "text": [
            "Episode 547, Reward: 290.0\n"
          ]
        },
        {
          "output_type": "stream",
          "name": "stderr",
          "text": [
            "\r 55%|█████▍    | 548/1000 [01:05<02:45,  2.74it/s]"
          ]
        },
        {
          "output_type": "stream",
          "name": "stdout",
          "text": [
            "Episode 548, Reward: 161.0\n"
          ]
        },
        {
          "output_type": "stream",
          "name": "stderr",
          "text": [
            "\r 55%|█████▍    | 549/1000 [01:05<02:26,  3.09it/s]"
          ]
        },
        {
          "output_type": "stream",
          "name": "stdout",
          "text": [
            "Episode 549, Reward: 150.0\n"
          ]
        },
        {
          "output_type": "stream",
          "name": "stderr",
          "text": [
            "\r 55%|█████▌    | 550/1000 [01:05<03:00,  2.49it/s]"
          ]
        },
        {
          "output_type": "stream",
          "name": "stdout",
          "text": [
            "Episode 550, Reward: 321.0\n"
          ]
        },
        {
          "output_type": "stream",
          "name": "stderr",
          "text": [
            "\r 55%|█████▌    | 551/1000 [01:06<03:40,  2.04it/s]"
          ]
        },
        {
          "output_type": "stream",
          "name": "stdout",
          "text": [
            "Episode 551, Reward: 378.0\n"
          ]
        },
        {
          "output_type": "stream",
          "name": "stderr",
          "text": [
            "\r 55%|█████▌    | 552/1000 [01:07<04:59,  1.50it/s]"
          ]
        },
        {
          "output_type": "stream",
          "name": "stdout",
          "text": [
            "Episode 552, Reward: 500.0\n"
          ]
        },
        {
          "output_type": "stream",
          "name": "stderr",
          "text": [
            "\r 55%|█████▌    | 553/1000 [01:08<05:06,  1.46it/s]"
          ]
        },
        {
          "output_type": "stream",
          "name": "stdout",
          "text": [
            "Episode 553, Reward: 500.0\n"
          ]
        },
        {
          "output_type": "stream",
          "name": "stderr",
          "text": [
            "\r 55%|█████▌    | 554/1000 [01:08<04:25,  1.68it/s]"
          ]
        },
        {
          "output_type": "stream",
          "name": "stdout",
          "text": [
            "Episode 554, Reward: 255.0\n"
          ]
        },
        {
          "output_type": "stream",
          "name": "stderr",
          "text": [
            "\r 56%|█████▌    | 555/1000 [01:09<04:41,  1.58it/s]"
          ]
        },
        {
          "output_type": "stream",
          "name": "stdout",
          "text": [
            "Episode 555, Reward: 500.0\n"
          ]
        },
        {
          "output_type": "stream",
          "name": "stderr",
          "text": [
            "\r 56%|█████▌    | 556/1000 [01:09<04:19,  1.71it/s]"
          ]
        },
        {
          "output_type": "stream",
          "name": "stdout",
          "text": [
            "Episode 556, Reward: 323.0\n"
          ]
        },
        {
          "output_type": "stream",
          "name": "stderr",
          "text": [
            "\r 56%|█████▌    | 557/1000 [01:10<04:04,  1.81it/s]"
          ]
        },
        {
          "output_type": "stream",
          "name": "stdout",
          "text": [
            "Episode 557, Reward: 321.0\n"
          ]
        },
        {
          "output_type": "stream",
          "name": "stderr",
          "text": [
            "\r 56%|█████▌    | 558/1000 [01:11<04:02,  1.83it/s]"
          ]
        },
        {
          "output_type": "stream",
          "name": "stdout",
          "text": [
            "Episode 558, Reward: 361.0\n"
          ]
        },
        {
          "output_type": "stream",
          "name": "stderr",
          "text": [
            "\r 56%|█████▌    | 559/1000 [01:11<03:43,  1.97it/s]"
          ]
        },
        {
          "output_type": "stream",
          "name": "stdout",
          "text": [
            "Episode 559, Reward: 271.0\n"
          ]
        },
        {
          "output_type": "stream",
          "name": "stderr",
          "text": [
            "\r 56%|█████▌    | 560/1000 [01:11<03:34,  2.05it/s]"
          ]
        },
        {
          "output_type": "stream",
          "name": "stdout",
          "text": [
            "Episode 560, Reward: 301.0\n"
          ]
        },
        {
          "output_type": "stream",
          "name": "stderr",
          "text": [
            "\r 56%|█████▌    | 561/1000 [01:12<03:55,  1.86it/s]"
          ]
        },
        {
          "output_type": "stream",
          "name": "stdout",
          "text": [
            "Episode 561, Reward: 450.0\n"
          ]
        },
        {
          "output_type": "stream",
          "name": "stderr",
          "text": [
            "\r 56%|█████▌    | 562/1000 [01:12<03:42,  1.97it/s]"
          ]
        },
        {
          "output_type": "stream",
          "name": "stdout",
          "text": [
            "Episode 562, Reward: 293.0\n"
          ]
        },
        {
          "output_type": "stream",
          "name": "stderr",
          "text": [
            "\r 56%|█████▋    | 563/1000 [01:13<03:45,  1.94it/s]"
          ]
        },
        {
          "output_type": "stream",
          "name": "stdout",
          "text": [
            "Episode 563, Reward: 360.0\n"
          ]
        },
        {
          "output_type": "stream",
          "name": "stderr",
          "text": [
            "\r 56%|█████▋    | 564/1000 [01:13<03:40,  1.98it/s]"
          ]
        },
        {
          "output_type": "stream",
          "name": "stdout",
          "text": [
            "Episode 564, Reward: 328.0\n"
          ]
        },
        {
          "output_type": "stream",
          "name": "stderr",
          "text": [
            "\r 56%|█████▋    | 565/1000 [01:14<03:09,  2.30it/s]"
          ]
        },
        {
          "output_type": "stream",
          "name": "stdout",
          "text": [
            "Episode 565, Reward: 180.0\n"
          ]
        },
        {
          "output_type": "stream",
          "name": "stderr",
          "text": [
            "\r 57%|█████▋    | 566/1000 [01:14<03:27,  2.10it/s]"
          ]
        },
        {
          "output_type": "stream",
          "name": "stdout",
          "text": [
            "Episode 566, Reward: 387.0\n"
          ]
        },
        {
          "output_type": "stream",
          "name": "stderr",
          "text": [
            "\r 57%|█████▋    | 567/1000 [01:15<03:19,  2.17it/s]"
          ]
        },
        {
          "output_type": "stream",
          "name": "stdout",
          "text": [
            "Episode 567, Reward: 279.0\n"
          ]
        },
        {
          "output_type": "stream",
          "name": "stderr",
          "text": [
            "\r 57%|█████▋    | 568/1000 [01:15<03:20,  2.16it/s]"
          ]
        },
        {
          "output_type": "stream",
          "name": "stdout",
          "text": [
            "Episode 568, Reward: 316.0\n"
          ]
        },
        {
          "output_type": "stream",
          "name": "stderr",
          "text": [
            "\r 57%|█████▋    | 569/1000 [01:16<03:12,  2.24it/s]"
          ]
        },
        {
          "output_type": "stream",
          "name": "stdout",
          "text": [
            "Episode 569, Reward: 281.0\n"
          ]
        },
        {
          "output_type": "stream",
          "name": "stderr",
          "text": [
            "\r 57%|█████▋    | 570/1000 [01:16<02:56,  2.43it/s]"
          ]
        },
        {
          "output_type": "stream",
          "name": "stdout",
          "text": [
            "Episode 570, Reward: 224.0\n"
          ]
        },
        {
          "output_type": "stream",
          "name": "stderr",
          "text": [
            "\r 57%|█████▋    | 571/1000 [01:16<02:36,  2.74it/s]"
          ]
        },
        {
          "output_type": "stream",
          "name": "stdout",
          "text": [
            "Episode 571, Reward: 165.0\n"
          ]
        },
        {
          "output_type": "stream",
          "name": "stderr",
          "text": [
            "\r 57%|█████▋    | 572/1000 [01:17<02:34,  2.76it/s]"
          ]
        },
        {
          "output_type": "stream",
          "name": "stdout",
          "text": [
            "Episode 572, Reward: 248.0\n"
          ]
        },
        {
          "output_type": "stream",
          "name": "stderr",
          "text": [
            "\r 57%|█████▋    | 573/1000 [01:17<02:15,  3.15it/s]"
          ]
        },
        {
          "output_type": "stream",
          "name": "stdout",
          "text": [
            "Episode 573, Reward: 142.0\n"
          ]
        },
        {
          "output_type": "stream",
          "name": "stderr",
          "text": [
            "\r 57%|█████▋    | 574/1000 [01:17<02:15,  3.15it/s]"
          ]
        },
        {
          "output_type": "stream",
          "name": "stdout",
          "text": [
            "Episode 574, Reward: 216.0\n"
          ]
        },
        {
          "output_type": "stream",
          "name": "stderr",
          "text": [
            "\r 57%|█████▊    | 575/1000 [01:17<02:10,  3.25it/s]"
          ]
        },
        {
          "output_type": "stream",
          "name": "stdout",
          "text": [
            "Episode 575, Reward: 132.0\n"
          ]
        },
        {
          "output_type": "stream",
          "name": "stderr",
          "text": [
            "\r 58%|█████▊    | 576/1000 [01:18<02:25,  2.91it/s]"
          ]
        },
        {
          "output_type": "stream",
          "name": "stdout",
          "text": [
            "Episode 576, Reward: 233.0\n"
          ]
        },
        {
          "output_type": "stream",
          "name": "stderr",
          "text": [
            "\r 58%|█████▊    | 577/1000 [01:18<02:35,  2.72it/s]"
          ]
        },
        {
          "output_type": "stream",
          "name": "stdout",
          "text": [
            "Episode 577, Reward: 211.0\n"
          ]
        },
        {
          "output_type": "stream",
          "name": "stderr",
          "text": [
            "\r 58%|█████▊    | 578/1000 [01:19<02:48,  2.51it/s]"
          ]
        },
        {
          "output_type": "stream",
          "name": "stdout",
          "text": [
            "Episode 578, Reward: 220.0\n"
          ]
        },
        {
          "output_type": "stream",
          "name": "stderr",
          "text": [
            " 58%|█████▊    | 580/1000 [01:19<02:23,  2.93it/s]"
          ]
        },
        {
          "output_type": "stream",
          "name": "stdout",
          "text": [
            "Episode 579, Reward: 203.0\n",
            "Episode 580, Reward: 119.0\n"
          ]
        },
        {
          "output_type": "stream",
          "name": "stderr",
          "text": [
            "\r 58%|█████▊    | 581/1000 [01:20<02:06,  3.30it/s]"
          ]
        },
        {
          "output_type": "stream",
          "name": "stdout",
          "text": [
            "Episode 581, Reward: 144.0\n"
          ]
        },
        {
          "output_type": "stream",
          "name": "stderr",
          "text": [
            "\r 58%|█████▊    | 582/1000 [01:20<02:04,  3.36it/s]"
          ]
        },
        {
          "output_type": "stream",
          "name": "stdout",
          "text": [
            "Episode 582, Reward: 196.0\n"
          ]
        },
        {
          "output_type": "stream",
          "name": "stderr",
          "text": [
            " 58%|█████▊    | 584/1000 [01:20<01:52,  3.68it/s]"
          ]
        },
        {
          "output_type": "stream",
          "name": "stdout",
          "text": [
            "Episode 583, Reward: 293.0\n",
            "Episode 584, Reward: 72.0\n"
          ]
        },
        {
          "output_type": "stream",
          "name": "stderr",
          "text": [
            "\r 58%|█████▊    | 585/1000 [01:21<02:04,  3.33it/s]"
          ]
        },
        {
          "output_type": "stream",
          "name": "stdout",
          "text": [
            "Episode 585, Reward: 260.0\n"
          ]
        },
        {
          "output_type": "stream",
          "name": "stderr",
          "text": [
            "\r 59%|█████▊    | 586/1000 [01:21<02:27,  2.80it/s]"
          ]
        },
        {
          "output_type": "stream",
          "name": "stdout",
          "text": [
            "Episode 586, Reward: 317.0\n"
          ]
        },
        {
          "output_type": "stream",
          "name": "stderr",
          "text": [
            "\r 59%|█████▊    | 587/1000 [01:22<02:29,  2.76it/s]"
          ]
        },
        {
          "output_type": "stream",
          "name": "stdout",
          "text": [
            "Episode 587, Reward: 261.0\n"
          ]
        },
        {
          "output_type": "stream",
          "name": "stderr",
          "text": [
            "\r 59%|█████▉    | 588/1000 [01:22<02:38,  2.60it/s]"
          ]
        },
        {
          "output_type": "stream",
          "name": "stdout",
          "text": [
            "Episode 588, Reward: 305.0\n"
          ]
        },
        {
          "output_type": "stream",
          "name": "stderr",
          "text": [
            "\r 59%|█████▉    | 589/1000 [01:22<02:30,  2.73it/s]"
          ]
        },
        {
          "output_type": "stream",
          "name": "stdout",
          "text": [
            "Episode 589, Reward: 211.0\n"
          ]
        },
        {
          "output_type": "stream",
          "name": "stderr",
          "text": [
            " 59%|█████▉    | 591/1000 [01:23<02:28,  2.76it/s]"
          ]
        },
        {
          "output_type": "stream",
          "name": "stdout",
          "text": [
            "Episode 590, Reward: 436.0\n",
            "Episode 591, Reward: 103.0\n"
          ]
        },
        {
          "output_type": "stream",
          "name": "stderr",
          "text": [
            " 59%|█████▉    | 593/1000 [01:24<02:32,  2.67it/s]"
          ]
        },
        {
          "output_type": "stream",
          "name": "stdout",
          "text": [
            "Episode 592, Reward: 484.0\n",
            "Episode 593, Reward: 113.0\n"
          ]
        },
        {
          "output_type": "stream",
          "name": "stderr",
          "text": [
            "\r 59%|█████▉    | 594/1000 [01:24<02:27,  2.75it/s]"
          ]
        },
        {
          "output_type": "stream",
          "name": "stdout",
          "text": [
            "Episode 594, Reward: 232.0\n"
          ]
        },
        {
          "output_type": "stream",
          "name": "stderr",
          "text": [
            " 60%|█████▉    | 596/1000 [01:25<01:54,  3.54it/s]"
          ]
        },
        {
          "output_type": "stream",
          "name": "stdout",
          "text": [
            "Episode 595, Reward: 199.0\n",
            "Episode 596, Reward: 103.0\n"
          ]
        },
        {
          "output_type": "stream",
          "name": "stderr",
          "text": [
            "\r 60%|█████▉    | 597/1000 [01:25<02:39,  2.52it/s]"
          ]
        },
        {
          "output_type": "stream",
          "name": "stdout",
          "text": [
            "Episode 597, Reward: 463.0\n"
          ]
        },
        {
          "output_type": "stream",
          "name": "stderr",
          "text": [
            "\r 60%|█████▉    | 598/1000 [01:26<03:15,  2.05it/s]"
          ]
        },
        {
          "output_type": "stream",
          "name": "stdout",
          "text": [
            "Episode 598, Reward: 500.0\n"
          ]
        },
        {
          "output_type": "stream",
          "name": "stderr",
          "text": [
            "\r 60%|█████▉    | 599/1000 [01:27<02:58,  2.24it/s]"
          ]
        },
        {
          "output_type": "stream",
          "name": "stdout",
          "text": [
            "Episode 599, Reward: 231.0\n"
          ]
        },
        {
          "output_type": "stream",
          "name": "stderr",
          "text": [
            "\r 60%|██████    | 600/1000 [01:27<02:39,  2.51it/s]"
          ]
        },
        {
          "output_type": "stream",
          "name": "stdout",
          "text": [
            "Episode 600, Reward: 197.0\n"
          ]
        },
        {
          "output_type": "stream",
          "name": "stderr",
          "text": [
            " 60%|██████    | 602/1000 [01:28<02:29,  2.65it/s]"
          ]
        },
        {
          "output_type": "stream",
          "name": "stdout",
          "text": [
            "Episode 601, Reward: 405.0\n",
            "Episode 602, Reward: 125.0\n"
          ]
        },
        {
          "output_type": "stream",
          "name": "stderr",
          "text": [
            "\r 60%|██████    | 603/1000 [01:28<02:19,  2.84it/s]"
          ]
        },
        {
          "output_type": "stream",
          "name": "stdout",
          "text": [
            "Episode 603, Reward: 206.0\n"
          ]
        },
        {
          "output_type": "stream",
          "name": "stderr",
          "text": [
            " 60%|██████    | 605/1000 [01:28<01:40,  3.93it/s]"
          ]
        },
        {
          "output_type": "stream",
          "name": "stdout",
          "text": [
            "Episode 604, Reward: 165.0\n",
            "Episode 605, Reward: 64.0\n"
          ]
        },
        {
          "output_type": "stream",
          "name": "stderr",
          "text": [
            "\r 61%|██████    | 606/1000 [01:29<01:45,  3.72it/s]"
          ]
        },
        {
          "output_type": "stream",
          "name": "stdout",
          "text": [
            "Episode 606, Reward: 203.0\n"
          ]
        },
        {
          "output_type": "stream",
          "name": "stderr",
          "text": [
            "\r 61%|██████    | 607/1000 [01:29<02:12,  2.96it/s]"
          ]
        },
        {
          "output_type": "stream",
          "name": "stdout",
          "text": [
            "Episode 607, Reward: 349.0\n"
          ]
        },
        {
          "output_type": "stream",
          "name": "stderr",
          "text": [
            "\r 61%|██████    | 608/1000 [01:29<02:20,  2.80it/s]"
          ]
        },
        {
          "output_type": "stream",
          "name": "stdout",
          "text": [
            "Episode 608, Reward: 189.0\n"
          ]
        },
        {
          "output_type": "stream",
          "name": "stderr",
          "text": [
            "\r 61%|██████    | 609/1000 [01:30<03:29,  1.87it/s]"
          ]
        },
        {
          "output_type": "stream",
          "name": "stdout",
          "text": [
            "Episode 609, Reward: 500.0\n"
          ]
        },
        {
          "output_type": "stream",
          "name": "stderr",
          "text": [
            "\r 61%|██████    | 610/1000 [01:31<03:51,  1.68it/s]"
          ]
        },
        {
          "output_type": "stream",
          "name": "stdout",
          "text": [
            "Episode 610, Reward: 326.0\n"
          ]
        },
        {
          "output_type": "stream",
          "name": "stderr",
          "text": [
            "\r 61%|██████    | 611/1000 [01:32<03:36,  1.79it/s]"
          ]
        },
        {
          "output_type": "stream",
          "name": "stdout",
          "text": [
            "Episode 611, Reward: 316.0\n"
          ]
        },
        {
          "output_type": "stream",
          "name": "stderr",
          "text": [
            "\r 61%|██████    | 612/1000 [01:32<03:56,  1.64it/s]"
          ]
        },
        {
          "output_type": "stream",
          "name": "stdout",
          "text": [
            "Episode 612, Reward: 500.0\n"
          ]
        },
        {
          "output_type": "stream",
          "name": "stderr",
          "text": [
            "\r 61%|██████▏   | 613/1000 [01:33<03:31,  1.83it/s]"
          ]
        },
        {
          "output_type": "stream",
          "name": "stdout",
          "text": [
            "Episode 613, Reward: 274.0\n"
          ]
        },
        {
          "output_type": "stream",
          "name": "stderr",
          "text": [
            "\r 61%|██████▏   | 614/1000 [01:33<03:40,  1.75it/s]"
          ]
        },
        {
          "output_type": "stream",
          "name": "stdout",
          "text": [
            "Episode 614, Reward: 438.0\n"
          ]
        },
        {
          "output_type": "stream",
          "name": "stderr",
          "text": [
            "\r 62%|██████▏   | 615/1000 [01:34<03:02,  2.11it/s]"
          ]
        },
        {
          "output_type": "stream",
          "name": "stdout",
          "text": [
            "Episode 615, Reward: 158.0\n"
          ]
        },
        {
          "output_type": "stream",
          "name": "stderr",
          "text": [
            "\r 62%|██████▏   | 616/1000 [01:34<02:38,  2.43it/s]"
          ]
        },
        {
          "output_type": "stream",
          "name": "stdout",
          "text": [
            "Episode 616, Reward: 185.0\n"
          ]
        },
        {
          "output_type": "stream",
          "name": "stderr",
          "text": [
            "\r 62%|██████▏   | 617/1000 [01:34<02:24,  2.65it/s]"
          ]
        },
        {
          "output_type": "stream",
          "name": "stdout",
          "text": [
            "Episode 617, Reward: 193.0\n"
          ]
        },
        {
          "output_type": "stream",
          "name": "stderr",
          "text": [
            "\r 62%|██████▏   | 618/1000 [01:35<02:22,  2.68it/s]"
          ]
        },
        {
          "output_type": "stream",
          "name": "stdout",
          "text": [
            "Episode 618, Reward: 248.0\n"
          ]
        },
        {
          "output_type": "stream",
          "name": "stderr",
          "text": [
            "\r 62%|██████▏   | 619/1000 [01:35<02:17,  2.77it/s]"
          ]
        },
        {
          "output_type": "stream",
          "name": "stdout",
          "text": [
            "Episode 619, Reward: 233.0\n"
          ]
        },
        {
          "output_type": "stream",
          "name": "stderr",
          "text": [
            "\r 62%|██████▏   | 620/1000 [01:35<02:13,  2.85it/s]"
          ]
        },
        {
          "output_type": "stream",
          "name": "stdout",
          "text": [
            "Episode 620, Reward: 224.0\n"
          ]
        },
        {
          "output_type": "stream",
          "name": "stderr",
          "text": [
            " 62%|██████▏   | 622/1000 [01:36<01:48,  3.47it/s]"
          ]
        },
        {
          "output_type": "stream",
          "name": "stdout",
          "text": [
            "Episode 621, Reward: 186.0\n",
            "Episode 622, Reward: 129.0\n"
          ]
        },
        {
          "output_type": "stream",
          "name": "stderr",
          "text": [
            " 62%|██████▏   | 624/1000 [01:36<01:25,  4.38it/s]"
          ]
        },
        {
          "output_type": "stream",
          "name": "stdout",
          "text": [
            "Episode 623, Reward: 130.0\n",
            "Episode 624, Reward: 107.0\n"
          ]
        },
        {
          "output_type": "stream",
          "name": "stderr",
          "text": [
            "\r 62%|██████▎   | 625/1000 [01:36<01:23,  4.50it/s]"
          ]
        },
        {
          "output_type": "stream",
          "name": "stdout",
          "text": [
            "Episode 625, Reward: 134.0\n"
          ]
        },
        {
          "output_type": "stream",
          "name": "stderr",
          "text": [
            "\r 63%|██████▎   | 626/1000 [01:36<01:26,  4.32it/s]"
          ]
        },
        {
          "output_type": "stream",
          "name": "stdout",
          "text": [
            "Episode 626, Reward: 173.0\n",
            "Episode 627, Reward: 45.0\n"
          ]
        },
        {
          "output_type": "stream",
          "name": "stderr",
          "text": [
            "\r 63%|██████▎   | 628/1000 [01:37<01:22,  4.52it/s]"
          ]
        },
        {
          "output_type": "stream",
          "name": "stdout",
          "text": [
            "Episode 628, Reward: 247.0\n"
          ]
        },
        {
          "output_type": "stream",
          "name": "stderr",
          "text": [
            "\r 63%|██████▎   | 629/1000 [01:37<01:20,  4.61it/s]"
          ]
        },
        {
          "output_type": "stream",
          "name": "stdout",
          "text": [
            "Episode 629, Reward: 141.0\n"
          ]
        },
        {
          "output_type": "stream",
          "name": "stderr",
          "text": [
            "\r 63%|██████▎   | 630/1000 [01:37<01:35,  3.89it/s]"
          ]
        },
        {
          "output_type": "stream",
          "name": "stdout",
          "text": [
            "Episode 630, Reward: 250.0\n"
          ]
        },
        {
          "output_type": "stream",
          "name": "stderr",
          "text": [
            "\r 63%|██████▎   | 631/1000 [01:38<01:36,  3.82it/s]"
          ]
        },
        {
          "output_type": "stream",
          "name": "stdout",
          "text": [
            "Episode 631, Reward: 182.0\n"
          ]
        },
        {
          "output_type": "stream",
          "name": "stderr",
          "text": [
            "\r 63%|██████▎   | 632/1000 [01:38<02:24,  2.56it/s]"
          ]
        },
        {
          "output_type": "stream",
          "name": "stdout",
          "text": [
            "Episode 632, Reward: 500.0\n"
          ]
        },
        {
          "output_type": "stream",
          "name": "stderr",
          "text": [
            "\r 63%|██████▎   | 633/1000 [01:39<02:57,  2.07it/s]"
          ]
        },
        {
          "output_type": "stream",
          "name": "stdout",
          "text": [
            "Episode 633, Reward: 500.0\n"
          ]
        },
        {
          "output_type": "stream",
          "name": "stderr",
          "text": [
            "\r 63%|██████▎   | 634/1000 [01:39<02:36,  2.35it/s]"
          ]
        },
        {
          "output_type": "stream",
          "name": "stdout",
          "text": [
            "Episode 634, Reward: 184.0\n"
          ]
        },
        {
          "output_type": "stream",
          "name": "stderr",
          "text": [
            "\r 64%|██████▎   | 635/1000 [01:40<02:31,  2.40it/s]"
          ]
        },
        {
          "output_type": "stream",
          "name": "stdout",
          "text": [
            "Episode 635, Reward: 266.0\n"
          ]
        },
        {
          "output_type": "stream",
          "name": "stderr",
          "text": [
            "\r 64%|██████▎   | 636/1000 [01:40<02:17,  2.65it/s]"
          ]
        },
        {
          "output_type": "stream",
          "name": "stdout",
          "text": [
            "Episode 636, Reward: 190.0\n"
          ]
        },
        {
          "output_type": "stream",
          "name": "stderr",
          "text": [
            "\r 64%|██████▎   | 637/1000 [01:40<02:15,  2.68it/s]"
          ]
        },
        {
          "output_type": "stream",
          "name": "stdout",
          "text": [
            "Episode 637, Reward: 245.0\n"
          ]
        },
        {
          "output_type": "stream",
          "name": "stderr",
          "text": [
            "\r 64%|██████▍   | 638/1000 [01:41<02:23,  2.53it/s]"
          ]
        },
        {
          "output_type": "stream",
          "name": "stdout",
          "text": [
            "Episode 638, Reward: 305.0\n"
          ]
        },
        {
          "output_type": "stream",
          "name": "stderr",
          "text": [
            "\r 64%|██████▍   | 639/1000 [01:41<02:21,  2.55it/s]"
          ]
        },
        {
          "output_type": "stream",
          "name": "stdout",
          "text": [
            "Episode 639, Reward: 210.0\n"
          ]
        },
        {
          "output_type": "stream",
          "name": "stderr",
          "text": [
            "\r 64%|██████▍   | 640/1000 [01:42<02:33,  2.34it/s]"
          ]
        },
        {
          "output_type": "stream",
          "name": "stdout",
          "text": [
            "Episode 640, Reward: 260.0\n"
          ]
        },
        {
          "output_type": "stream",
          "name": "stderr",
          "text": [
            "\r 64%|██████▍   | 641/1000 [01:42<02:22,  2.51it/s]"
          ]
        },
        {
          "output_type": "stream",
          "name": "stdout",
          "text": [
            "Episode 641, Reward: 175.0\n"
          ]
        },
        {
          "output_type": "stream",
          "name": "stderr",
          "text": [
            "\r 64%|██████▍   | 642/1000 [01:43<02:20,  2.54it/s]"
          ]
        },
        {
          "output_type": "stream",
          "name": "stdout",
          "text": [
            "Episode 642, Reward: 171.0\n"
          ]
        },
        {
          "output_type": "stream",
          "name": "stderr",
          "text": [
            "\r 64%|██████▍   | 643/1000 [01:43<02:18,  2.58it/s]"
          ]
        },
        {
          "output_type": "stream",
          "name": "stdout",
          "text": [
            "Episode 643, Reward: 166.0\n"
          ]
        },
        {
          "output_type": "stream",
          "name": "stderr",
          "text": [
            "\r 64%|██████▍   | 644/1000 [01:43<02:27,  2.41it/s]"
          ]
        },
        {
          "output_type": "stream",
          "name": "stdout",
          "text": [
            "Episode 644, Reward: 240.0\n"
          ]
        },
        {
          "output_type": "stream",
          "name": "stderr",
          "text": [
            "\r 64%|██████▍   | 645/1000 [01:44<02:09,  2.75it/s]"
          ]
        },
        {
          "output_type": "stream",
          "name": "stdout",
          "text": [
            "Episode 645, Reward: 167.0\n"
          ]
        },
        {
          "output_type": "stream",
          "name": "stderr",
          "text": [
            "\r 65%|██████▍   | 646/1000 [01:44<02:06,  2.79it/s]"
          ]
        },
        {
          "output_type": "stream",
          "name": "stdout",
          "text": [
            "Episode 646, Reward: 235.0\n"
          ]
        },
        {
          "output_type": "stream",
          "name": "stderr",
          "text": [
            "\r 65%|██████▍   | 647/1000 [01:44<01:56,  3.04it/s]"
          ]
        },
        {
          "output_type": "stream",
          "name": "stdout",
          "text": [
            "Episode 647, Reward: 172.0\n"
          ]
        },
        {
          "output_type": "stream",
          "name": "stderr",
          "text": [
            "\r 65%|██████▍   | 648/1000 [01:44<01:43,  3.40it/s]"
          ]
        },
        {
          "output_type": "stream",
          "name": "stdout",
          "text": [
            "Episode 648, Reward: 136.0\n"
          ]
        },
        {
          "output_type": "stream",
          "name": "stderr",
          "text": [
            "\r 65%|██████▍   | 649/1000 [01:45<01:44,  3.37it/s]"
          ]
        },
        {
          "output_type": "stream",
          "name": "stdout",
          "text": [
            "Episode 649, Reward: 210.0\n"
          ]
        },
        {
          "output_type": "stream",
          "name": "stderr",
          "text": [
            "\r 65%|██████▌   | 650/1000 [01:45<01:54,  3.06it/s]"
          ]
        },
        {
          "output_type": "stream",
          "name": "stdout",
          "text": [
            "Episode 650, Reward: 259.0\n"
          ]
        },
        {
          "output_type": "stream",
          "name": "stderr",
          "text": [
            "\r 65%|██████▌   | 651/1000 [01:46<02:10,  2.68it/s]"
          ]
        },
        {
          "output_type": "stream",
          "name": "stdout",
          "text": [
            "Episode 651, Reward: 320.0\n"
          ]
        },
        {
          "output_type": "stream",
          "name": "stderr",
          "text": [
            "\r 65%|██████▌   | 652/1000 [01:46<02:08,  2.70it/s]"
          ]
        },
        {
          "output_type": "stream",
          "name": "stdout",
          "text": [
            "Episode 652, Reward: 244.0\n"
          ]
        },
        {
          "output_type": "stream",
          "name": "stderr",
          "text": [
            "\r 65%|██████▌   | 653/1000 [01:46<02:17,  2.52it/s]"
          ]
        },
        {
          "output_type": "stream",
          "name": "stdout",
          "text": [
            "Episode 653, Reward: 308.0\n"
          ]
        },
        {
          "output_type": "stream",
          "name": "stderr",
          "text": [
            "\r 65%|██████▌   | 654/1000 [01:47<02:22,  2.42it/s]"
          ]
        },
        {
          "output_type": "stream",
          "name": "stdout",
          "text": [
            "Episode 654, Reward: 300.0\n"
          ]
        },
        {
          "output_type": "stream",
          "name": "stderr",
          "text": [
            "\r 66%|██████▌   | 655/1000 [01:48<02:44,  2.09it/s]"
          ]
        },
        {
          "output_type": "stream",
          "name": "stdout",
          "text": [
            "Episode 655, Reward: 442.0\n"
          ]
        },
        {
          "output_type": "stream",
          "name": "stderr",
          "text": [
            "\r 66%|██████▌   | 656/1000 [01:48<03:10,  1.81it/s]"
          ]
        },
        {
          "output_type": "stream",
          "name": "stdout",
          "text": [
            "Episode 656, Reward: 500.0\n"
          ]
        },
        {
          "output_type": "stream",
          "name": "stderr",
          "text": [
            "\r 66%|██████▌   | 657/1000 [01:49<03:08,  1.82it/s]"
          ]
        },
        {
          "output_type": "stream",
          "name": "stdout",
          "text": [
            "Episode 657, Reward: 366.0\n"
          ]
        },
        {
          "output_type": "stream",
          "name": "stderr",
          "text": [
            "\r 66%|██████▌   | 658/1000 [01:49<02:45,  2.06it/s]"
          ]
        },
        {
          "output_type": "stream",
          "name": "stdout",
          "text": [
            "Episode 658, Reward: 218.0\n"
          ]
        },
        {
          "output_type": "stream",
          "name": "stderr",
          "text": [
            "\r 66%|██████▌   | 659/1000 [01:49<02:24,  2.35it/s]"
          ]
        },
        {
          "output_type": "stream",
          "name": "stdout",
          "text": [
            "Episode 659, Reward: 191.0\n"
          ]
        },
        {
          "output_type": "stream",
          "name": "stderr",
          "text": [
            "\r 66%|██████▌   | 660/1000 [01:50<02:19,  2.43it/s]"
          ]
        },
        {
          "output_type": "stream",
          "name": "stdout",
          "text": [
            "Episode 660, Reward: 263.0\n"
          ]
        },
        {
          "output_type": "stream",
          "name": "stderr",
          "text": [
            "\r 66%|██████▌   | 661/1000 [01:50<02:15,  2.51it/s]"
          ]
        },
        {
          "output_type": "stream",
          "name": "stdout",
          "text": [
            "Episode 661, Reward: 246.0\n"
          ]
        },
        {
          "output_type": "stream",
          "name": "stderr",
          "text": [
            "\r 66%|██████▌   | 662/1000 [01:51<02:34,  2.18it/s]"
          ]
        },
        {
          "output_type": "stream",
          "name": "stdout",
          "text": [
            "Episode 662, Reward: 422.0\n"
          ]
        },
        {
          "output_type": "stream",
          "name": "stderr",
          "text": [
            "\r 66%|██████▋   | 663/1000 [01:51<02:28,  2.28it/s]"
          ]
        },
        {
          "output_type": "stream",
          "name": "stdout",
          "text": [
            "Episode 663, Reward: 262.0\n"
          ]
        },
        {
          "output_type": "stream",
          "name": "stderr",
          "text": [
            "\r 66%|██████▋   | 664/1000 [01:52<02:33,  2.19it/s]"
          ]
        },
        {
          "output_type": "stream",
          "name": "stdout",
          "text": [
            "Episode 664, Reward: 350.0\n"
          ]
        },
        {
          "output_type": "stream",
          "name": "stderr",
          "text": [
            "\r 66%|██████▋   | 665/1000 [01:52<02:38,  2.11it/s]"
          ]
        },
        {
          "output_type": "stream",
          "name": "stdout",
          "text": [
            "Episode 665, Reward: 342.0\n"
          ]
        },
        {
          "output_type": "stream",
          "name": "stderr",
          "text": [
            "\r 67%|██████▋   | 666/1000 [01:53<03:00,  1.85it/s]"
          ]
        },
        {
          "output_type": "stream",
          "name": "stdout",
          "text": [
            "Episode 666, Reward: 464.0\n"
          ]
        },
        {
          "output_type": "stream",
          "name": "stderr",
          "text": [
            "\r 67%|██████▋   | 667/1000 [01:53<02:50,  1.95it/s]"
          ]
        },
        {
          "output_type": "stream",
          "name": "stdout",
          "text": [
            "Episode 667, Reward: 267.0\n"
          ]
        },
        {
          "output_type": "stream",
          "name": "stderr",
          "text": [
            "\r 67%|██████▋   | 668/1000 [01:54<02:41,  2.06it/s]"
          ]
        },
        {
          "output_type": "stream",
          "name": "stdout",
          "text": [
            "Episode 668, Reward: 203.0\n"
          ]
        },
        {
          "output_type": "stream",
          "name": "stderr",
          "text": [
            "\r 67%|██████▋   | 669/1000 [01:54<02:55,  1.88it/s]"
          ]
        },
        {
          "output_type": "stream",
          "name": "stdout",
          "text": [
            "Episode 669, Reward: 316.0\n"
          ]
        },
        {
          "output_type": "stream",
          "name": "stderr",
          "text": [
            "\r 67%|██████▋   | 670/1000 [01:55<02:56,  1.87it/s]"
          ]
        },
        {
          "output_type": "stream",
          "name": "stdout",
          "text": [
            "Episode 670, Reward: 246.0\n"
          ]
        },
        {
          "output_type": "stream",
          "name": "stderr",
          "text": [
            "\r 67%|██████▋   | 671/1000 [01:56<03:08,  1.74it/s]"
          ]
        },
        {
          "output_type": "stream",
          "name": "stdout",
          "text": [
            "Episode 671, Reward: 346.0\n"
          ]
        },
        {
          "output_type": "stream",
          "name": "stderr",
          "text": [
            "\r 67%|██████▋   | 672/1000 [01:56<03:04,  1.78it/s]"
          ]
        },
        {
          "output_type": "stream",
          "name": "stdout",
          "text": [
            "Episode 672, Reward: 356.0\n"
          ]
        },
        {
          "output_type": "stream",
          "name": "stderr",
          "text": [
            "\r 67%|██████▋   | 673/1000 [01:57<03:01,  1.80it/s]"
          ]
        },
        {
          "output_type": "stream",
          "name": "stdout",
          "text": [
            "Episode 673, Reward: 371.0\n"
          ]
        },
        {
          "output_type": "stream",
          "name": "stderr",
          "text": [
            "\r 67%|██████▋   | 674/1000 [01:57<03:18,  1.64it/s]"
          ]
        },
        {
          "output_type": "stream",
          "name": "stdout",
          "text": [
            "Episode 674, Reward: 500.0\n"
          ]
        },
        {
          "output_type": "stream",
          "name": "stderr",
          "text": [
            "\r 68%|██████▊   | 675/1000 [01:58<03:16,  1.65it/s]"
          ]
        },
        {
          "output_type": "stream",
          "name": "stdout",
          "text": [
            "Episode 675, Reward: 395.0\n"
          ]
        },
        {
          "output_type": "stream",
          "name": "stderr",
          "text": [
            "\r 68%|██████▊   | 676/1000 [01:58<02:56,  1.84it/s]"
          ]
        },
        {
          "output_type": "stream",
          "name": "stdout",
          "text": [
            "Episode 676, Reward: 269.0\n"
          ]
        },
        {
          "output_type": "stream",
          "name": "stderr",
          "text": [
            "\r 68%|██████▊   | 677/1000 [01:59<02:54,  1.85it/s]"
          ]
        },
        {
          "output_type": "stream",
          "name": "stdout",
          "text": [
            "Episode 677, Reward: 366.0\n"
          ]
        },
        {
          "output_type": "stream",
          "name": "stderr",
          "text": [
            "\r 68%|██████▊   | 678/1000 [02:00<02:58,  1.80it/s]"
          ]
        },
        {
          "output_type": "stream",
          "name": "stdout",
          "text": [
            "Episode 678, Reward: 386.0\n"
          ]
        },
        {
          "output_type": "stream",
          "name": "stderr",
          "text": [
            "\r 68%|██████▊   | 679/1000 [02:00<02:46,  1.93it/s]"
          ]
        },
        {
          "output_type": "stream",
          "name": "stdout",
          "text": [
            "Episode 679, Reward: 284.0\n"
          ]
        },
        {
          "output_type": "stream",
          "name": "stderr",
          "text": [
            "\r 68%|██████▊   | 680/1000 [02:01<02:58,  1.79it/s]"
          ]
        },
        {
          "output_type": "stream",
          "name": "stdout",
          "text": [
            "Episode 680, Reward: 445.0\n"
          ]
        },
        {
          "output_type": "stream",
          "name": "stderr",
          "text": [
            "\r 68%|██████▊   | 681/1000 [02:01<02:51,  1.86it/s]"
          ]
        },
        {
          "output_type": "stream",
          "name": "stdout",
          "text": [
            "Episode 681, Reward: 328.0\n"
          ]
        },
        {
          "output_type": "stream",
          "name": "stderr",
          "text": [
            "\r 68%|██████▊   | 682/1000 [02:02<02:40,  1.99it/s]"
          ]
        },
        {
          "output_type": "stream",
          "name": "stdout",
          "text": [
            "Episode 682, Reward: 272.0\n",
            "Episode 683, Reward: 30.0\n"
          ]
        },
        {
          "output_type": "stream",
          "name": "stderr",
          "text": [
            "\r 68%|██████▊   | 684/1000 [02:02<01:52,  2.80it/s]"
          ]
        },
        {
          "output_type": "stream",
          "name": "stdout",
          "text": [
            "Episode 684, Reward: 219.0\n"
          ]
        },
        {
          "output_type": "stream",
          "name": "stderr",
          "text": [
            " 69%|██████▊   | 686/1000 [02:03<01:50,  2.85it/s]"
          ]
        },
        {
          "output_type": "stream",
          "name": "stdout",
          "text": [
            "Episode 685, Reward: 393.0\n",
            "Episode 686, Reward: 124.0\n"
          ]
        },
        {
          "output_type": "stream",
          "name": "stderr",
          "text": [
            "\r 69%|██████▊   | 687/1000 [02:03<01:48,  2.88it/s]"
          ]
        },
        {
          "output_type": "stream",
          "name": "stdout",
          "text": [
            "Episode 687, Reward: 228.0\n"
          ]
        },
        {
          "output_type": "stream",
          "name": "stderr",
          "text": [
            "\r 69%|██████▉   | 688/1000 [02:03<01:49,  2.85it/s]"
          ]
        },
        {
          "output_type": "stream",
          "name": "stdout",
          "text": [
            "Episode 688, Reward: 225.0\n",
            "Episode 689, Reward: 37.0\n"
          ]
        },
        {
          "output_type": "stream",
          "name": "stderr",
          "text": [
            "\r 69%|██████▉   | 690/1000 [02:04<01:17,  4.02it/s]"
          ]
        },
        {
          "output_type": "stream",
          "name": "stdout",
          "text": [
            "Episode 690, Reward: 122.0\n"
          ]
        },
        {
          "output_type": "stream",
          "name": "stderr",
          "text": [
            "\r 69%|██████▉   | 691/1000 [02:04<01:15,  4.09it/s]"
          ]
        },
        {
          "output_type": "stream",
          "name": "stdout",
          "text": [
            "Episode 691, Reward: 155.0\n"
          ]
        },
        {
          "output_type": "stream",
          "name": "stderr",
          "text": [
            "\r 69%|██████▉   | 692/1000 [02:04<01:25,  3.62it/s]"
          ]
        },
        {
          "output_type": "stream",
          "name": "stdout",
          "text": [
            "Episode 692, Reward: 226.0\n"
          ]
        },
        {
          "output_type": "stream",
          "name": "stderr",
          "text": [
            "\r 69%|██████▉   | 693/1000 [02:05<01:28,  3.47it/s]"
          ]
        },
        {
          "output_type": "stream",
          "name": "stdout",
          "text": [
            "Episode 693, Reward: 204.0\n"
          ]
        },
        {
          "output_type": "stream",
          "name": "stderr",
          "text": [
            "\r 69%|██████▉   | 694/1000 [02:05<01:34,  3.25it/s]"
          ]
        },
        {
          "output_type": "stream",
          "name": "stdout",
          "text": [
            "Episode 694, Reward: 245.0\n"
          ]
        },
        {
          "output_type": "stream",
          "name": "stderr",
          "text": [
            "\r 70%|██████▉   | 695/1000 [02:05<01:41,  3.01it/s]"
          ]
        },
        {
          "output_type": "stream",
          "name": "stdout",
          "text": [
            "Episode 695, Reward: 268.0\n"
          ]
        },
        {
          "output_type": "stream",
          "name": "stderr",
          "text": [
            "\r 70%|██████▉   | 696/1000 [02:06<01:57,  2.59it/s]"
          ]
        },
        {
          "output_type": "stream",
          "name": "stdout",
          "text": [
            "Episode 696, Reward: 254.0\n"
          ]
        },
        {
          "output_type": "stream",
          "name": "stderr",
          "text": [
            "\r 70%|██████▉   | 697/1000 [02:06<02:19,  2.17it/s]"
          ]
        },
        {
          "output_type": "stream",
          "name": "stdout",
          "text": [
            "Episode 697, Reward: 331.0\n"
          ]
        },
        {
          "output_type": "stream",
          "name": "stderr",
          "text": [
            "\r 70%|██████▉   | 698/1000 [02:07<02:23,  2.10it/s]"
          ]
        },
        {
          "output_type": "stream",
          "name": "stdout",
          "text": [
            "Episode 698, Reward: 234.0\n"
          ]
        },
        {
          "output_type": "stream",
          "name": "stderr",
          "text": [
            "\r 70%|██████▉   | 699/1000 [02:07<02:27,  2.04it/s]"
          ]
        },
        {
          "output_type": "stream",
          "name": "stdout",
          "text": [
            "Episode 699, Reward: 232.0\n"
          ]
        },
        {
          "output_type": "stream",
          "name": "stderr",
          "text": [
            "\r 70%|███████   | 700/1000 [02:08<02:28,  2.01it/s]"
          ]
        },
        {
          "output_type": "stream",
          "name": "stdout",
          "text": [
            "Episode 700, Reward: 351.0\n"
          ]
        },
        {
          "output_type": "stream",
          "name": "stderr",
          "text": [
            "\r 70%|███████   | 701/1000 [02:08<02:14,  2.23it/s]"
          ]
        },
        {
          "output_type": "stream",
          "name": "stdout",
          "text": [
            "Episode 701, Reward: 222.0\n"
          ]
        },
        {
          "output_type": "stream",
          "name": "stderr",
          "text": [
            "\r 70%|███████   | 702/1000 [02:09<02:13,  2.23it/s]"
          ]
        },
        {
          "output_type": "stream",
          "name": "stdout",
          "text": [
            "Episode 702, Reward: 298.0\n"
          ]
        },
        {
          "output_type": "stream",
          "name": "stderr",
          "text": [
            "\r 70%|███████   | 703/1000 [02:09<02:21,  2.10it/s]"
          ]
        },
        {
          "output_type": "stream",
          "name": "stdout",
          "text": [
            "Episode 703, Reward: 367.0\n"
          ]
        },
        {
          "output_type": "stream",
          "name": "stderr",
          "text": [
            "\r 70%|███████   | 704/1000 [02:10<02:14,  2.20it/s]"
          ]
        },
        {
          "output_type": "stream",
          "name": "stdout",
          "text": [
            "Episode 704, Reward: 259.0\n"
          ]
        },
        {
          "output_type": "stream",
          "name": "stderr",
          "text": [
            "\r 70%|███████   | 705/1000 [02:10<02:37,  1.87it/s]"
          ]
        },
        {
          "output_type": "stream",
          "name": "stdout",
          "text": [
            "Episode 705, Reward: 500.0\n"
          ]
        },
        {
          "output_type": "stream",
          "name": "stderr",
          "text": [
            "\r 71%|███████   | 706/1000 [02:11<02:15,  2.16it/s]"
          ]
        },
        {
          "output_type": "stream",
          "name": "stdout",
          "text": [
            "Episode 706, Reward: 193.0\n"
          ]
        },
        {
          "output_type": "stream",
          "name": "stderr",
          "text": [
            "\r 71%|███████   | 707/1000 [02:11<02:07,  2.29it/s]"
          ]
        },
        {
          "output_type": "stream",
          "name": "stdout",
          "text": [
            "Episode 707, Reward: 254.0\n"
          ]
        },
        {
          "output_type": "stream",
          "name": "stderr",
          "text": [
            "\r 71%|███████   | 708/1000 [02:12<02:33,  1.90it/s]"
          ]
        },
        {
          "output_type": "stream",
          "name": "stdout",
          "text": [
            "Episode 708, Reward: 500.0\n"
          ]
        },
        {
          "output_type": "stream",
          "name": "stderr",
          "text": [
            "\r 71%|███████   | 709/1000 [02:12<02:45,  1.76it/s]"
          ]
        },
        {
          "output_type": "stream",
          "name": "stdout",
          "text": [
            "Episode 709, Reward: 461.0\n"
          ]
        },
        {
          "output_type": "stream",
          "name": "stderr",
          "text": [
            "\r 71%|███████   | 710/1000 [02:13<03:00,  1.60it/s]"
          ]
        },
        {
          "output_type": "stream",
          "name": "stdout",
          "text": [
            "Episode 710, Reward: 500.0\n"
          ]
        },
        {
          "output_type": "stream",
          "name": "stderr",
          "text": [
            "\r 71%|███████   | 711/1000 [02:14<02:51,  1.68it/s]"
          ]
        },
        {
          "output_type": "stream",
          "name": "stdout",
          "text": [
            "Episode 711, Reward: 354.0\n"
          ]
        },
        {
          "output_type": "stream",
          "name": "stderr",
          "text": [
            "\r 71%|███████   | 712/1000 [02:14<03:02,  1.58it/s]"
          ]
        },
        {
          "output_type": "stream",
          "name": "stdout",
          "text": [
            "Episode 712, Reward: 500.0\n"
          ]
        },
        {
          "output_type": "stream",
          "name": "stderr",
          "text": [
            "\r 71%|███████▏  | 713/1000 [02:15<03:13,  1.48it/s]"
          ]
        },
        {
          "output_type": "stream",
          "name": "stdout",
          "text": [
            "Episode 713, Reward: 500.0\n"
          ]
        },
        {
          "output_type": "stream",
          "name": "stderr",
          "text": [
            "\r 71%|███████▏  | 714/1000 [02:16<03:18,  1.44it/s]"
          ]
        },
        {
          "output_type": "stream",
          "name": "stdout",
          "text": [
            "Episode 714, Reward: 500.0\n"
          ]
        },
        {
          "output_type": "stream",
          "name": "stderr",
          "text": [
            "\r 72%|███████▏  | 715/1000 [02:17<03:16,  1.45it/s]"
          ]
        },
        {
          "output_type": "stream",
          "name": "stdout",
          "text": [
            "Episode 715, Reward: 451.0\n"
          ]
        },
        {
          "output_type": "stream",
          "name": "stderr",
          "text": [
            "\r 72%|███████▏  | 716/1000 [02:17<03:14,  1.46it/s]"
          ]
        },
        {
          "output_type": "stream",
          "name": "stdout",
          "text": [
            "Episode 716, Reward: 458.0\n"
          ]
        },
        {
          "output_type": "stream",
          "name": "stderr",
          "text": [
            "\r 72%|███████▏  | 717/1000 [02:18<03:36,  1.31it/s]"
          ]
        },
        {
          "output_type": "stream",
          "name": "stdout",
          "text": [
            "Episode 717, Reward: 500.0\n"
          ]
        },
        {
          "output_type": "stream",
          "name": "stderr",
          "text": [
            "\r 72%|███████▏  | 718/1000 [02:19<03:09,  1.49it/s]"
          ]
        },
        {
          "output_type": "stream",
          "name": "stdout",
          "text": [
            "Episode 718, Reward: 207.0\n"
          ]
        },
        {
          "output_type": "stream",
          "name": "stderr",
          "text": [
            "\r 72%|███████▏  | 719/1000 [02:19<02:47,  1.68it/s]"
          ]
        },
        {
          "output_type": "stream",
          "name": "stdout",
          "text": [
            "Episode 719, Reward: 191.0\n"
          ]
        },
        {
          "output_type": "stream",
          "name": "stderr",
          "text": [
            "\r 72%|███████▏  | 720/1000 [02:20<02:58,  1.57it/s]"
          ]
        },
        {
          "output_type": "stream",
          "name": "stdout",
          "text": [
            "Episode 720, Reward: 420.0\n"
          ]
        },
        {
          "output_type": "stream",
          "name": "stderr",
          "text": [
            "\r 72%|███████▏  | 721/1000 [02:21<03:04,  1.51it/s]"
          ]
        },
        {
          "output_type": "stream",
          "name": "stdout",
          "text": [
            "Episode 721, Reward: 500.0\n"
          ]
        },
        {
          "output_type": "stream",
          "name": "stderr",
          "text": [
            "\r 72%|███████▏  | 722/1000 [02:21<03:09,  1.47it/s]"
          ]
        },
        {
          "output_type": "stream",
          "name": "stdout",
          "text": [
            "Episode 722, Reward: 500.0\n"
          ]
        },
        {
          "output_type": "stream",
          "name": "stderr",
          "text": [
            "\r 72%|███████▏  | 723/1000 [02:22<03:13,  1.43it/s]"
          ]
        },
        {
          "output_type": "stream",
          "name": "stdout",
          "text": [
            "Episode 723, Reward: 500.0\n"
          ]
        },
        {
          "output_type": "stream",
          "name": "stderr",
          "text": [
            "\r 72%|███████▏  | 724/1000 [02:23<02:54,  1.58it/s]"
          ]
        },
        {
          "output_type": "stream",
          "name": "stdout",
          "text": [
            "Episode 724, Reward: 318.0\n"
          ]
        },
        {
          "output_type": "stream",
          "name": "stderr",
          "text": [
            "\r 72%|███████▎  | 725/1000 [02:23<03:04,  1.49it/s]"
          ]
        },
        {
          "output_type": "stream",
          "name": "stdout",
          "text": [
            "Episode 725, Reward: 500.0\n"
          ]
        },
        {
          "output_type": "stream",
          "name": "stderr",
          "text": [
            "\r 73%|███████▎  | 726/1000 [02:24<03:08,  1.45it/s]"
          ]
        },
        {
          "output_type": "stream",
          "name": "stdout",
          "text": [
            "Episode 726, Reward: 500.0\n"
          ]
        },
        {
          "output_type": "stream",
          "name": "stderr",
          "text": [
            "\r 73%|███████▎  | 727/1000 [02:25<03:11,  1.43it/s]"
          ]
        },
        {
          "output_type": "stream",
          "name": "stdout",
          "text": [
            "Episode 727, Reward: 500.0\n"
          ]
        },
        {
          "output_type": "stream",
          "name": "stderr",
          "text": [
            "\r 73%|███████▎  | 728/1000 [02:25<02:52,  1.58it/s]"
          ]
        },
        {
          "output_type": "stream",
          "name": "stdout",
          "text": [
            "Episode 728, Reward: 311.0\n"
          ]
        },
        {
          "output_type": "stream",
          "name": "stderr",
          "text": [
            "\r 73%|███████▎  | 729/1000 [02:26<02:34,  1.75it/s]"
          ]
        },
        {
          "output_type": "stream",
          "name": "stdout",
          "text": [
            "Episode 729, Reward: 281.0\n"
          ]
        },
        {
          "output_type": "stream",
          "name": "stderr",
          "text": [
            "\r 73%|███████▎  | 730/1000 [02:26<02:47,  1.61it/s]"
          ]
        },
        {
          "output_type": "stream",
          "name": "stdout",
          "text": [
            "Episode 730, Reward: 500.0\n"
          ]
        },
        {
          "output_type": "stream",
          "name": "stderr",
          "text": [
            "\r 73%|███████▎  | 731/1000 [02:27<02:30,  1.79it/s]"
          ]
        },
        {
          "output_type": "stream",
          "name": "stdout",
          "text": [
            "Episode 731, Reward: 284.0\n"
          ]
        },
        {
          "output_type": "stream",
          "name": "stderr",
          "text": [
            "\r 73%|███████▎  | 732/1000 [02:27<02:23,  1.87it/s]"
          ]
        },
        {
          "output_type": "stream",
          "name": "stdout",
          "text": [
            "Episode 732, Reward: 312.0\n"
          ]
        },
        {
          "output_type": "stream",
          "name": "stderr",
          "text": [
            "\r 73%|███████▎  | 733/1000 [02:28<02:50,  1.56it/s]"
          ]
        },
        {
          "output_type": "stream",
          "name": "stdout",
          "text": [
            "Episode 733, Reward: 500.0\n"
          ]
        },
        {
          "output_type": "stream",
          "name": "stderr",
          "text": [
            "\r 73%|███████▎  | 734/1000 [02:29<02:58,  1.49it/s]"
          ]
        },
        {
          "output_type": "stream",
          "name": "stdout",
          "text": [
            "Episode 734, Reward: 500.0\n"
          ]
        },
        {
          "output_type": "stream",
          "name": "stderr",
          "text": [
            "\r 74%|███████▎  | 735/1000 [02:30<02:50,  1.56it/s]"
          ]
        },
        {
          "output_type": "stream",
          "name": "stdout",
          "text": [
            "Episode 735, Reward: 392.0\n"
          ]
        },
        {
          "output_type": "stream",
          "name": "stderr",
          "text": [
            "\r 74%|███████▎  | 736/1000 [02:30<02:21,  1.86it/s]"
          ]
        },
        {
          "output_type": "stream",
          "name": "stdout",
          "text": [
            "Episode 736, Reward: 130.0\n"
          ]
        },
        {
          "output_type": "stream",
          "name": "stderr",
          "text": [
            "\r 74%|███████▎  | 737/1000 [02:30<02:24,  1.82it/s]"
          ]
        },
        {
          "output_type": "stream",
          "name": "stdout",
          "text": [
            "Episode 737, Reward: 299.0\n"
          ]
        },
        {
          "output_type": "stream",
          "name": "stderr",
          "text": [
            "\r 74%|███████▍  | 738/1000 [02:31<02:45,  1.59it/s]"
          ]
        },
        {
          "output_type": "stream",
          "name": "stdout",
          "text": [
            "Episode 738, Reward: 366.0\n"
          ]
        },
        {
          "output_type": "stream",
          "name": "stderr",
          "text": [
            "\r 74%|███████▍  | 739/1000 [02:31<02:12,  1.98it/s]"
          ]
        },
        {
          "output_type": "stream",
          "name": "stdout",
          "text": [
            "Episode 739, Reward: 89.0\n"
          ]
        },
        {
          "output_type": "stream",
          "name": "stderr",
          "text": [
            "\r 74%|███████▍  | 740/1000 [02:32<02:10,  1.99it/s]"
          ]
        },
        {
          "output_type": "stream",
          "name": "stdout",
          "text": [
            "Episode 740, Reward: 300.0\n"
          ]
        },
        {
          "output_type": "stream",
          "name": "stderr",
          "text": [
            "\r 74%|███████▍  | 741/1000 [02:32<02:01,  2.13it/s]"
          ]
        },
        {
          "output_type": "stream",
          "name": "stdout",
          "text": [
            "Episode 741, Reward: 255.0\n"
          ]
        },
        {
          "output_type": "stream",
          "name": "stderr",
          "text": [
            "\r 74%|███████▍  | 742/1000 [02:33<01:54,  2.24it/s]"
          ]
        },
        {
          "output_type": "stream",
          "name": "stdout",
          "text": [
            "Episode 742, Reward: 267.0\n"
          ]
        },
        {
          "output_type": "stream",
          "name": "stderr",
          "text": [
            "\r 74%|███████▍  | 743/1000 [02:33<01:40,  2.55it/s]"
          ]
        },
        {
          "output_type": "stream",
          "name": "stdout",
          "text": [
            "Episode 743, Reward: 180.0\n"
          ]
        },
        {
          "output_type": "stream",
          "name": "stderr",
          "text": [
            "\r 74%|███████▍  | 744/1000 [02:33<01:33,  2.74it/s]"
          ]
        },
        {
          "output_type": "stream",
          "name": "stdout",
          "text": [
            "Episode 744, Reward: 196.0\n"
          ]
        },
        {
          "output_type": "stream",
          "name": "stderr",
          "text": [
            "\r 74%|███████▍  | 745/1000 [02:34<01:25,  2.98it/s]"
          ]
        },
        {
          "output_type": "stream",
          "name": "stdout",
          "text": [
            "Episode 745, Reward: 183.0\n"
          ]
        },
        {
          "output_type": "stream",
          "name": "stderr",
          "text": [
            "\r 75%|███████▍  | 746/1000 [02:34<01:28,  2.88it/s]"
          ]
        },
        {
          "output_type": "stream",
          "name": "stdout",
          "text": [
            "Episode 746, Reward: 251.0\n"
          ]
        },
        {
          "output_type": "stream",
          "name": "stderr",
          "text": [
            "\r 75%|███████▍  | 747/1000 [02:34<01:38,  2.56it/s]"
          ]
        },
        {
          "output_type": "stream",
          "name": "stdout",
          "text": [
            "Episode 747, Reward: 324.0\n"
          ]
        },
        {
          "output_type": "stream",
          "name": "stderr",
          "text": [
            " 75%|███████▍  | 749/1000 [02:35<01:18,  3.20it/s]"
          ]
        },
        {
          "output_type": "stream",
          "name": "stdout",
          "text": [
            "Episode 748, Reward: 218.0\n",
            "Episode 749, Reward: 121.0\n"
          ]
        },
        {
          "output_type": "stream",
          "name": "stderr",
          "text": [
            "\r 75%|███████▌  | 750/1000 [02:35<01:20,  3.12it/s]"
          ]
        },
        {
          "output_type": "stream",
          "name": "stdout",
          "text": [
            "Episode 750, Reward: 224.0\n"
          ]
        },
        {
          "output_type": "stream",
          "name": "stderr",
          "text": [
            "\r 75%|███████▌  | 751/1000 [02:36<01:24,  2.96it/s]"
          ]
        },
        {
          "output_type": "stream",
          "name": "stdout",
          "text": [
            "Episode 751, Reward: 256.0\n"
          ]
        },
        {
          "output_type": "stream",
          "name": "stderr",
          "text": [
            "\r 75%|███████▌  | 752/1000 [02:36<01:31,  2.70it/s]"
          ]
        },
        {
          "output_type": "stream",
          "name": "stdout",
          "text": [
            "Episode 752, Reward: 297.0\n"
          ]
        },
        {
          "output_type": "stream",
          "name": "stderr",
          "text": [
            "\r 75%|███████▌  | 753/1000 [02:36<01:27,  2.82it/s]"
          ]
        },
        {
          "output_type": "stream",
          "name": "stdout",
          "text": [
            "Episode 753, Reward: 201.0\n"
          ]
        },
        {
          "output_type": "stream",
          "name": "stderr",
          "text": [
            "\r 75%|███████▌  | 754/1000 [02:37<01:29,  2.76it/s]"
          ]
        },
        {
          "output_type": "stream",
          "name": "stdout",
          "text": [
            "Episode 754, Reward: 260.0\n"
          ]
        },
        {
          "output_type": "stream",
          "name": "stderr",
          "text": [
            "\r 76%|███████▌  | 755/1000 [02:37<01:40,  2.43it/s]"
          ]
        },
        {
          "output_type": "stream",
          "name": "stdout",
          "text": [
            "Episode 755, Reward: 355.0\n"
          ]
        },
        {
          "output_type": "stream",
          "name": "stderr",
          "text": [
            "\r 76%|███████▌  | 756/1000 [02:38<02:02,  1.99it/s]"
          ]
        },
        {
          "output_type": "stream",
          "name": "stdout",
          "text": [
            "Episode 756, Reward: 496.0\n"
          ]
        },
        {
          "output_type": "stream",
          "name": "stderr",
          "text": [
            "\r 76%|███████▌  | 757/1000 [02:38<01:51,  2.18it/s]"
          ]
        },
        {
          "output_type": "stream",
          "name": "stdout",
          "text": [
            "Episode 757, Reward: 211.0\n"
          ]
        },
        {
          "output_type": "stream",
          "name": "stderr",
          "text": [
            "\r 76%|███████▌  | 758/1000 [02:39<02:10,  1.86it/s]"
          ]
        },
        {
          "output_type": "stream",
          "name": "stdout",
          "text": [
            "Episode 758, Reward: 500.0\n"
          ]
        },
        {
          "output_type": "stream",
          "name": "stderr",
          "text": [
            "\r 76%|███████▌  | 759/1000 [02:40<02:24,  1.66it/s]"
          ]
        },
        {
          "output_type": "stream",
          "name": "stdout",
          "text": [
            "Episode 759, Reward: 500.0\n"
          ]
        },
        {
          "output_type": "stream",
          "name": "stderr",
          "text": [
            "\r 76%|███████▌  | 760/1000 [02:41<02:33,  1.57it/s]"
          ]
        },
        {
          "output_type": "stream",
          "name": "stdout",
          "text": [
            "Episode 760, Reward: 500.0\n"
          ]
        },
        {
          "output_type": "stream",
          "name": "stderr",
          "text": [
            "\r 76%|███████▌  | 761/1000 [02:41<02:32,  1.57it/s]"
          ]
        },
        {
          "output_type": "stream",
          "name": "stdout",
          "text": [
            "Episode 761, Reward: 422.0\n"
          ]
        },
        {
          "output_type": "stream",
          "name": "stderr",
          "text": [
            "\r 76%|███████▌  | 762/1000 [02:42<02:49,  1.40it/s]"
          ]
        },
        {
          "output_type": "stream",
          "name": "stdout",
          "text": [
            "Episode 762, Reward: 500.0\n"
          ]
        },
        {
          "output_type": "stream",
          "name": "stderr",
          "text": [
            "\r 76%|███████▋  | 763/1000 [02:43<03:09,  1.25it/s]"
          ]
        },
        {
          "output_type": "stream",
          "name": "stdout",
          "text": [
            "Episode 763, Reward: 484.0\n"
          ]
        },
        {
          "output_type": "stream",
          "name": "stderr",
          "text": [
            "\r 76%|███████▋  | 764/1000 [02:44<03:16,  1.20it/s]"
          ]
        },
        {
          "output_type": "stream",
          "name": "stdout",
          "text": [
            "Episode 764, Reward: 500.0\n"
          ]
        },
        {
          "output_type": "stream",
          "name": "stderr",
          "text": [
            "\r 76%|███████▋  | 765/1000 [02:44<02:50,  1.38it/s]"
          ]
        },
        {
          "output_type": "stream",
          "name": "stdout",
          "text": [
            "Episode 765, Reward: 312.0\n"
          ]
        },
        {
          "output_type": "stream",
          "name": "stderr",
          "text": [
            "\r 77%|███████▋  | 766/1000 [02:45<02:46,  1.40it/s]"
          ]
        },
        {
          "output_type": "stream",
          "name": "stdout",
          "text": [
            "Episode 766, Reward: 473.0\n"
          ]
        },
        {
          "output_type": "stream",
          "name": "stderr",
          "text": [
            "\r 77%|███████▋  | 767/1000 [02:46<02:30,  1.54it/s]"
          ]
        },
        {
          "output_type": "stream",
          "name": "stdout",
          "text": [
            "Episode 767, Reward: 328.0\n"
          ]
        },
        {
          "output_type": "stream",
          "name": "stderr",
          "text": [
            "\r 77%|███████▋  | 768/1000 [02:46<02:12,  1.75it/s]"
          ]
        },
        {
          "output_type": "stream",
          "name": "stdout",
          "text": [
            "Episode 768, Reward: 265.0\n"
          ]
        },
        {
          "output_type": "stream",
          "name": "stderr",
          "text": [
            "\r 77%|███████▋  | 769/1000 [02:47<02:24,  1.60it/s]"
          ]
        },
        {
          "output_type": "stream",
          "name": "stdout",
          "text": [
            "Episode 769, Reward: 500.0\n"
          ]
        },
        {
          "output_type": "stream",
          "name": "stderr",
          "text": [
            "\r 77%|███████▋  | 770/1000 [02:47<02:10,  1.76it/s]"
          ]
        },
        {
          "output_type": "stream",
          "name": "stdout",
          "text": [
            "Episode 770, Reward: 282.0\n"
          ]
        },
        {
          "output_type": "stream",
          "name": "stderr",
          "text": [
            "\r 77%|███████▋  | 771/1000 [02:48<02:05,  1.82it/s]"
          ]
        },
        {
          "output_type": "stream",
          "name": "stdout",
          "text": [
            "Episode 771, Reward: 340.0\n"
          ]
        },
        {
          "output_type": "stream",
          "name": "stderr",
          "text": [
            "\r 77%|███████▋  | 772/1000 [02:48<01:53,  2.01it/s]"
          ]
        },
        {
          "output_type": "stream",
          "name": "stdout",
          "text": [
            "Episode 772, Reward: 254.0\n"
          ]
        },
        {
          "output_type": "stream",
          "name": "stderr",
          "text": [
            "\r 77%|███████▋  | 773/1000 [02:49<01:45,  2.15it/s]"
          ]
        },
        {
          "output_type": "stream",
          "name": "stdout",
          "text": [
            "Episode 773, Reward: 267.0\n"
          ]
        },
        {
          "output_type": "stream",
          "name": "stderr",
          "text": [
            "\r 77%|███████▋  | 774/1000 [02:49<01:47,  2.10it/s]"
          ]
        },
        {
          "output_type": "stream",
          "name": "stdout",
          "text": [
            "Episode 774, Reward: 340.0\n"
          ]
        },
        {
          "output_type": "stream",
          "name": "stderr",
          "text": [
            "\r 78%|███████▊  | 775/1000 [02:49<01:39,  2.25it/s]"
          ]
        },
        {
          "output_type": "stream",
          "name": "stdout",
          "text": [
            "Episode 775, Reward: 246.0\n"
          ]
        },
        {
          "output_type": "stream",
          "name": "stderr",
          "text": [
            "\r 78%|███████▊  | 776/1000 [02:50<01:39,  2.26it/s]"
          ]
        },
        {
          "output_type": "stream",
          "name": "stdout",
          "text": [
            "Episode 776, Reward: 292.0\n"
          ]
        },
        {
          "output_type": "stream",
          "name": "stderr",
          "text": [
            " 78%|███████▊  | 778/1000 [02:51<01:29,  2.49it/s]"
          ]
        },
        {
          "output_type": "stream",
          "name": "stdout",
          "text": [
            "Episode 777, Reward: 419.0\n",
            "Episode 778, Reward: 115.0\n"
          ]
        },
        {
          "output_type": "stream",
          "name": "stderr",
          "text": [
            "\r 78%|███████▊  | 779/1000 [02:51<01:50,  2.00it/s]"
          ]
        },
        {
          "output_type": "stream",
          "name": "stdout",
          "text": [
            "Episode 779, Reward: 500.0\n"
          ]
        },
        {
          "output_type": "stream",
          "name": "stderr",
          "text": [
            "\r 78%|███████▊  | 780/1000 [02:52<02:05,  1.75it/s]"
          ]
        },
        {
          "output_type": "stream",
          "name": "stdout",
          "text": [
            "Episode 780, Reward: 500.0\n"
          ]
        },
        {
          "output_type": "stream",
          "name": "stderr",
          "text": [
            "\r 78%|███████▊  | 781/1000 [02:53<02:14,  1.62it/s]"
          ]
        },
        {
          "output_type": "stream",
          "name": "stdout",
          "text": [
            "Episode 781, Reward: 500.0\n"
          ]
        },
        {
          "output_type": "stream",
          "name": "stderr",
          "text": [
            "\r 78%|███████▊  | 782/1000 [02:53<02:08,  1.69it/s]"
          ]
        },
        {
          "output_type": "stream",
          "name": "stdout",
          "text": [
            "Episode 782, Reward: 338.0\n"
          ]
        },
        {
          "output_type": "stream",
          "name": "stderr",
          "text": [
            "\r 78%|███████▊  | 783/1000 [02:54<01:54,  1.90it/s]"
          ]
        },
        {
          "output_type": "stream",
          "name": "stdout",
          "text": [
            "Episode 783, Reward: 226.0\n"
          ]
        },
        {
          "output_type": "stream",
          "name": "stderr",
          "text": [
            "\r 78%|███████▊  | 784/1000 [02:55<02:21,  1.53it/s]"
          ]
        },
        {
          "output_type": "stream",
          "name": "stdout",
          "text": [
            "Episode 784, Reward: 498.0\n"
          ]
        },
        {
          "output_type": "stream",
          "name": "stderr",
          "text": [
            "\r 78%|███████▊  | 785/1000 [02:56<02:46,  1.29it/s]"
          ]
        },
        {
          "output_type": "stream",
          "name": "stdout",
          "text": [
            "Episode 785, Reward: 500.0\n"
          ]
        },
        {
          "output_type": "stream",
          "name": "stderr",
          "text": [
            "\r 79%|███████▊  | 786/1000 [02:56<02:38,  1.35it/s]"
          ]
        },
        {
          "output_type": "stream",
          "name": "stdout",
          "text": [
            "Episode 786, Reward: 463.0\n"
          ]
        },
        {
          "output_type": "stream",
          "name": "stderr",
          "text": [
            "\r 79%|███████▊  | 787/1000 [02:57<02:37,  1.36it/s]"
          ]
        },
        {
          "output_type": "stream",
          "name": "stdout",
          "text": [
            "Episode 787, Reward: 500.0\n"
          ]
        },
        {
          "output_type": "stream",
          "name": "stderr",
          "text": [
            "\r 79%|███████▉  | 788/1000 [02:58<02:29,  1.42it/s]"
          ]
        },
        {
          "output_type": "stream",
          "name": "stdout",
          "text": [
            "Episode 788, Reward: 428.0\n"
          ]
        },
        {
          "output_type": "stream",
          "name": "stderr",
          "text": [
            "\r 79%|███████▉  | 789/1000 [02:58<02:28,  1.42it/s]"
          ]
        },
        {
          "output_type": "stream",
          "name": "stdout",
          "text": [
            "Episode 789, Reward: 471.0\n"
          ]
        },
        {
          "output_type": "stream",
          "name": "stderr",
          "text": [
            "\r 79%|███████▉  | 790/1000 [02:59<02:02,  1.71it/s]"
          ]
        },
        {
          "output_type": "stream",
          "name": "stdout",
          "text": [
            "Episode 790, Reward: 203.0\n"
          ]
        },
        {
          "output_type": "stream",
          "name": "stderr",
          "text": [
            "\r 79%|███████▉  | 791/1000 [02:59<02:03,  1.70it/s]"
          ]
        },
        {
          "output_type": "stream",
          "name": "stdout",
          "text": [
            "Episode 791, Reward: 409.0\n"
          ]
        },
        {
          "output_type": "stream",
          "name": "stderr",
          "text": [
            "\r 79%|███████▉  | 792/1000 [03:00<02:10,  1.60it/s]"
          ]
        },
        {
          "output_type": "stream",
          "name": "stdout",
          "text": [
            "Episode 792, Reward: 500.0\n"
          ]
        },
        {
          "output_type": "stream",
          "name": "stderr",
          "text": [
            "\r 79%|███████▉  | 793/1000 [03:01<02:13,  1.56it/s]"
          ]
        },
        {
          "output_type": "stream",
          "name": "stdout",
          "text": [
            "Episode 793, Reward: 475.0\n"
          ]
        },
        {
          "output_type": "stream",
          "name": "stderr",
          "text": [
            "\r 79%|███████▉  | 794/1000 [03:01<02:16,  1.50it/s]"
          ]
        },
        {
          "output_type": "stream",
          "name": "stdout",
          "text": [
            "Episode 794, Reward: 486.0\n"
          ]
        },
        {
          "output_type": "stream",
          "name": "stderr",
          "text": [
            "\r 80%|███████▉  | 795/1000 [03:02<02:06,  1.62it/s]"
          ]
        },
        {
          "output_type": "stream",
          "name": "stdout",
          "text": [
            "Episode 795, Reward: 347.0\n"
          ]
        },
        {
          "output_type": "stream",
          "name": "stderr",
          "text": [
            "\r 80%|███████▉  | 796/1000 [03:02<01:59,  1.71it/s]"
          ]
        },
        {
          "output_type": "stream",
          "name": "stdout",
          "text": [
            "Episode 796, Reward: 343.0\n"
          ]
        },
        {
          "output_type": "stream",
          "name": "stderr",
          "text": [
            "\r 80%|███████▉  | 797/1000 [03:03<01:49,  1.85it/s]"
          ]
        },
        {
          "output_type": "stream",
          "name": "stdout",
          "text": [
            "Episode 797, Reward: 293.0\n"
          ]
        },
        {
          "output_type": "stream",
          "name": "stderr",
          "text": [
            "\r 80%|███████▉  | 798/1000 [03:03<01:40,  2.02it/s]"
          ]
        },
        {
          "output_type": "stream",
          "name": "stdout",
          "text": [
            "Episode 798, Reward: 265.0\n"
          ]
        },
        {
          "output_type": "stream",
          "name": "stderr",
          "text": [
            "\r 80%|███████▉  | 799/1000 [03:04<01:41,  1.99it/s]"
          ]
        },
        {
          "output_type": "stream",
          "name": "stdout",
          "text": [
            "Episode 799, Reward: 362.0\n"
          ]
        },
        {
          "output_type": "stream",
          "name": "stderr",
          "text": [
            "\r 80%|████████  | 800/1000 [03:04<01:31,  2.18it/s]"
          ]
        },
        {
          "output_type": "stream",
          "name": "stdout",
          "text": [
            "Episode 800, Reward: 235.0\n"
          ]
        },
        {
          "output_type": "stream",
          "name": "stderr",
          "text": [
            "\r 80%|████████  | 801/1000 [03:04<01:16,  2.59it/s]"
          ]
        },
        {
          "output_type": "stream",
          "name": "stdout",
          "text": [
            "Episode 801, Reward: 152.0\n"
          ]
        },
        {
          "output_type": "stream",
          "name": "stderr",
          "text": [
            "\r 80%|████████  | 802/1000 [03:05<01:18,  2.51it/s]"
          ]
        },
        {
          "output_type": "stream",
          "name": "stdout",
          "text": [
            "Episode 802, Reward: 306.0\n"
          ]
        },
        {
          "output_type": "stream",
          "name": "stderr",
          "text": [
            "\r 80%|████████  | 803/1000 [03:05<01:31,  2.16it/s]"
          ]
        },
        {
          "output_type": "stream",
          "name": "stdout",
          "text": [
            "Episode 803, Reward: 428.0\n"
          ]
        },
        {
          "output_type": "stream",
          "name": "stderr",
          "text": [
            "\r 80%|████████  | 804/1000 [03:06<01:57,  1.67it/s]"
          ]
        },
        {
          "output_type": "stream",
          "name": "stdout",
          "text": [
            "Episode 804, Reward: 500.0\n"
          ]
        },
        {
          "output_type": "stream",
          "name": "stderr",
          "text": [
            " 81%|████████  | 806/1000 [03:08<01:51,  1.74it/s]"
          ]
        },
        {
          "output_type": "stream",
          "name": "stdout",
          "text": [
            "Episode 805, Reward: 500.0\n",
            "Episode 806, Reward: 99.0\n"
          ]
        },
        {
          "output_type": "stream",
          "name": "stderr",
          "text": [
            "\r 81%|████████  | 807/1000 [03:08<01:58,  1.62it/s]"
          ]
        },
        {
          "output_type": "stream",
          "name": "stdout",
          "text": [
            "Episode 807, Reward: 500.0\n"
          ]
        },
        {
          "output_type": "stream",
          "name": "stderr",
          "text": [
            "\r 81%|████████  | 808/1000 [03:09<02:04,  1.54it/s]"
          ]
        },
        {
          "output_type": "stream",
          "name": "stdout",
          "text": [
            "Episode 808, Reward: 500.0\n"
          ]
        },
        {
          "output_type": "stream",
          "name": "stderr",
          "text": [
            "\r 81%|████████  | 809/1000 [03:09<01:48,  1.76it/s]"
          ]
        },
        {
          "output_type": "stream",
          "name": "stdout",
          "text": [
            "Episode 809, Reward: 249.0\n"
          ]
        },
        {
          "output_type": "stream",
          "name": "stderr",
          "text": [
            "\r 81%|████████  | 810/1000 [03:10<01:56,  1.63it/s]"
          ]
        },
        {
          "output_type": "stream",
          "name": "stdout",
          "text": [
            "Episode 810, Reward: 494.0\n"
          ]
        },
        {
          "output_type": "stream",
          "name": "stderr",
          "text": [
            "\r 81%|████████  | 811/1000 [03:11<01:47,  1.76it/s]"
          ]
        },
        {
          "output_type": "stream",
          "name": "stdout",
          "text": [
            "Episode 811, Reward: 308.0\n"
          ]
        },
        {
          "output_type": "stream",
          "name": "stderr",
          "text": [
            "\r 81%|████████  | 812/1000 [03:11<01:56,  1.61it/s]"
          ]
        },
        {
          "output_type": "stream",
          "name": "stdout",
          "text": [
            "Episode 812, Reward: 500.0\n"
          ]
        },
        {
          "output_type": "stream",
          "name": "stderr",
          "text": [
            "\r 81%|████████▏ | 813/1000 [03:12<02:01,  1.54it/s]"
          ]
        },
        {
          "output_type": "stream",
          "name": "stdout",
          "text": [
            "Episode 813, Reward: 483.0\n"
          ]
        },
        {
          "output_type": "stream",
          "name": "stderr",
          "text": [
            "\r 81%|████████▏ | 814/1000 [03:13<02:06,  1.47it/s]"
          ]
        },
        {
          "output_type": "stream",
          "name": "stdout",
          "text": [
            "Episode 814, Reward: 500.0\n"
          ]
        },
        {
          "output_type": "stream",
          "name": "stderr",
          "text": [
            "\r 82%|████████▏ | 815/1000 [03:13<01:40,  1.84it/s]"
          ]
        },
        {
          "output_type": "stream",
          "name": "stdout",
          "text": [
            "Episode 815, Reward: 133.0\n"
          ]
        },
        {
          "output_type": "stream",
          "name": "stderr",
          "text": [
            "\r 82%|████████▏ | 816/1000 [03:14<01:55,  1.59it/s]"
          ]
        },
        {
          "output_type": "stream",
          "name": "stdout",
          "text": [
            "Episode 816, Reward: 429.0\n"
          ]
        },
        {
          "output_type": "stream",
          "name": "stderr",
          "text": [
            "\r 82%|████████▏ | 817/1000 [03:15<02:17,  1.33it/s]"
          ]
        },
        {
          "output_type": "stream",
          "name": "stdout",
          "text": [
            "Episode 817, Reward: 500.0\n"
          ]
        },
        {
          "output_type": "stream",
          "name": "stderr",
          "text": [
            "\r 82%|████████▏ | 818/1000 [03:16<02:14,  1.35it/s]"
          ]
        },
        {
          "output_type": "stream",
          "name": "stdout",
          "text": [
            "Episode 818, Reward: 436.0\n"
          ]
        },
        {
          "output_type": "stream",
          "name": "stderr",
          "text": [
            "\r 82%|████████▏ | 819/1000 [03:16<02:13,  1.36it/s]"
          ]
        },
        {
          "output_type": "stream",
          "name": "stdout",
          "text": [
            "Episode 819, Reward: 500.0\n"
          ]
        },
        {
          "output_type": "stream",
          "name": "stderr",
          "text": [
            "\r 82%|████████▏ | 820/1000 [03:17<01:52,  1.61it/s]"
          ]
        },
        {
          "output_type": "stream",
          "name": "stdout",
          "text": [
            "Episode 820, Reward: 233.0\n"
          ]
        },
        {
          "output_type": "stream",
          "name": "stderr",
          "text": [
            "\r 82%|████████▏ | 821/1000 [03:17<01:57,  1.53it/s]"
          ]
        },
        {
          "output_type": "stream",
          "name": "stdout",
          "text": [
            "Episode 821, Reward: 500.0\n"
          ]
        },
        {
          "output_type": "stream",
          "name": "stderr",
          "text": [
            "\r 82%|████████▏ | 822/1000 [03:18<01:55,  1.55it/s]"
          ]
        },
        {
          "output_type": "stream",
          "name": "stdout",
          "text": [
            "Episode 822, Reward: 323.0\n"
          ]
        },
        {
          "output_type": "stream",
          "name": "stderr",
          "text": [
            "\r 82%|████████▏ | 823/1000 [03:19<02:14,  1.32it/s]"
          ]
        },
        {
          "output_type": "stream",
          "name": "stdout",
          "text": [
            "Episode 823, Reward: 500.0\n"
          ]
        },
        {
          "output_type": "stream",
          "name": "stderr",
          "text": [
            "\r 82%|████████▏ | 824/1000 [03:20<02:18,  1.27it/s]"
          ]
        },
        {
          "output_type": "stream",
          "name": "stdout",
          "text": [
            "Episode 824, Reward: 500.0\n"
          ]
        },
        {
          "output_type": "stream",
          "name": "stderr",
          "text": [
            "\r 82%|████████▎ | 825/1000 [03:21<02:15,  1.30it/s]"
          ]
        },
        {
          "output_type": "stream",
          "name": "stdout",
          "text": [
            "Episode 825, Reward: 500.0\n"
          ]
        },
        {
          "output_type": "stream",
          "name": "stderr",
          "text": [
            "\r 83%|████████▎ | 826/1000 [03:21<01:53,  1.53it/s]"
          ]
        },
        {
          "output_type": "stream",
          "name": "stdout",
          "text": [
            "Episode 826, Reward: 247.0\n"
          ]
        },
        {
          "output_type": "stream",
          "name": "stderr",
          "text": [
            "\r 83%|████████▎ | 827/1000 [03:21<01:35,  1.82it/s]"
          ]
        },
        {
          "output_type": "stream",
          "name": "stdout",
          "text": [
            "Episode 827, Reward: 209.0\n"
          ]
        },
        {
          "output_type": "stream",
          "name": "stderr",
          "text": [
            "\r 83%|████████▎ | 828/1000 [03:22<01:43,  1.65it/s]"
          ]
        },
        {
          "output_type": "stream",
          "name": "stdout",
          "text": [
            "Episode 828, Reward: 500.0\n"
          ]
        },
        {
          "output_type": "stream",
          "name": "stderr",
          "text": [
            "\r 83%|████████▎ | 829/1000 [03:22<01:30,  1.88it/s]"
          ]
        },
        {
          "output_type": "stream",
          "name": "stdout",
          "text": [
            "Episode 829, Reward: 240.0\n"
          ]
        },
        {
          "output_type": "stream",
          "name": "stderr",
          "text": [
            "\r 83%|████████▎ | 830/1000 [03:23<01:33,  1.82it/s]"
          ]
        },
        {
          "output_type": "stream",
          "name": "stdout",
          "text": [
            "Episode 830, Reward: 398.0\n"
          ]
        },
        {
          "output_type": "stream",
          "name": "stderr",
          "text": [
            "\r 83%|████████▎ | 831/1000 [03:24<01:43,  1.63it/s]"
          ]
        },
        {
          "output_type": "stream",
          "name": "stdout",
          "text": [
            "Episode 831, Reward: 500.0\n"
          ]
        },
        {
          "output_type": "stream",
          "name": "stderr",
          "text": [
            "\r 83%|████████▎ | 832/1000 [03:25<01:45,  1.58it/s]"
          ]
        },
        {
          "output_type": "stream",
          "name": "stdout",
          "text": [
            "Episode 832, Reward: 464.0\n"
          ]
        },
        {
          "output_type": "stream",
          "name": "stderr",
          "text": [
            "\r 83%|████████▎ | 833/1000 [03:25<01:51,  1.50it/s]"
          ]
        },
        {
          "output_type": "stream",
          "name": "stdout",
          "text": [
            "Episode 833, Reward: 500.0\n"
          ]
        },
        {
          "output_type": "stream",
          "name": "stderr",
          "text": [
            "\r 83%|████████▎ | 834/1000 [03:26<01:49,  1.51it/s]"
          ]
        },
        {
          "output_type": "stream",
          "name": "stdout",
          "text": [
            "Episode 834, Reward: 442.0\n"
          ]
        },
        {
          "output_type": "stream",
          "name": "stderr",
          "text": [
            "\r 84%|████████▎ | 835/1000 [03:26<01:42,  1.62it/s]"
          ]
        },
        {
          "output_type": "stream",
          "name": "stdout",
          "text": [
            "Episode 835, Reward: 356.0\n"
          ]
        },
        {
          "output_type": "stream",
          "name": "stderr",
          "text": [
            "\r 84%|████████▎ | 836/1000 [03:27<01:33,  1.75it/s]"
          ]
        },
        {
          "output_type": "stream",
          "name": "stdout",
          "text": [
            "Episode 836, Reward: 313.0\n"
          ]
        },
        {
          "output_type": "stream",
          "name": "stderr",
          "text": [
            "\r 84%|████████▎ | 837/1000 [03:27<01:27,  1.86it/s]"
          ]
        },
        {
          "output_type": "stream",
          "name": "stdout",
          "text": [
            "Episode 837, Reward: 302.0\n"
          ]
        },
        {
          "output_type": "stream",
          "name": "stderr",
          "text": [
            "\r 84%|████████▍ | 838/1000 [03:28<01:32,  1.75it/s]"
          ]
        },
        {
          "output_type": "stream",
          "name": "stdout",
          "text": [
            "Episode 838, Reward: 451.0\n"
          ]
        },
        {
          "output_type": "stream",
          "name": "stderr",
          "text": [
            "\r 84%|████████▍ | 839/1000 [03:29<01:40,  1.61it/s]"
          ]
        },
        {
          "output_type": "stream",
          "name": "stdout",
          "text": [
            "Episode 839, Reward: 500.0\n"
          ]
        },
        {
          "output_type": "stream",
          "name": "stderr",
          "text": [
            "\r 84%|████████▍ | 840/1000 [03:29<01:26,  1.85it/s]"
          ]
        },
        {
          "output_type": "stream",
          "name": "stdout",
          "text": [
            "Episode 840, Reward: 238.0\n"
          ]
        },
        {
          "output_type": "stream",
          "name": "stderr",
          "text": [
            "\r 84%|████████▍ | 841/1000 [03:30<01:24,  1.88it/s]"
          ]
        },
        {
          "output_type": "stream",
          "name": "stdout",
          "text": [
            "Episode 841, Reward: 312.0\n"
          ]
        },
        {
          "output_type": "stream",
          "name": "stderr",
          "text": [
            "\r 84%|████████▍ | 842/1000 [03:30<01:30,  1.75it/s]"
          ]
        },
        {
          "output_type": "stream",
          "name": "stdout",
          "text": [
            "Episode 842, Reward: 334.0\n"
          ]
        },
        {
          "output_type": "stream",
          "name": "stderr",
          "text": [
            "\r 84%|████████▍ | 843/1000 [03:31<01:47,  1.46it/s]"
          ]
        },
        {
          "output_type": "stream",
          "name": "stdout",
          "text": [
            "Episode 843, Reward: 447.0\n"
          ]
        },
        {
          "output_type": "stream",
          "name": "stderr",
          "text": [
            "\r 84%|████████▍ | 844/1000 [03:32<01:31,  1.71it/s]"
          ]
        },
        {
          "output_type": "stream",
          "name": "stdout",
          "text": [
            "Episode 844, Reward: 157.0\n"
          ]
        },
        {
          "output_type": "stream",
          "name": "stderr",
          "text": [
            "\r 84%|████████▍ | 845/1000 [03:32<01:37,  1.59it/s]"
          ]
        },
        {
          "output_type": "stream",
          "name": "stdout",
          "text": [
            "Episode 845, Reward: 500.0\n"
          ]
        },
        {
          "output_type": "stream",
          "name": "stderr",
          "text": [
            "\r 85%|████████▍ | 846/1000 [03:33<01:28,  1.74it/s]"
          ]
        },
        {
          "output_type": "stream",
          "name": "stdout",
          "text": [
            "Episode 846, Reward: 300.0\n"
          ]
        },
        {
          "output_type": "stream",
          "name": "stderr",
          "text": [
            "\r 85%|████████▍ | 847/1000 [03:33<01:35,  1.60it/s]"
          ]
        },
        {
          "output_type": "stream",
          "name": "stdout",
          "text": [
            "Episode 847, Reward: 500.0\n"
          ]
        },
        {
          "output_type": "stream",
          "name": "stderr",
          "text": [
            "\r 85%|████████▍ | 848/1000 [03:34<01:40,  1.52it/s]"
          ]
        },
        {
          "output_type": "stream",
          "name": "stdout",
          "text": [
            "Episode 848, Reward: 500.0\n"
          ]
        },
        {
          "output_type": "stream",
          "name": "stderr",
          "text": [
            "\r 85%|████████▍ | 849/1000 [03:35<01:43,  1.46it/s]"
          ]
        },
        {
          "output_type": "stream",
          "name": "stdout",
          "text": [
            "Episode 849, Reward: 500.0\n"
          ]
        },
        {
          "output_type": "stream",
          "name": "stderr",
          "text": [
            "\r 85%|████████▌ | 850/1000 [03:36<01:43,  1.45it/s]"
          ]
        },
        {
          "output_type": "stream",
          "name": "stdout",
          "text": [
            "Episode 850, Reward: 483.0\n"
          ]
        },
        {
          "output_type": "stream",
          "name": "stderr",
          "text": [
            "\r 85%|████████▌ | 851/1000 [03:36<01:33,  1.60it/s]"
          ]
        },
        {
          "output_type": "stream",
          "name": "stdout",
          "text": [
            "Episode 851, Reward: 310.0\n"
          ]
        },
        {
          "output_type": "stream",
          "name": "stderr",
          "text": [
            "\r 85%|████████▌ | 852/1000 [03:37<01:36,  1.54it/s]"
          ]
        },
        {
          "output_type": "stream",
          "name": "stdout",
          "text": [
            "Episode 852, Reward: 500.0\n"
          ]
        },
        {
          "output_type": "stream",
          "name": "stderr",
          "text": [
            "\r 85%|████████▌ | 853/1000 [03:38<01:39,  1.48it/s]"
          ]
        },
        {
          "output_type": "stream",
          "name": "stdout",
          "text": [
            "Episode 853, Reward: 500.0\n"
          ]
        },
        {
          "output_type": "stream",
          "name": "stderr",
          "text": [
            "\r 85%|████████▌ | 854/1000 [03:38<01:34,  1.54it/s]"
          ]
        },
        {
          "output_type": "stream",
          "name": "stdout",
          "text": [
            "Episode 854, Reward: 384.0\n"
          ]
        },
        {
          "output_type": "stream",
          "name": "stderr",
          "text": [
            "\r 86%|████████▌ | 855/1000 [03:39<01:37,  1.49it/s]"
          ]
        },
        {
          "output_type": "stream",
          "name": "stdout",
          "text": [
            "Episode 855, Reward: 500.0\n"
          ]
        },
        {
          "output_type": "stream",
          "name": "stderr",
          "text": [
            "\r 86%|████████▌ | 856/1000 [03:40<01:39,  1.44it/s]"
          ]
        },
        {
          "output_type": "stream",
          "name": "stdout",
          "text": [
            "Episode 856, Reward: 500.0\n"
          ]
        },
        {
          "output_type": "stream",
          "name": "stderr",
          "text": [
            "\r 86%|████████▌ | 857/1000 [03:40<01:41,  1.41it/s]"
          ]
        },
        {
          "output_type": "stream",
          "name": "stdout",
          "text": [
            "Episode 857, Reward: 500.0\n"
          ]
        },
        {
          "output_type": "stream",
          "name": "stderr",
          "text": [
            "\r 86%|████████▌ | 858/1000 [03:41<01:26,  1.64it/s]"
          ]
        },
        {
          "output_type": "stream",
          "name": "stdout",
          "text": [
            "Episode 858, Reward: 254.0\n"
          ]
        },
        {
          "output_type": "stream",
          "name": "stderr",
          "text": [
            "\r 86%|████████▌ | 859/1000 [03:41<01:31,  1.54it/s]"
          ]
        },
        {
          "output_type": "stream",
          "name": "stdout",
          "text": [
            "Episode 859, Reward: 500.0\n"
          ]
        },
        {
          "output_type": "stream",
          "name": "stderr",
          "text": [
            "\r 86%|████████▌ | 860/1000 [03:42<01:39,  1.41it/s]"
          ]
        },
        {
          "output_type": "stream",
          "name": "stdout",
          "text": [
            "Episode 860, Reward: 423.0\n"
          ]
        },
        {
          "output_type": "stream",
          "name": "stderr",
          "text": [
            "\r 86%|████████▌ | 861/1000 [03:43<01:32,  1.50it/s]"
          ]
        },
        {
          "output_type": "stream",
          "name": "stdout",
          "text": [
            "Episode 861, Reward: 260.0\n"
          ]
        },
        {
          "output_type": "stream",
          "name": "stderr",
          "text": [
            "\r 86%|████████▌ | 862/1000 [03:44<01:43,  1.34it/s]"
          ]
        },
        {
          "output_type": "stream",
          "name": "stdout",
          "text": [
            "Episode 862, Reward: 500.0\n"
          ]
        },
        {
          "output_type": "stream",
          "name": "stderr",
          "text": [
            "\r 86%|████████▋ | 863/1000 [03:44<01:35,  1.43it/s]"
          ]
        },
        {
          "output_type": "stream",
          "name": "stdout",
          "text": [
            "Episode 863, Reward: 405.0\n"
          ]
        },
        {
          "output_type": "stream",
          "name": "stderr",
          "text": [
            " 86%|████████▋ | 865/1000 [03:45<01:11,  1.88it/s]"
          ]
        },
        {
          "output_type": "stream",
          "name": "stdout",
          "text": [
            "Episode 864, Reward: 480.0\n",
            "Episode 865, Reward: 93.0\n"
          ]
        },
        {
          "output_type": "stream",
          "name": "stderr",
          "text": [
            "\r 87%|████████▋ | 866/1000 [03:46<01:18,  1.72it/s]"
          ]
        },
        {
          "output_type": "stream",
          "name": "stdout",
          "text": [
            "Episode 866, Reward: 500.0\n"
          ]
        },
        {
          "output_type": "stream",
          "name": "stderr",
          "text": [
            "\r 87%|████████▋ | 867/1000 [03:47<01:23,  1.60it/s]"
          ]
        },
        {
          "output_type": "stream",
          "name": "stdout",
          "text": [
            "Episode 867, Reward: 500.0\n"
          ]
        },
        {
          "output_type": "stream",
          "name": "stderr",
          "text": [
            "\r 87%|████████▋ | 868/1000 [03:47<01:18,  1.68it/s]"
          ]
        },
        {
          "output_type": "stream",
          "name": "stdout",
          "text": [
            "Episode 868, Reward: 359.0\n"
          ]
        },
        {
          "output_type": "stream",
          "name": "stderr",
          "text": [
            "\r 87%|████████▋ | 869/1000 [03:48<01:13,  1.78it/s]"
          ]
        },
        {
          "output_type": "stream",
          "name": "stdout",
          "text": [
            "Episode 869, Reward: 311.0\n"
          ]
        },
        {
          "output_type": "stream",
          "name": "stderr",
          "text": [
            "\r 87%|████████▋ | 870/1000 [03:48<01:19,  1.63it/s]"
          ]
        },
        {
          "output_type": "stream",
          "name": "stdout",
          "text": [
            "Episode 870, Reward: 500.0\n"
          ]
        },
        {
          "output_type": "stream",
          "name": "stderr",
          "text": [
            "\r 87%|████████▋ | 871/1000 [03:49<01:12,  1.77it/s]"
          ]
        },
        {
          "output_type": "stream",
          "name": "stdout",
          "text": [
            "Episode 871, Reward: 306.0\n"
          ]
        },
        {
          "output_type": "stream",
          "name": "stderr",
          "text": [
            "\r 87%|████████▋ | 872/1000 [03:50<01:18,  1.63it/s]"
          ]
        },
        {
          "output_type": "stream",
          "name": "stdout",
          "text": [
            "Episode 872, Reward: 500.0\n"
          ]
        },
        {
          "output_type": "stream",
          "name": "stderr",
          "text": [
            "\r 87%|████████▋ | 873/1000 [03:50<01:23,  1.52it/s]"
          ]
        },
        {
          "output_type": "stream",
          "name": "stdout",
          "text": [
            "Episode 873, Reward: 500.0\n"
          ]
        },
        {
          "output_type": "stream",
          "name": "stderr",
          "text": [
            "\r 87%|████████▋ | 874/1000 [03:51<01:24,  1.50it/s]"
          ]
        },
        {
          "output_type": "stream",
          "name": "stdout",
          "text": [
            "Episode 874, Reward: 466.0\n"
          ]
        },
        {
          "output_type": "stream",
          "name": "stderr",
          "text": [
            "\r 88%|████████▊ | 875/1000 [03:51<01:09,  1.79it/s]"
          ]
        },
        {
          "output_type": "stream",
          "name": "stdout",
          "text": [
            "Episode 875, Reward: 190.0\n"
          ]
        },
        {
          "output_type": "stream",
          "name": "stderr",
          "text": [
            "\r 88%|████████▊ | 876/1000 [03:52<01:10,  1.77it/s]"
          ]
        },
        {
          "output_type": "stream",
          "name": "stdout",
          "text": [
            "Episode 876, Reward: 396.0\n"
          ]
        },
        {
          "output_type": "stream",
          "name": "stderr",
          "text": [
            "\r 88%|████████▊ | 877/1000 [03:53<01:12,  1.70it/s]"
          ]
        },
        {
          "output_type": "stream",
          "name": "stdout",
          "text": [
            "Episode 877, Reward: 423.0\n"
          ]
        },
        {
          "output_type": "stream",
          "name": "stderr",
          "text": [
            "\r 88%|████████▊ | 878/1000 [03:53<01:02,  1.94it/s]"
          ]
        },
        {
          "output_type": "stream",
          "name": "stdout",
          "text": [
            "Episode 878, Reward: 225.0\n"
          ]
        },
        {
          "output_type": "stream",
          "name": "stderr",
          "text": [
            "\r 88%|████████▊ | 879/1000 [03:54<01:04,  1.88it/s]"
          ]
        },
        {
          "output_type": "stream",
          "name": "stdout",
          "text": [
            "Episode 879, Reward: 350.0\n"
          ]
        },
        {
          "output_type": "stream",
          "name": "stderr",
          "text": [
            "\r 88%|████████▊ | 880/1000 [03:54<01:05,  1.84it/s]"
          ]
        },
        {
          "output_type": "stream",
          "name": "stdout",
          "text": [
            "Episode 880, Reward: 278.0\n"
          ]
        },
        {
          "output_type": "stream",
          "name": "stderr",
          "text": [
            "\r 88%|████████▊ | 881/1000 [03:54<00:54,  2.17it/s]"
          ]
        },
        {
          "output_type": "stream",
          "name": "stdout",
          "text": [
            "Episode 881, Reward: 131.0\n"
          ]
        },
        {
          "output_type": "stream",
          "name": "stderr",
          "text": [
            "\r 88%|████████▊ | 882/1000 [03:55<00:48,  2.42it/s]"
          ]
        },
        {
          "output_type": "stream",
          "name": "stdout",
          "text": [
            "Episode 882, Reward: 146.0\n"
          ]
        },
        {
          "output_type": "stream",
          "name": "stderr",
          "text": [
            "\r 88%|████████▊ | 883/1000 [03:55<00:54,  2.13it/s]"
          ]
        },
        {
          "output_type": "stream",
          "name": "stdout",
          "text": [
            "Episode 883, Reward: 282.0\n"
          ]
        },
        {
          "output_type": "stream",
          "name": "stderr",
          "text": [
            "\r 88%|████████▊ | 884/1000 [03:56<00:56,  2.07it/s]"
          ]
        },
        {
          "output_type": "stream",
          "name": "stdout",
          "text": [
            "Episode 884, Reward: 273.0\n"
          ]
        },
        {
          "output_type": "stream",
          "name": "stderr",
          "text": [
            "\r 88%|████████▊ | 885/1000 [03:56<00:53,  2.14it/s]"
          ]
        },
        {
          "output_type": "stream",
          "name": "stdout",
          "text": [
            "Episode 885, Reward: 291.0\n"
          ]
        },
        {
          "output_type": "stream",
          "name": "stderr",
          "text": [
            "\r 89%|████████▊ | 886/1000 [03:57<00:53,  2.11it/s]"
          ]
        },
        {
          "output_type": "stream",
          "name": "stdout",
          "text": [
            "Episode 886, Reward: 334.0\n"
          ]
        },
        {
          "output_type": "stream",
          "name": "stderr",
          "text": [
            "\r 89%|████████▊ | 887/1000 [03:57<00:59,  1.90it/s]"
          ]
        },
        {
          "output_type": "stream",
          "name": "stdout",
          "text": [
            "Episode 887, Reward: 433.0\n"
          ]
        },
        {
          "output_type": "stream",
          "name": "stderr",
          "text": [
            "\r 89%|████████▉ | 888/1000 [03:58<00:52,  2.13it/s]"
          ]
        },
        {
          "output_type": "stream",
          "name": "stdout",
          "text": [
            "Episode 888, Reward: 222.0\n"
          ]
        },
        {
          "output_type": "stream",
          "name": "stderr",
          "text": [
            "\r 89%|████████▉ | 889/1000 [03:58<00:46,  2.38it/s]"
          ]
        },
        {
          "output_type": "stream",
          "name": "stdout",
          "text": [
            "Episode 889, Reward: 207.0\n",
            "Episode 890, Reward: 37.0\n"
          ]
        },
        {
          "output_type": "stream",
          "name": "stderr",
          "text": [
            "\r 89%|████████▉ | 891/1000 [03:59<00:44,  2.47it/s]"
          ]
        },
        {
          "output_type": "stream",
          "name": "stdout",
          "text": [
            "Episode 891, Reward: 500.0\n"
          ]
        },
        {
          "output_type": "stream",
          "name": "stderr",
          "text": [
            "\r 89%|████████▉ | 892/1000 [03:59<00:52,  2.07it/s]"
          ]
        },
        {
          "output_type": "stream",
          "name": "stdout",
          "text": [
            "Episode 892, Reward: 500.0\n"
          ]
        },
        {
          "output_type": "stream",
          "name": "stderr",
          "text": [
            "\r 89%|████████▉ | 893/1000 [04:00<00:50,  2.12it/s]"
          ]
        },
        {
          "output_type": "stream",
          "name": "stdout",
          "text": [
            "Episode 893, Reward: 296.0\n"
          ]
        },
        {
          "output_type": "stream",
          "name": "stderr",
          "text": [
            " 90%|████████▉ | 895/1000 [04:00<00:38,  2.73it/s]"
          ]
        },
        {
          "output_type": "stream",
          "name": "stdout",
          "text": [
            "Episode 894, Reward: 261.0\n",
            "Episode 895, Reward: 109.0\n"
          ]
        },
        {
          "output_type": "stream",
          "name": "stderr",
          "text": [
            " 90%|████████▉ | 897/1000 [04:01<00:31,  3.30it/s]"
          ]
        },
        {
          "output_type": "stream",
          "name": "stdout",
          "text": [
            "Episode 896, Reward: 224.0\n",
            "Episode 897, Reward: 109.0\n"
          ]
        },
        {
          "output_type": "stream",
          "name": "stderr",
          "text": [
            " 90%|████████▉ | 899/1000 [04:01<00:24,  4.06it/s]"
          ]
        },
        {
          "output_type": "stream",
          "name": "stdout",
          "text": [
            "Episode 898, Reward: 134.0\n",
            "Episode 899, Reward: 116.0\n"
          ]
        },
        {
          "output_type": "stream",
          "name": "stderr",
          "text": [
            "\r 90%|█████████ | 900/1000 [04:01<00:21,  4.61it/s]"
          ]
        },
        {
          "output_type": "stream",
          "name": "stdout",
          "text": [
            "Episode 900, Reward: 97.0\n",
            "Episode 901, Reward: 34.0\n"
          ]
        },
        {
          "output_type": "stream",
          "name": "stderr",
          "text": [
            "\r 90%|█████████ | 902/1000 [04:02<00:16,  5.91it/s]"
          ]
        },
        {
          "output_type": "stream",
          "name": "stdout",
          "text": [
            "Episode 902, Reward: 111.0\n",
            "Episode 903, Reward: 24.0\n"
          ]
        },
        {
          "output_type": "stream",
          "name": "stderr",
          "text": [
            "\r 90%|█████████ | 904/1000 [04:02<00:15,  6.26it/s]"
          ]
        },
        {
          "output_type": "stream",
          "name": "stdout",
          "text": [
            "Episode 904, Reward: 177.0\n"
          ]
        },
        {
          "output_type": "stream",
          "name": "stderr",
          "text": [
            "\r 90%|█████████ | 905/1000 [04:02<00:17,  5.59it/s]"
          ]
        },
        {
          "output_type": "stream",
          "name": "stdout",
          "text": [
            "Episode 905, Reward: 160.0\n"
          ]
        },
        {
          "output_type": "stream",
          "name": "stderr",
          "text": [
            "\r 91%|█████████ | 906/1000 [04:03<00:21,  4.28it/s]"
          ]
        },
        {
          "output_type": "stream",
          "name": "stdout",
          "text": [
            "Episode 906, Reward: 274.0\n"
          ]
        },
        {
          "output_type": "stream",
          "name": "stderr",
          "text": [
            "\r 91%|█████████ | 907/1000 [04:03<00:25,  3.61it/s]"
          ]
        },
        {
          "output_type": "stream",
          "name": "stdout",
          "text": [
            "Episode 907, Reward: 281.0\n"
          ]
        },
        {
          "output_type": "stream",
          "name": "stderr",
          "text": [
            "\r 91%|█████████ | 908/1000 [04:03<00:25,  3.56it/s]"
          ]
        },
        {
          "output_type": "stream",
          "name": "stdout",
          "text": [
            "Episode 908, Reward: 189.0\n"
          ]
        },
        {
          "output_type": "stream",
          "name": "stderr",
          "text": [
            "\r 91%|█████████ | 909/1000 [04:04<00:36,  2.52it/s]"
          ]
        },
        {
          "output_type": "stream",
          "name": "stdout",
          "text": [
            "Episode 909, Reward: 500.0\n"
          ]
        },
        {
          "output_type": "stream",
          "name": "stderr",
          "text": [
            "\r 91%|█████████ | 910/1000 [04:05<00:44,  2.04it/s]"
          ]
        },
        {
          "output_type": "stream",
          "name": "stdout",
          "text": [
            "Episode 910, Reward: 500.0\n"
          ]
        },
        {
          "output_type": "stream",
          "name": "stderr",
          "text": [
            "\r 91%|█████████ | 911/1000 [04:06<00:49,  1.79it/s]"
          ]
        },
        {
          "output_type": "stream",
          "name": "stdout",
          "text": [
            "Episode 911, Reward: 500.0\n"
          ]
        },
        {
          "output_type": "stream",
          "name": "stderr",
          "text": [
            "\r 91%|█████████ | 912/1000 [04:06<00:49,  1.78it/s]"
          ]
        },
        {
          "output_type": "stream",
          "name": "stdout",
          "text": [
            "Episode 912, Reward: 278.0\n"
          ]
        },
        {
          "output_type": "stream",
          "name": "stderr",
          "text": [
            "\r 91%|█████████▏| 913/1000 [04:07<00:53,  1.63it/s]"
          ]
        },
        {
          "output_type": "stream",
          "name": "stdout",
          "text": [
            "Episode 913, Reward: 371.0\n"
          ]
        },
        {
          "output_type": "stream",
          "name": "stderr",
          "text": [
            "\r 91%|█████████▏| 914/1000 [04:07<00:49,  1.73it/s]"
          ]
        },
        {
          "output_type": "stream",
          "name": "stdout",
          "text": [
            "Episode 914, Reward: 217.0\n"
          ]
        },
        {
          "output_type": "stream",
          "name": "stderr",
          "text": [
            "\r 92%|█████████▏| 915/1000 [04:08<00:56,  1.51it/s]"
          ]
        },
        {
          "output_type": "stream",
          "name": "stdout",
          "text": [
            "Episode 915, Reward: 500.0\n"
          ]
        },
        {
          "output_type": "stream",
          "name": "stderr",
          "text": [
            "\r 92%|█████████▏| 916/1000 [04:09<00:47,  1.75it/s]"
          ]
        },
        {
          "output_type": "stream",
          "name": "stdout",
          "text": [
            "Episode 916, Reward: 239.0\n"
          ]
        },
        {
          "output_type": "stream",
          "name": "stderr",
          "text": [
            "\r 92%|█████████▏| 917/1000 [04:09<00:43,  1.92it/s]"
          ]
        },
        {
          "output_type": "stream",
          "name": "stdout",
          "text": [
            "Episode 917, Reward: 269.0\n"
          ]
        },
        {
          "output_type": "stream",
          "name": "stderr",
          "text": [
            "\r 92%|█████████▏| 918/1000 [04:09<00:40,  2.05it/s]"
          ]
        },
        {
          "output_type": "stream",
          "name": "stdout",
          "text": [
            "Episode 918, Reward: 280.0\n"
          ]
        },
        {
          "output_type": "stream",
          "name": "stderr",
          "text": [
            "\r 92%|█████████▏| 919/1000 [04:10<00:42,  1.90it/s]"
          ]
        },
        {
          "output_type": "stream",
          "name": "stdout",
          "text": [
            "Episode 919, Reward: 422.0\n"
          ]
        },
        {
          "output_type": "stream",
          "name": "stderr",
          "text": [
            "\r 92%|█████████▏| 920/1000 [04:10<00:39,  2.02it/s]"
          ]
        },
        {
          "output_type": "stream",
          "name": "stdout",
          "text": [
            "Episode 920, Reward: 283.0\n"
          ]
        },
        {
          "output_type": "stream",
          "name": "stderr",
          "text": [
            "\r 92%|█████████▏| 921/1000 [04:11<00:39,  2.00it/s]"
          ]
        },
        {
          "output_type": "stream",
          "name": "stdout",
          "text": [
            "Episode 921, Reward: 340.0\n"
          ]
        },
        {
          "output_type": "stream",
          "name": "stderr",
          "text": [
            "\r 92%|█████████▏| 922/1000 [04:11<00:36,  2.11it/s]"
          ]
        },
        {
          "output_type": "stream",
          "name": "stdout",
          "text": [
            "Episode 922, Reward: 274.0\n"
          ]
        },
        {
          "output_type": "stream",
          "name": "stderr",
          "text": [
            "\r 92%|█████████▏| 923/1000 [04:12<00:32,  2.36it/s]"
          ]
        },
        {
          "output_type": "stream",
          "name": "stdout",
          "text": [
            "Episode 923, Reward: 205.0\n"
          ]
        },
        {
          "output_type": "stream",
          "name": "stderr",
          "text": [
            "\r 92%|█████████▏| 924/1000 [04:12<00:31,  2.44it/s]"
          ]
        },
        {
          "output_type": "stream",
          "name": "stdout",
          "text": [
            "Episode 924, Reward: 246.0\n"
          ]
        },
        {
          "output_type": "stream",
          "name": "stderr",
          "text": [
            "\r 92%|█████████▎| 925/1000 [04:12<00:29,  2.54it/s]"
          ]
        },
        {
          "output_type": "stream",
          "name": "stdout",
          "text": [
            "Episode 925, Reward: 239.0\n"
          ]
        },
        {
          "output_type": "stream",
          "name": "stderr",
          "text": [
            "\r 93%|█████████▎| 926/1000 [04:13<00:29,  2.49it/s]"
          ]
        },
        {
          "output_type": "stream",
          "name": "stdout",
          "text": [
            "Episode 926, Reward: 295.0\n"
          ]
        },
        {
          "output_type": "stream",
          "name": "stderr",
          "text": [
            "\r 93%|█████████▎| 927/1000 [04:13<00:36,  2.02it/s]"
          ]
        },
        {
          "output_type": "stream",
          "name": "stdout",
          "text": [
            "Episode 927, Reward: 480.0\n"
          ]
        },
        {
          "output_type": "stream",
          "name": "stderr",
          "text": [
            "\r 93%|█████████▎| 928/1000 [04:14<00:29,  2.42it/s]"
          ]
        },
        {
          "output_type": "stream",
          "name": "stdout",
          "text": [
            "Episode 928, Reward: 146.0\n"
          ]
        },
        {
          "output_type": "stream",
          "name": "stderr",
          "text": [
            "\r 93%|█████████▎| 929/1000 [04:14<00:30,  2.34it/s]"
          ]
        },
        {
          "output_type": "stream",
          "name": "stdout",
          "text": [
            "Episode 929, Reward: 311.0\n"
          ]
        },
        {
          "output_type": "stream",
          "name": "stderr",
          "text": [
            "\r 93%|█████████▎| 930/1000 [04:15<00:32,  2.13it/s]"
          ]
        },
        {
          "output_type": "stream",
          "name": "stdout",
          "text": [
            "Episode 930, Reward: 397.0\n"
          ]
        },
        {
          "output_type": "stream",
          "name": "stderr",
          "text": [
            "\r 93%|█████████▎| 931/1000 [04:15<00:32,  2.11it/s]"
          ]
        },
        {
          "output_type": "stream",
          "name": "stdout",
          "text": [
            "Episode 931, Reward: 320.0\n"
          ]
        },
        {
          "output_type": "stream",
          "name": "stderr",
          "text": [
            "\r 93%|█████████▎| 932/1000 [04:16<00:31,  2.19it/s]"
          ]
        },
        {
          "output_type": "stream",
          "name": "stdout",
          "text": [
            "Episode 932, Reward: 294.0\n"
          ]
        },
        {
          "output_type": "stream",
          "name": "stderr",
          "text": [
            "\r 93%|█████████▎| 933/1000 [04:16<00:30,  2.22it/s]"
          ]
        },
        {
          "output_type": "stream",
          "name": "stdout",
          "text": [
            "Episode 933, Reward: 292.0\n"
          ]
        },
        {
          "output_type": "stream",
          "name": "stderr",
          "text": [
            "\r 93%|█████████▎| 934/1000 [04:17<00:34,  1.91it/s]"
          ]
        },
        {
          "output_type": "stream",
          "name": "stdout",
          "text": [
            "Episode 934, Reward: 477.0\n"
          ]
        },
        {
          "output_type": "stream",
          "name": "stderr",
          "text": [
            "\r 94%|█████████▎| 935/1000 [04:17<00:31,  2.03it/s]"
          ]
        },
        {
          "output_type": "stream",
          "name": "stdout",
          "text": [
            "Episode 935, Reward: 275.0\n"
          ]
        },
        {
          "output_type": "stream",
          "name": "stderr",
          "text": [
            "\r 94%|█████████▎| 936/1000 [04:18<00:38,  1.67it/s]"
          ]
        },
        {
          "output_type": "stream",
          "name": "stdout",
          "text": [
            "Episode 936, Reward: 500.0\n"
          ]
        },
        {
          "output_type": "stream",
          "name": "stderr",
          "text": [
            "\r 94%|█████████▎| 937/1000 [04:19<00:44,  1.42it/s]"
          ]
        },
        {
          "output_type": "stream",
          "name": "stdout",
          "text": [
            "Episode 937, Reward: 500.0\n"
          ]
        },
        {
          "output_type": "stream",
          "name": "stderr",
          "text": [
            "\r 94%|█████████▍| 938/1000 [04:20<00:47,  1.30it/s]"
          ]
        },
        {
          "output_type": "stream",
          "name": "stdout",
          "text": [
            "Episode 938, Reward: 462.0\n"
          ]
        },
        {
          "output_type": "stream",
          "name": "stderr",
          "text": [
            "\r 94%|█████████▍| 939/1000 [04:21<00:46,  1.32it/s]"
          ]
        },
        {
          "output_type": "stream",
          "name": "stdout",
          "text": [
            "Episode 939, Reward: 500.0\n"
          ]
        },
        {
          "output_type": "stream",
          "name": "stderr",
          "text": [
            "\r 94%|█████████▍| 940/1000 [04:21<00:45,  1.33it/s]"
          ]
        },
        {
          "output_type": "stream",
          "name": "stdout",
          "text": [
            "Episode 940, Reward: 500.0\n"
          ]
        },
        {
          "output_type": "stream",
          "name": "stderr",
          "text": [
            "\r 94%|█████████▍| 941/1000 [04:22<00:38,  1.52it/s]"
          ]
        },
        {
          "output_type": "stream",
          "name": "stdout",
          "text": [
            "Episode 941, Reward: 297.0\n"
          ]
        },
        {
          "output_type": "stream",
          "name": "stderr",
          "text": [
            "\r 94%|█████████▍| 942/1000 [04:22<00:38,  1.52it/s]"
          ]
        },
        {
          "output_type": "stream",
          "name": "stdout",
          "text": [
            "Episode 942, Reward: 435.0\n"
          ]
        },
        {
          "output_type": "stream",
          "name": "stderr",
          "text": [
            "\r 94%|█████████▍| 943/1000 [04:23<00:40,  1.39it/s]"
          ]
        },
        {
          "output_type": "stream",
          "name": "stdout",
          "text": [
            "Episode 943, Reward: 500.0\n"
          ]
        },
        {
          "output_type": "stream",
          "name": "stderr",
          "text": [
            "\r 94%|█████████▍| 944/1000 [04:24<00:34,  1.64it/s]"
          ]
        },
        {
          "output_type": "stream",
          "name": "stdout",
          "text": [
            "Episode 944, Reward: 247.0\n"
          ]
        },
        {
          "output_type": "stream",
          "name": "stderr",
          "text": [
            "\r 94%|█████████▍| 945/1000 [04:24<00:36,  1.52it/s]"
          ]
        },
        {
          "output_type": "stream",
          "name": "stdout",
          "text": [
            "Episode 945, Reward: 500.0\n"
          ]
        },
        {
          "output_type": "stream",
          "name": "stderr",
          "text": [
            "\r 95%|█████████▍| 946/1000 [04:25<00:34,  1.55it/s]"
          ]
        },
        {
          "output_type": "stream",
          "name": "stdout",
          "text": [
            "Episode 946, Reward: 427.0\n"
          ]
        },
        {
          "output_type": "stream",
          "name": "stderr",
          "text": [
            "\r 95%|█████████▍| 947/1000 [04:26<00:35,  1.49it/s]"
          ]
        },
        {
          "output_type": "stream",
          "name": "stdout",
          "text": [
            "Episode 947, Reward: 500.0\n"
          ]
        },
        {
          "output_type": "stream",
          "name": "stderr",
          "text": [
            "\r 95%|█████████▍| 948/1000 [04:26<00:32,  1.58it/s]"
          ]
        },
        {
          "output_type": "stream",
          "name": "stdout",
          "text": [
            "Episode 948, Reward: 355.0\n"
          ]
        },
        {
          "output_type": "stream",
          "name": "stderr",
          "text": [
            "\r 95%|█████████▍| 949/1000 [04:27<00:29,  1.73it/s]"
          ]
        },
        {
          "output_type": "stream",
          "name": "stdout",
          "text": [
            "Episode 949, Reward: 306.0\n"
          ]
        },
        {
          "output_type": "stream",
          "name": "stderr",
          "text": [
            "\r 95%|█████████▌| 950/1000 [04:27<00:27,  1.80it/s]"
          ]
        },
        {
          "output_type": "stream",
          "name": "stdout",
          "text": [
            "Episode 950, Reward: 328.0\n"
          ]
        },
        {
          "output_type": "stream",
          "name": "stderr",
          "text": [
            "\r 95%|█████████▌| 951/1000 [04:28<00:25,  1.89it/s]"
          ]
        },
        {
          "output_type": "stream",
          "name": "stdout",
          "text": [
            "Episode 951, Reward: 317.0\n"
          ]
        },
        {
          "output_type": "stream",
          "name": "stderr",
          "text": [
            "\r 95%|█████████▌| 952/1000 [04:28<00:24,  1.95it/s]"
          ]
        },
        {
          "output_type": "stream",
          "name": "stdout",
          "text": [
            "Episode 952, Reward: 320.0\n"
          ]
        },
        {
          "output_type": "stream",
          "name": "stderr",
          "text": [
            "\r 95%|█████████▌| 953/1000 [04:29<00:25,  1.82it/s]"
          ]
        },
        {
          "output_type": "stream",
          "name": "stdout",
          "text": [
            "Episode 953, Reward: 437.0\n"
          ]
        },
        {
          "output_type": "stream",
          "name": "stderr",
          "text": [
            "\r 95%|█████████▌| 954/1000 [04:30<00:27,  1.66it/s]"
          ]
        },
        {
          "output_type": "stream",
          "name": "stdout",
          "text": [
            "Episode 954, Reward: 500.0\n"
          ]
        },
        {
          "output_type": "stream",
          "name": "stderr",
          "text": [
            "\r 96%|█████████▌| 955/1000 [04:30<00:29,  1.50it/s]"
          ]
        },
        {
          "output_type": "stream",
          "name": "stdout",
          "text": [
            "Episode 955, Reward: 418.0\n"
          ]
        },
        {
          "output_type": "stream",
          "name": "stderr",
          "text": [
            "\r 96%|█████████▌| 956/1000 [04:31<00:25,  1.69it/s]"
          ]
        },
        {
          "output_type": "stream",
          "name": "stdout",
          "text": [
            "Episode 956, Reward: 197.0\n"
          ]
        },
        {
          "output_type": "stream",
          "name": "stderr",
          "text": [
            "\r 96%|█████████▌| 957/1000 [04:32<00:31,  1.37it/s]"
          ]
        },
        {
          "output_type": "stream",
          "name": "stdout",
          "text": [
            "Episode 957, Reward: 500.0\n"
          ]
        },
        {
          "output_type": "stream",
          "name": "stderr",
          "text": [
            " 96%|█████████▌| 959/1000 [04:33<00:20,  1.95it/s]"
          ]
        },
        {
          "output_type": "stream",
          "name": "stdout",
          "text": [
            "Episode 958, Reward: 311.0\n",
            "Episode 959, Reward: 116.0\n"
          ]
        },
        {
          "output_type": "stream",
          "name": "stderr",
          "text": [
            "\r 96%|█████████▌| 960/1000 [04:33<00:22,  1.74it/s]"
          ]
        },
        {
          "output_type": "stream",
          "name": "stdout",
          "text": [
            "Episode 960, Reward: 500.0\n"
          ]
        },
        {
          "output_type": "stream",
          "name": "stderr",
          "text": [
            "\r 96%|█████████▌| 961/1000 [04:34<00:24,  1.62it/s]"
          ]
        },
        {
          "output_type": "stream",
          "name": "stdout",
          "text": [
            "Episode 961, Reward: 500.0\n"
          ]
        },
        {
          "output_type": "stream",
          "name": "stderr",
          "text": [
            "\r 96%|█████████▌| 962/1000 [04:35<00:25,  1.52it/s]"
          ]
        },
        {
          "output_type": "stream",
          "name": "stdout",
          "text": [
            "Episode 962, Reward: 500.0\n"
          ]
        },
        {
          "output_type": "stream",
          "name": "stderr",
          "text": [
            "\r 96%|█████████▋| 963/1000 [04:35<00:25,  1.47it/s]"
          ]
        },
        {
          "output_type": "stream",
          "name": "stdout",
          "text": [
            "Episode 963, Reward: 500.0\n"
          ]
        },
        {
          "output_type": "stream",
          "name": "stderr",
          "text": [
            "\r 96%|█████████▋| 964/1000 [04:36<00:25,  1.43it/s]"
          ]
        },
        {
          "output_type": "stream",
          "name": "stdout",
          "text": [
            "Episode 964, Reward: 500.0\n"
          ]
        },
        {
          "output_type": "stream",
          "name": "stderr",
          "text": [
            "\r 96%|█████████▋| 965/1000 [04:37<00:21,  1.62it/s]"
          ]
        },
        {
          "output_type": "stream",
          "name": "stdout",
          "text": [
            "Episode 965, Reward: 291.0\n"
          ]
        },
        {
          "output_type": "stream",
          "name": "stderr",
          "text": [
            "\r 97%|█████████▋| 966/1000 [04:37<00:22,  1.54it/s]"
          ]
        },
        {
          "output_type": "stream",
          "name": "stdout",
          "text": [
            "Episode 966, Reward: 500.0\n"
          ]
        },
        {
          "output_type": "stream",
          "name": "stderr",
          "text": [
            "\r 97%|█████████▋| 967/1000 [04:38<00:20,  1.63it/s]"
          ]
        },
        {
          "output_type": "stream",
          "name": "stdout",
          "text": [
            "Episode 967, Reward: 366.0\n"
          ]
        },
        {
          "output_type": "stream",
          "name": "stderr",
          "text": [
            "\r 97%|█████████▋| 968/1000 [04:39<00:20,  1.53it/s]"
          ]
        },
        {
          "output_type": "stream",
          "name": "stdout",
          "text": [
            "Episode 968, Reward: 500.0\n"
          ]
        },
        {
          "output_type": "stream",
          "name": "stderr",
          "text": [
            "\r 97%|█████████▋| 969/1000 [04:39<00:18,  1.68it/s]"
          ]
        },
        {
          "output_type": "stream",
          "name": "stdout",
          "text": [
            "Episode 969, Reward: 311.0\n"
          ]
        },
        {
          "output_type": "stream",
          "name": "stderr",
          "text": [
            "\r 97%|█████████▋| 970/1000 [04:40<00:18,  1.61it/s]"
          ]
        },
        {
          "output_type": "stream",
          "name": "stdout",
          "text": [
            "Episode 970, Reward: 460.0\n"
          ]
        },
        {
          "output_type": "stream",
          "name": "stderr",
          "text": [
            "\r 97%|█████████▋| 971/1000 [04:40<00:17,  1.70it/s]"
          ]
        },
        {
          "output_type": "stream",
          "name": "stdout",
          "text": [
            "Episode 971, Reward: 344.0\n"
          ]
        },
        {
          "output_type": "stream",
          "name": "stderr",
          "text": [
            "\r 97%|█████████▋| 972/1000 [04:41<00:17,  1.62it/s]"
          ]
        },
        {
          "output_type": "stream",
          "name": "stdout",
          "text": [
            "Episode 972, Reward: 473.0\n"
          ]
        },
        {
          "output_type": "stream",
          "name": "stderr",
          "text": [
            "\r 97%|█████████▋| 973/1000 [04:42<00:16,  1.61it/s]"
          ]
        },
        {
          "output_type": "stream",
          "name": "stdout",
          "text": [
            "Episode 973, Reward: 435.0\n"
          ]
        },
        {
          "output_type": "stream",
          "name": "stderr",
          "text": [
            "\r 97%|█████████▋| 974/1000 [04:42<00:16,  1.53it/s]"
          ]
        },
        {
          "output_type": "stream",
          "name": "stdout",
          "text": [
            "Episode 974, Reward: 383.0\n"
          ]
        },
        {
          "output_type": "stream",
          "name": "stderr",
          "text": [
            "\r 98%|█████████▊| 975/1000 [04:43<00:15,  1.59it/s]"
          ]
        },
        {
          "output_type": "stream",
          "name": "stdout",
          "text": [
            "Episode 975, Reward: 292.0\n"
          ]
        },
        {
          "output_type": "stream",
          "name": "stderr",
          "text": [
            "\r 98%|█████████▊| 976/1000 [04:44<00:15,  1.53it/s]"
          ]
        },
        {
          "output_type": "stream",
          "name": "stdout",
          "text": [
            "Episode 976, Reward: 321.0\n"
          ]
        },
        {
          "output_type": "stream",
          "name": "stderr",
          "text": [
            "\r 98%|█████████▊| 977/1000 [04:44<00:16,  1.42it/s]"
          ]
        },
        {
          "output_type": "stream",
          "name": "stdout",
          "text": [
            "Episode 977, Reward: 500.0\n"
          ]
        },
        {
          "output_type": "stream",
          "name": "stderr",
          "text": [
            "\r 98%|█████████▊| 978/1000 [04:45<00:14,  1.50it/s]"
          ]
        },
        {
          "output_type": "stream",
          "name": "stdout",
          "text": [
            "Episode 978, Reward: 402.0\n"
          ]
        },
        {
          "output_type": "stream",
          "name": "stderr",
          "text": [
            "\r 98%|█████████▊| 979/1000 [04:46<00:13,  1.59it/s]"
          ]
        },
        {
          "output_type": "stream",
          "name": "stdout",
          "text": [
            "Episode 979, Reward: 355.0\n"
          ]
        },
        {
          "output_type": "stream",
          "name": "stderr",
          "text": [
            "\r 98%|█████████▊| 980/1000 [04:46<00:13,  1.52it/s]"
          ]
        },
        {
          "output_type": "stream",
          "name": "stdout",
          "text": [
            "Episode 980, Reward: 500.0\n"
          ]
        },
        {
          "output_type": "stream",
          "name": "stderr",
          "text": [
            "\r 98%|█████████▊| 981/1000 [04:47<00:11,  1.66it/s]"
          ]
        },
        {
          "output_type": "stream",
          "name": "stdout",
          "text": [
            "Episode 981, Reward: 315.0\n"
          ]
        },
        {
          "output_type": "stream",
          "name": "stderr",
          "text": [
            "\r 98%|█████████▊| 982/1000 [04:47<00:11,  1.61it/s]"
          ]
        },
        {
          "output_type": "stream",
          "name": "stdout",
          "text": [
            "Episode 982, Reward: 448.0\n"
          ]
        },
        {
          "output_type": "stream",
          "name": "stderr",
          "text": [
            "\r 98%|█████████▊| 983/1000 [04:48<00:11,  1.54it/s]"
          ]
        },
        {
          "output_type": "stream",
          "name": "stdout",
          "text": [
            "Episode 983, Reward: 490.0\n"
          ]
        },
        {
          "output_type": "stream",
          "name": "stderr",
          "text": [
            "\r 98%|█████████▊| 984/1000 [04:49<00:10,  1.47it/s]"
          ]
        },
        {
          "output_type": "stream",
          "name": "stdout",
          "text": [
            "Episode 984, Reward: 500.0\n"
          ]
        },
        {
          "output_type": "stream",
          "name": "stderr",
          "text": [
            "\r 98%|█████████▊| 985/1000 [04:50<00:10,  1.44it/s]"
          ]
        },
        {
          "output_type": "stream",
          "name": "stdout",
          "text": [
            "Episode 985, Reward: 490.0\n"
          ]
        },
        {
          "output_type": "stream",
          "name": "stderr",
          "text": [
            "\r 99%|█████████▊| 986/1000 [04:50<00:09,  1.46it/s]"
          ]
        },
        {
          "output_type": "stream",
          "name": "stdout",
          "text": [
            "Episode 986, Reward: 442.0\n"
          ]
        },
        {
          "output_type": "stream",
          "name": "stderr",
          "text": [
            "\r 99%|█████████▊| 987/1000 [04:51<00:08,  1.48it/s]"
          ]
        },
        {
          "output_type": "stream",
          "name": "stdout",
          "text": [
            "Episode 987, Reward: 459.0\n"
          ]
        },
        {
          "output_type": "stream",
          "name": "stderr",
          "text": [
            "\r 99%|█████████▉| 988/1000 [04:52<00:08,  1.48it/s]"
          ]
        },
        {
          "output_type": "stream",
          "name": "stdout",
          "text": [
            "Episode 988, Reward: 451.0\n"
          ]
        },
        {
          "output_type": "stream",
          "name": "stderr",
          "text": [
            "\r 99%|█████████▉| 989/1000 [04:52<00:07,  1.44it/s]"
          ]
        },
        {
          "output_type": "stream",
          "name": "stdout",
          "text": [
            "Episode 989, Reward: 500.0\n"
          ]
        },
        {
          "output_type": "stream",
          "name": "stderr",
          "text": [
            "\r 99%|█████████▉| 990/1000 [04:53<00:07,  1.41it/s]"
          ]
        },
        {
          "output_type": "stream",
          "name": "stdout",
          "text": [
            "Episode 990, Reward: 500.0\n"
          ]
        },
        {
          "output_type": "stream",
          "name": "stderr",
          "text": [
            "\r 99%|█████████▉| 991/1000 [04:54<00:06,  1.39it/s]"
          ]
        },
        {
          "output_type": "stream",
          "name": "stdout",
          "text": [
            "Episode 991, Reward: 500.0\n"
          ]
        },
        {
          "output_type": "stream",
          "name": "stderr",
          "text": [
            "\r 99%|█████████▉| 992/1000 [04:55<00:06,  1.26it/s]"
          ]
        },
        {
          "output_type": "stream",
          "name": "stdout",
          "text": [
            "Episode 992, Reward: 500.0\n"
          ]
        },
        {
          "output_type": "stream",
          "name": "stderr",
          "text": [
            "\r 99%|█████████▉| 993/1000 [04:55<00:05,  1.31it/s]"
          ]
        },
        {
          "output_type": "stream",
          "name": "stdout",
          "text": [
            "Episode 993, Reward: 314.0\n"
          ]
        },
        {
          "output_type": "stream",
          "name": "stderr",
          "text": [
            "\r 99%|█████████▉| 994/1000 [04:56<00:04,  1.24it/s]"
          ]
        },
        {
          "output_type": "stream",
          "name": "stdout",
          "text": [
            "Episode 994, Reward: 500.0\n"
          ]
        },
        {
          "output_type": "stream",
          "name": "stderr",
          "text": [
            "\r100%|█████████▉| 995/1000 [04:57<00:03,  1.28it/s]"
          ]
        },
        {
          "output_type": "stream",
          "name": "stdout",
          "text": [
            "Episode 995, Reward: 500.0\n"
          ]
        },
        {
          "output_type": "stream",
          "name": "stderr",
          "text": [
            "\r100%|█████████▉| 996/1000 [04:58<00:02,  1.37it/s]"
          ]
        },
        {
          "output_type": "stream",
          "name": "stdout",
          "text": [
            "Episode 996, Reward: 400.0\n"
          ]
        },
        {
          "output_type": "stream",
          "name": "stderr",
          "text": [
            "\r100%|█████████▉| 997/1000 [04:58<00:02,  1.36it/s]"
          ]
        },
        {
          "output_type": "stream",
          "name": "stdout",
          "text": [
            "Episode 997, Reward: 500.0\n"
          ]
        },
        {
          "output_type": "stream",
          "name": "stderr",
          "text": [
            "\r100%|█████████▉| 998/1000 [04:59<00:01,  1.36it/s]"
          ]
        },
        {
          "output_type": "stream",
          "name": "stdout",
          "text": [
            "Episode 998, Reward: 500.0\n"
          ]
        },
        {
          "output_type": "stream",
          "name": "stderr",
          "text": [
            "\r100%|█████████▉| 999/1000 [05:00<00:00,  1.37it/s]"
          ]
        },
        {
          "output_type": "stream",
          "name": "stdout",
          "text": [
            "Episode 999, Reward: 500.0\n"
          ]
        },
        {
          "output_type": "stream",
          "name": "stderr",
          "text": [
            "100%|██████████| 1000/1000 [05:01<00:00,  3.32it/s]"
          ]
        },
        {
          "output_type": "stream",
          "name": "stdout",
          "text": [
            "Episode 1000, Reward: 482.0\n"
          ]
        },
        {
          "output_type": "stream",
          "name": "stderr",
          "text": [
            "\n"
          ]
        }
      ],
      "source": [
        "rewards = a2c_model.train()"
      ]
    },
    {
      "cell_type": "markdown",
      "metadata": {
        "id": "CMViOQSeyvqx"
      },
      "source": [
        "## Evaluation"
      ]
    },
    {
      "cell_type": "markdown",
      "metadata": {
        "id": "7GmFp1D9eG1S"
      },
      "source": [
        "Use the `choose_action` method of the trained agent to evaluate its performance."
      ]
    },
    {
      "cell_type": "code",
      "execution_count": 19,
      "metadata": {
        "colab": {
          "base_uri": "https://localhost:8080/"
        },
        "id": "i75PdIqbI0PB",
        "outputId": "ac359756-66b7-4109-8aef-bfa443983f52"
      },
      "outputs": [
        {
          "output_type": "stream",
          "name": "stderr",
          "text": [
            "/usr/local/lib/python3.10/dist-packages/ipykernel/ipkernel.py:283: DeprecationWarning: `should_run_async` will not call `transform_cell` automatically in the future. Please pass the result to `transformed_cell` argument and any exception that happen during thetransform in `preprocessing_exc_tuple` in IPython 7.17 and above.\n",
            "  and should_run_async(code)\n",
            "/usr/local/lib/python3.10/dist-packages/gym/core.py:317: DeprecationWarning: \u001b[33mWARN: Initializing wrapper in old step API which returns one bool instead of two. It is recommended to set `new_step_api=True` to use new step API. This will be the default behaviour in future.\u001b[0m\n",
            "  deprecation(\n",
            "/usr/local/lib/python3.10/dist-packages/gym/wrappers/step_api_compatibility.py:39: DeprecationWarning: \u001b[33mWARN: Initializing environment in old step API which returns one bool instead of two. It is recommended to set `new_step_api=True` to use new step API. This will be the default behaviour in future.\u001b[0m\n",
            "  deprecation(\n",
            "/usr/local/lib/python3.10/dist-packages/gym/utils/passive_env_checker.py:241: DeprecationWarning: `np.bool8` is a deprecated alias for `np.bool_`.  (Deprecated NumPy 1.24)\n",
            "  if not isinstance(terminated, (bool, np.bool8)):\n"
          ]
        },
        {
          "output_type": "stream",
          "name": "stdout",
          "text": [
            "State shape: (4,), State type: <class 'numpy.ndarray'>\n",
            "State shape: (4,), State type: <class 'numpy.ndarray'>\n",
            "State shape: (4,), State type: <class 'numpy.ndarray'>\n",
            "State shape: (4,), State type: <class 'numpy.ndarray'>\n",
            "State shape: (4,), State type: <class 'numpy.ndarray'>\n",
            "State shape: (4,), State type: <class 'numpy.ndarray'>\n",
            "State shape: (4,), State type: <class 'numpy.ndarray'>\n",
            "State shape: (4,), State type: <class 'numpy.ndarray'>\n",
            "State shape: (4,), State type: <class 'numpy.ndarray'>\n",
            "State shape: (4,), State type: <class 'numpy.ndarray'>\n",
            "State shape: (4,), State type: <class 'numpy.ndarray'>\n",
            "State shape: (4,), State type: <class 'numpy.ndarray'>\n",
            "State shape: (4,), State type: <class 'numpy.ndarray'>\n",
            "State shape: (4,), State type: <class 'numpy.ndarray'>\n",
            "State shape: (4,), State type: <class 'numpy.ndarray'>\n",
            "State shape: (4,), State type: <class 'numpy.ndarray'>\n",
            "State shape: (4,), State type: <class 'numpy.ndarray'>\n",
            "State shape: (4,), State type: <class 'numpy.ndarray'>\n",
            "State shape: (4,), State type: <class 'numpy.ndarray'>\n",
            "State shape: (4,), State type: <class 'numpy.ndarray'>\n",
            "State shape: (4,), State type: <class 'numpy.ndarray'>\n",
            "State shape: (4,), State type: <class 'numpy.ndarray'>\n",
            "State shape: (4,), State type: <class 'numpy.ndarray'>\n",
            "State shape: (4,), State type: <class 'numpy.ndarray'>\n",
            "State shape: (4,), State type: <class 'numpy.ndarray'>\n",
            "State shape: (4,), State type: <class 'numpy.ndarray'>\n",
            "State shape: (4,), State type: <class 'numpy.ndarray'>\n",
            "State shape: (4,), State type: <class 'numpy.ndarray'>\n",
            "State shape: (4,), State type: <class 'numpy.ndarray'>\n",
            "State shape: (4,), State type: <class 'numpy.ndarray'>\n",
            "State shape: (4,), State type: <class 'numpy.ndarray'>\n",
            "State shape: (4,), State type: <class 'numpy.ndarray'>\n",
            "State shape: (4,), State type: <class 'numpy.ndarray'>\n",
            "State shape: (4,), State type: <class 'numpy.ndarray'>\n",
            "State shape: (4,), State type: <class 'numpy.ndarray'>\n",
            "State shape: (4,), State type: <class 'numpy.ndarray'>\n",
            "State shape: (4,), State type: <class 'numpy.ndarray'>\n",
            "State shape: (4,), State type: <class 'numpy.ndarray'>\n",
            "State shape: (4,), State type: <class 'numpy.ndarray'>\n",
            "State shape: (4,), State type: <class 'numpy.ndarray'>\n",
            "State shape: (4,), State type: <class 'numpy.ndarray'>\n",
            "State shape: (4,), State type: <class 'numpy.ndarray'>\n",
            "State shape: (4,), State type: <class 'numpy.ndarray'>\n",
            "State shape: (4,), State type: <class 'numpy.ndarray'>\n",
            "State shape: (4,), State type: <class 'numpy.ndarray'>\n",
            "State shape: (4,), State type: <class 'numpy.ndarray'>\n",
            "State shape: (4,), State type: <class 'numpy.ndarray'>\n",
            "State shape: (4,), State type: <class 'numpy.ndarray'>\n",
            "State shape: (4,), State type: <class 'numpy.ndarray'>\n",
            "State shape: (4,), State type: <class 'numpy.ndarray'>\n",
            "State shape: (4,), State type: <class 'numpy.ndarray'>\n",
            "State shape: (4,), State type: <class 'numpy.ndarray'>\n",
            "State shape: (4,), State type: <class 'numpy.ndarray'>\n",
            "State shape: (4,), State type: <class 'numpy.ndarray'>\n",
            "State shape: (4,), State type: <class 'numpy.ndarray'>\n",
            "State shape: (4,), State type: <class 'numpy.ndarray'>\n",
            "State shape: (4,), State type: <class 'numpy.ndarray'>\n",
            "State shape: (4,), State type: <class 'numpy.ndarray'>\n",
            "State shape: (4,), State type: <class 'numpy.ndarray'>\n",
            "State shape: (4,), State type: <class 'numpy.ndarray'>\n",
            "State shape: (4,), State type: <class 'numpy.ndarray'>\n",
            "State shape: (4,), State type: <class 'numpy.ndarray'>\n",
            "State shape: (4,), State type: <class 'numpy.ndarray'>\n",
            "State shape: (4,), State type: <class 'numpy.ndarray'>\n",
            "State shape: (4,), State type: <class 'numpy.ndarray'>\n",
            "State shape: (4,), State type: <class 'numpy.ndarray'>\n",
            "State shape: (4,), State type: <class 'numpy.ndarray'>\n",
            "State shape: (4,), State type: <class 'numpy.ndarray'>\n",
            "State shape: (4,), State type: <class 'numpy.ndarray'>\n",
            "State shape: (4,), State type: <class 'numpy.ndarray'>\n",
            "State shape: (4,), State type: <class 'numpy.ndarray'>\n",
            "State shape: (4,), State type: <class 'numpy.ndarray'>\n",
            "State shape: (4,), State type: <class 'numpy.ndarray'>\n",
            "State shape: (4,), State type: <class 'numpy.ndarray'>\n",
            "State shape: (4,), State type: <class 'numpy.ndarray'>\n",
            "State shape: (4,), State type: <class 'numpy.ndarray'>\n",
            "State shape: (4,), State type: <class 'numpy.ndarray'>\n",
            "State shape: (4,), State type: <class 'numpy.ndarray'>\n",
            "State shape: (4,), State type: <class 'numpy.ndarray'>\n",
            "State shape: (4,), State type: <class 'numpy.ndarray'>\n",
            "State shape: (4,), State type: <class 'numpy.ndarray'>\n",
            "State shape: (4,), State type: <class 'numpy.ndarray'>\n",
            "State shape: (4,), State type: <class 'numpy.ndarray'>\n",
            "State shape: (4,), State type: <class 'numpy.ndarray'>\n",
            "State shape: (4,), State type: <class 'numpy.ndarray'>\n",
            "State shape: (4,), State type: <class 'numpy.ndarray'>\n",
            "State shape: (4,), State type: <class 'numpy.ndarray'>\n",
            "State shape: (4,), State type: <class 'numpy.ndarray'>\n",
            "State shape: (4,), State type: <class 'numpy.ndarray'>\n",
            "State shape: (4,), State type: <class 'numpy.ndarray'>\n",
            "State shape: (4,), State type: <class 'numpy.ndarray'>\n",
            "State shape: (4,), State type: <class 'numpy.ndarray'>\n",
            "State shape: (4,), State type: <class 'numpy.ndarray'>\n",
            "State shape: (4,), State type: <class 'numpy.ndarray'>\n",
            "State shape: (4,), State type: <class 'numpy.ndarray'>\n",
            "State shape: (4,), State type: <class 'numpy.ndarray'>\n",
            "State shape: (4,), State type: <class 'numpy.ndarray'>\n",
            "State shape: (4,), State type: <class 'numpy.ndarray'>\n",
            "State shape: (4,), State type: <class 'numpy.ndarray'>\n",
            "State shape: (4,), State type: <class 'numpy.ndarray'>\n",
            "State shape: (4,), State type: <class 'numpy.ndarray'>\n",
            "State shape: (4,), State type: <class 'numpy.ndarray'>\n",
            "State shape: (4,), State type: <class 'numpy.ndarray'>\n",
            "State shape: (4,), State type: <class 'numpy.ndarray'>\n",
            "State shape: (4,), State type: <class 'numpy.ndarray'>\n",
            "State shape: (4,), State type: <class 'numpy.ndarray'>\n",
            "State shape: (4,), State type: <class 'numpy.ndarray'>\n",
            "State shape: (4,), State type: <class 'numpy.ndarray'>\n",
            "State shape: (4,), State type: <class 'numpy.ndarray'>\n",
            "State shape: (4,), State type: <class 'numpy.ndarray'>\n",
            "State shape: (4,), State type: <class 'numpy.ndarray'>\n",
            "State shape: (4,), State type: <class 'numpy.ndarray'>\n",
            "State shape: (4,), State type: <class 'numpy.ndarray'>\n",
            "State shape: (4,), State type: <class 'numpy.ndarray'>\n",
            "State shape: (4,), State type: <class 'numpy.ndarray'>\n",
            "State shape: (4,), State type: <class 'numpy.ndarray'>\n",
            "State shape: (4,), State type: <class 'numpy.ndarray'>\n",
            "State shape: (4,), State type: <class 'numpy.ndarray'>\n",
            "State shape: (4,), State type: <class 'numpy.ndarray'>\n",
            "State shape: (4,), State type: <class 'numpy.ndarray'>\n",
            "State shape: (4,), State type: <class 'numpy.ndarray'>\n",
            "State shape: (4,), State type: <class 'numpy.ndarray'>\n",
            "State shape: (4,), State type: <class 'numpy.ndarray'>\n",
            "State shape: (4,), State type: <class 'numpy.ndarray'>\n",
            "State shape: (4,), State type: <class 'numpy.ndarray'>\n",
            "State shape: (4,), State type: <class 'numpy.ndarray'>\n",
            "State shape: (4,), State type: <class 'numpy.ndarray'>\n",
            "State shape: (4,), State type: <class 'numpy.ndarray'>\n",
            "State shape: (4,), State type: <class 'numpy.ndarray'>\n",
            "State shape: (4,), State type: <class 'numpy.ndarray'>\n",
            "State shape: (4,), State type: <class 'numpy.ndarray'>\n",
            "State shape: (4,), State type: <class 'numpy.ndarray'>\n",
            "State shape: (4,), State type: <class 'numpy.ndarray'>\n",
            "State shape: (4,), State type: <class 'numpy.ndarray'>\n",
            "State shape: (4,), State type: <class 'numpy.ndarray'>\n",
            "State shape: (4,), State type: <class 'numpy.ndarray'>\n",
            "State shape: (4,), State type: <class 'numpy.ndarray'>\n",
            "State shape: (4,), State type: <class 'numpy.ndarray'>\n",
            "State shape: (4,), State type: <class 'numpy.ndarray'>\n",
            "State shape: (4,), State type: <class 'numpy.ndarray'>\n",
            "State shape: (4,), State type: <class 'numpy.ndarray'>\n",
            "State shape: (4,), State type: <class 'numpy.ndarray'>\n",
            "State shape: (4,), State type: <class 'numpy.ndarray'>\n",
            "State shape: (4,), State type: <class 'numpy.ndarray'>\n",
            "State shape: (4,), State type: <class 'numpy.ndarray'>\n",
            "State shape: (4,), State type: <class 'numpy.ndarray'>\n",
            "State shape: (4,), State type: <class 'numpy.ndarray'>\n",
            "State shape: (4,), State type: <class 'numpy.ndarray'>\n",
            "State shape: (4,), State type: <class 'numpy.ndarray'>\n",
            "State shape: (4,), State type: <class 'numpy.ndarray'>\n",
            "State shape: (4,), State type: <class 'numpy.ndarray'>\n",
            "State shape: (4,), State type: <class 'numpy.ndarray'>\n",
            "State shape: (4,), State type: <class 'numpy.ndarray'>\n",
            "State shape: (4,), State type: <class 'numpy.ndarray'>\n",
            "State shape: (4,), State type: <class 'numpy.ndarray'>\n",
            "State shape: (4,), State type: <class 'numpy.ndarray'>\n",
            "State shape: (4,), State type: <class 'numpy.ndarray'>\n",
            "State shape: (4,), State type: <class 'numpy.ndarray'>\n",
            "State shape: (4,), State type: <class 'numpy.ndarray'>\n",
            "State shape: (4,), State type: <class 'numpy.ndarray'>\n",
            "State shape: (4,), State type: <class 'numpy.ndarray'>\n",
            "State shape: (4,), State type: <class 'numpy.ndarray'>\n",
            "State shape: (4,), State type: <class 'numpy.ndarray'>\n",
            "State shape: (4,), State type: <class 'numpy.ndarray'>\n",
            "State shape: (4,), State type: <class 'numpy.ndarray'>\n",
            "State shape: (4,), State type: <class 'numpy.ndarray'>\n",
            "State shape: (4,), State type: <class 'numpy.ndarray'>\n",
            "State shape: (4,), State type: <class 'numpy.ndarray'>\n",
            "State shape: (4,), State type: <class 'numpy.ndarray'>\n",
            "State shape: (4,), State type: <class 'numpy.ndarray'>\n",
            "State shape: (4,), State type: <class 'numpy.ndarray'>\n",
            "State shape: (4,), State type: <class 'numpy.ndarray'>\n",
            "State shape: (4,), State type: <class 'numpy.ndarray'>\n",
            "State shape: (4,), State type: <class 'numpy.ndarray'>\n",
            "State shape: (4,), State type: <class 'numpy.ndarray'>\n",
            "State shape: (4,), State type: <class 'numpy.ndarray'>\n",
            "State shape: (4,), State type: <class 'numpy.ndarray'>\n",
            "State shape: (4,), State type: <class 'numpy.ndarray'>\n",
            "State shape: (4,), State type: <class 'numpy.ndarray'>\n",
            "State shape: (4,), State type: <class 'numpy.ndarray'>\n",
            "State shape: (4,), State type: <class 'numpy.ndarray'>\n",
            "State shape: (4,), State type: <class 'numpy.ndarray'>\n",
            "State shape: (4,), State type: <class 'numpy.ndarray'>\n",
            "State shape: (4,), State type: <class 'numpy.ndarray'>\n",
            "State shape: (4,), State type: <class 'numpy.ndarray'>\n",
            "State shape: (4,), State type: <class 'numpy.ndarray'>\n",
            "State shape: (4,), State type: <class 'numpy.ndarray'>\n",
            "State shape: (4,), State type: <class 'numpy.ndarray'>\n",
            "State shape: (4,), State type: <class 'numpy.ndarray'>\n",
            "State shape: (4,), State type: <class 'numpy.ndarray'>\n",
            "State shape: (4,), State type: <class 'numpy.ndarray'>\n",
            "State shape: (4,), State type: <class 'numpy.ndarray'>\n",
            "State shape: (4,), State type: <class 'numpy.ndarray'>\n",
            "State shape: (4,), State type: <class 'numpy.ndarray'>\n",
            "State shape: (4,), State type: <class 'numpy.ndarray'>\n",
            "State shape: (4,), State type: <class 'numpy.ndarray'>\n",
            "State shape: (4,), State type: <class 'numpy.ndarray'>\n",
            "State shape: (4,), State type: <class 'numpy.ndarray'>\n",
            "State shape: (4,), State type: <class 'numpy.ndarray'>\n",
            "State shape: (4,), State type: <class 'numpy.ndarray'>\n",
            "State shape: (4,), State type: <class 'numpy.ndarray'>\n",
            "State shape: (4,), State type: <class 'numpy.ndarray'>\n",
            "State shape: (4,), State type: <class 'numpy.ndarray'>\n",
            "State shape: (4,), State type: <class 'numpy.ndarray'>\n",
            "State shape: (4,), State type: <class 'numpy.ndarray'>\n",
            "State shape: (4,), State type: <class 'numpy.ndarray'>\n",
            "State shape: (4,), State type: <class 'numpy.ndarray'>\n",
            "State shape: (4,), State type: <class 'numpy.ndarray'>\n",
            "State shape: (4,), State type: <class 'numpy.ndarray'>\n",
            "State shape: (4,), State type: <class 'numpy.ndarray'>\n",
            "State shape: (4,), State type: <class 'numpy.ndarray'>\n",
            "State shape: (4,), State type: <class 'numpy.ndarray'>\n",
            "State shape: (4,), State type: <class 'numpy.ndarray'>\n",
            "State shape: (4,), State type: <class 'numpy.ndarray'>\n",
            "State shape: (4,), State type: <class 'numpy.ndarray'>\n",
            "State shape: (4,), State type: <class 'numpy.ndarray'>\n",
            "State shape: (4,), State type: <class 'numpy.ndarray'>\n",
            "State shape: (4,), State type: <class 'numpy.ndarray'>\n",
            "State shape: (4,), State type: <class 'numpy.ndarray'>\n",
            "State shape: (4,), State type: <class 'numpy.ndarray'>\n",
            "State shape: (4,), State type: <class 'numpy.ndarray'>\n",
            "State shape: (4,), State type: <class 'numpy.ndarray'>\n",
            "State shape: (4,), State type: <class 'numpy.ndarray'>\n",
            "State shape: (4,), State type: <class 'numpy.ndarray'>\n",
            "State shape: (4,), State type: <class 'numpy.ndarray'>\n",
            "State shape: (4,), State type: <class 'numpy.ndarray'>\n",
            "State shape: (4,), State type: <class 'numpy.ndarray'>\n",
            "State shape: (4,), State type: <class 'numpy.ndarray'>\n",
            "State shape: (4,), State type: <class 'numpy.ndarray'>\n",
            "State shape: (4,), State type: <class 'numpy.ndarray'>\n",
            "State shape: (4,), State type: <class 'numpy.ndarray'>\n",
            "State shape: (4,), State type: <class 'numpy.ndarray'>\n",
            "State shape: (4,), State type: <class 'numpy.ndarray'>\n",
            "State shape: (4,), State type: <class 'numpy.ndarray'>\n",
            "State shape: (4,), State type: <class 'numpy.ndarray'>\n",
            "State shape: (4,), State type: <class 'numpy.ndarray'>\n",
            "State shape: (4,), State type: <class 'numpy.ndarray'>\n",
            "State shape: (4,), State type: <class 'numpy.ndarray'>\n",
            "State shape: (4,), State type: <class 'numpy.ndarray'>\n",
            "State shape: (4,), State type: <class 'numpy.ndarray'>\n",
            "State shape: (4,), State type: <class 'numpy.ndarray'>\n",
            "State shape: (4,), State type: <class 'numpy.ndarray'>\n",
            "State shape: (4,), State type: <class 'numpy.ndarray'>\n",
            "State shape: (4,), State type: <class 'numpy.ndarray'>\n",
            "State shape: (4,), State type: <class 'numpy.ndarray'>\n",
            "State shape: (4,), State type: <class 'numpy.ndarray'>\n",
            "State shape: (4,), State type: <class 'numpy.ndarray'>\n",
            "State shape: (4,), State type: <class 'numpy.ndarray'>\n",
            "State shape: (4,), State type: <class 'numpy.ndarray'>\n",
            "State shape: (4,), State type: <class 'numpy.ndarray'>\n",
            "State shape: (4,), State type: <class 'numpy.ndarray'>\n",
            "State shape: (4,), State type: <class 'numpy.ndarray'>\n",
            "State shape: (4,), State type: <class 'numpy.ndarray'>\n",
            "State shape: (4,), State type: <class 'numpy.ndarray'>\n",
            "State shape: (4,), State type: <class 'numpy.ndarray'>\n",
            "State shape: (4,), State type: <class 'numpy.ndarray'>\n",
            "State shape: (4,), State type: <class 'numpy.ndarray'>\n",
            "State shape: (4,), State type: <class 'numpy.ndarray'>\n",
            "State shape: (4,), State type: <class 'numpy.ndarray'>\n",
            "State shape: (4,), State type: <class 'numpy.ndarray'>\n",
            "State shape: (4,), State type: <class 'numpy.ndarray'>\n",
            "State shape: (4,), State type: <class 'numpy.ndarray'>\n",
            "State shape: (4,), State type: <class 'numpy.ndarray'>\n",
            "State shape: (4,), State type: <class 'numpy.ndarray'>\n",
            "State shape: (4,), State type: <class 'numpy.ndarray'>\n",
            "State shape: (4,), State type: <class 'numpy.ndarray'>\n",
            "State shape: (4,), State type: <class 'numpy.ndarray'>\n",
            "State shape: (4,), State type: <class 'numpy.ndarray'>\n",
            "State shape: (4,), State type: <class 'numpy.ndarray'>\n",
            "State shape: (4,), State type: <class 'numpy.ndarray'>\n",
            "State shape: (4,), State type: <class 'numpy.ndarray'>\n",
            "State shape: (4,), State type: <class 'numpy.ndarray'>\n",
            "State shape: (4,), State type: <class 'numpy.ndarray'>\n",
            "State shape: (4,), State type: <class 'numpy.ndarray'>\n",
            "State shape: (4,), State type: <class 'numpy.ndarray'>\n",
            "State shape: (4,), State type: <class 'numpy.ndarray'>\n",
            "State shape: (4,), State type: <class 'numpy.ndarray'>\n",
            "State shape: (4,), State type: <class 'numpy.ndarray'>\n",
            "State shape: (4,), State type: <class 'numpy.ndarray'>\n",
            "State shape: (4,), State type: <class 'numpy.ndarray'>\n",
            "State shape: (4,), State type: <class 'numpy.ndarray'>\n",
            "State shape: (4,), State type: <class 'numpy.ndarray'>\n",
            "State shape: (4,), State type: <class 'numpy.ndarray'>\n",
            "State shape: (4,), State type: <class 'numpy.ndarray'>\n",
            "State shape: (4,), State type: <class 'numpy.ndarray'>\n",
            "State shape: (4,), State type: <class 'numpy.ndarray'>\n",
            "State shape: (4,), State type: <class 'numpy.ndarray'>\n",
            "State shape: (4,), State type: <class 'numpy.ndarray'>\n",
            "State shape: (4,), State type: <class 'numpy.ndarray'>\n",
            "State shape: (4,), State type: <class 'numpy.ndarray'>\n",
            "State shape: (4,), State type: <class 'numpy.ndarray'>\n",
            "State shape: (4,), State type: <class 'numpy.ndarray'>\n",
            "State shape: (4,), State type: <class 'numpy.ndarray'>\n",
            "State shape: (4,), State type: <class 'numpy.ndarray'>\n",
            "State shape: (4,), State type: <class 'numpy.ndarray'>\n",
            "State shape: (4,), State type: <class 'numpy.ndarray'>\n",
            "State shape: (4,), State type: <class 'numpy.ndarray'>\n",
            "State shape: (4,), State type: <class 'numpy.ndarray'>\n",
            "State shape: (4,), State type: <class 'numpy.ndarray'>\n",
            "State shape: (4,), State type: <class 'numpy.ndarray'>\n",
            "State shape: (4,), State type: <class 'numpy.ndarray'>\n",
            "State shape: (4,), State type: <class 'numpy.ndarray'>\n",
            "State shape: (4,), State type: <class 'numpy.ndarray'>\n",
            "State shape: (4,), State type: <class 'numpy.ndarray'>\n",
            "State shape: (4,), State type: <class 'numpy.ndarray'>\n",
            "State shape: (4,), State type: <class 'numpy.ndarray'>\n",
            "State shape: (4,), State type: <class 'numpy.ndarray'>\n",
            "State shape: (4,), State type: <class 'numpy.ndarray'>\n",
            "State shape: (4,), State type: <class 'numpy.ndarray'>\n",
            "State shape: (4,), State type: <class 'numpy.ndarray'>\n",
            "State shape: (4,), State type: <class 'numpy.ndarray'>\n",
            "State shape: (4,), State type: <class 'numpy.ndarray'>\n",
            "State shape: (4,), State type: <class 'numpy.ndarray'>\n",
            "State shape: (4,), State type: <class 'numpy.ndarray'>\n",
            "State shape: (4,), State type: <class 'numpy.ndarray'>\n",
            "State shape: (4,), State type: <class 'numpy.ndarray'>\n",
            "State shape: (4,), State type: <class 'numpy.ndarray'>\n",
            "State shape: (4,), State type: <class 'numpy.ndarray'>\n",
            "State shape: (4,), State type: <class 'numpy.ndarray'>\n",
            "State shape: (4,), State type: <class 'numpy.ndarray'>\n",
            "State shape: (4,), State type: <class 'numpy.ndarray'>\n",
            "State shape: (4,), State type: <class 'numpy.ndarray'>\n",
            "State shape: (4,), State type: <class 'numpy.ndarray'>\n",
            "State shape: (4,), State type: <class 'numpy.ndarray'>\n",
            "State shape: (4,), State type: <class 'numpy.ndarray'>\n",
            "State shape: (4,), State type: <class 'numpy.ndarray'>\n",
            "State shape: (4,), State type: <class 'numpy.ndarray'>\n",
            "State shape: (4,), State type: <class 'numpy.ndarray'>\n",
            "State shape: (4,), State type: <class 'numpy.ndarray'>\n",
            "State shape: (4,), State type: <class 'numpy.ndarray'>\n",
            "State shape: (4,), State type: <class 'numpy.ndarray'>\n",
            "State shape: (4,), State type: <class 'numpy.ndarray'>\n",
            "State shape: (4,), State type: <class 'numpy.ndarray'>\n",
            "State shape: (4,), State type: <class 'numpy.ndarray'>\n",
            "State shape: (4,), State type: <class 'numpy.ndarray'>\n",
            "State shape: (4,), State type: <class 'numpy.ndarray'>\n",
            "State shape: (4,), State type: <class 'numpy.ndarray'>\n",
            "State shape: (4,), State type: <class 'numpy.ndarray'>\n",
            "State shape: (4,), State type: <class 'numpy.ndarray'>\n",
            "State shape: (4,), State type: <class 'numpy.ndarray'>\n",
            "State shape: (4,), State type: <class 'numpy.ndarray'>\n",
            "State shape: (4,), State type: <class 'numpy.ndarray'>\n",
            "State shape: (4,), State type: <class 'numpy.ndarray'>\n",
            "State shape: (4,), State type: <class 'numpy.ndarray'>\n",
            "State shape: (4,), State type: <class 'numpy.ndarray'>\n",
            "State shape: (4,), State type: <class 'numpy.ndarray'>\n",
            "State shape: (4,), State type: <class 'numpy.ndarray'>\n",
            "State shape: (4,), State type: <class 'numpy.ndarray'>\n",
            "State shape: (4,), State type: <class 'numpy.ndarray'>\n",
            "State shape: (4,), State type: <class 'numpy.ndarray'>\n",
            "State shape: (4,), State type: <class 'numpy.ndarray'>\n",
            "State shape: (4,), State type: <class 'numpy.ndarray'>\n",
            "State shape: (4,), State type: <class 'numpy.ndarray'>\n",
            "State shape: (4,), State type: <class 'numpy.ndarray'>\n",
            "State shape: (4,), State type: <class 'numpy.ndarray'>\n",
            "State shape: (4,), State type: <class 'numpy.ndarray'>\n",
            "State shape: (4,), State type: <class 'numpy.ndarray'>\n",
            "State shape: (4,), State type: <class 'numpy.ndarray'>\n",
            "State shape: (4,), State type: <class 'numpy.ndarray'>\n",
            "State shape: (4,), State type: <class 'numpy.ndarray'>\n",
            "State shape: (4,), State type: <class 'numpy.ndarray'>\n",
            "State shape: (4,), State type: <class 'numpy.ndarray'>\n",
            "State shape: (4,), State type: <class 'numpy.ndarray'>\n",
            "State shape: (4,), State type: <class 'numpy.ndarray'>\n",
            "State shape: (4,), State type: <class 'numpy.ndarray'>\n",
            "State shape: (4,), State type: <class 'numpy.ndarray'>\n",
            "State shape: (4,), State type: <class 'numpy.ndarray'>\n",
            "State shape: (4,), State type: <class 'numpy.ndarray'>\n",
            "State shape: (4,), State type: <class 'numpy.ndarray'>\n",
            "State shape: (4,), State type: <class 'numpy.ndarray'>\n",
            "State shape: (4,), State type: <class 'numpy.ndarray'>\n",
            "State shape: (4,), State type: <class 'numpy.ndarray'>\n",
            "State shape: (4,), State type: <class 'numpy.ndarray'>\n",
            "State shape: (4,), State type: <class 'numpy.ndarray'>\n",
            "State shape: (4,), State type: <class 'numpy.ndarray'>\n",
            "State shape: (4,), State type: <class 'numpy.ndarray'>\n",
            "State shape: (4,), State type: <class 'numpy.ndarray'>\n",
            "State shape: (4,), State type: <class 'numpy.ndarray'>\n",
            "State shape: (4,), State type: <class 'numpy.ndarray'>\n",
            "State shape: (4,), State type: <class 'numpy.ndarray'>\n",
            "State shape: (4,), State type: <class 'numpy.ndarray'>\n",
            "State shape: (4,), State type: <class 'numpy.ndarray'>\n",
            "State shape: (4,), State type: <class 'numpy.ndarray'>\n",
            "State shape: (4,), State type: <class 'numpy.ndarray'>\n",
            "State shape: (4,), State type: <class 'numpy.ndarray'>\n",
            "State shape: (4,), State type: <class 'numpy.ndarray'>\n",
            "State shape: (4,), State type: <class 'numpy.ndarray'>\n",
            "State shape: (4,), State type: <class 'numpy.ndarray'>\n",
            "State shape: (4,), State type: <class 'numpy.ndarray'>\n",
            "State shape: (4,), State type: <class 'numpy.ndarray'>\n",
            "State shape: (4,), State type: <class 'numpy.ndarray'>\n",
            "State shape: (4,), State type: <class 'numpy.ndarray'>\n",
            "State shape: (4,), State type: <class 'numpy.ndarray'>\n",
            "State shape: (4,), State type: <class 'numpy.ndarray'>\n",
            "State shape: (4,), State type: <class 'numpy.ndarray'>\n",
            "State shape: (4,), State type: <class 'numpy.ndarray'>\n",
            "State shape: (4,), State type: <class 'numpy.ndarray'>\n",
            "State shape: (4,), State type: <class 'numpy.ndarray'>\n",
            "State shape: (4,), State type: <class 'numpy.ndarray'>\n",
            "State shape: (4,), State type: <class 'numpy.ndarray'>\n",
            "State shape: (4,), State type: <class 'numpy.ndarray'>\n",
            "State shape: (4,), State type: <class 'numpy.ndarray'>\n",
            "State shape: (4,), State type: <class 'numpy.ndarray'>\n",
            "State shape: (4,), State type: <class 'numpy.ndarray'>\n",
            "State shape: (4,), State type: <class 'numpy.ndarray'>\n",
            "State shape: (4,), State type: <class 'numpy.ndarray'>\n",
            "State shape: (4,), State type: <class 'numpy.ndarray'>\n",
            "State shape: (4,), State type: <class 'numpy.ndarray'>\n",
            "State shape: (4,), State type: <class 'numpy.ndarray'>\n",
            "State shape: (4,), State type: <class 'numpy.ndarray'>\n",
            "State shape: (4,), State type: <class 'numpy.ndarray'>\n",
            "State shape: (4,), State type: <class 'numpy.ndarray'>\n",
            "State shape: (4,), State type: <class 'numpy.ndarray'>\n",
            "State shape: (4,), State type: <class 'numpy.ndarray'>\n",
            "State shape: (4,), State type: <class 'numpy.ndarray'>\n",
            "State shape: (4,), State type: <class 'numpy.ndarray'>\n",
            "State shape: (4,), State type: <class 'numpy.ndarray'>\n",
            "State shape: (4,), State type: <class 'numpy.ndarray'>\n",
            "State shape: (4,), State type: <class 'numpy.ndarray'>\n",
            "State shape: (4,), State type: <class 'numpy.ndarray'>\n",
            "State shape: (4,), State type: <class 'numpy.ndarray'>\n",
            "State shape: (4,), State type: <class 'numpy.ndarray'>\n",
            "State shape: (4,), State type: <class 'numpy.ndarray'>\n",
            "State shape: (4,), State type: <class 'numpy.ndarray'>\n",
            "State shape: (4,), State type: <class 'numpy.ndarray'>\n",
            "State shape: (4,), State type: <class 'numpy.ndarray'>\n",
            "State shape: (4,), State type: <class 'numpy.ndarray'>\n",
            "State shape: (4,), State type: <class 'numpy.ndarray'>\n",
            "State shape: (4,), State type: <class 'numpy.ndarray'>\n",
            "State shape: (4,), State type: <class 'numpy.ndarray'>\n",
            "State shape: (4,), State type: <class 'numpy.ndarray'>\n",
            "State shape: (4,), State type: <class 'numpy.ndarray'>\n",
            "State shape: (4,), State type: <class 'numpy.ndarray'>\n",
            "State shape: (4,), State type: <class 'numpy.ndarray'>\n",
            "State shape: (4,), State type: <class 'numpy.ndarray'>\n",
            "State shape: (4,), State type: <class 'numpy.ndarray'>\n",
            "State shape: (4,), State type: <class 'numpy.ndarray'>\n",
            "State shape: (4,), State type: <class 'numpy.ndarray'>\n",
            "State shape: (4,), State type: <class 'numpy.ndarray'>\n",
            "State shape: (4,), State type: <class 'numpy.ndarray'>\n",
            "State shape: (4,), State type: <class 'numpy.ndarray'>\n",
            "State shape: (4,), State type: <class 'numpy.ndarray'>\n",
            "State shape: (4,), State type: <class 'numpy.ndarray'>\n",
            "State shape: (4,), State type: <class 'numpy.ndarray'>\n",
            "State shape: (4,), State type: <class 'numpy.ndarray'>\n",
            "State shape: (4,), State type: <class 'numpy.ndarray'>\n",
            "State shape: (4,), State type: <class 'numpy.ndarray'>\n",
            "State shape: (4,), State type: <class 'numpy.ndarray'>\n",
            "State shape: (4,), State type: <class 'numpy.ndarray'>\n",
            "State shape: (4,), State type: <class 'numpy.ndarray'>\n",
            "State shape: (4,), State type: <class 'numpy.ndarray'>\n",
            "State shape: (4,), State type: <class 'numpy.ndarray'>\n",
            "State shape: (4,), State type: <class 'numpy.ndarray'>\n",
            "State shape: (4,), State type: <class 'numpy.ndarray'>\n",
            "State shape: (4,), State type: <class 'numpy.ndarray'>\n",
            "State shape: (4,), State type: <class 'numpy.ndarray'>\n",
            "State shape: (4,), State type: <class 'numpy.ndarray'>\n",
            "State shape: (4,), State type: <class 'numpy.ndarray'>\n",
            "State shape: (4,), State type: <class 'numpy.ndarray'>\n",
            "State shape: (4,), State type: <class 'numpy.ndarray'>\n",
            "State shape: (4,), State type: <class 'numpy.ndarray'>\n",
            "State shape: (4,), State type: <class 'numpy.ndarray'>\n",
            "State shape: (4,), State type: <class 'numpy.ndarray'>\n",
            "State shape: (4,), State type: <class 'numpy.ndarray'>\n",
            "State shape: (4,), State type: <class 'numpy.ndarray'>\n",
            "State shape: (4,), State type: <class 'numpy.ndarray'>\n",
            "State shape: (4,), State type: <class 'numpy.ndarray'>\n",
            "State shape: (4,), State type: <class 'numpy.ndarray'>\n",
            "State shape: (4,), State type: <class 'numpy.ndarray'>\n",
            "State shape: (4,), State type: <class 'numpy.ndarray'>\n",
            "State shape: (4,), State type: <class 'numpy.ndarray'>\n",
            "State shape: (4,), State type: <class 'numpy.ndarray'>\n",
            "State shape: (4,), State type: <class 'numpy.ndarray'>\n",
            "State shape: (4,), State type: <class 'numpy.ndarray'>\n",
            "State shape: (4,), State type: <class 'numpy.ndarray'>\n",
            "State shape: (4,), State type: <class 'numpy.ndarray'>\n",
            "State shape: (4,), State type: <class 'numpy.ndarray'>\n",
            "State shape: (4,), State type: <class 'numpy.ndarray'>\n",
            "State shape: (4,), State type: <class 'numpy.ndarray'>\n",
            "State shape: (4,), State type: <class 'numpy.ndarray'>\n",
            "State shape: (4,), State type: <class 'numpy.ndarray'>\n",
            "State shape: (4,), State type: <class 'numpy.ndarray'>\n",
            "State shape: (4,), State type: <class 'numpy.ndarray'>\n",
            "State shape: (4,), State type: <class 'numpy.ndarray'>\n",
            "State shape: (4,), State type: <class 'numpy.ndarray'>\n",
            "State shape: (4,), State type: <class 'numpy.ndarray'>\n",
            "State shape: (4,), State type: <class 'numpy.ndarray'>\n",
            "State shape: (4,), State type: <class 'numpy.ndarray'>\n",
            "State shape: (4,), State type: <class 'numpy.ndarray'>\n",
            "State shape: (4,), State type: <class 'numpy.ndarray'>\n",
            "State shape: (4,), State type: <class 'numpy.ndarray'>\n",
            "State shape: (4,), State type: <class 'numpy.ndarray'>\n",
            "State shape: (4,), State type: <class 'numpy.ndarray'>\n",
            "State shape: (4,), State type: <class 'numpy.ndarray'>\n",
            "State shape: (4,), State type: <class 'numpy.ndarray'>\n",
            "State shape: (4,), State type: <class 'numpy.ndarray'>\n",
            "State shape: (4,), State type: <class 'numpy.ndarray'>\n",
            "State shape: (4,), State type: <class 'numpy.ndarray'>\n",
            "State shape: (4,), State type: <class 'numpy.ndarray'>\n",
            "State shape: (4,), State type: <class 'numpy.ndarray'>\n",
            "Episode 1 Reward: 500.0\n",
            "State shape: (4,), State type: <class 'numpy.ndarray'>\n",
            "State shape: (4,), State type: <class 'numpy.ndarray'>\n",
            "State shape: (4,), State type: <class 'numpy.ndarray'>\n",
            "State shape: (4,), State type: <class 'numpy.ndarray'>\n",
            "State shape: (4,), State type: <class 'numpy.ndarray'>\n",
            "State shape: (4,), State type: <class 'numpy.ndarray'>\n",
            "State shape: (4,), State type: <class 'numpy.ndarray'>\n",
            "State shape: (4,), State type: <class 'numpy.ndarray'>\n",
            "State shape: (4,), State type: <class 'numpy.ndarray'>\n",
            "State shape: (4,), State type: <class 'numpy.ndarray'>\n",
            "State shape: (4,), State type: <class 'numpy.ndarray'>\n",
            "State shape: (4,), State type: <class 'numpy.ndarray'>\n",
            "State shape: (4,), State type: <class 'numpy.ndarray'>\n",
            "State shape: (4,), State type: <class 'numpy.ndarray'>\n",
            "State shape: (4,), State type: <class 'numpy.ndarray'>\n",
            "State shape: (4,), State type: <class 'numpy.ndarray'>\n",
            "State shape: (4,), State type: <class 'numpy.ndarray'>\n",
            "State shape: (4,), State type: <class 'numpy.ndarray'>\n",
            "State shape: (4,), State type: <class 'numpy.ndarray'>\n",
            "State shape: (4,), State type: <class 'numpy.ndarray'>\n",
            "State shape: (4,), State type: <class 'numpy.ndarray'>\n",
            "State shape: (4,), State type: <class 'numpy.ndarray'>\n",
            "State shape: (4,), State type: <class 'numpy.ndarray'>\n",
            "State shape: (4,), State type: <class 'numpy.ndarray'>\n",
            "State shape: (4,), State type: <class 'numpy.ndarray'>\n",
            "State shape: (4,), State type: <class 'numpy.ndarray'>\n",
            "State shape: (4,), State type: <class 'numpy.ndarray'>\n",
            "State shape: (4,), State type: <class 'numpy.ndarray'>\n",
            "State shape: (4,), State type: <class 'numpy.ndarray'>\n",
            "State shape: (4,), State type: <class 'numpy.ndarray'>\n",
            "State shape: (4,), State type: <class 'numpy.ndarray'>\n",
            "State shape: (4,), State type: <class 'numpy.ndarray'>\n",
            "State shape: (4,), State type: <class 'numpy.ndarray'>\n",
            "State shape: (4,), State type: <class 'numpy.ndarray'>\n",
            "State shape: (4,), State type: <class 'numpy.ndarray'>\n",
            "State shape: (4,), State type: <class 'numpy.ndarray'>\n",
            "State shape: (4,), State type: <class 'numpy.ndarray'>\n",
            "State shape: (4,), State type: <class 'numpy.ndarray'>\n",
            "State shape: (4,), State type: <class 'numpy.ndarray'>\n",
            "State shape: (4,), State type: <class 'numpy.ndarray'>\n",
            "State shape: (4,), State type: <class 'numpy.ndarray'>\n",
            "State shape: (4,), State type: <class 'numpy.ndarray'>\n",
            "State shape: (4,), State type: <class 'numpy.ndarray'>\n",
            "State shape: (4,), State type: <class 'numpy.ndarray'>\n",
            "State shape: (4,), State type: <class 'numpy.ndarray'>\n",
            "State shape: (4,), State type: <class 'numpy.ndarray'>\n",
            "State shape: (4,), State type: <class 'numpy.ndarray'>\n",
            "State shape: (4,), State type: <class 'numpy.ndarray'>\n",
            "State shape: (4,), State type: <class 'numpy.ndarray'>\n",
            "State shape: (4,), State type: <class 'numpy.ndarray'>\n",
            "State shape: (4,), State type: <class 'numpy.ndarray'>\n",
            "State shape: (4,), State type: <class 'numpy.ndarray'>\n",
            "State shape: (4,), State type: <class 'numpy.ndarray'>\n",
            "State shape: (4,), State type: <class 'numpy.ndarray'>\n",
            "State shape: (4,), State type: <class 'numpy.ndarray'>\n",
            "State shape: (4,), State type: <class 'numpy.ndarray'>\n",
            "State shape: (4,), State type: <class 'numpy.ndarray'>\n",
            "State shape: (4,), State type: <class 'numpy.ndarray'>\n",
            "State shape: (4,), State type: <class 'numpy.ndarray'>\n",
            "State shape: (4,), State type: <class 'numpy.ndarray'>\n",
            "State shape: (4,), State type: <class 'numpy.ndarray'>\n",
            "State shape: (4,), State type: <class 'numpy.ndarray'>\n",
            "State shape: (4,), State type: <class 'numpy.ndarray'>\n",
            "State shape: (4,), State type: <class 'numpy.ndarray'>\n",
            "State shape: (4,), State type: <class 'numpy.ndarray'>\n",
            "State shape: (4,), State type: <class 'numpy.ndarray'>\n",
            "State shape: (4,), State type: <class 'numpy.ndarray'>\n",
            "State shape: (4,), State type: <class 'numpy.ndarray'>\n",
            "State shape: (4,), State type: <class 'numpy.ndarray'>\n",
            "State shape: (4,), State type: <class 'numpy.ndarray'>\n",
            "State shape: (4,), State type: <class 'numpy.ndarray'>\n",
            "State shape: (4,), State type: <class 'numpy.ndarray'>\n",
            "State shape: (4,), State type: <class 'numpy.ndarray'>\n",
            "State shape: (4,), State type: <class 'numpy.ndarray'>\n",
            "State shape: (4,), State type: <class 'numpy.ndarray'>\n",
            "State shape: (4,), State type: <class 'numpy.ndarray'>\n",
            "State shape: (4,), State type: <class 'numpy.ndarray'>\n",
            "State shape: (4,), State type: <class 'numpy.ndarray'>\n",
            "State shape: (4,), State type: <class 'numpy.ndarray'>\n",
            "State shape: (4,), State type: <class 'numpy.ndarray'>\n",
            "State shape: (4,), State type: <class 'numpy.ndarray'>\n",
            "State shape: (4,), State type: <class 'numpy.ndarray'>\n",
            "State shape: (4,), State type: <class 'numpy.ndarray'>\n",
            "State shape: (4,), State type: <class 'numpy.ndarray'>\n",
            "State shape: (4,), State type: <class 'numpy.ndarray'>\n",
            "State shape: (4,), State type: <class 'numpy.ndarray'>\n",
            "State shape: (4,), State type: <class 'numpy.ndarray'>\n",
            "State shape: (4,), State type: <class 'numpy.ndarray'>\n",
            "State shape: (4,), State type: <class 'numpy.ndarray'>\n",
            "State shape: (4,), State type: <class 'numpy.ndarray'>\n",
            "State shape: (4,), State type: <class 'numpy.ndarray'>\n",
            "State shape: (4,), State type: <class 'numpy.ndarray'>\n",
            "State shape: (4,), State type: <class 'numpy.ndarray'>\n",
            "State shape: (4,), State type: <class 'numpy.ndarray'>\n",
            "State shape: (4,), State type: <class 'numpy.ndarray'>\n",
            "State shape: (4,), State type: <class 'numpy.ndarray'>\n",
            "State shape: (4,), State type: <class 'numpy.ndarray'>\n",
            "State shape: (4,), State type: <class 'numpy.ndarray'>\n",
            "State shape: (4,), State type: <class 'numpy.ndarray'>\n",
            "State shape: (4,), State type: <class 'numpy.ndarray'>\n",
            "State shape: (4,), State type: <class 'numpy.ndarray'>\n",
            "State shape: (4,), State type: <class 'numpy.ndarray'>\n",
            "State shape: (4,), State type: <class 'numpy.ndarray'>\n",
            "State shape: (4,), State type: <class 'numpy.ndarray'>\n",
            "State shape: (4,), State type: <class 'numpy.ndarray'>\n",
            "State shape: (4,), State type: <class 'numpy.ndarray'>\n",
            "State shape: (4,), State type: <class 'numpy.ndarray'>\n",
            "State shape: (4,), State type: <class 'numpy.ndarray'>\n",
            "State shape: (4,), State type: <class 'numpy.ndarray'>\n",
            "State shape: (4,), State type: <class 'numpy.ndarray'>\n",
            "State shape: (4,), State type: <class 'numpy.ndarray'>\n",
            "State shape: (4,), State type: <class 'numpy.ndarray'>\n",
            "State shape: (4,), State type: <class 'numpy.ndarray'>\n",
            "State shape: (4,), State type: <class 'numpy.ndarray'>\n",
            "State shape: (4,), State type: <class 'numpy.ndarray'>\n",
            "State shape: (4,), State type: <class 'numpy.ndarray'>\n",
            "State shape: (4,), State type: <class 'numpy.ndarray'>\n",
            "State shape: (4,), State type: <class 'numpy.ndarray'>\n",
            "State shape: (4,), State type: <class 'numpy.ndarray'>\n",
            "State shape: (4,), State type: <class 'numpy.ndarray'>\n",
            "State shape: (4,), State type: <class 'numpy.ndarray'>\n",
            "State shape: (4,), State type: <class 'numpy.ndarray'>\n",
            "State shape: (4,), State type: <class 'numpy.ndarray'>\n",
            "State shape: (4,), State type: <class 'numpy.ndarray'>\n",
            "State shape: (4,), State type: <class 'numpy.ndarray'>\n",
            "State shape: (4,), State type: <class 'numpy.ndarray'>\n",
            "State shape: (4,), State type: <class 'numpy.ndarray'>\n",
            "State shape: (4,), State type: <class 'numpy.ndarray'>\n",
            "State shape: (4,), State type: <class 'numpy.ndarray'>\n",
            "State shape: (4,), State type: <class 'numpy.ndarray'>\n",
            "State shape: (4,), State type: <class 'numpy.ndarray'>\n",
            "State shape: (4,), State type: <class 'numpy.ndarray'>\n",
            "State shape: (4,), State type: <class 'numpy.ndarray'>\n",
            "State shape: (4,), State type: <class 'numpy.ndarray'>\n",
            "State shape: (4,), State type: <class 'numpy.ndarray'>\n",
            "State shape: (4,), State type: <class 'numpy.ndarray'>\n",
            "State shape: (4,), State type: <class 'numpy.ndarray'>\n",
            "State shape: (4,), State type: <class 'numpy.ndarray'>\n",
            "State shape: (4,), State type: <class 'numpy.ndarray'>\n",
            "State shape: (4,), State type: <class 'numpy.ndarray'>\n",
            "State shape: (4,), State type: <class 'numpy.ndarray'>\n",
            "State shape: (4,), State type: <class 'numpy.ndarray'>\n",
            "State shape: (4,), State type: <class 'numpy.ndarray'>\n",
            "State shape: (4,), State type: <class 'numpy.ndarray'>\n",
            "State shape: (4,), State type: <class 'numpy.ndarray'>\n",
            "State shape: (4,), State type: <class 'numpy.ndarray'>\n",
            "State shape: (4,), State type: <class 'numpy.ndarray'>\n",
            "State shape: (4,), State type: <class 'numpy.ndarray'>\n",
            "State shape: (4,), State type: <class 'numpy.ndarray'>\n",
            "State shape: (4,), State type: <class 'numpy.ndarray'>\n",
            "State shape: (4,), State type: <class 'numpy.ndarray'>\n",
            "State shape: (4,), State type: <class 'numpy.ndarray'>\n",
            "State shape: (4,), State type: <class 'numpy.ndarray'>\n",
            "State shape: (4,), State type: <class 'numpy.ndarray'>\n",
            "State shape: (4,), State type: <class 'numpy.ndarray'>\n",
            "State shape: (4,), State type: <class 'numpy.ndarray'>\n",
            "State shape: (4,), State type: <class 'numpy.ndarray'>\n",
            "State shape: (4,), State type: <class 'numpy.ndarray'>\n",
            "State shape: (4,), State type: <class 'numpy.ndarray'>\n",
            "State shape: (4,), State type: <class 'numpy.ndarray'>\n",
            "State shape: (4,), State type: <class 'numpy.ndarray'>\n",
            "State shape: (4,), State type: <class 'numpy.ndarray'>\n",
            "State shape: (4,), State type: <class 'numpy.ndarray'>\n",
            "State shape: (4,), State type: <class 'numpy.ndarray'>\n",
            "State shape: (4,), State type: <class 'numpy.ndarray'>\n",
            "State shape: (4,), State type: <class 'numpy.ndarray'>\n",
            "State shape: (4,), State type: <class 'numpy.ndarray'>\n",
            "State shape: (4,), State type: <class 'numpy.ndarray'>\n",
            "State shape: (4,), State type: <class 'numpy.ndarray'>\n",
            "State shape: (4,), State type: <class 'numpy.ndarray'>\n",
            "State shape: (4,), State type: <class 'numpy.ndarray'>\n",
            "State shape: (4,), State type: <class 'numpy.ndarray'>\n",
            "State shape: (4,), State type: <class 'numpy.ndarray'>\n",
            "State shape: (4,), State type: <class 'numpy.ndarray'>\n",
            "State shape: (4,), State type: <class 'numpy.ndarray'>\n",
            "State shape: (4,), State type: <class 'numpy.ndarray'>\n",
            "State shape: (4,), State type: <class 'numpy.ndarray'>\n",
            "State shape: (4,), State type: <class 'numpy.ndarray'>\n",
            "State shape: (4,), State type: <class 'numpy.ndarray'>\n",
            "State shape: (4,), State type: <class 'numpy.ndarray'>\n",
            "State shape: (4,), State type: <class 'numpy.ndarray'>\n",
            "State shape: (4,), State type: <class 'numpy.ndarray'>\n",
            "State shape: (4,), State type: <class 'numpy.ndarray'>\n",
            "State shape: (4,), State type: <class 'numpy.ndarray'>\n",
            "State shape: (4,), State type: <class 'numpy.ndarray'>\n",
            "State shape: (4,), State type: <class 'numpy.ndarray'>\n",
            "State shape: (4,), State type: <class 'numpy.ndarray'>\n",
            "State shape: (4,), State type: <class 'numpy.ndarray'>\n",
            "State shape: (4,), State type: <class 'numpy.ndarray'>\n",
            "State shape: (4,), State type: <class 'numpy.ndarray'>\n",
            "State shape: (4,), State type: <class 'numpy.ndarray'>\n",
            "State shape: (4,), State type: <class 'numpy.ndarray'>\n",
            "State shape: (4,), State type: <class 'numpy.ndarray'>\n",
            "State shape: (4,), State type: <class 'numpy.ndarray'>\n",
            "State shape: (4,), State type: <class 'numpy.ndarray'>\n",
            "State shape: (4,), State type: <class 'numpy.ndarray'>\n",
            "State shape: (4,), State type: <class 'numpy.ndarray'>\n",
            "State shape: (4,), State type: <class 'numpy.ndarray'>\n",
            "State shape: (4,), State type: <class 'numpy.ndarray'>\n",
            "State shape: (4,), State type: <class 'numpy.ndarray'>\n",
            "State shape: (4,), State type: <class 'numpy.ndarray'>\n",
            "State shape: (4,), State type: <class 'numpy.ndarray'>\n",
            "State shape: (4,), State type: <class 'numpy.ndarray'>\n",
            "State shape: (4,), State type: <class 'numpy.ndarray'>\n",
            "State shape: (4,), State type: <class 'numpy.ndarray'>\n",
            "State shape: (4,), State type: <class 'numpy.ndarray'>\n",
            "State shape: (4,), State type: <class 'numpy.ndarray'>\n",
            "State shape: (4,), State type: <class 'numpy.ndarray'>\n",
            "State shape: (4,), State type: <class 'numpy.ndarray'>\n",
            "State shape: (4,), State type: <class 'numpy.ndarray'>\n",
            "State shape: (4,), State type: <class 'numpy.ndarray'>\n",
            "State shape: (4,), State type: <class 'numpy.ndarray'>\n",
            "State shape: (4,), State type: <class 'numpy.ndarray'>\n",
            "State shape: (4,), State type: <class 'numpy.ndarray'>\n",
            "State shape: (4,), State type: <class 'numpy.ndarray'>\n",
            "State shape: (4,), State type: <class 'numpy.ndarray'>\n",
            "State shape: (4,), State type: <class 'numpy.ndarray'>\n",
            "State shape: (4,), State type: <class 'numpy.ndarray'>\n",
            "State shape: (4,), State type: <class 'numpy.ndarray'>\n",
            "State shape: (4,), State type: <class 'numpy.ndarray'>\n",
            "State shape: (4,), State type: <class 'numpy.ndarray'>\n",
            "State shape: (4,), State type: <class 'numpy.ndarray'>\n",
            "State shape: (4,), State type: <class 'numpy.ndarray'>\n",
            "State shape: (4,), State type: <class 'numpy.ndarray'>\n",
            "State shape: (4,), State type: <class 'numpy.ndarray'>\n",
            "State shape: (4,), State type: <class 'numpy.ndarray'>\n",
            "State shape: (4,), State type: <class 'numpy.ndarray'>\n",
            "State shape: (4,), State type: <class 'numpy.ndarray'>\n",
            "State shape: (4,), State type: <class 'numpy.ndarray'>\n",
            "State shape: (4,), State type: <class 'numpy.ndarray'>\n",
            "State shape: (4,), State type: <class 'numpy.ndarray'>\n",
            "State shape: (4,), State type: <class 'numpy.ndarray'>\n",
            "State shape: (4,), State type: <class 'numpy.ndarray'>\n",
            "State shape: (4,), State type: <class 'numpy.ndarray'>\n",
            "State shape: (4,), State type: <class 'numpy.ndarray'>\n",
            "State shape: (4,), State type: <class 'numpy.ndarray'>\n",
            "State shape: (4,), State type: <class 'numpy.ndarray'>\n",
            "State shape: (4,), State type: <class 'numpy.ndarray'>\n",
            "State shape: (4,), State type: <class 'numpy.ndarray'>\n",
            "State shape: (4,), State type: <class 'numpy.ndarray'>\n",
            "State shape: (4,), State type: <class 'numpy.ndarray'>\n",
            "State shape: (4,), State type: <class 'numpy.ndarray'>\n",
            "State shape: (4,), State type: <class 'numpy.ndarray'>\n",
            "State shape: (4,), State type: <class 'numpy.ndarray'>\n",
            "State shape: (4,), State type: <class 'numpy.ndarray'>\n",
            "State shape: (4,), State type: <class 'numpy.ndarray'>\n",
            "State shape: (4,), State type: <class 'numpy.ndarray'>\n",
            "State shape: (4,), State type: <class 'numpy.ndarray'>\n",
            "State shape: (4,), State type: <class 'numpy.ndarray'>\n",
            "State shape: (4,), State type: <class 'numpy.ndarray'>\n",
            "State shape: (4,), State type: <class 'numpy.ndarray'>\n",
            "State shape: (4,), State type: <class 'numpy.ndarray'>\n",
            "State shape: (4,), State type: <class 'numpy.ndarray'>\n",
            "State shape: (4,), State type: <class 'numpy.ndarray'>\n",
            "State shape: (4,), State type: <class 'numpy.ndarray'>\n",
            "State shape: (4,), State type: <class 'numpy.ndarray'>\n",
            "State shape: (4,), State type: <class 'numpy.ndarray'>\n",
            "State shape: (4,), State type: <class 'numpy.ndarray'>\n",
            "State shape: (4,), State type: <class 'numpy.ndarray'>\n",
            "State shape: (4,), State type: <class 'numpy.ndarray'>\n",
            "State shape: (4,), State type: <class 'numpy.ndarray'>\n",
            "State shape: (4,), State type: <class 'numpy.ndarray'>\n",
            "State shape: (4,), State type: <class 'numpy.ndarray'>\n",
            "State shape: (4,), State type: <class 'numpy.ndarray'>\n",
            "State shape: (4,), State type: <class 'numpy.ndarray'>\n",
            "State shape: (4,), State type: <class 'numpy.ndarray'>\n",
            "State shape: (4,), State type: <class 'numpy.ndarray'>\n",
            "State shape: (4,), State type: <class 'numpy.ndarray'>\n",
            "State shape: (4,), State type: <class 'numpy.ndarray'>\n",
            "State shape: (4,), State type: <class 'numpy.ndarray'>\n",
            "State shape: (4,), State type: <class 'numpy.ndarray'>\n",
            "State shape: (4,), State type: <class 'numpy.ndarray'>\n",
            "State shape: (4,), State type: <class 'numpy.ndarray'>\n",
            "State shape: (4,), State type: <class 'numpy.ndarray'>\n",
            "State shape: (4,), State type: <class 'numpy.ndarray'>\n",
            "State shape: (4,), State type: <class 'numpy.ndarray'>\n",
            "State shape: (4,), State type: <class 'numpy.ndarray'>\n",
            "State shape: (4,), State type: <class 'numpy.ndarray'>\n",
            "State shape: (4,), State type: <class 'numpy.ndarray'>\n",
            "State shape: (4,), State type: <class 'numpy.ndarray'>\n",
            "State shape: (4,), State type: <class 'numpy.ndarray'>\n",
            "State shape: (4,), State type: <class 'numpy.ndarray'>\n",
            "State shape: (4,), State type: <class 'numpy.ndarray'>\n",
            "State shape: (4,), State type: <class 'numpy.ndarray'>\n",
            "State shape: (4,), State type: <class 'numpy.ndarray'>\n",
            "State shape: (4,), State type: <class 'numpy.ndarray'>\n",
            "State shape: (4,), State type: <class 'numpy.ndarray'>\n",
            "State shape: (4,), State type: <class 'numpy.ndarray'>\n",
            "State shape: (4,), State type: <class 'numpy.ndarray'>\n",
            "State shape: (4,), State type: <class 'numpy.ndarray'>\n",
            "State shape: (4,), State type: <class 'numpy.ndarray'>\n",
            "State shape: (4,), State type: <class 'numpy.ndarray'>\n",
            "State shape: (4,), State type: <class 'numpy.ndarray'>\n",
            "State shape: (4,), State type: <class 'numpy.ndarray'>\n",
            "State shape: (4,), State type: <class 'numpy.ndarray'>\n",
            "State shape: (4,), State type: <class 'numpy.ndarray'>\n",
            "State shape: (4,), State type: <class 'numpy.ndarray'>\n",
            "State shape: (4,), State type: <class 'numpy.ndarray'>\n",
            "State shape: (4,), State type: <class 'numpy.ndarray'>\n",
            "State shape: (4,), State type: <class 'numpy.ndarray'>\n",
            "State shape: (4,), State type: <class 'numpy.ndarray'>\n",
            "State shape: (4,), State type: <class 'numpy.ndarray'>\n",
            "State shape: (4,), State type: <class 'numpy.ndarray'>\n",
            "State shape: (4,), State type: <class 'numpy.ndarray'>\n",
            "State shape: (4,), State type: <class 'numpy.ndarray'>\n",
            "State shape: (4,), State type: <class 'numpy.ndarray'>\n",
            "State shape: (4,), State type: <class 'numpy.ndarray'>\n",
            "State shape: (4,), State type: <class 'numpy.ndarray'>\n",
            "State shape: (4,), State type: <class 'numpy.ndarray'>\n",
            "State shape: (4,), State type: <class 'numpy.ndarray'>\n",
            "State shape: (4,), State type: <class 'numpy.ndarray'>\n",
            "State shape: (4,), State type: <class 'numpy.ndarray'>\n",
            "State shape: (4,), State type: <class 'numpy.ndarray'>\n",
            "State shape: (4,), State type: <class 'numpy.ndarray'>\n",
            "State shape: (4,), State type: <class 'numpy.ndarray'>\n",
            "State shape: (4,), State type: <class 'numpy.ndarray'>\n",
            "State shape: (4,), State type: <class 'numpy.ndarray'>\n",
            "State shape: (4,), State type: <class 'numpy.ndarray'>\n",
            "State shape: (4,), State type: <class 'numpy.ndarray'>\n",
            "State shape: (4,), State type: <class 'numpy.ndarray'>\n",
            "State shape: (4,), State type: <class 'numpy.ndarray'>\n",
            "State shape: (4,), State type: <class 'numpy.ndarray'>\n",
            "State shape: (4,), State type: <class 'numpy.ndarray'>\n",
            "State shape: (4,), State type: <class 'numpy.ndarray'>\n",
            "State shape: (4,), State type: <class 'numpy.ndarray'>\n",
            "State shape: (4,), State type: <class 'numpy.ndarray'>\n",
            "State shape: (4,), State type: <class 'numpy.ndarray'>\n",
            "State shape: (4,), State type: <class 'numpy.ndarray'>\n",
            "State shape: (4,), State type: <class 'numpy.ndarray'>\n",
            "State shape: (4,), State type: <class 'numpy.ndarray'>\n",
            "State shape: (4,), State type: <class 'numpy.ndarray'>\n",
            "State shape: (4,), State type: <class 'numpy.ndarray'>\n",
            "State shape: (4,), State type: <class 'numpy.ndarray'>\n",
            "State shape: (4,), State type: <class 'numpy.ndarray'>\n",
            "State shape: (4,), State type: <class 'numpy.ndarray'>\n",
            "State shape: (4,), State type: <class 'numpy.ndarray'>\n",
            "State shape: (4,), State type: <class 'numpy.ndarray'>\n",
            "State shape: (4,), State type: <class 'numpy.ndarray'>\n",
            "State shape: (4,), State type: <class 'numpy.ndarray'>\n",
            "State shape: (4,), State type: <class 'numpy.ndarray'>\n",
            "State shape: (4,), State type: <class 'numpy.ndarray'>\n",
            "State shape: (4,), State type: <class 'numpy.ndarray'>\n",
            "State shape: (4,), State type: <class 'numpy.ndarray'>\n",
            "State shape: (4,), State type: <class 'numpy.ndarray'>\n",
            "State shape: (4,), State type: <class 'numpy.ndarray'>\n",
            "State shape: (4,), State type: <class 'numpy.ndarray'>\n",
            "State shape: (4,), State type: <class 'numpy.ndarray'>\n",
            "State shape: (4,), State type: <class 'numpy.ndarray'>\n",
            "State shape: (4,), State type: <class 'numpy.ndarray'>\n",
            "State shape: (4,), State type: <class 'numpy.ndarray'>\n",
            "State shape: (4,), State type: <class 'numpy.ndarray'>\n",
            "State shape: (4,), State type: <class 'numpy.ndarray'>\n",
            "State shape: (4,), State type: <class 'numpy.ndarray'>\n",
            "State shape: (4,), State type: <class 'numpy.ndarray'>\n",
            "State shape: (4,), State type: <class 'numpy.ndarray'>\n",
            "State shape: (4,), State type: <class 'numpy.ndarray'>\n",
            "State shape: (4,), State type: <class 'numpy.ndarray'>\n",
            "State shape: (4,), State type: <class 'numpy.ndarray'>\n",
            "State shape: (4,), State type: <class 'numpy.ndarray'>\n",
            "State shape: (4,), State type: <class 'numpy.ndarray'>\n",
            "State shape: (4,), State type: <class 'numpy.ndarray'>\n",
            "State shape: (4,), State type: <class 'numpy.ndarray'>\n",
            "State shape: (4,), State type: <class 'numpy.ndarray'>\n",
            "State shape: (4,), State type: <class 'numpy.ndarray'>\n",
            "State shape: (4,), State type: <class 'numpy.ndarray'>\n",
            "State shape: (4,), State type: <class 'numpy.ndarray'>\n",
            "State shape: (4,), State type: <class 'numpy.ndarray'>\n",
            "State shape: (4,), State type: <class 'numpy.ndarray'>\n",
            "State shape: (4,), State type: <class 'numpy.ndarray'>\n",
            "State shape: (4,), State type: <class 'numpy.ndarray'>\n",
            "State shape: (4,), State type: <class 'numpy.ndarray'>\n",
            "State shape: (4,), State type: <class 'numpy.ndarray'>\n",
            "State shape: (4,), State type: <class 'numpy.ndarray'>\n",
            "State shape: (4,), State type: <class 'numpy.ndarray'>\n",
            "State shape: (4,), State type: <class 'numpy.ndarray'>\n",
            "State shape: (4,), State type: <class 'numpy.ndarray'>\n",
            "State shape: (4,), State type: <class 'numpy.ndarray'>\n",
            "State shape: (4,), State type: <class 'numpy.ndarray'>\n",
            "State shape: (4,), State type: <class 'numpy.ndarray'>\n",
            "State shape: (4,), State type: <class 'numpy.ndarray'>\n",
            "State shape: (4,), State type: <class 'numpy.ndarray'>\n",
            "State shape: (4,), State type: <class 'numpy.ndarray'>\n",
            "State shape: (4,), State type: <class 'numpy.ndarray'>\n",
            "State shape: (4,), State type: <class 'numpy.ndarray'>\n",
            "State shape: (4,), State type: <class 'numpy.ndarray'>\n",
            "State shape: (4,), State type: <class 'numpy.ndarray'>\n",
            "State shape: (4,), State type: <class 'numpy.ndarray'>\n",
            "State shape: (4,), State type: <class 'numpy.ndarray'>\n",
            "State shape: (4,), State type: <class 'numpy.ndarray'>\n",
            "State shape: (4,), State type: <class 'numpy.ndarray'>\n",
            "State shape: (4,), State type: <class 'numpy.ndarray'>\n",
            "State shape: (4,), State type: <class 'numpy.ndarray'>\n",
            "State shape: (4,), State type: <class 'numpy.ndarray'>\n",
            "State shape: (4,), State type: <class 'numpy.ndarray'>\n",
            "State shape: (4,), State type: <class 'numpy.ndarray'>\n",
            "State shape: (4,), State type: <class 'numpy.ndarray'>\n",
            "State shape: (4,), State type: <class 'numpy.ndarray'>\n",
            "State shape: (4,), State type: <class 'numpy.ndarray'>\n",
            "State shape: (4,), State type: <class 'numpy.ndarray'>\n",
            "State shape: (4,), State type: <class 'numpy.ndarray'>\n",
            "State shape: (4,), State type: <class 'numpy.ndarray'>\n",
            "State shape: (4,), State type: <class 'numpy.ndarray'>\n",
            "State shape: (4,), State type: <class 'numpy.ndarray'>\n",
            "State shape: (4,), State type: <class 'numpy.ndarray'>\n",
            "State shape: (4,), State type: <class 'numpy.ndarray'>\n",
            "State shape: (4,), State type: <class 'numpy.ndarray'>\n",
            "State shape: (4,), State type: <class 'numpy.ndarray'>\n",
            "State shape: (4,), State type: <class 'numpy.ndarray'>\n",
            "State shape: (4,), State type: <class 'numpy.ndarray'>\n",
            "State shape: (4,), State type: <class 'numpy.ndarray'>\n",
            "State shape: (4,), State type: <class 'numpy.ndarray'>\n",
            "State shape: (4,), State type: <class 'numpy.ndarray'>\n",
            "State shape: (4,), State type: <class 'numpy.ndarray'>\n",
            "State shape: (4,), State type: <class 'numpy.ndarray'>\n",
            "State shape: (4,), State type: <class 'numpy.ndarray'>\n",
            "State shape: (4,), State type: <class 'numpy.ndarray'>\n",
            "State shape: (4,), State type: <class 'numpy.ndarray'>\n",
            "State shape: (4,), State type: <class 'numpy.ndarray'>\n",
            "State shape: (4,), State type: <class 'numpy.ndarray'>\n",
            "State shape: (4,), State type: <class 'numpy.ndarray'>\n",
            "State shape: (4,), State type: <class 'numpy.ndarray'>\n",
            "State shape: (4,), State type: <class 'numpy.ndarray'>\n",
            "State shape: (4,), State type: <class 'numpy.ndarray'>\n",
            "State shape: (4,), State type: <class 'numpy.ndarray'>\n",
            "State shape: (4,), State type: <class 'numpy.ndarray'>\n",
            "State shape: (4,), State type: <class 'numpy.ndarray'>\n",
            "State shape: (4,), State type: <class 'numpy.ndarray'>\n",
            "State shape: (4,), State type: <class 'numpy.ndarray'>\n",
            "State shape: (4,), State type: <class 'numpy.ndarray'>\n",
            "State shape: (4,), State type: <class 'numpy.ndarray'>\n",
            "State shape: (4,), State type: <class 'numpy.ndarray'>\n",
            "State shape: (4,), State type: <class 'numpy.ndarray'>\n",
            "State shape: (4,), State type: <class 'numpy.ndarray'>\n",
            "State shape: (4,), State type: <class 'numpy.ndarray'>\n",
            "State shape: (4,), State type: <class 'numpy.ndarray'>\n",
            "State shape: (4,), State type: <class 'numpy.ndarray'>\n",
            "State shape: (4,), State type: <class 'numpy.ndarray'>\n",
            "State shape: (4,), State type: <class 'numpy.ndarray'>\n",
            "State shape: (4,), State type: <class 'numpy.ndarray'>\n",
            "State shape: (4,), State type: <class 'numpy.ndarray'>\n",
            "State shape: (4,), State type: <class 'numpy.ndarray'>\n",
            "State shape: (4,), State type: <class 'numpy.ndarray'>\n",
            "State shape: (4,), State type: <class 'numpy.ndarray'>\n",
            "State shape: (4,), State type: <class 'numpy.ndarray'>\n",
            "State shape: (4,), State type: <class 'numpy.ndarray'>\n",
            "State shape: (4,), State type: <class 'numpy.ndarray'>\n",
            "State shape: (4,), State type: <class 'numpy.ndarray'>\n",
            "State shape: (4,), State type: <class 'numpy.ndarray'>\n",
            "State shape: (4,), State type: <class 'numpy.ndarray'>\n",
            "State shape: (4,), State type: <class 'numpy.ndarray'>\n",
            "State shape: (4,), State type: <class 'numpy.ndarray'>\n",
            "State shape: (4,), State type: <class 'numpy.ndarray'>\n",
            "State shape: (4,), State type: <class 'numpy.ndarray'>\n",
            "State shape: (4,), State type: <class 'numpy.ndarray'>\n",
            "State shape: (4,), State type: <class 'numpy.ndarray'>\n",
            "State shape: (4,), State type: <class 'numpy.ndarray'>\n",
            "State shape: (4,), State type: <class 'numpy.ndarray'>\n",
            "State shape: (4,), State type: <class 'numpy.ndarray'>\n",
            "State shape: (4,), State type: <class 'numpy.ndarray'>\n",
            "State shape: (4,), State type: <class 'numpy.ndarray'>\n",
            "State shape: (4,), State type: <class 'numpy.ndarray'>\n",
            "State shape: (4,), State type: <class 'numpy.ndarray'>\n",
            "State shape: (4,), State type: <class 'numpy.ndarray'>\n",
            "State shape: (4,), State type: <class 'numpy.ndarray'>\n",
            "State shape: (4,), State type: <class 'numpy.ndarray'>\n",
            "State shape: (4,), State type: <class 'numpy.ndarray'>\n",
            "State shape: (4,), State type: <class 'numpy.ndarray'>\n",
            "State shape: (4,), State type: <class 'numpy.ndarray'>\n",
            "State shape: (4,), State type: <class 'numpy.ndarray'>\n",
            "State shape: (4,), State type: <class 'numpy.ndarray'>\n",
            "State shape: (4,), State type: <class 'numpy.ndarray'>\n",
            "State shape: (4,), State type: <class 'numpy.ndarray'>\n",
            "State shape: (4,), State type: <class 'numpy.ndarray'>\n",
            "State shape: (4,), State type: <class 'numpy.ndarray'>\n",
            "State shape: (4,), State type: <class 'numpy.ndarray'>\n",
            "State shape: (4,), State type: <class 'numpy.ndarray'>\n",
            "State shape: (4,), State type: <class 'numpy.ndarray'>\n",
            "State shape: (4,), State type: <class 'numpy.ndarray'>\n",
            "State shape: (4,), State type: <class 'numpy.ndarray'>\n",
            "State shape: (4,), State type: <class 'numpy.ndarray'>\n",
            "State shape: (4,), State type: <class 'numpy.ndarray'>\n",
            "State shape: (4,), State type: <class 'numpy.ndarray'>\n",
            "State shape: (4,), State type: <class 'numpy.ndarray'>\n",
            "State shape: (4,), State type: <class 'numpy.ndarray'>\n",
            "State shape: (4,), State type: <class 'numpy.ndarray'>\n",
            "State shape: (4,), State type: <class 'numpy.ndarray'>\n",
            "State shape: (4,), State type: <class 'numpy.ndarray'>\n",
            "State shape: (4,), State type: <class 'numpy.ndarray'>\n",
            "State shape: (4,), State type: <class 'numpy.ndarray'>\n",
            "State shape: (4,), State type: <class 'numpy.ndarray'>\n",
            "State shape: (4,), State type: <class 'numpy.ndarray'>\n",
            "State shape: (4,), State type: <class 'numpy.ndarray'>\n",
            "State shape: (4,), State type: <class 'numpy.ndarray'>\n",
            "State shape: (4,), State type: <class 'numpy.ndarray'>\n",
            "State shape: (4,), State type: <class 'numpy.ndarray'>\n",
            "State shape: (4,), State type: <class 'numpy.ndarray'>\n",
            "State shape: (4,), State type: <class 'numpy.ndarray'>\n",
            "State shape: (4,), State type: <class 'numpy.ndarray'>\n",
            "State shape: (4,), State type: <class 'numpy.ndarray'>\n",
            "State shape: (4,), State type: <class 'numpy.ndarray'>\n",
            "Episode 2 Reward: 500.0\n",
            "State shape: (4,), State type: <class 'numpy.ndarray'>\n",
            "State shape: (4,), State type: <class 'numpy.ndarray'>\n",
            "State shape: (4,), State type: <class 'numpy.ndarray'>\n",
            "State shape: (4,), State type: <class 'numpy.ndarray'>\n",
            "State shape: (4,), State type: <class 'numpy.ndarray'>\n",
            "State shape: (4,), State type: <class 'numpy.ndarray'>\n",
            "State shape: (4,), State type: <class 'numpy.ndarray'>\n",
            "State shape: (4,), State type: <class 'numpy.ndarray'>\n",
            "State shape: (4,), State type: <class 'numpy.ndarray'>\n",
            "State shape: (4,), State type: <class 'numpy.ndarray'>\n",
            "State shape: (4,), State type: <class 'numpy.ndarray'>\n",
            "State shape: (4,), State type: <class 'numpy.ndarray'>\n",
            "State shape: (4,), State type: <class 'numpy.ndarray'>\n",
            "State shape: (4,), State type: <class 'numpy.ndarray'>\n",
            "State shape: (4,), State type: <class 'numpy.ndarray'>\n",
            "State shape: (4,), State type: <class 'numpy.ndarray'>\n",
            "State shape: (4,), State type: <class 'numpy.ndarray'>\n",
            "State shape: (4,), State type: <class 'numpy.ndarray'>\n",
            "State shape: (4,), State type: <class 'numpy.ndarray'>\n",
            "State shape: (4,), State type: <class 'numpy.ndarray'>\n",
            "State shape: (4,), State type: <class 'numpy.ndarray'>\n",
            "State shape: (4,), State type: <class 'numpy.ndarray'>\n",
            "State shape: (4,), State type: <class 'numpy.ndarray'>\n",
            "State shape: (4,), State type: <class 'numpy.ndarray'>\n",
            "State shape: (4,), State type: <class 'numpy.ndarray'>\n",
            "State shape: (4,), State type: <class 'numpy.ndarray'>\n",
            "State shape: (4,), State type: <class 'numpy.ndarray'>\n",
            "State shape: (4,), State type: <class 'numpy.ndarray'>\n",
            "State shape: (4,), State type: <class 'numpy.ndarray'>\n",
            "State shape: (4,), State type: <class 'numpy.ndarray'>\n",
            "State shape: (4,), State type: <class 'numpy.ndarray'>\n",
            "State shape: (4,), State type: <class 'numpy.ndarray'>\n",
            "State shape: (4,), State type: <class 'numpy.ndarray'>\n",
            "State shape: (4,), State type: <class 'numpy.ndarray'>\n",
            "State shape: (4,), State type: <class 'numpy.ndarray'>\n",
            "State shape: (4,), State type: <class 'numpy.ndarray'>\n",
            "State shape: (4,), State type: <class 'numpy.ndarray'>\n",
            "State shape: (4,), State type: <class 'numpy.ndarray'>\n",
            "State shape: (4,), State type: <class 'numpy.ndarray'>\n",
            "State shape: (4,), State type: <class 'numpy.ndarray'>\n",
            "State shape: (4,), State type: <class 'numpy.ndarray'>\n",
            "State shape: (4,), State type: <class 'numpy.ndarray'>\n",
            "State shape: (4,), State type: <class 'numpy.ndarray'>\n",
            "State shape: (4,), State type: <class 'numpy.ndarray'>\n",
            "State shape: (4,), State type: <class 'numpy.ndarray'>\n",
            "State shape: (4,), State type: <class 'numpy.ndarray'>\n",
            "State shape: (4,), State type: <class 'numpy.ndarray'>\n",
            "State shape: (4,), State type: <class 'numpy.ndarray'>\n",
            "State shape: (4,), State type: <class 'numpy.ndarray'>\n",
            "State shape: (4,), State type: <class 'numpy.ndarray'>\n",
            "State shape: (4,), State type: <class 'numpy.ndarray'>\n",
            "State shape: (4,), State type: <class 'numpy.ndarray'>\n",
            "State shape: (4,), State type: <class 'numpy.ndarray'>\n",
            "State shape: (4,), State type: <class 'numpy.ndarray'>\n",
            "State shape: (4,), State type: <class 'numpy.ndarray'>\n",
            "State shape: (4,), State type: <class 'numpy.ndarray'>\n",
            "State shape: (4,), State type: <class 'numpy.ndarray'>\n",
            "State shape: (4,), State type: <class 'numpy.ndarray'>\n",
            "State shape: (4,), State type: <class 'numpy.ndarray'>\n",
            "State shape: (4,), State type: <class 'numpy.ndarray'>\n",
            "State shape: (4,), State type: <class 'numpy.ndarray'>\n",
            "State shape: (4,), State type: <class 'numpy.ndarray'>\n",
            "State shape: (4,), State type: <class 'numpy.ndarray'>\n",
            "State shape: (4,), State type: <class 'numpy.ndarray'>\n",
            "State shape: (4,), State type: <class 'numpy.ndarray'>\n",
            "State shape: (4,), State type: <class 'numpy.ndarray'>\n",
            "State shape: (4,), State type: <class 'numpy.ndarray'>\n",
            "State shape: (4,), State type: <class 'numpy.ndarray'>\n",
            "State shape: (4,), State type: <class 'numpy.ndarray'>\n",
            "State shape: (4,), State type: <class 'numpy.ndarray'>\n",
            "State shape: (4,), State type: <class 'numpy.ndarray'>\n",
            "State shape: (4,), State type: <class 'numpy.ndarray'>\n",
            "State shape: (4,), State type: <class 'numpy.ndarray'>\n",
            "State shape: (4,), State type: <class 'numpy.ndarray'>\n",
            "State shape: (4,), State type: <class 'numpy.ndarray'>\n",
            "State shape: (4,), State type: <class 'numpy.ndarray'>\n",
            "State shape: (4,), State type: <class 'numpy.ndarray'>\n",
            "State shape: (4,), State type: <class 'numpy.ndarray'>\n",
            "State shape: (4,), State type: <class 'numpy.ndarray'>\n",
            "State shape: (4,), State type: <class 'numpy.ndarray'>\n",
            "State shape: (4,), State type: <class 'numpy.ndarray'>\n",
            "State shape: (4,), State type: <class 'numpy.ndarray'>\n",
            "State shape: (4,), State type: <class 'numpy.ndarray'>\n",
            "State shape: (4,), State type: <class 'numpy.ndarray'>\n",
            "State shape: (4,), State type: <class 'numpy.ndarray'>\n",
            "State shape: (4,), State type: <class 'numpy.ndarray'>\n",
            "State shape: (4,), State type: <class 'numpy.ndarray'>\n",
            "State shape: (4,), State type: <class 'numpy.ndarray'>\n",
            "State shape: (4,), State type: <class 'numpy.ndarray'>\n",
            "State shape: (4,), State type: <class 'numpy.ndarray'>\n",
            "State shape: (4,), State type: <class 'numpy.ndarray'>\n",
            "State shape: (4,), State type: <class 'numpy.ndarray'>\n",
            "State shape: (4,), State type: <class 'numpy.ndarray'>\n",
            "State shape: (4,), State type: <class 'numpy.ndarray'>\n",
            "State shape: (4,), State type: <class 'numpy.ndarray'>\n",
            "State shape: (4,), State type: <class 'numpy.ndarray'>\n",
            "State shape: (4,), State type: <class 'numpy.ndarray'>\n",
            "State shape: (4,), State type: <class 'numpy.ndarray'>\n",
            "State shape: (4,), State type: <class 'numpy.ndarray'>\n",
            "State shape: (4,), State type: <class 'numpy.ndarray'>\n",
            "State shape: (4,), State type: <class 'numpy.ndarray'>\n",
            "State shape: (4,), State type: <class 'numpy.ndarray'>\n",
            "State shape: (4,), State type: <class 'numpy.ndarray'>\n",
            "State shape: (4,), State type: <class 'numpy.ndarray'>\n",
            "State shape: (4,), State type: <class 'numpy.ndarray'>\n",
            "State shape: (4,), State type: <class 'numpy.ndarray'>\n",
            "State shape: (4,), State type: <class 'numpy.ndarray'>\n",
            "State shape: (4,), State type: <class 'numpy.ndarray'>\n",
            "State shape: (4,), State type: <class 'numpy.ndarray'>\n",
            "State shape: (4,), State type: <class 'numpy.ndarray'>\n",
            "State shape: (4,), State type: <class 'numpy.ndarray'>\n",
            "State shape: (4,), State type: <class 'numpy.ndarray'>\n",
            "State shape: (4,), State type: <class 'numpy.ndarray'>\n",
            "State shape: (4,), State type: <class 'numpy.ndarray'>\n",
            "State shape: (4,), State type: <class 'numpy.ndarray'>\n",
            "State shape: (4,), State type: <class 'numpy.ndarray'>\n",
            "State shape: (4,), State type: <class 'numpy.ndarray'>\n",
            "State shape: (4,), State type: <class 'numpy.ndarray'>\n",
            "State shape: (4,), State type: <class 'numpy.ndarray'>\n",
            "State shape: (4,), State type: <class 'numpy.ndarray'>\n",
            "State shape: (4,), State type: <class 'numpy.ndarray'>\n",
            "State shape: (4,), State type: <class 'numpy.ndarray'>\n",
            "State shape: (4,), State type: <class 'numpy.ndarray'>\n",
            "State shape: (4,), State type: <class 'numpy.ndarray'>\n",
            "State shape: (4,), State type: <class 'numpy.ndarray'>\n",
            "State shape: (4,), State type: <class 'numpy.ndarray'>\n",
            "State shape: (4,), State type: <class 'numpy.ndarray'>\n",
            "State shape: (4,), State type: <class 'numpy.ndarray'>\n",
            "State shape: (4,), State type: <class 'numpy.ndarray'>\n",
            "State shape: (4,), State type: <class 'numpy.ndarray'>\n",
            "State shape: (4,), State type: <class 'numpy.ndarray'>\n",
            "State shape: (4,), State type: <class 'numpy.ndarray'>\n",
            "State shape: (4,), State type: <class 'numpy.ndarray'>\n",
            "State shape: (4,), State type: <class 'numpy.ndarray'>\n",
            "State shape: (4,), State type: <class 'numpy.ndarray'>\n",
            "State shape: (4,), State type: <class 'numpy.ndarray'>\n",
            "State shape: (4,), State type: <class 'numpy.ndarray'>\n",
            "State shape: (4,), State type: <class 'numpy.ndarray'>\n",
            "State shape: (4,), State type: <class 'numpy.ndarray'>\n",
            "State shape: (4,), State type: <class 'numpy.ndarray'>\n",
            "State shape: (4,), State type: <class 'numpy.ndarray'>\n",
            "State shape: (4,), State type: <class 'numpy.ndarray'>\n",
            "State shape: (4,), State type: <class 'numpy.ndarray'>\n",
            "State shape: (4,), State type: <class 'numpy.ndarray'>\n",
            "State shape: (4,), State type: <class 'numpy.ndarray'>\n",
            "State shape: (4,), State type: <class 'numpy.ndarray'>\n",
            "State shape: (4,), State type: <class 'numpy.ndarray'>\n",
            "State shape: (4,), State type: <class 'numpy.ndarray'>\n",
            "State shape: (4,), State type: <class 'numpy.ndarray'>\n",
            "State shape: (4,), State type: <class 'numpy.ndarray'>\n",
            "State shape: (4,), State type: <class 'numpy.ndarray'>\n",
            "State shape: (4,), State type: <class 'numpy.ndarray'>\n",
            "State shape: (4,), State type: <class 'numpy.ndarray'>\n",
            "State shape: (4,), State type: <class 'numpy.ndarray'>\n",
            "State shape: (4,), State type: <class 'numpy.ndarray'>\n",
            "State shape: (4,), State type: <class 'numpy.ndarray'>\n",
            "State shape: (4,), State type: <class 'numpy.ndarray'>\n",
            "State shape: (4,), State type: <class 'numpy.ndarray'>\n",
            "State shape: (4,), State type: <class 'numpy.ndarray'>\n",
            "State shape: (4,), State type: <class 'numpy.ndarray'>\n",
            "State shape: (4,), State type: <class 'numpy.ndarray'>\n",
            "State shape: (4,), State type: <class 'numpy.ndarray'>\n",
            "State shape: (4,), State type: <class 'numpy.ndarray'>\n",
            "State shape: (4,), State type: <class 'numpy.ndarray'>\n",
            "State shape: (4,), State type: <class 'numpy.ndarray'>\n",
            "State shape: (4,), State type: <class 'numpy.ndarray'>\n",
            "State shape: (4,), State type: <class 'numpy.ndarray'>\n",
            "State shape: (4,), State type: <class 'numpy.ndarray'>\n",
            "State shape: (4,), State type: <class 'numpy.ndarray'>\n",
            "State shape: (4,), State type: <class 'numpy.ndarray'>\n",
            "State shape: (4,), State type: <class 'numpy.ndarray'>\n",
            "State shape: (4,), State type: <class 'numpy.ndarray'>\n",
            "State shape: (4,), State type: <class 'numpy.ndarray'>\n",
            "State shape: (4,), State type: <class 'numpy.ndarray'>\n",
            "State shape: (4,), State type: <class 'numpy.ndarray'>\n",
            "State shape: (4,), State type: <class 'numpy.ndarray'>\n",
            "State shape: (4,), State type: <class 'numpy.ndarray'>\n",
            "State shape: (4,), State type: <class 'numpy.ndarray'>\n",
            "State shape: (4,), State type: <class 'numpy.ndarray'>\n",
            "State shape: (4,), State type: <class 'numpy.ndarray'>\n",
            "State shape: (4,), State type: <class 'numpy.ndarray'>\n",
            "State shape: (4,), State type: <class 'numpy.ndarray'>\n",
            "State shape: (4,), State type: <class 'numpy.ndarray'>\n",
            "State shape: (4,), State type: <class 'numpy.ndarray'>\n",
            "State shape: (4,), State type: <class 'numpy.ndarray'>\n",
            "State shape: (4,), State type: <class 'numpy.ndarray'>\n",
            "State shape: (4,), State type: <class 'numpy.ndarray'>\n",
            "State shape: (4,), State type: <class 'numpy.ndarray'>\n",
            "State shape: (4,), State type: <class 'numpy.ndarray'>\n",
            "State shape: (4,), State type: <class 'numpy.ndarray'>\n",
            "State shape: (4,), State type: <class 'numpy.ndarray'>\n",
            "State shape: (4,), State type: <class 'numpy.ndarray'>\n",
            "State shape: (4,), State type: <class 'numpy.ndarray'>\n",
            "State shape: (4,), State type: <class 'numpy.ndarray'>\n",
            "State shape: (4,), State type: <class 'numpy.ndarray'>\n",
            "State shape: (4,), State type: <class 'numpy.ndarray'>\n",
            "State shape: (4,), State type: <class 'numpy.ndarray'>\n",
            "State shape: (4,), State type: <class 'numpy.ndarray'>\n",
            "State shape: (4,), State type: <class 'numpy.ndarray'>\n",
            "State shape: (4,), State type: <class 'numpy.ndarray'>\n",
            "State shape: (4,), State type: <class 'numpy.ndarray'>\n",
            "State shape: (4,), State type: <class 'numpy.ndarray'>\n",
            "State shape: (4,), State type: <class 'numpy.ndarray'>\n",
            "State shape: (4,), State type: <class 'numpy.ndarray'>\n",
            "State shape: (4,), State type: <class 'numpy.ndarray'>\n",
            "State shape: (4,), State type: <class 'numpy.ndarray'>\n",
            "State shape: (4,), State type: <class 'numpy.ndarray'>\n",
            "State shape: (4,), State type: <class 'numpy.ndarray'>\n",
            "State shape: (4,), State type: <class 'numpy.ndarray'>\n",
            "State shape: (4,), State type: <class 'numpy.ndarray'>\n",
            "State shape: (4,), State type: <class 'numpy.ndarray'>\n",
            "State shape: (4,), State type: <class 'numpy.ndarray'>\n",
            "State shape: (4,), State type: <class 'numpy.ndarray'>\n",
            "State shape: (4,), State type: <class 'numpy.ndarray'>\n",
            "State shape: (4,), State type: <class 'numpy.ndarray'>\n",
            "State shape: (4,), State type: <class 'numpy.ndarray'>\n",
            "State shape: (4,), State type: <class 'numpy.ndarray'>\n",
            "State shape: (4,), State type: <class 'numpy.ndarray'>\n",
            "State shape: (4,), State type: <class 'numpy.ndarray'>\n",
            "State shape: (4,), State type: <class 'numpy.ndarray'>\n",
            "State shape: (4,), State type: <class 'numpy.ndarray'>\n",
            "State shape: (4,), State type: <class 'numpy.ndarray'>\n",
            "State shape: (4,), State type: <class 'numpy.ndarray'>\n",
            "State shape: (4,), State type: <class 'numpy.ndarray'>\n",
            "State shape: (4,), State type: <class 'numpy.ndarray'>\n",
            "State shape: (4,), State type: <class 'numpy.ndarray'>\n",
            "State shape: (4,), State type: <class 'numpy.ndarray'>\n",
            "State shape: (4,), State type: <class 'numpy.ndarray'>\n",
            "State shape: (4,), State type: <class 'numpy.ndarray'>\n",
            "State shape: (4,), State type: <class 'numpy.ndarray'>\n",
            "State shape: (4,), State type: <class 'numpy.ndarray'>\n",
            "State shape: (4,), State type: <class 'numpy.ndarray'>\n",
            "State shape: (4,), State type: <class 'numpy.ndarray'>\n",
            "State shape: (4,), State type: <class 'numpy.ndarray'>\n",
            "State shape: (4,), State type: <class 'numpy.ndarray'>\n",
            "State shape: (4,), State type: <class 'numpy.ndarray'>\n",
            "State shape: (4,), State type: <class 'numpy.ndarray'>\n",
            "State shape: (4,), State type: <class 'numpy.ndarray'>\n",
            "State shape: (4,), State type: <class 'numpy.ndarray'>\n",
            "State shape: (4,), State type: <class 'numpy.ndarray'>\n",
            "State shape: (4,), State type: <class 'numpy.ndarray'>\n",
            "State shape: (4,), State type: <class 'numpy.ndarray'>\n",
            "State shape: (4,), State type: <class 'numpy.ndarray'>\n",
            "State shape: (4,), State type: <class 'numpy.ndarray'>\n",
            "State shape: (4,), State type: <class 'numpy.ndarray'>\n",
            "State shape: (4,), State type: <class 'numpy.ndarray'>\n",
            "State shape: (4,), State type: <class 'numpy.ndarray'>\n",
            "State shape: (4,), State type: <class 'numpy.ndarray'>\n",
            "State shape: (4,), State type: <class 'numpy.ndarray'>\n",
            "State shape: (4,), State type: <class 'numpy.ndarray'>\n",
            "State shape: (4,), State type: <class 'numpy.ndarray'>\n",
            "State shape: (4,), State type: <class 'numpy.ndarray'>\n",
            "State shape: (4,), State type: <class 'numpy.ndarray'>\n",
            "State shape: (4,), State type: <class 'numpy.ndarray'>\n",
            "State shape: (4,), State type: <class 'numpy.ndarray'>\n",
            "State shape: (4,), State type: <class 'numpy.ndarray'>\n",
            "State shape: (4,), State type: <class 'numpy.ndarray'>\n",
            "State shape: (4,), State type: <class 'numpy.ndarray'>\n",
            "State shape: (4,), State type: <class 'numpy.ndarray'>\n",
            "State shape: (4,), State type: <class 'numpy.ndarray'>\n",
            "State shape: (4,), State type: <class 'numpy.ndarray'>\n",
            "State shape: (4,), State type: <class 'numpy.ndarray'>\n",
            "State shape: (4,), State type: <class 'numpy.ndarray'>\n",
            "State shape: (4,), State type: <class 'numpy.ndarray'>\n",
            "State shape: (4,), State type: <class 'numpy.ndarray'>\n",
            "State shape: (4,), State type: <class 'numpy.ndarray'>\n",
            "State shape: (4,), State type: <class 'numpy.ndarray'>\n",
            "State shape: (4,), State type: <class 'numpy.ndarray'>\n",
            "State shape: (4,), State type: <class 'numpy.ndarray'>\n",
            "State shape: (4,), State type: <class 'numpy.ndarray'>\n",
            "State shape: (4,), State type: <class 'numpy.ndarray'>\n",
            "State shape: (4,), State type: <class 'numpy.ndarray'>\n",
            "State shape: (4,), State type: <class 'numpy.ndarray'>\n",
            "State shape: (4,), State type: <class 'numpy.ndarray'>\n",
            "State shape: (4,), State type: <class 'numpy.ndarray'>\n",
            "State shape: (4,), State type: <class 'numpy.ndarray'>\n",
            "State shape: (4,), State type: <class 'numpy.ndarray'>\n",
            "State shape: (4,), State type: <class 'numpy.ndarray'>\n",
            "State shape: (4,), State type: <class 'numpy.ndarray'>\n",
            "State shape: (4,), State type: <class 'numpy.ndarray'>\n",
            "State shape: (4,), State type: <class 'numpy.ndarray'>\n",
            "State shape: (4,), State type: <class 'numpy.ndarray'>\n",
            "State shape: (4,), State type: <class 'numpy.ndarray'>\n",
            "State shape: (4,), State type: <class 'numpy.ndarray'>\n",
            "State shape: (4,), State type: <class 'numpy.ndarray'>\n",
            "State shape: (4,), State type: <class 'numpy.ndarray'>\n",
            "State shape: (4,), State type: <class 'numpy.ndarray'>\n",
            "State shape: (4,), State type: <class 'numpy.ndarray'>\n",
            "State shape: (4,), State type: <class 'numpy.ndarray'>\n",
            "State shape: (4,), State type: <class 'numpy.ndarray'>\n",
            "State shape: (4,), State type: <class 'numpy.ndarray'>\n",
            "State shape: (4,), State type: <class 'numpy.ndarray'>\n",
            "State shape: (4,), State type: <class 'numpy.ndarray'>\n",
            "State shape: (4,), State type: <class 'numpy.ndarray'>\n",
            "State shape: (4,), State type: <class 'numpy.ndarray'>\n",
            "State shape: (4,), State type: <class 'numpy.ndarray'>\n",
            "State shape: (4,), State type: <class 'numpy.ndarray'>\n",
            "State shape: (4,), State type: <class 'numpy.ndarray'>\n",
            "State shape: (4,), State type: <class 'numpy.ndarray'>\n",
            "State shape: (4,), State type: <class 'numpy.ndarray'>\n",
            "State shape: (4,), State type: <class 'numpy.ndarray'>\n",
            "State shape: (4,), State type: <class 'numpy.ndarray'>\n",
            "State shape: (4,), State type: <class 'numpy.ndarray'>\n",
            "State shape: (4,), State type: <class 'numpy.ndarray'>\n",
            "State shape: (4,), State type: <class 'numpy.ndarray'>\n",
            "State shape: (4,), State type: <class 'numpy.ndarray'>\n",
            "State shape: (4,), State type: <class 'numpy.ndarray'>\n",
            "State shape: (4,), State type: <class 'numpy.ndarray'>\n",
            "State shape: (4,), State type: <class 'numpy.ndarray'>\n",
            "State shape: (4,), State type: <class 'numpy.ndarray'>\n",
            "State shape: (4,), State type: <class 'numpy.ndarray'>\n",
            "State shape: (4,), State type: <class 'numpy.ndarray'>\n",
            "State shape: (4,), State type: <class 'numpy.ndarray'>\n",
            "State shape: (4,), State type: <class 'numpy.ndarray'>\n",
            "State shape: (4,), State type: <class 'numpy.ndarray'>\n",
            "State shape: (4,), State type: <class 'numpy.ndarray'>\n",
            "State shape: (4,), State type: <class 'numpy.ndarray'>\n",
            "State shape: (4,), State type: <class 'numpy.ndarray'>\n",
            "State shape: (4,), State type: <class 'numpy.ndarray'>\n",
            "State shape: (4,), State type: <class 'numpy.ndarray'>\n",
            "State shape: (4,), State type: <class 'numpy.ndarray'>\n",
            "State shape: (4,), State type: <class 'numpy.ndarray'>\n",
            "State shape: (4,), State type: <class 'numpy.ndarray'>\n",
            "State shape: (4,), State type: <class 'numpy.ndarray'>\n",
            "State shape: (4,), State type: <class 'numpy.ndarray'>\n",
            "State shape: (4,), State type: <class 'numpy.ndarray'>\n",
            "State shape: (4,), State type: <class 'numpy.ndarray'>\n",
            "State shape: (4,), State type: <class 'numpy.ndarray'>\n",
            "State shape: (4,), State type: <class 'numpy.ndarray'>\n",
            "State shape: (4,), State type: <class 'numpy.ndarray'>\n",
            "State shape: (4,), State type: <class 'numpy.ndarray'>\n",
            "State shape: (4,), State type: <class 'numpy.ndarray'>\n",
            "State shape: (4,), State type: <class 'numpy.ndarray'>\n",
            "State shape: (4,), State type: <class 'numpy.ndarray'>\n",
            "State shape: (4,), State type: <class 'numpy.ndarray'>\n",
            "State shape: (4,), State type: <class 'numpy.ndarray'>\n",
            "State shape: (4,), State type: <class 'numpy.ndarray'>\n",
            "State shape: (4,), State type: <class 'numpy.ndarray'>\n",
            "State shape: (4,), State type: <class 'numpy.ndarray'>\n",
            "State shape: (4,), State type: <class 'numpy.ndarray'>\n",
            "State shape: (4,), State type: <class 'numpy.ndarray'>\n",
            "State shape: (4,), State type: <class 'numpy.ndarray'>\n",
            "State shape: (4,), State type: <class 'numpy.ndarray'>\n",
            "State shape: (4,), State type: <class 'numpy.ndarray'>\n",
            "State shape: (4,), State type: <class 'numpy.ndarray'>\n",
            "State shape: (4,), State type: <class 'numpy.ndarray'>\n",
            "State shape: (4,), State type: <class 'numpy.ndarray'>\n",
            "State shape: (4,), State type: <class 'numpy.ndarray'>\n",
            "State shape: (4,), State type: <class 'numpy.ndarray'>\n",
            "State shape: (4,), State type: <class 'numpy.ndarray'>\n",
            "State shape: (4,), State type: <class 'numpy.ndarray'>\n",
            "State shape: (4,), State type: <class 'numpy.ndarray'>\n",
            "State shape: (4,), State type: <class 'numpy.ndarray'>\n",
            "State shape: (4,), State type: <class 'numpy.ndarray'>\n",
            "State shape: (4,), State type: <class 'numpy.ndarray'>\n",
            "State shape: (4,), State type: <class 'numpy.ndarray'>\n",
            "State shape: (4,), State type: <class 'numpy.ndarray'>\n",
            "State shape: (4,), State type: <class 'numpy.ndarray'>\n",
            "State shape: (4,), State type: <class 'numpy.ndarray'>\n",
            "State shape: (4,), State type: <class 'numpy.ndarray'>\n",
            "State shape: (4,), State type: <class 'numpy.ndarray'>\n",
            "State shape: (4,), State type: <class 'numpy.ndarray'>\n",
            "State shape: (4,), State type: <class 'numpy.ndarray'>\n",
            "State shape: (4,), State type: <class 'numpy.ndarray'>\n",
            "State shape: (4,), State type: <class 'numpy.ndarray'>\n",
            "State shape: (4,), State type: <class 'numpy.ndarray'>\n",
            "State shape: (4,), State type: <class 'numpy.ndarray'>\n",
            "State shape: (4,), State type: <class 'numpy.ndarray'>\n",
            "State shape: (4,), State type: <class 'numpy.ndarray'>\n",
            "State shape: (4,), State type: <class 'numpy.ndarray'>\n",
            "State shape: (4,), State type: <class 'numpy.ndarray'>\n",
            "State shape: (4,), State type: <class 'numpy.ndarray'>\n",
            "State shape: (4,), State type: <class 'numpy.ndarray'>\n",
            "State shape: (4,), State type: <class 'numpy.ndarray'>\n",
            "State shape: (4,), State type: <class 'numpy.ndarray'>\n",
            "State shape: (4,), State type: <class 'numpy.ndarray'>\n",
            "State shape: (4,), State type: <class 'numpy.ndarray'>\n",
            "State shape: (4,), State type: <class 'numpy.ndarray'>\n",
            "State shape: (4,), State type: <class 'numpy.ndarray'>\n",
            "State shape: (4,), State type: <class 'numpy.ndarray'>\n",
            "State shape: (4,), State type: <class 'numpy.ndarray'>\n",
            "State shape: (4,), State type: <class 'numpy.ndarray'>\n",
            "State shape: (4,), State type: <class 'numpy.ndarray'>\n",
            "State shape: (4,), State type: <class 'numpy.ndarray'>\n",
            "State shape: (4,), State type: <class 'numpy.ndarray'>\n",
            "State shape: (4,), State type: <class 'numpy.ndarray'>\n",
            "State shape: (4,), State type: <class 'numpy.ndarray'>\n",
            "State shape: (4,), State type: <class 'numpy.ndarray'>\n",
            "State shape: (4,), State type: <class 'numpy.ndarray'>\n",
            "State shape: (4,), State type: <class 'numpy.ndarray'>\n",
            "State shape: (4,), State type: <class 'numpy.ndarray'>\n",
            "State shape: (4,), State type: <class 'numpy.ndarray'>\n",
            "State shape: (4,), State type: <class 'numpy.ndarray'>\n",
            "State shape: (4,), State type: <class 'numpy.ndarray'>\n",
            "State shape: (4,), State type: <class 'numpy.ndarray'>\n",
            "State shape: (4,), State type: <class 'numpy.ndarray'>\n",
            "State shape: (4,), State type: <class 'numpy.ndarray'>\n",
            "State shape: (4,), State type: <class 'numpy.ndarray'>\n",
            "State shape: (4,), State type: <class 'numpy.ndarray'>\n",
            "State shape: (4,), State type: <class 'numpy.ndarray'>\n",
            "State shape: (4,), State type: <class 'numpy.ndarray'>\n",
            "State shape: (4,), State type: <class 'numpy.ndarray'>\n",
            "State shape: (4,), State type: <class 'numpy.ndarray'>\n",
            "State shape: (4,), State type: <class 'numpy.ndarray'>\n",
            "State shape: (4,), State type: <class 'numpy.ndarray'>\n",
            "State shape: (4,), State type: <class 'numpy.ndarray'>\n",
            "State shape: (4,), State type: <class 'numpy.ndarray'>\n",
            "State shape: (4,), State type: <class 'numpy.ndarray'>\n",
            "State shape: (4,), State type: <class 'numpy.ndarray'>\n",
            "State shape: (4,), State type: <class 'numpy.ndarray'>\n",
            "State shape: (4,), State type: <class 'numpy.ndarray'>\n",
            "State shape: (4,), State type: <class 'numpy.ndarray'>\n",
            "State shape: (4,), State type: <class 'numpy.ndarray'>\n",
            "State shape: (4,), State type: <class 'numpy.ndarray'>\n",
            "State shape: (4,), State type: <class 'numpy.ndarray'>\n",
            "State shape: (4,), State type: <class 'numpy.ndarray'>\n",
            "State shape: (4,), State type: <class 'numpy.ndarray'>\n",
            "State shape: (4,), State type: <class 'numpy.ndarray'>\n",
            "State shape: (4,), State type: <class 'numpy.ndarray'>\n",
            "State shape: (4,), State type: <class 'numpy.ndarray'>\n",
            "State shape: (4,), State type: <class 'numpy.ndarray'>\n",
            "State shape: (4,), State type: <class 'numpy.ndarray'>\n",
            "State shape: (4,), State type: <class 'numpy.ndarray'>\n",
            "State shape: (4,), State type: <class 'numpy.ndarray'>\n",
            "State shape: (4,), State type: <class 'numpy.ndarray'>\n",
            "State shape: (4,), State type: <class 'numpy.ndarray'>\n",
            "State shape: (4,), State type: <class 'numpy.ndarray'>\n",
            "State shape: (4,), State type: <class 'numpy.ndarray'>\n",
            "State shape: (4,), State type: <class 'numpy.ndarray'>\n",
            "State shape: (4,), State type: <class 'numpy.ndarray'>\n",
            "State shape: (4,), State type: <class 'numpy.ndarray'>\n",
            "State shape: (4,), State type: <class 'numpy.ndarray'>\n",
            "State shape: (4,), State type: <class 'numpy.ndarray'>\n",
            "State shape: (4,), State type: <class 'numpy.ndarray'>\n",
            "State shape: (4,), State type: <class 'numpy.ndarray'>\n",
            "State shape: (4,), State type: <class 'numpy.ndarray'>\n",
            "State shape: (4,), State type: <class 'numpy.ndarray'>\n",
            "State shape: (4,), State type: <class 'numpy.ndarray'>\n",
            "State shape: (4,), State type: <class 'numpy.ndarray'>\n",
            "State shape: (4,), State type: <class 'numpy.ndarray'>\n",
            "State shape: (4,), State type: <class 'numpy.ndarray'>\n",
            "State shape: (4,), State type: <class 'numpy.ndarray'>\n",
            "State shape: (4,), State type: <class 'numpy.ndarray'>\n",
            "State shape: (4,), State type: <class 'numpy.ndarray'>\n",
            "State shape: (4,), State type: <class 'numpy.ndarray'>\n",
            "State shape: (4,), State type: <class 'numpy.ndarray'>\n",
            "State shape: (4,), State type: <class 'numpy.ndarray'>\n",
            "State shape: (4,), State type: <class 'numpy.ndarray'>\n",
            "State shape: (4,), State type: <class 'numpy.ndarray'>\n",
            "State shape: (4,), State type: <class 'numpy.ndarray'>\n",
            "State shape: (4,), State type: <class 'numpy.ndarray'>\n",
            "State shape: (4,), State type: <class 'numpy.ndarray'>\n",
            "State shape: (4,), State type: <class 'numpy.ndarray'>\n",
            "State shape: (4,), State type: <class 'numpy.ndarray'>\n",
            "State shape: (4,), State type: <class 'numpy.ndarray'>\n",
            "State shape: (4,), State type: <class 'numpy.ndarray'>\n",
            "State shape: (4,), State type: <class 'numpy.ndarray'>\n",
            "State shape: (4,), State type: <class 'numpy.ndarray'>\n",
            "State shape: (4,), State type: <class 'numpy.ndarray'>\n",
            "State shape: (4,), State type: <class 'numpy.ndarray'>\n",
            "State shape: (4,), State type: <class 'numpy.ndarray'>\n",
            "State shape: (4,), State type: <class 'numpy.ndarray'>\n",
            "State shape: (4,), State type: <class 'numpy.ndarray'>\n",
            "State shape: (4,), State type: <class 'numpy.ndarray'>\n",
            "State shape: (4,), State type: <class 'numpy.ndarray'>\n",
            "State shape: (4,), State type: <class 'numpy.ndarray'>\n",
            "State shape: (4,), State type: <class 'numpy.ndarray'>\n",
            "State shape: (4,), State type: <class 'numpy.ndarray'>\n",
            "State shape: (4,), State type: <class 'numpy.ndarray'>\n",
            "State shape: (4,), State type: <class 'numpy.ndarray'>\n",
            "Episode 3 Reward: 470.0\n",
            "State shape: (4,), State type: <class 'numpy.ndarray'>\n",
            "State shape: (4,), State type: <class 'numpy.ndarray'>\n",
            "State shape: (4,), State type: <class 'numpy.ndarray'>\n",
            "State shape: (4,), State type: <class 'numpy.ndarray'>\n",
            "State shape: (4,), State type: <class 'numpy.ndarray'>\n",
            "State shape: (4,), State type: <class 'numpy.ndarray'>\n",
            "State shape: (4,), State type: <class 'numpy.ndarray'>\n",
            "State shape: (4,), State type: <class 'numpy.ndarray'>\n",
            "State shape: (4,), State type: <class 'numpy.ndarray'>\n",
            "State shape: (4,), State type: <class 'numpy.ndarray'>\n",
            "State shape: (4,), State type: <class 'numpy.ndarray'>\n",
            "State shape: (4,), State type: <class 'numpy.ndarray'>\n",
            "State shape: (4,), State type: <class 'numpy.ndarray'>\n",
            "State shape: (4,), State type: <class 'numpy.ndarray'>\n",
            "State shape: (4,), State type: <class 'numpy.ndarray'>\n",
            "State shape: (4,), State type: <class 'numpy.ndarray'>\n",
            "State shape: (4,), State type: <class 'numpy.ndarray'>\n",
            "State shape: (4,), State type: <class 'numpy.ndarray'>\n",
            "State shape: (4,), State type: <class 'numpy.ndarray'>\n",
            "State shape: (4,), State type: <class 'numpy.ndarray'>\n",
            "State shape: (4,), State type: <class 'numpy.ndarray'>\n",
            "State shape: (4,), State type: <class 'numpy.ndarray'>\n",
            "State shape: (4,), State type: <class 'numpy.ndarray'>\n",
            "State shape: (4,), State type: <class 'numpy.ndarray'>\n",
            "State shape: (4,), State type: <class 'numpy.ndarray'>\n",
            "State shape: (4,), State type: <class 'numpy.ndarray'>\n",
            "State shape: (4,), State type: <class 'numpy.ndarray'>\n",
            "State shape: (4,), State type: <class 'numpy.ndarray'>\n",
            "State shape: (4,), State type: <class 'numpy.ndarray'>\n",
            "State shape: (4,), State type: <class 'numpy.ndarray'>\n",
            "State shape: (4,), State type: <class 'numpy.ndarray'>\n",
            "State shape: (4,), State type: <class 'numpy.ndarray'>\n",
            "State shape: (4,), State type: <class 'numpy.ndarray'>\n",
            "State shape: (4,), State type: <class 'numpy.ndarray'>\n",
            "State shape: (4,), State type: <class 'numpy.ndarray'>\n",
            "State shape: (4,), State type: <class 'numpy.ndarray'>\n",
            "State shape: (4,), State type: <class 'numpy.ndarray'>\n",
            "State shape: (4,), State type: <class 'numpy.ndarray'>\n",
            "State shape: (4,), State type: <class 'numpy.ndarray'>\n",
            "State shape: (4,), State type: <class 'numpy.ndarray'>\n",
            "State shape: (4,), State type: <class 'numpy.ndarray'>\n",
            "State shape: (4,), State type: <class 'numpy.ndarray'>\n",
            "State shape: (4,), State type: <class 'numpy.ndarray'>\n",
            "State shape: (4,), State type: <class 'numpy.ndarray'>\n",
            "State shape: (4,), State type: <class 'numpy.ndarray'>\n",
            "State shape: (4,), State type: <class 'numpy.ndarray'>\n",
            "State shape: (4,), State type: <class 'numpy.ndarray'>\n",
            "State shape: (4,), State type: <class 'numpy.ndarray'>\n",
            "State shape: (4,), State type: <class 'numpy.ndarray'>\n",
            "State shape: (4,), State type: <class 'numpy.ndarray'>\n",
            "State shape: (4,), State type: <class 'numpy.ndarray'>\n",
            "State shape: (4,), State type: <class 'numpy.ndarray'>\n",
            "State shape: (4,), State type: <class 'numpy.ndarray'>\n",
            "State shape: (4,), State type: <class 'numpy.ndarray'>\n",
            "State shape: (4,), State type: <class 'numpy.ndarray'>\n",
            "State shape: (4,), State type: <class 'numpy.ndarray'>\n",
            "State shape: (4,), State type: <class 'numpy.ndarray'>\n",
            "State shape: (4,), State type: <class 'numpy.ndarray'>\n",
            "State shape: (4,), State type: <class 'numpy.ndarray'>\n",
            "State shape: (4,), State type: <class 'numpy.ndarray'>\n",
            "State shape: (4,), State type: <class 'numpy.ndarray'>\n",
            "State shape: (4,), State type: <class 'numpy.ndarray'>\n",
            "State shape: (4,), State type: <class 'numpy.ndarray'>\n",
            "State shape: (4,), State type: <class 'numpy.ndarray'>\n",
            "State shape: (4,), State type: <class 'numpy.ndarray'>\n",
            "State shape: (4,), State type: <class 'numpy.ndarray'>\n",
            "State shape: (4,), State type: <class 'numpy.ndarray'>\n",
            "State shape: (4,), State type: <class 'numpy.ndarray'>\n",
            "State shape: (4,), State type: <class 'numpy.ndarray'>\n",
            "State shape: (4,), State type: <class 'numpy.ndarray'>\n",
            "State shape: (4,), State type: <class 'numpy.ndarray'>\n",
            "State shape: (4,), State type: <class 'numpy.ndarray'>\n",
            "State shape: (4,), State type: <class 'numpy.ndarray'>\n",
            "State shape: (4,), State type: <class 'numpy.ndarray'>\n",
            "State shape: (4,), State type: <class 'numpy.ndarray'>\n",
            "State shape: (4,), State type: <class 'numpy.ndarray'>\n",
            "State shape: (4,), State type: <class 'numpy.ndarray'>\n",
            "State shape: (4,), State type: <class 'numpy.ndarray'>\n",
            "State shape: (4,), State type: <class 'numpy.ndarray'>\n",
            "State shape: (4,), State type: <class 'numpy.ndarray'>\n",
            "State shape: (4,), State type: <class 'numpy.ndarray'>\n",
            "State shape: (4,), State type: <class 'numpy.ndarray'>\n",
            "State shape: (4,), State type: <class 'numpy.ndarray'>\n",
            "State shape: (4,), State type: <class 'numpy.ndarray'>\n",
            "State shape: (4,), State type: <class 'numpy.ndarray'>\n",
            "State shape: (4,), State type: <class 'numpy.ndarray'>\n",
            "State shape: (4,), State type: <class 'numpy.ndarray'>\n",
            "State shape: (4,), State type: <class 'numpy.ndarray'>\n",
            "State shape: (4,), State type: <class 'numpy.ndarray'>\n",
            "State shape: (4,), State type: <class 'numpy.ndarray'>\n",
            "State shape: (4,), State type: <class 'numpy.ndarray'>\n",
            "State shape: (4,), State type: <class 'numpy.ndarray'>\n",
            "State shape: (4,), State type: <class 'numpy.ndarray'>\n",
            "State shape: (4,), State type: <class 'numpy.ndarray'>\n",
            "State shape: (4,), State type: <class 'numpy.ndarray'>\n",
            "State shape: (4,), State type: <class 'numpy.ndarray'>\n",
            "State shape: (4,), State type: <class 'numpy.ndarray'>\n",
            "State shape: (4,), State type: <class 'numpy.ndarray'>\n",
            "State shape: (4,), State type: <class 'numpy.ndarray'>\n",
            "State shape: (4,), State type: <class 'numpy.ndarray'>\n",
            "State shape: (4,), State type: <class 'numpy.ndarray'>\n",
            "State shape: (4,), State type: <class 'numpy.ndarray'>\n",
            "State shape: (4,), State type: <class 'numpy.ndarray'>\n",
            "State shape: (4,), State type: <class 'numpy.ndarray'>\n",
            "State shape: (4,), State type: <class 'numpy.ndarray'>\n",
            "State shape: (4,), State type: <class 'numpy.ndarray'>\n",
            "State shape: (4,), State type: <class 'numpy.ndarray'>\n",
            "State shape: (4,), State type: <class 'numpy.ndarray'>\n",
            "State shape: (4,), State type: <class 'numpy.ndarray'>\n",
            "State shape: (4,), State type: <class 'numpy.ndarray'>\n",
            "State shape: (4,), State type: <class 'numpy.ndarray'>\n",
            "State shape: (4,), State type: <class 'numpy.ndarray'>\n",
            "State shape: (4,), State type: <class 'numpy.ndarray'>\n",
            "State shape: (4,), State type: <class 'numpy.ndarray'>\n",
            "State shape: (4,), State type: <class 'numpy.ndarray'>\n",
            "State shape: (4,), State type: <class 'numpy.ndarray'>\n",
            "State shape: (4,), State type: <class 'numpy.ndarray'>\n",
            "State shape: (4,), State type: <class 'numpy.ndarray'>\n",
            "State shape: (4,), State type: <class 'numpy.ndarray'>\n",
            "State shape: (4,), State type: <class 'numpy.ndarray'>\n",
            "State shape: (4,), State type: <class 'numpy.ndarray'>\n",
            "State shape: (4,), State type: <class 'numpy.ndarray'>\n",
            "State shape: (4,), State type: <class 'numpy.ndarray'>\n",
            "State shape: (4,), State type: <class 'numpy.ndarray'>\n",
            "State shape: (4,), State type: <class 'numpy.ndarray'>\n",
            "State shape: (4,), State type: <class 'numpy.ndarray'>\n",
            "State shape: (4,), State type: <class 'numpy.ndarray'>\n",
            "State shape: (4,), State type: <class 'numpy.ndarray'>\n",
            "State shape: (4,), State type: <class 'numpy.ndarray'>\n",
            "State shape: (4,), State type: <class 'numpy.ndarray'>\n",
            "State shape: (4,), State type: <class 'numpy.ndarray'>\n",
            "State shape: (4,), State type: <class 'numpy.ndarray'>\n",
            "State shape: (4,), State type: <class 'numpy.ndarray'>\n",
            "State shape: (4,), State type: <class 'numpy.ndarray'>\n",
            "State shape: (4,), State type: <class 'numpy.ndarray'>\n",
            "State shape: (4,), State type: <class 'numpy.ndarray'>\n",
            "State shape: (4,), State type: <class 'numpy.ndarray'>\n",
            "State shape: (4,), State type: <class 'numpy.ndarray'>\n",
            "State shape: (4,), State type: <class 'numpy.ndarray'>\n",
            "State shape: (4,), State type: <class 'numpy.ndarray'>\n",
            "State shape: (4,), State type: <class 'numpy.ndarray'>\n",
            "State shape: (4,), State type: <class 'numpy.ndarray'>\n",
            "State shape: (4,), State type: <class 'numpy.ndarray'>\n",
            "State shape: (4,), State type: <class 'numpy.ndarray'>\n",
            "State shape: (4,), State type: <class 'numpy.ndarray'>\n",
            "State shape: (4,), State type: <class 'numpy.ndarray'>\n",
            "State shape: (4,), State type: <class 'numpy.ndarray'>\n",
            "State shape: (4,), State type: <class 'numpy.ndarray'>\n",
            "State shape: (4,), State type: <class 'numpy.ndarray'>\n",
            "State shape: (4,), State type: <class 'numpy.ndarray'>\n",
            "State shape: (4,), State type: <class 'numpy.ndarray'>\n",
            "State shape: (4,), State type: <class 'numpy.ndarray'>\n",
            "State shape: (4,), State type: <class 'numpy.ndarray'>\n",
            "State shape: (4,), State type: <class 'numpy.ndarray'>\n",
            "State shape: (4,), State type: <class 'numpy.ndarray'>\n",
            "State shape: (4,), State type: <class 'numpy.ndarray'>\n",
            "State shape: (4,), State type: <class 'numpy.ndarray'>\n",
            "State shape: (4,), State type: <class 'numpy.ndarray'>\n",
            "State shape: (4,), State type: <class 'numpy.ndarray'>\n",
            "State shape: (4,), State type: <class 'numpy.ndarray'>\n",
            "State shape: (4,), State type: <class 'numpy.ndarray'>\n",
            "State shape: (4,), State type: <class 'numpy.ndarray'>\n",
            "State shape: (4,), State type: <class 'numpy.ndarray'>\n",
            "State shape: (4,), State type: <class 'numpy.ndarray'>\n",
            "State shape: (4,), State type: <class 'numpy.ndarray'>\n",
            "State shape: (4,), State type: <class 'numpy.ndarray'>\n",
            "State shape: (4,), State type: <class 'numpy.ndarray'>\n",
            "State shape: (4,), State type: <class 'numpy.ndarray'>\n",
            "State shape: (4,), State type: <class 'numpy.ndarray'>\n",
            "State shape: (4,), State type: <class 'numpy.ndarray'>\n",
            "State shape: (4,), State type: <class 'numpy.ndarray'>\n",
            "State shape: (4,), State type: <class 'numpy.ndarray'>\n",
            "State shape: (4,), State type: <class 'numpy.ndarray'>\n",
            "State shape: (4,), State type: <class 'numpy.ndarray'>\n",
            "State shape: (4,), State type: <class 'numpy.ndarray'>\n",
            "State shape: (4,), State type: <class 'numpy.ndarray'>\n",
            "State shape: (4,), State type: <class 'numpy.ndarray'>\n",
            "State shape: (4,), State type: <class 'numpy.ndarray'>\n",
            "State shape: (4,), State type: <class 'numpy.ndarray'>\n",
            "State shape: (4,), State type: <class 'numpy.ndarray'>\n",
            "State shape: (4,), State type: <class 'numpy.ndarray'>\n",
            "State shape: (4,), State type: <class 'numpy.ndarray'>\n",
            "State shape: (4,), State type: <class 'numpy.ndarray'>\n",
            "State shape: (4,), State type: <class 'numpy.ndarray'>\n",
            "State shape: (4,), State type: <class 'numpy.ndarray'>\n",
            "State shape: (4,), State type: <class 'numpy.ndarray'>\n",
            "State shape: (4,), State type: <class 'numpy.ndarray'>\n",
            "State shape: (4,), State type: <class 'numpy.ndarray'>\n",
            "State shape: (4,), State type: <class 'numpy.ndarray'>\n",
            "State shape: (4,), State type: <class 'numpy.ndarray'>\n",
            "State shape: (4,), State type: <class 'numpy.ndarray'>\n",
            "State shape: (4,), State type: <class 'numpy.ndarray'>\n",
            "State shape: (4,), State type: <class 'numpy.ndarray'>\n",
            "State shape: (4,), State type: <class 'numpy.ndarray'>\n",
            "State shape: (4,), State type: <class 'numpy.ndarray'>\n",
            "State shape: (4,), State type: <class 'numpy.ndarray'>\n",
            "State shape: (4,), State type: <class 'numpy.ndarray'>\n",
            "State shape: (4,), State type: <class 'numpy.ndarray'>\n",
            "State shape: (4,), State type: <class 'numpy.ndarray'>\n",
            "State shape: (4,), State type: <class 'numpy.ndarray'>\n",
            "State shape: (4,), State type: <class 'numpy.ndarray'>\n",
            "State shape: (4,), State type: <class 'numpy.ndarray'>\n",
            "State shape: (4,), State type: <class 'numpy.ndarray'>\n",
            "State shape: (4,), State type: <class 'numpy.ndarray'>\n",
            "State shape: (4,), State type: <class 'numpy.ndarray'>\n",
            "State shape: (4,), State type: <class 'numpy.ndarray'>\n",
            "State shape: (4,), State type: <class 'numpy.ndarray'>\n",
            "State shape: (4,), State type: <class 'numpy.ndarray'>\n",
            "State shape: (4,), State type: <class 'numpy.ndarray'>\n",
            "State shape: (4,), State type: <class 'numpy.ndarray'>\n",
            "State shape: (4,), State type: <class 'numpy.ndarray'>\n",
            "State shape: (4,), State type: <class 'numpy.ndarray'>\n",
            "State shape: (4,), State type: <class 'numpy.ndarray'>\n",
            "State shape: (4,), State type: <class 'numpy.ndarray'>\n",
            "State shape: (4,), State type: <class 'numpy.ndarray'>\n",
            "State shape: (4,), State type: <class 'numpy.ndarray'>\n",
            "State shape: (4,), State type: <class 'numpy.ndarray'>\n",
            "State shape: (4,), State type: <class 'numpy.ndarray'>\n",
            "State shape: (4,), State type: <class 'numpy.ndarray'>\n",
            "State shape: (4,), State type: <class 'numpy.ndarray'>\n",
            "State shape: (4,), State type: <class 'numpy.ndarray'>\n",
            "State shape: (4,), State type: <class 'numpy.ndarray'>\n",
            "State shape: (4,), State type: <class 'numpy.ndarray'>\n",
            "State shape: (4,), State type: <class 'numpy.ndarray'>\n",
            "State shape: (4,), State type: <class 'numpy.ndarray'>\n",
            "State shape: (4,), State type: <class 'numpy.ndarray'>\n",
            "State shape: (4,), State type: <class 'numpy.ndarray'>\n",
            "State shape: (4,), State type: <class 'numpy.ndarray'>\n",
            "State shape: (4,), State type: <class 'numpy.ndarray'>\n",
            "State shape: (4,), State type: <class 'numpy.ndarray'>\n",
            "State shape: (4,), State type: <class 'numpy.ndarray'>\n",
            "State shape: (4,), State type: <class 'numpy.ndarray'>\n",
            "State shape: (4,), State type: <class 'numpy.ndarray'>\n",
            "State shape: (4,), State type: <class 'numpy.ndarray'>\n",
            "State shape: (4,), State type: <class 'numpy.ndarray'>\n",
            "State shape: (4,), State type: <class 'numpy.ndarray'>\n",
            "State shape: (4,), State type: <class 'numpy.ndarray'>\n",
            "State shape: (4,), State type: <class 'numpy.ndarray'>\n",
            "State shape: (4,), State type: <class 'numpy.ndarray'>\n",
            "State shape: (4,), State type: <class 'numpy.ndarray'>\n",
            "State shape: (4,), State type: <class 'numpy.ndarray'>\n",
            "State shape: (4,), State type: <class 'numpy.ndarray'>\n",
            "State shape: (4,), State type: <class 'numpy.ndarray'>\n",
            "State shape: (4,), State type: <class 'numpy.ndarray'>\n",
            "State shape: (4,), State type: <class 'numpy.ndarray'>\n",
            "State shape: (4,), State type: <class 'numpy.ndarray'>\n",
            "State shape: (4,), State type: <class 'numpy.ndarray'>\n",
            "State shape: (4,), State type: <class 'numpy.ndarray'>\n",
            "State shape: (4,), State type: <class 'numpy.ndarray'>\n",
            "State shape: (4,), State type: <class 'numpy.ndarray'>\n",
            "State shape: (4,), State type: <class 'numpy.ndarray'>\n",
            "State shape: (4,), State type: <class 'numpy.ndarray'>\n",
            "State shape: (4,), State type: <class 'numpy.ndarray'>\n",
            "State shape: (4,), State type: <class 'numpy.ndarray'>\n",
            "State shape: (4,), State type: <class 'numpy.ndarray'>\n",
            "State shape: (4,), State type: <class 'numpy.ndarray'>\n",
            "State shape: (4,), State type: <class 'numpy.ndarray'>\n",
            "State shape: (4,), State type: <class 'numpy.ndarray'>\n",
            "State shape: (4,), State type: <class 'numpy.ndarray'>\n",
            "State shape: (4,), State type: <class 'numpy.ndarray'>\n",
            "State shape: (4,), State type: <class 'numpy.ndarray'>\n",
            "State shape: (4,), State type: <class 'numpy.ndarray'>\n",
            "State shape: (4,), State type: <class 'numpy.ndarray'>\n",
            "State shape: (4,), State type: <class 'numpy.ndarray'>\n",
            "State shape: (4,), State type: <class 'numpy.ndarray'>\n",
            "State shape: (4,), State type: <class 'numpy.ndarray'>\n",
            "State shape: (4,), State type: <class 'numpy.ndarray'>\n",
            "State shape: (4,), State type: <class 'numpy.ndarray'>\n",
            "State shape: (4,), State type: <class 'numpy.ndarray'>\n",
            "State shape: (4,), State type: <class 'numpy.ndarray'>\n",
            "State shape: (4,), State type: <class 'numpy.ndarray'>\n",
            "State shape: (4,), State type: <class 'numpy.ndarray'>\n",
            "State shape: (4,), State type: <class 'numpy.ndarray'>\n",
            "State shape: (4,), State type: <class 'numpy.ndarray'>\n",
            "State shape: (4,), State type: <class 'numpy.ndarray'>\n",
            "State shape: (4,), State type: <class 'numpy.ndarray'>\n",
            "State shape: (4,), State type: <class 'numpy.ndarray'>\n",
            "State shape: (4,), State type: <class 'numpy.ndarray'>\n",
            "State shape: (4,), State type: <class 'numpy.ndarray'>\n",
            "State shape: (4,), State type: <class 'numpy.ndarray'>\n",
            "State shape: (4,), State type: <class 'numpy.ndarray'>\n",
            "State shape: (4,), State type: <class 'numpy.ndarray'>\n",
            "State shape: (4,), State type: <class 'numpy.ndarray'>\n",
            "State shape: (4,), State type: <class 'numpy.ndarray'>\n",
            "State shape: (4,), State type: <class 'numpy.ndarray'>\n",
            "State shape: (4,), State type: <class 'numpy.ndarray'>\n",
            "State shape: (4,), State type: <class 'numpy.ndarray'>\n",
            "State shape: (4,), State type: <class 'numpy.ndarray'>\n",
            "State shape: (4,), State type: <class 'numpy.ndarray'>\n",
            "State shape: (4,), State type: <class 'numpy.ndarray'>\n",
            "State shape: (4,), State type: <class 'numpy.ndarray'>\n",
            "State shape: (4,), State type: <class 'numpy.ndarray'>\n",
            "State shape: (4,), State type: <class 'numpy.ndarray'>\n",
            "State shape: (4,), State type: <class 'numpy.ndarray'>\n",
            "State shape: (4,), State type: <class 'numpy.ndarray'>\n",
            "State shape: (4,), State type: <class 'numpy.ndarray'>\n",
            "State shape: (4,), State type: <class 'numpy.ndarray'>\n",
            "State shape: (4,), State type: <class 'numpy.ndarray'>\n",
            "State shape: (4,), State type: <class 'numpy.ndarray'>\n",
            "State shape: (4,), State type: <class 'numpy.ndarray'>\n",
            "State shape: (4,), State type: <class 'numpy.ndarray'>\n",
            "State shape: (4,), State type: <class 'numpy.ndarray'>\n",
            "State shape: (4,), State type: <class 'numpy.ndarray'>\n",
            "State shape: (4,), State type: <class 'numpy.ndarray'>\n",
            "State shape: (4,), State type: <class 'numpy.ndarray'>\n",
            "State shape: (4,), State type: <class 'numpy.ndarray'>\n",
            "State shape: (4,), State type: <class 'numpy.ndarray'>\n",
            "State shape: (4,), State type: <class 'numpy.ndarray'>\n",
            "State shape: (4,), State type: <class 'numpy.ndarray'>\n",
            "State shape: (4,), State type: <class 'numpy.ndarray'>\n",
            "State shape: (4,), State type: <class 'numpy.ndarray'>\n",
            "State shape: (4,), State type: <class 'numpy.ndarray'>\n",
            "State shape: (4,), State type: <class 'numpy.ndarray'>\n",
            "State shape: (4,), State type: <class 'numpy.ndarray'>\n",
            "State shape: (4,), State type: <class 'numpy.ndarray'>\n",
            "State shape: (4,), State type: <class 'numpy.ndarray'>\n",
            "State shape: (4,), State type: <class 'numpy.ndarray'>\n",
            "State shape: (4,), State type: <class 'numpy.ndarray'>\n",
            "State shape: (4,), State type: <class 'numpy.ndarray'>\n",
            "State shape: (4,), State type: <class 'numpy.ndarray'>\n",
            "State shape: (4,), State type: <class 'numpy.ndarray'>\n",
            "State shape: (4,), State type: <class 'numpy.ndarray'>\n",
            "State shape: (4,), State type: <class 'numpy.ndarray'>\n",
            "State shape: (4,), State type: <class 'numpy.ndarray'>\n",
            "State shape: (4,), State type: <class 'numpy.ndarray'>\n",
            "State shape: (4,), State type: <class 'numpy.ndarray'>\n",
            "State shape: (4,), State type: <class 'numpy.ndarray'>\n",
            "State shape: (4,), State type: <class 'numpy.ndarray'>\n",
            "State shape: (4,), State type: <class 'numpy.ndarray'>\n",
            "State shape: (4,), State type: <class 'numpy.ndarray'>\n",
            "State shape: (4,), State type: <class 'numpy.ndarray'>\n",
            "State shape: (4,), State type: <class 'numpy.ndarray'>\n",
            "State shape: (4,), State type: <class 'numpy.ndarray'>\n",
            "State shape: (4,), State type: <class 'numpy.ndarray'>\n",
            "State shape: (4,), State type: <class 'numpy.ndarray'>\n",
            "State shape: (4,), State type: <class 'numpy.ndarray'>\n",
            "State shape: (4,), State type: <class 'numpy.ndarray'>\n",
            "State shape: (4,), State type: <class 'numpy.ndarray'>\n",
            "State shape: (4,), State type: <class 'numpy.ndarray'>\n",
            "State shape: (4,), State type: <class 'numpy.ndarray'>\n",
            "State shape: (4,), State type: <class 'numpy.ndarray'>\n",
            "State shape: (4,), State type: <class 'numpy.ndarray'>\n",
            "State shape: (4,), State type: <class 'numpy.ndarray'>\n",
            "State shape: (4,), State type: <class 'numpy.ndarray'>\n",
            "State shape: (4,), State type: <class 'numpy.ndarray'>\n",
            "State shape: (4,), State type: <class 'numpy.ndarray'>\n",
            "State shape: (4,), State type: <class 'numpy.ndarray'>\n",
            "State shape: (4,), State type: <class 'numpy.ndarray'>\n",
            "State shape: (4,), State type: <class 'numpy.ndarray'>\n",
            "State shape: (4,), State type: <class 'numpy.ndarray'>\n",
            "State shape: (4,), State type: <class 'numpy.ndarray'>\n",
            "State shape: (4,), State type: <class 'numpy.ndarray'>\n",
            "State shape: (4,), State type: <class 'numpy.ndarray'>\n",
            "State shape: (4,), State type: <class 'numpy.ndarray'>\n",
            "State shape: (4,), State type: <class 'numpy.ndarray'>\n",
            "State shape: (4,), State type: <class 'numpy.ndarray'>\n",
            "State shape: (4,), State type: <class 'numpy.ndarray'>\n",
            "State shape: (4,), State type: <class 'numpy.ndarray'>\n",
            "State shape: (4,), State type: <class 'numpy.ndarray'>\n",
            "State shape: (4,), State type: <class 'numpy.ndarray'>\n",
            "State shape: (4,), State type: <class 'numpy.ndarray'>\n",
            "State shape: (4,), State type: <class 'numpy.ndarray'>\n",
            "State shape: (4,), State type: <class 'numpy.ndarray'>\n",
            "State shape: (4,), State type: <class 'numpy.ndarray'>\n",
            "State shape: (4,), State type: <class 'numpy.ndarray'>\n",
            "State shape: (4,), State type: <class 'numpy.ndarray'>\n",
            "State shape: (4,), State type: <class 'numpy.ndarray'>\n",
            "State shape: (4,), State type: <class 'numpy.ndarray'>\n",
            "State shape: (4,), State type: <class 'numpy.ndarray'>\n",
            "State shape: (4,), State type: <class 'numpy.ndarray'>\n",
            "State shape: (4,), State type: <class 'numpy.ndarray'>\n",
            "State shape: (4,), State type: <class 'numpy.ndarray'>\n",
            "State shape: (4,), State type: <class 'numpy.ndarray'>\n",
            "State shape: (4,), State type: <class 'numpy.ndarray'>\n",
            "State shape: (4,), State type: <class 'numpy.ndarray'>\n",
            "State shape: (4,), State type: <class 'numpy.ndarray'>\n",
            "State shape: (4,), State type: <class 'numpy.ndarray'>\n",
            "State shape: (4,), State type: <class 'numpy.ndarray'>\n",
            "State shape: (4,), State type: <class 'numpy.ndarray'>\n",
            "State shape: (4,), State type: <class 'numpy.ndarray'>\n",
            "State shape: (4,), State type: <class 'numpy.ndarray'>\n",
            "State shape: (4,), State type: <class 'numpy.ndarray'>\n",
            "State shape: (4,), State type: <class 'numpy.ndarray'>\n",
            "State shape: (4,), State type: <class 'numpy.ndarray'>\n",
            "State shape: (4,), State type: <class 'numpy.ndarray'>\n",
            "State shape: (4,), State type: <class 'numpy.ndarray'>\n",
            "State shape: (4,), State type: <class 'numpy.ndarray'>\n",
            "State shape: (4,), State type: <class 'numpy.ndarray'>\n",
            "State shape: (4,), State type: <class 'numpy.ndarray'>\n",
            "State shape: (4,), State type: <class 'numpy.ndarray'>\n",
            "State shape: (4,), State type: <class 'numpy.ndarray'>\n",
            "State shape: (4,), State type: <class 'numpy.ndarray'>\n",
            "State shape: (4,), State type: <class 'numpy.ndarray'>\n",
            "State shape: (4,), State type: <class 'numpy.ndarray'>\n",
            "State shape: (4,), State type: <class 'numpy.ndarray'>\n",
            "State shape: (4,), State type: <class 'numpy.ndarray'>\n",
            "State shape: (4,), State type: <class 'numpy.ndarray'>\n",
            "State shape: (4,), State type: <class 'numpy.ndarray'>\n",
            "State shape: (4,), State type: <class 'numpy.ndarray'>\n",
            "State shape: (4,), State type: <class 'numpy.ndarray'>\n",
            "State shape: (4,), State type: <class 'numpy.ndarray'>\n",
            "State shape: (4,), State type: <class 'numpy.ndarray'>\n",
            "State shape: (4,), State type: <class 'numpy.ndarray'>\n",
            "State shape: (4,), State type: <class 'numpy.ndarray'>\n",
            "State shape: (4,), State type: <class 'numpy.ndarray'>\n",
            "State shape: (4,), State type: <class 'numpy.ndarray'>\n",
            "State shape: (4,), State type: <class 'numpy.ndarray'>\n",
            "State shape: (4,), State type: <class 'numpy.ndarray'>\n",
            "State shape: (4,), State type: <class 'numpy.ndarray'>\n",
            "State shape: (4,), State type: <class 'numpy.ndarray'>\n",
            "State shape: (4,), State type: <class 'numpy.ndarray'>\n",
            "State shape: (4,), State type: <class 'numpy.ndarray'>\n",
            "State shape: (4,), State type: <class 'numpy.ndarray'>\n",
            "State shape: (4,), State type: <class 'numpy.ndarray'>\n",
            "State shape: (4,), State type: <class 'numpy.ndarray'>\n",
            "State shape: (4,), State type: <class 'numpy.ndarray'>\n",
            "State shape: (4,), State type: <class 'numpy.ndarray'>\n",
            "State shape: (4,), State type: <class 'numpy.ndarray'>\n",
            "State shape: (4,), State type: <class 'numpy.ndarray'>\n",
            "State shape: (4,), State type: <class 'numpy.ndarray'>\n",
            "State shape: (4,), State type: <class 'numpy.ndarray'>\n",
            "State shape: (4,), State type: <class 'numpy.ndarray'>\n",
            "State shape: (4,), State type: <class 'numpy.ndarray'>\n",
            "State shape: (4,), State type: <class 'numpy.ndarray'>\n",
            "State shape: (4,), State type: <class 'numpy.ndarray'>\n",
            "State shape: (4,), State type: <class 'numpy.ndarray'>\n",
            "State shape: (4,), State type: <class 'numpy.ndarray'>\n",
            "State shape: (4,), State type: <class 'numpy.ndarray'>\n",
            "State shape: (4,), State type: <class 'numpy.ndarray'>\n",
            "State shape: (4,), State type: <class 'numpy.ndarray'>\n",
            "State shape: (4,), State type: <class 'numpy.ndarray'>\n",
            "State shape: (4,), State type: <class 'numpy.ndarray'>\n",
            "State shape: (4,), State type: <class 'numpy.ndarray'>\n",
            "State shape: (4,), State type: <class 'numpy.ndarray'>\n",
            "State shape: (4,), State type: <class 'numpy.ndarray'>\n",
            "State shape: (4,), State type: <class 'numpy.ndarray'>\n",
            "State shape: (4,), State type: <class 'numpy.ndarray'>\n",
            "State shape: (4,), State type: <class 'numpy.ndarray'>\n",
            "State shape: (4,), State type: <class 'numpy.ndarray'>\n",
            "State shape: (4,), State type: <class 'numpy.ndarray'>\n",
            "State shape: (4,), State type: <class 'numpy.ndarray'>\n",
            "State shape: (4,), State type: <class 'numpy.ndarray'>\n",
            "State shape: (4,), State type: <class 'numpy.ndarray'>\n",
            "State shape: (4,), State type: <class 'numpy.ndarray'>\n",
            "State shape: (4,), State type: <class 'numpy.ndarray'>\n",
            "State shape: (4,), State type: <class 'numpy.ndarray'>\n",
            "State shape: (4,), State type: <class 'numpy.ndarray'>\n",
            "State shape: (4,), State type: <class 'numpy.ndarray'>\n",
            "State shape: (4,), State type: <class 'numpy.ndarray'>\n",
            "State shape: (4,), State type: <class 'numpy.ndarray'>\n",
            "State shape: (4,), State type: <class 'numpy.ndarray'>\n",
            "State shape: (4,), State type: <class 'numpy.ndarray'>\n",
            "State shape: (4,), State type: <class 'numpy.ndarray'>\n",
            "State shape: (4,), State type: <class 'numpy.ndarray'>\n",
            "State shape: (4,), State type: <class 'numpy.ndarray'>\n",
            "State shape: (4,), State type: <class 'numpy.ndarray'>\n",
            "State shape: (4,), State type: <class 'numpy.ndarray'>\n",
            "State shape: (4,), State type: <class 'numpy.ndarray'>\n",
            "State shape: (4,), State type: <class 'numpy.ndarray'>\n",
            "State shape: (4,), State type: <class 'numpy.ndarray'>\n",
            "State shape: (4,), State type: <class 'numpy.ndarray'>\n",
            "State shape: (4,), State type: <class 'numpy.ndarray'>\n",
            "State shape: (4,), State type: <class 'numpy.ndarray'>\n",
            "State shape: (4,), State type: <class 'numpy.ndarray'>\n",
            "State shape: (4,), State type: <class 'numpy.ndarray'>\n",
            "State shape: (4,), State type: <class 'numpy.ndarray'>\n",
            "State shape: (4,), State type: <class 'numpy.ndarray'>\n",
            "State shape: (4,), State type: <class 'numpy.ndarray'>\n",
            "State shape: (4,), State type: <class 'numpy.ndarray'>\n",
            "State shape: (4,), State type: <class 'numpy.ndarray'>\n",
            "State shape: (4,), State type: <class 'numpy.ndarray'>\n",
            "State shape: (4,), State type: <class 'numpy.ndarray'>\n",
            "State shape: (4,), State type: <class 'numpy.ndarray'>\n",
            "State shape: (4,), State type: <class 'numpy.ndarray'>\n",
            "State shape: (4,), State type: <class 'numpy.ndarray'>\n",
            "State shape: (4,), State type: <class 'numpy.ndarray'>\n",
            "State shape: (4,), State type: <class 'numpy.ndarray'>\n",
            "State shape: (4,), State type: <class 'numpy.ndarray'>\n",
            "State shape: (4,), State type: <class 'numpy.ndarray'>\n",
            "State shape: (4,), State type: <class 'numpy.ndarray'>\n",
            "State shape: (4,), State type: <class 'numpy.ndarray'>\n",
            "State shape: (4,), State type: <class 'numpy.ndarray'>\n",
            "State shape: (4,), State type: <class 'numpy.ndarray'>\n",
            "State shape: (4,), State type: <class 'numpy.ndarray'>\n",
            "State shape: (4,), State type: <class 'numpy.ndarray'>\n",
            "State shape: (4,), State type: <class 'numpy.ndarray'>\n",
            "State shape: (4,), State type: <class 'numpy.ndarray'>\n",
            "State shape: (4,), State type: <class 'numpy.ndarray'>\n",
            "State shape: (4,), State type: <class 'numpy.ndarray'>\n",
            "State shape: (4,), State type: <class 'numpy.ndarray'>\n",
            "State shape: (4,), State type: <class 'numpy.ndarray'>\n",
            "State shape: (4,), State type: <class 'numpy.ndarray'>\n",
            "State shape: (4,), State type: <class 'numpy.ndarray'>\n",
            "State shape: (4,), State type: <class 'numpy.ndarray'>\n",
            "State shape: (4,), State type: <class 'numpy.ndarray'>\n",
            "State shape: (4,), State type: <class 'numpy.ndarray'>\n",
            "State shape: (4,), State type: <class 'numpy.ndarray'>\n",
            "State shape: (4,), State type: <class 'numpy.ndarray'>\n",
            "State shape: (4,), State type: <class 'numpy.ndarray'>\n",
            "State shape: (4,), State type: <class 'numpy.ndarray'>\n",
            "Episode 4 Reward: 500.0\n",
            "State shape: (4,), State type: <class 'numpy.ndarray'>\n",
            "State shape: (4,), State type: <class 'numpy.ndarray'>\n",
            "State shape: (4,), State type: <class 'numpy.ndarray'>\n",
            "State shape: (4,), State type: <class 'numpy.ndarray'>\n",
            "State shape: (4,), State type: <class 'numpy.ndarray'>\n",
            "State shape: (4,), State type: <class 'numpy.ndarray'>\n",
            "State shape: (4,), State type: <class 'numpy.ndarray'>\n",
            "State shape: (4,), State type: <class 'numpy.ndarray'>\n",
            "State shape: (4,), State type: <class 'numpy.ndarray'>\n",
            "State shape: (4,), State type: <class 'numpy.ndarray'>\n",
            "State shape: (4,), State type: <class 'numpy.ndarray'>\n",
            "State shape: (4,), State type: <class 'numpy.ndarray'>\n",
            "State shape: (4,), State type: <class 'numpy.ndarray'>\n",
            "State shape: (4,), State type: <class 'numpy.ndarray'>\n",
            "State shape: (4,), State type: <class 'numpy.ndarray'>\n",
            "State shape: (4,), State type: <class 'numpy.ndarray'>\n",
            "State shape: (4,), State type: <class 'numpy.ndarray'>\n",
            "State shape: (4,), State type: <class 'numpy.ndarray'>\n",
            "State shape: (4,), State type: <class 'numpy.ndarray'>\n",
            "State shape: (4,), State type: <class 'numpy.ndarray'>\n",
            "State shape: (4,), State type: <class 'numpy.ndarray'>\n",
            "State shape: (4,), State type: <class 'numpy.ndarray'>\n",
            "State shape: (4,), State type: <class 'numpy.ndarray'>\n",
            "State shape: (4,), State type: <class 'numpy.ndarray'>\n",
            "State shape: (4,), State type: <class 'numpy.ndarray'>\n",
            "State shape: (4,), State type: <class 'numpy.ndarray'>\n",
            "State shape: (4,), State type: <class 'numpy.ndarray'>\n",
            "State shape: (4,), State type: <class 'numpy.ndarray'>\n",
            "State shape: (4,), State type: <class 'numpy.ndarray'>\n",
            "State shape: (4,), State type: <class 'numpy.ndarray'>\n",
            "State shape: (4,), State type: <class 'numpy.ndarray'>\n",
            "State shape: (4,), State type: <class 'numpy.ndarray'>\n",
            "State shape: (4,), State type: <class 'numpy.ndarray'>\n",
            "State shape: (4,), State type: <class 'numpy.ndarray'>\n",
            "State shape: (4,), State type: <class 'numpy.ndarray'>\n",
            "State shape: (4,), State type: <class 'numpy.ndarray'>\n",
            "State shape: (4,), State type: <class 'numpy.ndarray'>\n",
            "State shape: (4,), State type: <class 'numpy.ndarray'>\n",
            "State shape: (4,), State type: <class 'numpy.ndarray'>\n",
            "State shape: (4,), State type: <class 'numpy.ndarray'>\n",
            "State shape: (4,), State type: <class 'numpy.ndarray'>\n",
            "State shape: (4,), State type: <class 'numpy.ndarray'>\n",
            "State shape: (4,), State type: <class 'numpy.ndarray'>\n",
            "State shape: (4,), State type: <class 'numpy.ndarray'>\n",
            "State shape: (4,), State type: <class 'numpy.ndarray'>\n",
            "State shape: (4,), State type: <class 'numpy.ndarray'>\n",
            "State shape: (4,), State type: <class 'numpy.ndarray'>\n",
            "State shape: (4,), State type: <class 'numpy.ndarray'>\n",
            "State shape: (4,), State type: <class 'numpy.ndarray'>\n",
            "State shape: (4,), State type: <class 'numpy.ndarray'>\n",
            "State shape: (4,), State type: <class 'numpy.ndarray'>\n",
            "State shape: (4,), State type: <class 'numpy.ndarray'>\n",
            "State shape: (4,), State type: <class 'numpy.ndarray'>\n",
            "State shape: (4,), State type: <class 'numpy.ndarray'>\n",
            "State shape: (4,), State type: <class 'numpy.ndarray'>\n",
            "State shape: (4,), State type: <class 'numpy.ndarray'>\n",
            "State shape: (4,), State type: <class 'numpy.ndarray'>\n",
            "State shape: (4,), State type: <class 'numpy.ndarray'>\n",
            "State shape: (4,), State type: <class 'numpy.ndarray'>\n",
            "State shape: (4,), State type: <class 'numpy.ndarray'>\n",
            "State shape: (4,), State type: <class 'numpy.ndarray'>\n",
            "State shape: (4,), State type: <class 'numpy.ndarray'>\n",
            "State shape: (4,), State type: <class 'numpy.ndarray'>\n",
            "State shape: (4,), State type: <class 'numpy.ndarray'>\n",
            "State shape: (4,), State type: <class 'numpy.ndarray'>\n",
            "State shape: (4,), State type: <class 'numpy.ndarray'>\n",
            "State shape: (4,), State type: <class 'numpy.ndarray'>\n",
            "State shape: (4,), State type: <class 'numpy.ndarray'>\n",
            "State shape: (4,), State type: <class 'numpy.ndarray'>\n",
            "State shape: (4,), State type: <class 'numpy.ndarray'>\n",
            "State shape: (4,), State type: <class 'numpy.ndarray'>\n",
            "State shape: (4,), State type: <class 'numpy.ndarray'>\n",
            "State shape: (4,), State type: <class 'numpy.ndarray'>\n",
            "State shape: (4,), State type: <class 'numpy.ndarray'>\n",
            "State shape: (4,), State type: <class 'numpy.ndarray'>\n",
            "State shape: (4,), State type: <class 'numpy.ndarray'>\n",
            "State shape: (4,), State type: <class 'numpy.ndarray'>\n",
            "State shape: (4,), State type: <class 'numpy.ndarray'>\n",
            "State shape: (4,), State type: <class 'numpy.ndarray'>\n",
            "State shape: (4,), State type: <class 'numpy.ndarray'>\n",
            "State shape: (4,), State type: <class 'numpy.ndarray'>\n",
            "State shape: (4,), State type: <class 'numpy.ndarray'>\n",
            "State shape: (4,), State type: <class 'numpy.ndarray'>\n",
            "State shape: (4,), State type: <class 'numpy.ndarray'>\n",
            "State shape: (4,), State type: <class 'numpy.ndarray'>\n",
            "State shape: (4,), State type: <class 'numpy.ndarray'>\n",
            "State shape: (4,), State type: <class 'numpy.ndarray'>\n",
            "State shape: (4,), State type: <class 'numpy.ndarray'>\n",
            "State shape: (4,), State type: <class 'numpy.ndarray'>\n",
            "State shape: (4,), State type: <class 'numpy.ndarray'>\n",
            "State shape: (4,), State type: <class 'numpy.ndarray'>\n",
            "State shape: (4,), State type: <class 'numpy.ndarray'>\n",
            "State shape: (4,), State type: <class 'numpy.ndarray'>\n",
            "State shape: (4,), State type: <class 'numpy.ndarray'>\n",
            "State shape: (4,), State type: <class 'numpy.ndarray'>\n",
            "State shape: (4,), State type: <class 'numpy.ndarray'>\n",
            "State shape: (4,), State type: <class 'numpy.ndarray'>\n",
            "State shape: (4,), State type: <class 'numpy.ndarray'>\n",
            "State shape: (4,), State type: <class 'numpy.ndarray'>\n",
            "State shape: (4,), State type: <class 'numpy.ndarray'>\n",
            "State shape: (4,), State type: <class 'numpy.ndarray'>\n",
            "State shape: (4,), State type: <class 'numpy.ndarray'>\n",
            "State shape: (4,), State type: <class 'numpy.ndarray'>\n",
            "State shape: (4,), State type: <class 'numpy.ndarray'>\n",
            "State shape: (4,), State type: <class 'numpy.ndarray'>\n",
            "State shape: (4,), State type: <class 'numpy.ndarray'>\n",
            "State shape: (4,), State type: <class 'numpy.ndarray'>\n",
            "State shape: (4,), State type: <class 'numpy.ndarray'>\n",
            "State shape: (4,), State type: <class 'numpy.ndarray'>\n",
            "State shape: (4,), State type: <class 'numpy.ndarray'>\n",
            "State shape: (4,), State type: <class 'numpy.ndarray'>\n",
            "State shape: (4,), State type: <class 'numpy.ndarray'>\n",
            "State shape: (4,), State type: <class 'numpy.ndarray'>\n",
            "State shape: (4,), State type: <class 'numpy.ndarray'>\n",
            "State shape: (4,), State type: <class 'numpy.ndarray'>\n",
            "State shape: (4,), State type: <class 'numpy.ndarray'>\n",
            "State shape: (4,), State type: <class 'numpy.ndarray'>\n",
            "State shape: (4,), State type: <class 'numpy.ndarray'>\n",
            "State shape: (4,), State type: <class 'numpy.ndarray'>\n",
            "State shape: (4,), State type: <class 'numpy.ndarray'>\n",
            "State shape: (4,), State type: <class 'numpy.ndarray'>\n",
            "State shape: (4,), State type: <class 'numpy.ndarray'>\n",
            "State shape: (4,), State type: <class 'numpy.ndarray'>\n",
            "State shape: (4,), State type: <class 'numpy.ndarray'>\n",
            "State shape: (4,), State type: <class 'numpy.ndarray'>\n",
            "State shape: (4,), State type: <class 'numpy.ndarray'>\n",
            "State shape: (4,), State type: <class 'numpy.ndarray'>\n",
            "State shape: (4,), State type: <class 'numpy.ndarray'>\n",
            "State shape: (4,), State type: <class 'numpy.ndarray'>\n",
            "State shape: (4,), State type: <class 'numpy.ndarray'>\n",
            "State shape: (4,), State type: <class 'numpy.ndarray'>\n",
            "State shape: (4,), State type: <class 'numpy.ndarray'>\n",
            "State shape: (4,), State type: <class 'numpy.ndarray'>\n",
            "State shape: (4,), State type: <class 'numpy.ndarray'>\n",
            "State shape: (4,), State type: <class 'numpy.ndarray'>\n",
            "State shape: (4,), State type: <class 'numpy.ndarray'>\n",
            "State shape: (4,), State type: <class 'numpy.ndarray'>\n",
            "State shape: (4,), State type: <class 'numpy.ndarray'>\n",
            "State shape: (4,), State type: <class 'numpy.ndarray'>\n",
            "State shape: (4,), State type: <class 'numpy.ndarray'>\n",
            "State shape: (4,), State type: <class 'numpy.ndarray'>\n",
            "State shape: (4,), State type: <class 'numpy.ndarray'>\n",
            "State shape: (4,), State type: <class 'numpy.ndarray'>\n",
            "State shape: (4,), State type: <class 'numpy.ndarray'>\n",
            "State shape: (4,), State type: <class 'numpy.ndarray'>\n",
            "State shape: (4,), State type: <class 'numpy.ndarray'>\n",
            "State shape: (4,), State type: <class 'numpy.ndarray'>\n",
            "State shape: (4,), State type: <class 'numpy.ndarray'>\n",
            "State shape: (4,), State type: <class 'numpy.ndarray'>\n",
            "State shape: (4,), State type: <class 'numpy.ndarray'>\n",
            "State shape: (4,), State type: <class 'numpy.ndarray'>\n",
            "State shape: (4,), State type: <class 'numpy.ndarray'>\n",
            "State shape: (4,), State type: <class 'numpy.ndarray'>\n",
            "State shape: (4,), State type: <class 'numpy.ndarray'>\n",
            "State shape: (4,), State type: <class 'numpy.ndarray'>\n",
            "State shape: (4,), State type: <class 'numpy.ndarray'>\n",
            "State shape: (4,), State type: <class 'numpy.ndarray'>\n",
            "State shape: (4,), State type: <class 'numpy.ndarray'>\n",
            "State shape: (4,), State type: <class 'numpy.ndarray'>\n",
            "State shape: (4,), State type: <class 'numpy.ndarray'>\n",
            "State shape: (4,), State type: <class 'numpy.ndarray'>\n",
            "State shape: (4,), State type: <class 'numpy.ndarray'>\n",
            "State shape: (4,), State type: <class 'numpy.ndarray'>\n",
            "State shape: (4,), State type: <class 'numpy.ndarray'>\n",
            "State shape: (4,), State type: <class 'numpy.ndarray'>\n",
            "State shape: (4,), State type: <class 'numpy.ndarray'>\n",
            "State shape: (4,), State type: <class 'numpy.ndarray'>\n",
            "State shape: (4,), State type: <class 'numpy.ndarray'>\n",
            "State shape: (4,), State type: <class 'numpy.ndarray'>\n",
            "State shape: (4,), State type: <class 'numpy.ndarray'>\n",
            "State shape: (4,), State type: <class 'numpy.ndarray'>\n",
            "State shape: (4,), State type: <class 'numpy.ndarray'>\n",
            "State shape: (4,), State type: <class 'numpy.ndarray'>\n",
            "State shape: (4,), State type: <class 'numpy.ndarray'>\n",
            "State shape: (4,), State type: <class 'numpy.ndarray'>\n",
            "State shape: (4,), State type: <class 'numpy.ndarray'>\n",
            "State shape: (4,), State type: <class 'numpy.ndarray'>\n",
            "State shape: (4,), State type: <class 'numpy.ndarray'>\n",
            "State shape: (4,), State type: <class 'numpy.ndarray'>\n",
            "State shape: (4,), State type: <class 'numpy.ndarray'>\n",
            "State shape: (4,), State type: <class 'numpy.ndarray'>\n",
            "State shape: (4,), State type: <class 'numpy.ndarray'>\n",
            "State shape: (4,), State type: <class 'numpy.ndarray'>\n",
            "State shape: (4,), State type: <class 'numpy.ndarray'>\n",
            "State shape: (4,), State type: <class 'numpy.ndarray'>\n",
            "State shape: (4,), State type: <class 'numpy.ndarray'>\n",
            "State shape: (4,), State type: <class 'numpy.ndarray'>\n",
            "State shape: (4,), State type: <class 'numpy.ndarray'>\n",
            "State shape: (4,), State type: <class 'numpy.ndarray'>\n",
            "State shape: (4,), State type: <class 'numpy.ndarray'>\n",
            "State shape: (4,), State type: <class 'numpy.ndarray'>\n",
            "State shape: (4,), State type: <class 'numpy.ndarray'>\n",
            "State shape: (4,), State type: <class 'numpy.ndarray'>\n",
            "State shape: (4,), State type: <class 'numpy.ndarray'>\n",
            "State shape: (4,), State type: <class 'numpy.ndarray'>\n",
            "State shape: (4,), State type: <class 'numpy.ndarray'>\n",
            "State shape: (4,), State type: <class 'numpy.ndarray'>\n",
            "State shape: (4,), State type: <class 'numpy.ndarray'>\n",
            "State shape: (4,), State type: <class 'numpy.ndarray'>\n",
            "State shape: (4,), State type: <class 'numpy.ndarray'>\n",
            "State shape: (4,), State type: <class 'numpy.ndarray'>\n",
            "State shape: (4,), State type: <class 'numpy.ndarray'>\n",
            "State shape: (4,), State type: <class 'numpy.ndarray'>\n",
            "State shape: (4,), State type: <class 'numpy.ndarray'>\n",
            "State shape: (4,), State type: <class 'numpy.ndarray'>\n",
            "State shape: (4,), State type: <class 'numpy.ndarray'>\n",
            "State shape: (4,), State type: <class 'numpy.ndarray'>\n",
            "State shape: (4,), State type: <class 'numpy.ndarray'>\n",
            "State shape: (4,), State type: <class 'numpy.ndarray'>\n",
            "State shape: (4,), State type: <class 'numpy.ndarray'>\n",
            "State shape: (4,), State type: <class 'numpy.ndarray'>\n",
            "State shape: (4,), State type: <class 'numpy.ndarray'>\n",
            "State shape: (4,), State type: <class 'numpy.ndarray'>\n",
            "State shape: (4,), State type: <class 'numpy.ndarray'>\n",
            "State shape: (4,), State type: <class 'numpy.ndarray'>\n",
            "State shape: (4,), State type: <class 'numpy.ndarray'>\n",
            "State shape: (4,), State type: <class 'numpy.ndarray'>\n",
            "State shape: (4,), State type: <class 'numpy.ndarray'>\n",
            "State shape: (4,), State type: <class 'numpy.ndarray'>\n",
            "State shape: (4,), State type: <class 'numpy.ndarray'>\n",
            "State shape: (4,), State type: <class 'numpy.ndarray'>\n",
            "State shape: (4,), State type: <class 'numpy.ndarray'>\n",
            "State shape: (4,), State type: <class 'numpy.ndarray'>\n",
            "State shape: (4,), State type: <class 'numpy.ndarray'>\n",
            "State shape: (4,), State type: <class 'numpy.ndarray'>\n",
            "State shape: (4,), State type: <class 'numpy.ndarray'>\n",
            "State shape: (4,), State type: <class 'numpy.ndarray'>\n",
            "State shape: (4,), State type: <class 'numpy.ndarray'>\n",
            "State shape: (4,), State type: <class 'numpy.ndarray'>\n",
            "State shape: (4,), State type: <class 'numpy.ndarray'>\n",
            "State shape: (4,), State type: <class 'numpy.ndarray'>\n",
            "State shape: (4,), State type: <class 'numpy.ndarray'>\n",
            "State shape: (4,), State type: <class 'numpy.ndarray'>\n",
            "State shape: (4,), State type: <class 'numpy.ndarray'>\n",
            "State shape: (4,), State type: <class 'numpy.ndarray'>\n",
            "State shape: (4,), State type: <class 'numpy.ndarray'>\n",
            "State shape: (4,), State type: <class 'numpy.ndarray'>\n",
            "State shape: (4,), State type: <class 'numpy.ndarray'>\n",
            "State shape: (4,), State type: <class 'numpy.ndarray'>\n",
            "State shape: (4,), State type: <class 'numpy.ndarray'>\n",
            "State shape: (4,), State type: <class 'numpy.ndarray'>\n",
            "State shape: (4,), State type: <class 'numpy.ndarray'>\n",
            "State shape: (4,), State type: <class 'numpy.ndarray'>\n",
            "State shape: (4,), State type: <class 'numpy.ndarray'>\n",
            "State shape: (4,), State type: <class 'numpy.ndarray'>\n",
            "State shape: (4,), State type: <class 'numpy.ndarray'>\n",
            "State shape: (4,), State type: <class 'numpy.ndarray'>\n",
            "State shape: (4,), State type: <class 'numpy.ndarray'>\n",
            "State shape: (4,), State type: <class 'numpy.ndarray'>\n",
            "State shape: (4,), State type: <class 'numpy.ndarray'>\n",
            "State shape: (4,), State type: <class 'numpy.ndarray'>\n",
            "State shape: (4,), State type: <class 'numpy.ndarray'>\n",
            "State shape: (4,), State type: <class 'numpy.ndarray'>\n",
            "State shape: (4,), State type: <class 'numpy.ndarray'>\n",
            "State shape: (4,), State type: <class 'numpy.ndarray'>\n",
            "State shape: (4,), State type: <class 'numpy.ndarray'>\n",
            "State shape: (4,), State type: <class 'numpy.ndarray'>\n",
            "State shape: (4,), State type: <class 'numpy.ndarray'>\n",
            "State shape: (4,), State type: <class 'numpy.ndarray'>\n",
            "State shape: (4,), State type: <class 'numpy.ndarray'>\n",
            "State shape: (4,), State type: <class 'numpy.ndarray'>\n",
            "State shape: (4,), State type: <class 'numpy.ndarray'>\n",
            "State shape: (4,), State type: <class 'numpy.ndarray'>\n",
            "State shape: (4,), State type: <class 'numpy.ndarray'>\n",
            "State shape: (4,), State type: <class 'numpy.ndarray'>\n",
            "State shape: (4,), State type: <class 'numpy.ndarray'>\n",
            "State shape: (4,), State type: <class 'numpy.ndarray'>\n",
            "State shape: (4,), State type: <class 'numpy.ndarray'>\n",
            "State shape: (4,), State type: <class 'numpy.ndarray'>\n",
            "State shape: (4,), State type: <class 'numpy.ndarray'>\n",
            "State shape: (4,), State type: <class 'numpy.ndarray'>\n",
            "State shape: (4,), State type: <class 'numpy.ndarray'>\n",
            "State shape: (4,), State type: <class 'numpy.ndarray'>\n",
            "State shape: (4,), State type: <class 'numpy.ndarray'>\n",
            "State shape: (4,), State type: <class 'numpy.ndarray'>\n",
            "State shape: (4,), State type: <class 'numpy.ndarray'>\n",
            "State shape: (4,), State type: <class 'numpy.ndarray'>\n",
            "State shape: (4,), State type: <class 'numpy.ndarray'>\n",
            "State shape: (4,), State type: <class 'numpy.ndarray'>\n",
            "State shape: (4,), State type: <class 'numpy.ndarray'>\n",
            "State shape: (4,), State type: <class 'numpy.ndarray'>\n",
            "State shape: (4,), State type: <class 'numpy.ndarray'>\n",
            "State shape: (4,), State type: <class 'numpy.ndarray'>\n",
            "State shape: (4,), State type: <class 'numpy.ndarray'>\n",
            "State shape: (4,), State type: <class 'numpy.ndarray'>\n",
            "State shape: (4,), State type: <class 'numpy.ndarray'>\n",
            "State shape: (4,), State type: <class 'numpy.ndarray'>\n",
            "State shape: (4,), State type: <class 'numpy.ndarray'>\n",
            "State shape: (4,), State type: <class 'numpy.ndarray'>\n",
            "State shape: (4,), State type: <class 'numpy.ndarray'>\n",
            "State shape: (4,), State type: <class 'numpy.ndarray'>\n",
            "State shape: (4,), State type: <class 'numpy.ndarray'>\n",
            "State shape: (4,), State type: <class 'numpy.ndarray'>\n",
            "State shape: (4,), State type: <class 'numpy.ndarray'>\n",
            "State shape: (4,), State type: <class 'numpy.ndarray'>\n",
            "State shape: (4,), State type: <class 'numpy.ndarray'>\n",
            "State shape: (4,), State type: <class 'numpy.ndarray'>\n",
            "State shape: (4,), State type: <class 'numpy.ndarray'>\n",
            "State shape: (4,), State type: <class 'numpy.ndarray'>\n",
            "State shape: (4,), State type: <class 'numpy.ndarray'>\n",
            "State shape: (4,), State type: <class 'numpy.ndarray'>\n",
            "State shape: (4,), State type: <class 'numpy.ndarray'>\n",
            "State shape: (4,), State type: <class 'numpy.ndarray'>\n",
            "State shape: (4,), State type: <class 'numpy.ndarray'>\n",
            "State shape: (4,), State type: <class 'numpy.ndarray'>\n",
            "State shape: (4,), State type: <class 'numpy.ndarray'>\n",
            "State shape: (4,), State type: <class 'numpy.ndarray'>\n",
            "State shape: (4,), State type: <class 'numpy.ndarray'>\n",
            "State shape: (4,), State type: <class 'numpy.ndarray'>\n",
            "State shape: (4,), State type: <class 'numpy.ndarray'>\n",
            "State shape: (4,), State type: <class 'numpy.ndarray'>\n",
            "State shape: (4,), State type: <class 'numpy.ndarray'>\n",
            "State shape: (4,), State type: <class 'numpy.ndarray'>\n",
            "State shape: (4,), State type: <class 'numpy.ndarray'>\n",
            "State shape: (4,), State type: <class 'numpy.ndarray'>\n",
            "State shape: (4,), State type: <class 'numpy.ndarray'>\n",
            "State shape: (4,), State type: <class 'numpy.ndarray'>\n",
            "State shape: (4,), State type: <class 'numpy.ndarray'>\n",
            "State shape: (4,), State type: <class 'numpy.ndarray'>\n",
            "State shape: (4,), State type: <class 'numpy.ndarray'>\n",
            "State shape: (4,), State type: <class 'numpy.ndarray'>\n",
            "State shape: (4,), State type: <class 'numpy.ndarray'>\n",
            "State shape: (4,), State type: <class 'numpy.ndarray'>\n",
            "State shape: (4,), State type: <class 'numpy.ndarray'>\n",
            "State shape: (4,), State type: <class 'numpy.ndarray'>\n",
            "State shape: (4,), State type: <class 'numpy.ndarray'>\n",
            "State shape: (4,), State type: <class 'numpy.ndarray'>\n",
            "State shape: (4,), State type: <class 'numpy.ndarray'>\n",
            "State shape: (4,), State type: <class 'numpy.ndarray'>\n",
            "State shape: (4,), State type: <class 'numpy.ndarray'>\n",
            "State shape: (4,), State type: <class 'numpy.ndarray'>\n",
            "State shape: (4,), State type: <class 'numpy.ndarray'>\n",
            "State shape: (4,), State type: <class 'numpy.ndarray'>\n",
            "State shape: (4,), State type: <class 'numpy.ndarray'>\n",
            "State shape: (4,), State type: <class 'numpy.ndarray'>\n",
            "State shape: (4,), State type: <class 'numpy.ndarray'>\n",
            "State shape: (4,), State type: <class 'numpy.ndarray'>\n",
            "State shape: (4,), State type: <class 'numpy.ndarray'>\n",
            "State shape: (4,), State type: <class 'numpy.ndarray'>\n",
            "State shape: (4,), State type: <class 'numpy.ndarray'>\n",
            "State shape: (4,), State type: <class 'numpy.ndarray'>\n",
            "State shape: (4,), State type: <class 'numpy.ndarray'>\n",
            "State shape: (4,), State type: <class 'numpy.ndarray'>\n",
            "State shape: (4,), State type: <class 'numpy.ndarray'>\n",
            "State shape: (4,), State type: <class 'numpy.ndarray'>\n",
            "State shape: (4,), State type: <class 'numpy.ndarray'>\n",
            "State shape: (4,), State type: <class 'numpy.ndarray'>\n",
            "State shape: (4,), State type: <class 'numpy.ndarray'>\n",
            "State shape: (4,), State type: <class 'numpy.ndarray'>\n",
            "State shape: (4,), State type: <class 'numpy.ndarray'>\n",
            "State shape: (4,), State type: <class 'numpy.ndarray'>\n",
            "State shape: (4,), State type: <class 'numpy.ndarray'>\n",
            "State shape: (4,), State type: <class 'numpy.ndarray'>\n",
            "State shape: (4,), State type: <class 'numpy.ndarray'>\n",
            "State shape: (4,), State type: <class 'numpy.ndarray'>\n",
            "State shape: (4,), State type: <class 'numpy.ndarray'>\n",
            "State shape: (4,), State type: <class 'numpy.ndarray'>\n",
            "State shape: (4,), State type: <class 'numpy.ndarray'>\n",
            "State shape: (4,), State type: <class 'numpy.ndarray'>\n",
            "State shape: (4,), State type: <class 'numpy.ndarray'>\n",
            "State shape: (4,), State type: <class 'numpy.ndarray'>\n",
            "State shape: (4,), State type: <class 'numpy.ndarray'>\n",
            "State shape: (4,), State type: <class 'numpy.ndarray'>\n",
            "State shape: (4,), State type: <class 'numpy.ndarray'>\n",
            "State shape: (4,), State type: <class 'numpy.ndarray'>\n",
            "State shape: (4,), State type: <class 'numpy.ndarray'>\n",
            "State shape: (4,), State type: <class 'numpy.ndarray'>\n",
            "State shape: (4,), State type: <class 'numpy.ndarray'>\n",
            "State shape: (4,), State type: <class 'numpy.ndarray'>\n",
            "State shape: (4,), State type: <class 'numpy.ndarray'>\n",
            "State shape: (4,), State type: <class 'numpy.ndarray'>\n",
            "State shape: (4,), State type: <class 'numpy.ndarray'>\n",
            "State shape: (4,), State type: <class 'numpy.ndarray'>\n",
            "State shape: (4,), State type: <class 'numpy.ndarray'>\n",
            "State shape: (4,), State type: <class 'numpy.ndarray'>\n",
            "State shape: (4,), State type: <class 'numpy.ndarray'>\n",
            "State shape: (4,), State type: <class 'numpy.ndarray'>\n",
            "State shape: (4,), State type: <class 'numpy.ndarray'>\n",
            "State shape: (4,), State type: <class 'numpy.ndarray'>\n",
            "State shape: (4,), State type: <class 'numpy.ndarray'>\n",
            "State shape: (4,), State type: <class 'numpy.ndarray'>\n",
            "State shape: (4,), State type: <class 'numpy.ndarray'>\n",
            "State shape: (4,), State type: <class 'numpy.ndarray'>\n",
            "State shape: (4,), State type: <class 'numpy.ndarray'>\n",
            "State shape: (4,), State type: <class 'numpy.ndarray'>\n",
            "State shape: (4,), State type: <class 'numpy.ndarray'>\n",
            "State shape: (4,), State type: <class 'numpy.ndarray'>\n",
            "State shape: (4,), State type: <class 'numpy.ndarray'>\n",
            "State shape: (4,), State type: <class 'numpy.ndarray'>\n",
            "State shape: (4,), State type: <class 'numpy.ndarray'>\n",
            "State shape: (4,), State type: <class 'numpy.ndarray'>\n",
            "State shape: (4,), State type: <class 'numpy.ndarray'>\n",
            "State shape: (4,), State type: <class 'numpy.ndarray'>\n",
            "State shape: (4,), State type: <class 'numpy.ndarray'>\n",
            "State shape: (4,), State type: <class 'numpy.ndarray'>\n",
            "State shape: (4,), State type: <class 'numpy.ndarray'>\n",
            "State shape: (4,), State type: <class 'numpy.ndarray'>\n",
            "State shape: (4,), State type: <class 'numpy.ndarray'>\n",
            "State shape: (4,), State type: <class 'numpy.ndarray'>\n",
            "State shape: (4,), State type: <class 'numpy.ndarray'>\n",
            "State shape: (4,), State type: <class 'numpy.ndarray'>\n",
            "State shape: (4,), State type: <class 'numpy.ndarray'>\n",
            "State shape: (4,), State type: <class 'numpy.ndarray'>\n",
            "State shape: (4,), State type: <class 'numpy.ndarray'>\n",
            "State shape: (4,), State type: <class 'numpy.ndarray'>\n",
            "State shape: (4,), State type: <class 'numpy.ndarray'>\n",
            "State shape: (4,), State type: <class 'numpy.ndarray'>\n",
            "State shape: (4,), State type: <class 'numpy.ndarray'>\n",
            "State shape: (4,), State type: <class 'numpy.ndarray'>\n",
            "State shape: (4,), State type: <class 'numpy.ndarray'>\n",
            "State shape: (4,), State type: <class 'numpy.ndarray'>\n",
            "State shape: (4,), State type: <class 'numpy.ndarray'>\n",
            "State shape: (4,), State type: <class 'numpy.ndarray'>\n",
            "State shape: (4,), State type: <class 'numpy.ndarray'>\n",
            "State shape: (4,), State type: <class 'numpy.ndarray'>\n",
            "State shape: (4,), State type: <class 'numpy.ndarray'>\n",
            "State shape: (4,), State type: <class 'numpy.ndarray'>\n",
            "State shape: (4,), State type: <class 'numpy.ndarray'>\n",
            "State shape: (4,), State type: <class 'numpy.ndarray'>\n",
            "State shape: (4,), State type: <class 'numpy.ndarray'>\n",
            "State shape: (4,), State type: <class 'numpy.ndarray'>\n",
            "State shape: (4,), State type: <class 'numpy.ndarray'>\n",
            "State shape: (4,), State type: <class 'numpy.ndarray'>\n",
            "State shape: (4,), State type: <class 'numpy.ndarray'>\n",
            "State shape: (4,), State type: <class 'numpy.ndarray'>\n",
            "State shape: (4,), State type: <class 'numpy.ndarray'>\n",
            "State shape: (4,), State type: <class 'numpy.ndarray'>\n",
            "State shape: (4,), State type: <class 'numpy.ndarray'>\n",
            "State shape: (4,), State type: <class 'numpy.ndarray'>\n",
            "State shape: (4,), State type: <class 'numpy.ndarray'>\n",
            "State shape: (4,), State type: <class 'numpy.ndarray'>\n",
            "State shape: (4,), State type: <class 'numpy.ndarray'>\n",
            "State shape: (4,), State type: <class 'numpy.ndarray'>\n",
            "State shape: (4,), State type: <class 'numpy.ndarray'>\n",
            "State shape: (4,), State type: <class 'numpy.ndarray'>\n",
            "State shape: (4,), State type: <class 'numpy.ndarray'>\n",
            "State shape: (4,), State type: <class 'numpy.ndarray'>\n",
            "State shape: (4,), State type: <class 'numpy.ndarray'>\n",
            "State shape: (4,), State type: <class 'numpy.ndarray'>\n",
            "State shape: (4,), State type: <class 'numpy.ndarray'>\n",
            "State shape: (4,), State type: <class 'numpy.ndarray'>\n",
            "State shape: (4,), State type: <class 'numpy.ndarray'>\n",
            "State shape: (4,), State type: <class 'numpy.ndarray'>\n",
            "State shape: (4,), State type: <class 'numpy.ndarray'>\n",
            "State shape: (4,), State type: <class 'numpy.ndarray'>\n",
            "State shape: (4,), State type: <class 'numpy.ndarray'>\n",
            "State shape: (4,), State type: <class 'numpy.ndarray'>\n",
            "State shape: (4,), State type: <class 'numpy.ndarray'>\n",
            "State shape: (4,), State type: <class 'numpy.ndarray'>\n",
            "State shape: (4,), State type: <class 'numpy.ndarray'>\n",
            "State shape: (4,), State type: <class 'numpy.ndarray'>\n",
            "State shape: (4,), State type: <class 'numpy.ndarray'>\n",
            "State shape: (4,), State type: <class 'numpy.ndarray'>\n",
            "State shape: (4,), State type: <class 'numpy.ndarray'>\n",
            "State shape: (4,), State type: <class 'numpy.ndarray'>\n",
            "State shape: (4,), State type: <class 'numpy.ndarray'>\n",
            "State shape: (4,), State type: <class 'numpy.ndarray'>\n",
            "State shape: (4,), State type: <class 'numpy.ndarray'>\n",
            "State shape: (4,), State type: <class 'numpy.ndarray'>\n",
            "State shape: (4,), State type: <class 'numpy.ndarray'>\n",
            "State shape: (4,), State type: <class 'numpy.ndarray'>\n",
            "State shape: (4,), State type: <class 'numpy.ndarray'>\n",
            "State shape: (4,), State type: <class 'numpy.ndarray'>\n",
            "State shape: (4,), State type: <class 'numpy.ndarray'>\n",
            "State shape: (4,), State type: <class 'numpy.ndarray'>\n",
            "State shape: (4,), State type: <class 'numpy.ndarray'>\n",
            "State shape: (4,), State type: <class 'numpy.ndarray'>\n",
            "State shape: (4,), State type: <class 'numpy.ndarray'>\n",
            "State shape: (4,), State type: <class 'numpy.ndarray'>\n",
            "State shape: (4,), State type: <class 'numpy.ndarray'>\n",
            "State shape: (4,), State type: <class 'numpy.ndarray'>\n",
            "State shape: (4,), State type: <class 'numpy.ndarray'>\n",
            "State shape: (4,), State type: <class 'numpy.ndarray'>\n",
            "State shape: (4,), State type: <class 'numpy.ndarray'>\n",
            "State shape: (4,), State type: <class 'numpy.ndarray'>\n",
            "State shape: (4,), State type: <class 'numpy.ndarray'>\n",
            "State shape: (4,), State type: <class 'numpy.ndarray'>\n",
            "State shape: (4,), State type: <class 'numpy.ndarray'>\n",
            "State shape: (4,), State type: <class 'numpy.ndarray'>\n",
            "State shape: (4,), State type: <class 'numpy.ndarray'>\n",
            "State shape: (4,), State type: <class 'numpy.ndarray'>\n",
            "State shape: (4,), State type: <class 'numpy.ndarray'>\n",
            "State shape: (4,), State type: <class 'numpy.ndarray'>\n",
            "State shape: (4,), State type: <class 'numpy.ndarray'>\n",
            "State shape: (4,), State type: <class 'numpy.ndarray'>\n",
            "State shape: (4,), State type: <class 'numpy.ndarray'>\n",
            "State shape: (4,), State type: <class 'numpy.ndarray'>\n",
            "State shape: (4,), State type: <class 'numpy.ndarray'>\n",
            "State shape: (4,), State type: <class 'numpy.ndarray'>\n",
            "State shape: (4,), State type: <class 'numpy.ndarray'>\n",
            "State shape: (4,), State type: <class 'numpy.ndarray'>\n",
            "State shape: (4,), State type: <class 'numpy.ndarray'>\n",
            "State shape: (4,), State type: <class 'numpy.ndarray'>\n",
            "State shape: (4,), State type: <class 'numpy.ndarray'>\n",
            "State shape: (4,), State type: <class 'numpy.ndarray'>\n",
            "State shape: (4,), State type: <class 'numpy.ndarray'>\n",
            "State shape: (4,), State type: <class 'numpy.ndarray'>\n",
            "State shape: (4,), State type: <class 'numpy.ndarray'>\n",
            "State shape: (4,), State type: <class 'numpy.ndarray'>\n",
            "State shape: (4,), State type: <class 'numpy.ndarray'>\n",
            "Episode 5 Reward: 500.0\n",
            "State shape: (4,), State type: <class 'numpy.ndarray'>\n",
            "State shape: (4,), State type: <class 'numpy.ndarray'>\n",
            "State shape: (4,), State type: <class 'numpy.ndarray'>\n",
            "State shape: (4,), State type: <class 'numpy.ndarray'>\n",
            "State shape: (4,), State type: <class 'numpy.ndarray'>\n",
            "State shape: (4,), State type: <class 'numpy.ndarray'>\n",
            "State shape: (4,), State type: <class 'numpy.ndarray'>\n",
            "State shape: (4,), State type: <class 'numpy.ndarray'>\n",
            "State shape: (4,), State type: <class 'numpy.ndarray'>\n",
            "State shape: (4,), State type: <class 'numpy.ndarray'>\n",
            "State shape: (4,), State type: <class 'numpy.ndarray'>\n",
            "State shape: (4,), State type: <class 'numpy.ndarray'>\n",
            "State shape: (4,), State type: <class 'numpy.ndarray'>\n",
            "State shape: (4,), State type: <class 'numpy.ndarray'>\n",
            "State shape: (4,), State type: <class 'numpy.ndarray'>\n",
            "State shape: (4,), State type: <class 'numpy.ndarray'>\n",
            "State shape: (4,), State type: <class 'numpy.ndarray'>\n",
            "State shape: (4,), State type: <class 'numpy.ndarray'>\n",
            "State shape: (4,), State type: <class 'numpy.ndarray'>\n",
            "State shape: (4,), State type: <class 'numpy.ndarray'>\n",
            "State shape: (4,), State type: <class 'numpy.ndarray'>\n",
            "State shape: (4,), State type: <class 'numpy.ndarray'>\n",
            "State shape: (4,), State type: <class 'numpy.ndarray'>\n",
            "State shape: (4,), State type: <class 'numpy.ndarray'>\n",
            "State shape: (4,), State type: <class 'numpy.ndarray'>\n",
            "State shape: (4,), State type: <class 'numpy.ndarray'>\n",
            "State shape: (4,), State type: <class 'numpy.ndarray'>\n",
            "State shape: (4,), State type: <class 'numpy.ndarray'>\n",
            "State shape: (4,), State type: <class 'numpy.ndarray'>\n",
            "State shape: (4,), State type: <class 'numpy.ndarray'>\n",
            "State shape: (4,), State type: <class 'numpy.ndarray'>\n",
            "State shape: (4,), State type: <class 'numpy.ndarray'>\n",
            "State shape: (4,), State type: <class 'numpy.ndarray'>\n",
            "State shape: (4,), State type: <class 'numpy.ndarray'>\n",
            "State shape: (4,), State type: <class 'numpy.ndarray'>\n",
            "State shape: (4,), State type: <class 'numpy.ndarray'>\n",
            "State shape: (4,), State type: <class 'numpy.ndarray'>\n",
            "State shape: (4,), State type: <class 'numpy.ndarray'>\n",
            "State shape: (4,), State type: <class 'numpy.ndarray'>\n",
            "State shape: (4,), State type: <class 'numpy.ndarray'>\n",
            "State shape: (4,), State type: <class 'numpy.ndarray'>\n",
            "State shape: (4,), State type: <class 'numpy.ndarray'>\n",
            "State shape: (4,), State type: <class 'numpy.ndarray'>\n",
            "State shape: (4,), State type: <class 'numpy.ndarray'>\n",
            "State shape: (4,), State type: <class 'numpy.ndarray'>\n",
            "State shape: (4,), State type: <class 'numpy.ndarray'>\n",
            "State shape: (4,), State type: <class 'numpy.ndarray'>\n",
            "State shape: (4,), State type: <class 'numpy.ndarray'>\n",
            "State shape: (4,), State type: <class 'numpy.ndarray'>\n",
            "State shape: (4,), State type: <class 'numpy.ndarray'>\n",
            "State shape: (4,), State type: <class 'numpy.ndarray'>\n",
            "State shape: (4,), State type: <class 'numpy.ndarray'>\n",
            "State shape: (4,), State type: <class 'numpy.ndarray'>\n",
            "State shape: (4,), State type: <class 'numpy.ndarray'>\n",
            "State shape: (4,), State type: <class 'numpy.ndarray'>\n",
            "State shape: (4,), State type: <class 'numpy.ndarray'>\n",
            "State shape: (4,), State type: <class 'numpy.ndarray'>\n",
            "State shape: (4,), State type: <class 'numpy.ndarray'>\n",
            "State shape: (4,), State type: <class 'numpy.ndarray'>\n",
            "State shape: (4,), State type: <class 'numpy.ndarray'>\n",
            "State shape: (4,), State type: <class 'numpy.ndarray'>\n",
            "State shape: (4,), State type: <class 'numpy.ndarray'>\n",
            "State shape: (4,), State type: <class 'numpy.ndarray'>\n",
            "State shape: (4,), State type: <class 'numpy.ndarray'>\n",
            "State shape: (4,), State type: <class 'numpy.ndarray'>\n",
            "State shape: (4,), State type: <class 'numpy.ndarray'>\n",
            "State shape: (4,), State type: <class 'numpy.ndarray'>\n",
            "State shape: (4,), State type: <class 'numpy.ndarray'>\n",
            "State shape: (4,), State type: <class 'numpy.ndarray'>\n",
            "State shape: (4,), State type: <class 'numpy.ndarray'>\n",
            "State shape: (4,), State type: <class 'numpy.ndarray'>\n",
            "State shape: (4,), State type: <class 'numpy.ndarray'>\n",
            "State shape: (4,), State type: <class 'numpy.ndarray'>\n",
            "State shape: (4,), State type: <class 'numpy.ndarray'>\n",
            "State shape: (4,), State type: <class 'numpy.ndarray'>\n",
            "State shape: (4,), State type: <class 'numpy.ndarray'>\n",
            "State shape: (4,), State type: <class 'numpy.ndarray'>\n",
            "State shape: (4,), State type: <class 'numpy.ndarray'>\n",
            "State shape: (4,), State type: <class 'numpy.ndarray'>\n",
            "State shape: (4,), State type: <class 'numpy.ndarray'>\n",
            "State shape: (4,), State type: <class 'numpy.ndarray'>\n",
            "State shape: (4,), State type: <class 'numpy.ndarray'>\n",
            "State shape: (4,), State type: <class 'numpy.ndarray'>\n",
            "State shape: (4,), State type: <class 'numpy.ndarray'>\n",
            "State shape: (4,), State type: <class 'numpy.ndarray'>\n",
            "State shape: (4,), State type: <class 'numpy.ndarray'>\n",
            "State shape: (4,), State type: <class 'numpy.ndarray'>\n",
            "State shape: (4,), State type: <class 'numpy.ndarray'>\n",
            "State shape: (4,), State type: <class 'numpy.ndarray'>\n",
            "State shape: (4,), State type: <class 'numpy.ndarray'>\n",
            "State shape: (4,), State type: <class 'numpy.ndarray'>\n",
            "State shape: (4,), State type: <class 'numpy.ndarray'>\n",
            "State shape: (4,), State type: <class 'numpy.ndarray'>\n",
            "State shape: (4,), State type: <class 'numpy.ndarray'>\n",
            "State shape: (4,), State type: <class 'numpy.ndarray'>\n",
            "State shape: (4,), State type: <class 'numpy.ndarray'>\n",
            "State shape: (4,), State type: <class 'numpy.ndarray'>\n",
            "State shape: (4,), State type: <class 'numpy.ndarray'>\n",
            "State shape: (4,), State type: <class 'numpy.ndarray'>\n",
            "State shape: (4,), State type: <class 'numpy.ndarray'>\n",
            "State shape: (4,), State type: <class 'numpy.ndarray'>\n",
            "State shape: (4,), State type: <class 'numpy.ndarray'>\n",
            "State shape: (4,), State type: <class 'numpy.ndarray'>\n",
            "State shape: (4,), State type: <class 'numpy.ndarray'>\n",
            "State shape: (4,), State type: <class 'numpy.ndarray'>\n",
            "State shape: (4,), State type: <class 'numpy.ndarray'>\n",
            "State shape: (4,), State type: <class 'numpy.ndarray'>\n",
            "State shape: (4,), State type: <class 'numpy.ndarray'>\n",
            "State shape: (4,), State type: <class 'numpy.ndarray'>\n",
            "State shape: (4,), State type: <class 'numpy.ndarray'>\n",
            "State shape: (4,), State type: <class 'numpy.ndarray'>\n",
            "State shape: (4,), State type: <class 'numpy.ndarray'>\n",
            "State shape: (4,), State type: <class 'numpy.ndarray'>\n",
            "State shape: (4,), State type: <class 'numpy.ndarray'>\n",
            "State shape: (4,), State type: <class 'numpy.ndarray'>\n",
            "State shape: (4,), State type: <class 'numpy.ndarray'>\n",
            "State shape: (4,), State type: <class 'numpy.ndarray'>\n",
            "State shape: (4,), State type: <class 'numpy.ndarray'>\n",
            "State shape: (4,), State type: <class 'numpy.ndarray'>\n",
            "State shape: (4,), State type: <class 'numpy.ndarray'>\n",
            "State shape: (4,), State type: <class 'numpy.ndarray'>\n",
            "State shape: (4,), State type: <class 'numpy.ndarray'>\n",
            "State shape: (4,), State type: <class 'numpy.ndarray'>\n",
            "State shape: (4,), State type: <class 'numpy.ndarray'>\n",
            "State shape: (4,), State type: <class 'numpy.ndarray'>\n",
            "State shape: (4,), State type: <class 'numpy.ndarray'>\n",
            "State shape: (4,), State type: <class 'numpy.ndarray'>\n",
            "State shape: (4,), State type: <class 'numpy.ndarray'>\n",
            "State shape: (4,), State type: <class 'numpy.ndarray'>\n",
            "State shape: (4,), State type: <class 'numpy.ndarray'>\n",
            "State shape: (4,), State type: <class 'numpy.ndarray'>\n",
            "State shape: (4,), State type: <class 'numpy.ndarray'>\n",
            "State shape: (4,), State type: <class 'numpy.ndarray'>\n",
            "State shape: (4,), State type: <class 'numpy.ndarray'>\n",
            "State shape: (4,), State type: <class 'numpy.ndarray'>\n",
            "State shape: (4,), State type: <class 'numpy.ndarray'>\n",
            "State shape: (4,), State type: <class 'numpy.ndarray'>\n",
            "State shape: (4,), State type: <class 'numpy.ndarray'>\n",
            "State shape: (4,), State type: <class 'numpy.ndarray'>\n",
            "State shape: (4,), State type: <class 'numpy.ndarray'>\n",
            "State shape: (4,), State type: <class 'numpy.ndarray'>\n",
            "State shape: (4,), State type: <class 'numpy.ndarray'>\n",
            "State shape: (4,), State type: <class 'numpy.ndarray'>\n",
            "State shape: (4,), State type: <class 'numpy.ndarray'>\n",
            "State shape: (4,), State type: <class 'numpy.ndarray'>\n",
            "State shape: (4,), State type: <class 'numpy.ndarray'>\n",
            "State shape: (4,), State type: <class 'numpy.ndarray'>\n",
            "State shape: (4,), State type: <class 'numpy.ndarray'>\n",
            "State shape: (4,), State type: <class 'numpy.ndarray'>\n",
            "State shape: (4,), State type: <class 'numpy.ndarray'>\n",
            "State shape: (4,), State type: <class 'numpy.ndarray'>\n",
            "State shape: (4,), State type: <class 'numpy.ndarray'>\n",
            "State shape: (4,), State type: <class 'numpy.ndarray'>\n",
            "State shape: (4,), State type: <class 'numpy.ndarray'>\n",
            "State shape: (4,), State type: <class 'numpy.ndarray'>\n",
            "State shape: (4,), State type: <class 'numpy.ndarray'>\n",
            "State shape: (4,), State type: <class 'numpy.ndarray'>\n",
            "State shape: (4,), State type: <class 'numpy.ndarray'>\n",
            "State shape: (4,), State type: <class 'numpy.ndarray'>\n",
            "State shape: (4,), State type: <class 'numpy.ndarray'>\n",
            "State shape: (4,), State type: <class 'numpy.ndarray'>\n",
            "State shape: (4,), State type: <class 'numpy.ndarray'>\n",
            "State shape: (4,), State type: <class 'numpy.ndarray'>\n",
            "State shape: (4,), State type: <class 'numpy.ndarray'>\n",
            "State shape: (4,), State type: <class 'numpy.ndarray'>\n",
            "State shape: (4,), State type: <class 'numpy.ndarray'>\n",
            "State shape: (4,), State type: <class 'numpy.ndarray'>\n",
            "State shape: (4,), State type: <class 'numpy.ndarray'>\n",
            "State shape: (4,), State type: <class 'numpy.ndarray'>\n",
            "State shape: (4,), State type: <class 'numpy.ndarray'>\n",
            "State shape: (4,), State type: <class 'numpy.ndarray'>\n",
            "State shape: (4,), State type: <class 'numpy.ndarray'>\n",
            "State shape: (4,), State type: <class 'numpy.ndarray'>\n",
            "State shape: (4,), State type: <class 'numpy.ndarray'>\n",
            "State shape: (4,), State type: <class 'numpy.ndarray'>\n",
            "State shape: (4,), State type: <class 'numpy.ndarray'>\n",
            "State shape: (4,), State type: <class 'numpy.ndarray'>\n",
            "State shape: (4,), State type: <class 'numpy.ndarray'>\n",
            "State shape: (4,), State type: <class 'numpy.ndarray'>\n",
            "State shape: (4,), State type: <class 'numpy.ndarray'>\n",
            "State shape: (4,), State type: <class 'numpy.ndarray'>\n",
            "State shape: (4,), State type: <class 'numpy.ndarray'>\n",
            "State shape: (4,), State type: <class 'numpy.ndarray'>\n",
            "State shape: (4,), State type: <class 'numpy.ndarray'>\n",
            "State shape: (4,), State type: <class 'numpy.ndarray'>\n",
            "State shape: (4,), State type: <class 'numpy.ndarray'>\n",
            "State shape: (4,), State type: <class 'numpy.ndarray'>\n",
            "State shape: (4,), State type: <class 'numpy.ndarray'>\n",
            "State shape: (4,), State type: <class 'numpy.ndarray'>\n",
            "State shape: (4,), State type: <class 'numpy.ndarray'>\n",
            "State shape: (4,), State type: <class 'numpy.ndarray'>\n",
            "State shape: (4,), State type: <class 'numpy.ndarray'>\n",
            "State shape: (4,), State type: <class 'numpy.ndarray'>\n",
            "State shape: (4,), State type: <class 'numpy.ndarray'>\n",
            "State shape: (4,), State type: <class 'numpy.ndarray'>\n",
            "State shape: (4,), State type: <class 'numpy.ndarray'>\n",
            "State shape: (4,), State type: <class 'numpy.ndarray'>\n",
            "State shape: (4,), State type: <class 'numpy.ndarray'>\n",
            "State shape: (4,), State type: <class 'numpy.ndarray'>\n",
            "State shape: (4,), State type: <class 'numpy.ndarray'>\n",
            "State shape: (4,), State type: <class 'numpy.ndarray'>\n",
            "State shape: (4,), State type: <class 'numpy.ndarray'>\n",
            "State shape: (4,), State type: <class 'numpy.ndarray'>\n",
            "State shape: (4,), State type: <class 'numpy.ndarray'>\n",
            "State shape: (4,), State type: <class 'numpy.ndarray'>\n",
            "State shape: (4,), State type: <class 'numpy.ndarray'>\n",
            "State shape: (4,), State type: <class 'numpy.ndarray'>\n",
            "State shape: (4,), State type: <class 'numpy.ndarray'>\n",
            "State shape: (4,), State type: <class 'numpy.ndarray'>\n",
            "State shape: (4,), State type: <class 'numpy.ndarray'>\n",
            "State shape: (4,), State type: <class 'numpy.ndarray'>\n",
            "State shape: (4,), State type: <class 'numpy.ndarray'>\n",
            "State shape: (4,), State type: <class 'numpy.ndarray'>\n",
            "State shape: (4,), State type: <class 'numpy.ndarray'>\n",
            "State shape: (4,), State type: <class 'numpy.ndarray'>\n",
            "State shape: (4,), State type: <class 'numpy.ndarray'>\n",
            "State shape: (4,), State type: <class 'numpy.ndarray'>\n",
            "State shape: (4,), State type: <class 'numpy.ndarray'>\n",
            "State shape: (4,), State type: <class 'numpy.ndarray'>\n",
            "State shape: (4,), State type: <class 'numpy.ndarray'>\n",
            "State shape: (4,), State type: <class 'numpy.ndarray'>\n",
            "State shape: (4,), State type: <class 'numpy.ndarray'>\n",
            "State shape: (4,), State type: <class 'numpy.ndarray'>\n",
            "State shape: (4,), State type: <class 'numpy.ndarray'>\n",
            "State shape: (4,), State type: <class 'numpy.ndarray'>\n",
            "State shape: (4,), State type: <class 'numpy.ndarray'>\n",
            "State shape: (4,), State type: <class 'numpy.ndarray'>\n",
            "State shape: (4,), State type: <class 'numpy.ndarray'>\n",
            "State shape: (4,), State type: <class 'numpy.ndarray'>\n",
            "State shape: (4,), State type: <class 'numpy.ndarray'>\n",
            "State shape: (4,), State type: <class 'numpy.ndarray'>\n",
            "State shape: (4,), State type: <class 'numpy.ndarray'>\n",
            "State shape: (4,), State type: <class 'numpy.ndarray'>\n",
            "State shape: (4,), State type: <class 'numpy.ndarray'>\n",
            "State shape: (4,), State type: <class 'numpy.ndarray'>\n",
            "State shape: (4,), State type: <class 'numpy.ndarray'>\n",
            "State shape: (4,), State type: <class 'numpy.ndarray'>\n",
            "State shape: (4,), State type: <class 'numpy.ndarray'>\n",
            "State shape: (4,), State type: <class 'numpy.ndarray'>\n",
            "State shape: (4,), State type: <class 'numpy.ndarray'>\n",
            "State shape: (4,), State type: <class 'numpy.ndarray'>\n",
            "State shape: (4,), State type: <class 'numpy.ndarray'>\n",
            "State shape: (4,), State type: <class 'numpy.ndarray'>\n",
            "State shape: (4,), State type: <class 'numpy.ndarray'>\n",
            "State shape: (4,), State type: <class 'numpy.ndarray'>\n",
            "State shape: (4,), State type: <class 'numpy.ndarray'>\n",
            "State shape: (4,), State type: <class 'numpy.ndarray'>\n",
            "State shape: (4,), State type: <class 'numpy.ndarray'>\n",
            "State shape: (4,), State type: <class 'numpy.ndarray'>\n",
            "State shape: (4,), State type: <class 'numpy.ndarray'>\n",
            "State shape: (4,), State type: <class 'numpy.ndarray'>\n",
            "State shape: (4,), State type: <class 'numpy.ndarray'>\n",
            "State shape: (4,), State type: <class 'numpy.ndarray'>\n",
            "State shape: (4,), State type: <class 'numpy.ndarray'>\n",
            "State shape: (4,), State type: <class 'numpy.ndarray'>\n",
            "State shape: (4,), State type: <class 'numpy.ndarray'>\n",
            "State shape: (4,), State type: <class 'numpy.ndarray'>\n",
            "State shape: (4,), State type: <class 'numpy.ndarray'>\n",
            "State shape: (4,), State type: <class 'numpy.ndarray'>\n",
            "State shape: (4,), State type: <class 'numpy.ndarray'>\n",
            "State shape: (4,), State type: <class 'numpy.ndarray'>\n",
            "State shape: (4,), State type: <class 'numpy.ndarray'>\n",
            "State shape: (4,), State type: <class 'numpy.ndarray'>\n",
            "State shape: (4,), State type: <class 'numpy.ndarray'>\n",
            "State shape: (4,), State type: <class 'numpy.ndarray'>\n",
            "State shape: (4,), State type: <class 'numpy.ndarray'>\n",
            "State shape: (4,), State type: <class 'numpy.ndarray'>\n",
            "State shape: (4,), State type: <class 'numpy.ndarray'>\n",
            "State shape: (4,), State type: <class 'numpy.ndarray'>\n",
            "State shape: (4,), State type: <class 'numpy.ndarray'>\n",
            "State shape: (4,), State type: <class 'numpy.ndarray'>\n",
            "State shape: (4,), State type: <class 'numpy.ndarray'>\n",
            "State shape: (4,), State type: <class 'numpy.ndarray'>\n",
            "State shape: (4,), State type: <class 'numpy.ndarray'>\n",
            "State shape: (4,), State type: <class 'numpy.ndarray'>\n",
            "State shape: (4,), State type: <class 'numpy.ndarray'>\n",
            "State shape: (4,), State type: <class 'numpy.ndarray'>\n",
            "State shape: (4,), State type: <class 'numpy.ndarray'>\n",
            "State shape: (4,), State type: <class 'numpy.ndarray'>\n",
            "State shape: (4,), State type: <class 'numpy.ndarray'>\n",
            "State shape: (4,), State type: <class 'numpy.ndarray'>\n",
            "State shape: (4,), State type: <class 'numpy.ndarray'>\n",
            "State shape: (4,), State type: <class 'numpy.ndarray'>\n",
            "State shape: (4,), State type: <class 'numpy.ndarray'>\n",
            "State shape: (4,), State type: <class 'numpy.ndarray'>\n",
            "State shape: (4,), State type: <class 'numpy.ndarray'>\n",
            "State shape: (4,), State type: <class 'numpy.ndarray'>\n",
            "State shape: (4,), State type: <class 'numpy.ndarray'>\n",
            "State shape: (4,), State type: <class 'numpy.ndarray'>\n",
            "State shape: (4,), State type: <class 'numpy.ndarray'>\n",
            "Episode 6 Reward: 290.0\n",
            "State shape: (4,), State type: <class 'numpy.ndarray'>\n",
            "State shape: (4,), State type: <class 'numpy.ndarray'>\n",
            "State shape: (4,), State type: <class 'numpy.ndarray'>\n",
            "State shape: (4,), State type: <class 'numpy.ndarray'>\n",
            "State shape: (4,), State type: <class 'numpy.ndarray'>\n",
            "State shape: (4,), State type: <class 'numpy.ndarray'>\n",
            "State shape: (4,), State type: <class 'numpy.ndarray'>\n",
            "State shape: (4,), State type: <class 'numpy.ndarray'>\n",
            "State shape: (4,), State type: <class 'numpy.ndarray'>\n",
            "State shape: (4,), State type: <class 'numpy.ndarray'>\n",
            "State shape: (4,), State type: <class 'numpy.ndarray'>\n",
            "State shape: (4,), State type: <class 'numpy.ndarray'>\n",
            "State shape: (4,), State type: <class 'numpy.ndarray'>\n",
            "State shape: (4,), State type: <class 'numpy.ndarray'>\n",
            "State shape: (4,), State type: <class 'numpy.ndarray'>\n",
            "State shape: (4,), State type: <class 'numpy.ndarray'>\n",
            "State shape: (4,), State type: <class 'numpy.ndarray'>\n",
            "State shape: (4,), State type: <class 'numpy.ndarray'>\n",
            "State shape: (4,), State type: <class 'numpy.ndarray'>\n",
            "State shape: (4,), State type: <class 'numpy.ndarray'>\n",
            "State shape: (4,), State type: <class 'numpy.ndarray'>\n",
            "State shape: (4,), State type: <class 'numpy.ndarray'>\n",
            "State shape: (4,), State type: <class 'numpy.ndarray'>\n",
            "State shape: (4,), State type: <class 'numpy.ndarray'>\n",
            "State shape: (4,), State type: <class 'numpy.ndarray'>\n",
            "State shape: (4,), State type: <class 'numpy.ndarray'>\n",
            "State shape: (4,), State type: <class 'numpy.ndarray'>\n",
            "State shape: (4,), State type: <class 'numpy.ndarray'>\n",
            "State shape: (4,), State type: <class 'numpy.ndarray'>\n",
            "State shape: (4,), State type: <class 'numpy.ndarray'>\n",
            "State shape: (4,), State type: <class 'numpy.ndarray'>\n",
            "State shape: (4,), State type: <class 'numpy.ndarray'>\n",
            "State shape: (4,), State type: <class 'numpy.ndarray'>\n",
            "State shape: (4,), State type: <class 'numpy.ndarray'>\n",
            "State shape: (4,), State type: <class 'numpy.ndarray'>\n",
            "State shape: (4,), State type: <class 'numpy.ndarray'>\n",
            "State shape: (4,), State type: <class 'numpy.ndarray'>\n",
            "State shape: (4,), State type: <class 'numpy.ndarray'>\n",
            "State shape: (4,), State type: <class 'numpy.ndarray'>\n",
            "State shape: (4,), State type: <class 'numpy.ndarray'>\n",
            "State shape: (4,), State type: <class 'numpy.ndarray'>\n",
            "State shape: (4,), State type: <class 'numpy.ndarray'>\n",
            "State shape: (4,), State type: <class 'numpy.ndarray'>\n",
            "State shape: (4,), State type: <class 'numpy.ndarray'>\n",
            "State shape: (4,), State type: <class 'numpy.ndarray'>\n",
            "State shape: (4,), State type: <class 'numpy.ndarray'>\n",
            "State shape: (4,), State type: <class 'numpy.ndarray'>\n",
            "State shape: (4,), State type: <class 'numpy.ndarray'>\n",
            "State shape: (4,), State type: <class 'numpy.ndarray'>\n",
            "State shape: (4,), State type: <class 'numpy.ndarray'>\n",
            "State shape: (4,), State type: <class 'numpy.ndarray'>\n",
            "State shape: (4,), State type: <class 'numpy.ndarray'>\n",
            "State shape: (4,), State type: <class 'numpy.ndarray'>\n",
            "State shape: (4,), State type: <class 'numpy.ndarray'>\n",
            "State shape: (4,), State type: <class 'numpy.ndarray'>\n",
            "State shape: (4,), State type: <class 'numpy.ndarray'>\n",
            "State shape: (4,), State type: <class 'numpy.ndarray'>\n",
            "State shape: (4,), State type: <class 'numpy.ndarray'>\n",
            "State shape: (4,), State type: <class 'numpy.ndarray'>\n",
            "State shape: (4,), State type: <class 'numpy.ndarray'>\n",
            "State shape: (4,), State type: <class 'numpy.ndarray'>\n",
            "State shape: (4,), State type: <class 'numpy.ndarray'>\n",
            "State shape: (4,), State type: <class 'numpy.ndarray'>\n",
            "State shape: (4,), State type: <class 'numpy.ndarray'>\n",
            "State shape: (4,), State type: <class 'numpy.ndarray'>\n",
            "State shape: (4,), State type: <class 'numpy.ndarray'>\n",
            "State shape: (4,), State type: <class 'numpy.ndarray'>\n",
            "State shape: (4,), State type: <class 'numpy.ndarray'>\n",
            "State shape: (4,), State type: <class 'numpy.ndarray'>\n",
            "State shape: (4,), State type: <class 'numpy.ndarray'>\n",
            "State shape: (4,), State type: <class 'numpy.ndarray'>\n",
            "State shape: (4,), State type: <class 'numpy.ndarray'>\n",
            "State shape: (4,), State type: <class 'numpy.ndarray'>\n",
            "State shape: (4,), State type: <class 'numpy.ndarray'>\n",
            "State shape: (4,), State type: <class 'numpy.ndarray'>\n",
            "State shape: (4,), State type: <class 'numpy.ndarray'>\n",
            "State shape: (4,), State type: <class 'numpy.ndarray'>\n",
            "State shape: (4,), State type: <class 'numpy.ndarray'>\n",
            "State shape: (4,), State type: <class 'numpy.ndarray'>\n",
            "State shape: (4,), State type: <class 'numpy.ndarray'>\n",
            "State shape: (4,), State type: <class 'numpy.ndarray'>\n",
            "State shape: (4,), State type: <class 'numpy.ndarray'>\n",
            "State shape: (4,), State type: <class 'numpy.ndarray'>\n",
            "State shape: (4,), State type: <class 'numpy.ndarray'>\n",
            "State shape: (4,), State type: <class 'numpy.ndarray'>\n",
            "State shape: (4,), State type: <class 'numpy.ndarray'>\n",
            "State shape: (4,), State type: <class 'numpy.ndarray'>\n",
            "State shape: (4,), State type: <class 'numpy.ndarray'>\n",
            "State shape: (4,), State type: <class 'numpy.ndarray'>\n",
            "State shape: (4,), State type: <class 'numpy.ndarray'>\n",
            "State shape: (4,), State type: <class 'numpy.ndarray'>\n",
            "State shape: (4,), State type: <class 'numpy.ndarray'>\n",
            "State shape: (4,), State type: <class 'numpy.ndarray'>\n",
            "State shape: (4,), State type: <class 'numpy.ndarray'>\n",
            "State shape: (4,), State type: <class 'numpy.ndarray'>\n",
            "State shape: (4,), State type: <class 'numpy.ndarray'>\n",
            "State shape: (4,), State type: <class 'numpy.ndarray'>\n",
            "State shape: (4,), State type: <class 'numpy.ndarray'>\n",
            "State shape: (4,), State type: <class 'numpy.ndarray'>\n",
            "State shape: (4,), State type: <class 'numpy.ndarray'>\n",
            "State shape: (4,), State type: <class 'numpy.ndarray'>\n",
            "State shape: (4,), State type: <class 'numpy.ndarray'>\n",
            "State shape: (4,), State type: <class 'numpy.ndarray'>\n",
            "State shape: (4,), State type: <class 'numpy.ndarray'>\n",
            "State shape: (4,), State type: <class 'numpy.ndarray'>\n",
            "State shape: (4,), State type: <class 'numpy.ndarray'>\n",
            "State shape: (4,), State type: <class 'numpy.ndarray'>\n",
            "State shape: (4,), State type: <class 'numpy.ndarray'>\n",
            "State shape: (4,), State type: <class 'numpy.ndarray'>\n",
            "State shape: (4,), State type: <class 'numpy.ndarray'>\n",
            "State shape: (4,), State type: <class 'numpy.ndarray'>\n",
            "State shape: (4,), State type: <class 'numpy.ndarray'>\n",
            "State shape: (4,), State type: <class 'numpy.ndarray'>\n",
            "State shape: (4,), State type: <class 'numpy.ndarray'>\n",
            "State shape: (4,), State type: <class 'numpy.ndarray'>\n",
            "State shape: (4,), State type: <class 'numpy.ndarray'>\n",
            "State shape: (4,), State type: <class 'numpy.ndarray'>\n",
            "State shape: (4,), State type: <class 'numpy.ndarray'>\n",
            "State shape: (4,), State type: <class 'numpy.ndarray'>\n",
            "State shape: (4,), State type: <class 'numpy.ndarray'>\n",
            "State shape: (4,), State type: <class 'numpy.ndarray'>\n",
            "State shape: (4,), State type: <class 'numpy.ndarray'>\n",
            "State shape: (4,), State type: <class 'numpy.ndarray'>\n",
            "State shape: (4,), State type: <class 'numpy.ndarray'>\n",
            "State shape: (4,), State type: <class 'numpy.ndarray'>\n",
            "State shape: (4,), State type: <class 'numpy.ndarray'>\n",
            "State shape: (4,), State type: <class 'numpy.ndarray'>\n",
            "State shape: (4,), State type: <class 'numpy.ndarray'>\n",
            "State shape: (4,), State type: <class 'numpy.ndarray'>\n",
            "State shape: (4,), State type: <class 'numpy.ndarray'>\n",
            "State shape: (4,), State type: <class 'numpy.ndarray'>\n",
            "State shape: (4,), State type: <class 'numpy.ndarray'>\n",
            "State shape: (4,), State type: <class 'numpy.ndarray'>\n",
            "State shape: (4,), State type: <class 'numpy.ndarray'>\n",
            "State shape: (4,), State type: <class 'numpy.ndarray'>\n",
            "State shape: (4,), State type: <class 'numpy.ndarray'>\n",
            "State shape: (4,), State type: <class 'numpy.ndarray'>\n",
            "State shape: (4,), State type: <class 'numpy.ndarray'>\n",
            "State shape: (4,), State type: <class 'numpy.ndarray'>\n",
            "State shape: (4,), State type: <class 'numpy.ndarray'>\n",
            "State shape: (4,), State type: <class 'numpy.ndarray'>\n",
            "State shape: (4,), State type: <class 'numpy.ndarray'>\n",
            "State shape: (4,), State type: <class 'numpy.ndarray'>\n",
            "State shape: (4,), State type: <class 'numpy.ndarray'>\n",
            "State shape: (4,), State type: <class 'numpy.ndarray'>\n",
            "State shape: (4,), State type: <class 'numpy.ndarray'>\n",
            "State shape: (4,), State type: <class 'numpy.ndarray'>\n",
            "State shape: (4,), State type: <class 'numpy.ndarray'>\n",
            "State shape: (4,), State type: <class 'numpy.ndarray'>\n",
            "State shape: (4,), State type: <class 'numpy.ndarray'>\n",
            "State shape: (4,), State type: <class 'numpy.ndarray'>\n",
            "State shape: (4,), State type: <class 'numpy.ndarray'>\n",
            "State shape: (4,), State type: <class 'numpy.ndarray'>\n",
            "State shape: (4,), State type: <class 'numpy.ndarray'>\n",
            "State shape: (4,), State type: <class 'numpy.ndarray'>\n",
            "State shape: (4,), State type: <class 'numpy.ndarray'>\n",
            "State shape: (4,), State type: <class 'numpy.ndarray'>\n",
            "State shape: (4,), State type: <class 'numpy.ndarray'>\n",
            "State shape: (4,), State type: <class 'numpy.ndarray'>\n",
            "State shape: (4,), State type: <class 'numpy.ndarray'>\n",
            "State shape: (4,), State type: <class 'numpy.ndarray'>\n",
            "State shape: (4,), State type: <class 'numpy.ndarray'>\n",
            "State shape: (4,), State type: <class 'numpy.ndarray'>\n",
            "State shape: (4,), State type: <class 'numpy.ndarray'>\n",
            "State shape: (4,), State type: <class 'numpy.ndarray'>\n",
            "State shape: (4,), State type: <class 'numpy.ndarray'>\n",
            "State shape: (4,), State type: <class 'numpy.ndarray'>\n",
            "State shape: (4,), State type: <class 'numpy.ndarray'>\n",
            "State shape: (4,), State type: <class 'numpy.ndarray'>\n",
            "State shape: (4,), State type: <class 'numpy.ndarray'>\n",
            "State shape: (4,), State type: <class 'numpy.ndarray'>\n",
            "State shape: (4,), State type: <class 'numpy.ndarray'>\n",
            "State shape: (4,), State type: <class 'numpy.ndarray'>\n",
            "State shape: (4,), State type: <class 'numpy.ndarray'>\n",
            "State shape: (4,), State type: <class 'numpy.ndarray'>\n",
            "State shape: (4,), State type: <class 'numpy.ndarray'>\n",
            "State shape: (4,), State type: <class 'numpy.ndarray'>\n",
            "State shape: (4,), State type: <class 'numpy.ndarray'>\n",
            "State shape: (4,), State type: <class 'numpy.ndarray'>\n",
            "State shape: (4,), State type: <class 'numpy.ndarray'>\n",
            "State shape: (4,), State type: <class 'numpy.ndarray'>\n",
            "State shape: (4,), State type: <class 'numpy.ndarray'>\n",
            "State shape: (4,), State type: <class 'numpy.ndarray'>\n",
            "State shape: (4,), State type: <class 'numpy.ndarray'>\n",
            "State shape: (4,), State type: <class 'numpy.ndarray'>\n",
            "State shape: (4,), State type: <class 'numpy.ndarray'>\n",
            "State shape: (4,), State type: <class 'numpy.ndarray'>\n",
            "State shape: (4,), State type: <class 'numpy.ndarray'>\n",
            "State shape: (4,), State type: <class 'numpy.ndarray'>\n",
            "State shape: (4,), State type: <class 'numpy.ndarray'>\n",
            "State shape: (4,), State type: <class 'numpy.ndarray'>\n",
            "State shape: (4,), State type: <class 'numpy.ndarray'>\n",
            "State shape: (4,), State type: <class 'numpy.ndarray'>\n",
            "State shape: (4,), State type: <class 'numpy.ndarray'>\n",
            "State shape: (4,), State type: <class 'numpy.ndarray'>\n",
            "State shape: (4,), State type: <class 'numpy.ndarray'>\n",
            "State shape: (4,), State type: <class 'numpy.ndarray'>\n",
            "State shape: (4,), State type: <class 'numpy.ndarray'>\n",
            "State shape: (4,), State type: <class 'numpy.ndarray'>\n",
            "State shape: (4,), State type: <class 'numpy.ndarray'>\n",
            "State shape: (4,), State type: <class 'numpy.ndarray'>\n",
            "State shape: (4,), State type: <class 'numpy.ndarray'>\n",
            "State shape: (4,), State type: <class 'numpy.ndarray'>\n",
            "State shape: (4,), State type: <class 'numpy.ndarray'>\n",
            "State shape: (4,), State type: <class 'numpy.ndarray'>\n",
            "State shape: (4,), State type: <class 'numpy.ndarray'>\n",
            "State shape: (4,), State type: <class 'numpy.ndarray'>\n",
            "State shape: (4,), State type: <class 'numpy.ndarray'>\n",
            "State shape: (4,), State type: <class 'numpy.ndarray'>\n",
            "State shape: (4,), State type: <class 'numpy.ndarray'>\n",
            "State shape: (4,), State type: <class 'numpy.ndarray'>\n",
            "State shape: (4,), State type: <class 'numpy.ndarray'>\n",
            "State shape: (4,), State type: <class 'numpy.ndarray'>\n",
            "State shape: (4,), State type: <class 'numpy.ndarray'>\n",
            "State shape: (4,), State type: <class 'numpy.ndarray'>\n",
            "State shape: (4,), State type: <class 'numpy.ndarray'>\n",
            "State shape: (4,), State type: <class 'numpy.ndarray'>\n",
            "State shape: (4,), State type: <class 'numpy.ndarray'>\n",
            "State shape: (4,), State type: <class 'numpy.ndarray'>\n",
            "State shape: (4,), State type: <class 'numpy.ndarray'>\n",
            "State shape: (4,), State type: <class 'numpy.ndarray'>\n",
            "State shape: (4,), State type: <class 'numpy.ndarray'>\n",
            "State shape: (4,), State type: <class 'numpy.ndarray'>\n",
            "State shape: (4,), State type: <class 'numpy.ndarray'>\n",
            "State shape: (4,), State type: <class 'numpy.ndarray'>\n",
            "State shape: (4,), State type: <class 'numpy.ndarray'>\n",
            "State shape: (4,), State type: <class 'numpy.ndarray'>\n",
            "State shape: (4,), State type: <class 'numpy.ndarray'>\n",
            "State shape: (4,), State type: <class 'numpy.ndarray'>\n",
            "State shape: (4,), State type: <class 'numpy.ndarray'>\n",
            "State shape: (4,), State type: <class 'numpy.ndarray'>\n",
            "State shape: (4,), State type: <class 'numpy.ndarray'>\n",
            "State shape: (4,), State type: <class 'numpy.ndarray'>\n",
            "State shape: (4,), State type: <class 'numpy.ndarray'>\n",
            "State shape: (4,), State type: <class 'numpy.ndarray'>\n",
            "State shape: (4,), State type: <class 'numpy.ndarray'>\n",
            "State shape: (4,), State type: <class 'numpy.ndarray'>\n",
            "State shape: (4,), State type: <class 'numpy.ndarray'>\n",
            "State shape: (4,), State type: <class 'numpy.ndarray'>\n",
            "State shape: (4,), State type: <class 'numpy.ndarray'>\n",
            "State shape: (4,), State type: <class 'numpy.ndarray'>\n",
            "State shape: (4,), State type: <class 'numpy.ndarray'>\n",
            "State shape: (4,), State type: <class 'numpy.ndarray'>\n",
            "State shape: (4,), State type: <class 'numpy.ndarray'>\n",
            "State shape: (4,), State type: <class 'numpy.ndarray'>\n",
            "State shape: (4,), State type: <class 'numpy.ndarray'>\n",
            "State shape: (4,), State type: <class 'numpy.ndarray'>\n",
            "State shape: (4,), State type: <class 'numpy.ndarray'>\n",
            "State shape: (4,), State type: <class 'numpy.ndarray'>\n",
            "State shape: (4,), State type: <class 'numpy.ndarray'>\n",
            "State shape: (4,), State type: <class 'numpy.ndarray'>\n",
            "State shape: (4,), State type: <class 'numpy.ndarray'>\n",
            "State shape: (4,), State type: <class 'numpy.ndarray'>\n",
            "State shape: (4,), State type: <class 'numpy.ndarray'>\n",
            "State shape: (4,), State type: <class 'numpy.ndarray'>\n",
            "State shape: (4,), State type: <class 'numpy.ndarray'>\n",
            "State shape: (4,), State type: <class 'numpy.ndarray'>\n",
            "State shape: (4,), State type: <class 'numpy.ndarray'>\n",
            "State shape: (4,), State type: <class 'numpy.ndarray'>\n",
            "State shape: (4,), State type: <class 'numpy.ndarray'>\n",
            "State shape: (4,), State type: <class 'numpy.ndarray'>\n",
            "State shape: (4,), State type: <class 'numpy.ndarray'>\n",
            "State shape: (4,), State type: <class 'numpy.ndarray'>\n",
            "State shape: (4,), State type: <class 'numpy.ndarray'>\n",
            "State shape: (4,), State type: <class 'numpy.ndarray'>\n",
            "State shape: (4,), State type: <class 'numpy.ndarray'>\n",
            "State shape: (4,), State type: <class 'numpy.ndarray'>\n",
            "State shape: (4,), State type: <class 'numpy.ndarray'>\n",
            "State shape: (4,), State type: <class 'numpy.ndarray'>\n",
            "State shape: (4,), State type: <class 'numpy.ndarray'>\n",
            "State shape: (4,), State type: <class 'numpy.ndarray'>\n",
            "State shape: (4,), State type: <class 'numpy.ndarray'>\n",
            "State shape: (4,), State type: <class 'numpy.ndarray'>\n",
            "State shape: (4,), State type: <class 'numpy.ndarray'>\n",
            "State shape: (4,), State type: <class 'numpy.ndarray'>\n",
            "State shape: (4,), State type: <class 'numpy.ndarray'>\n",
            "State shape: (4,), State type: <class 'numpy.ndarray'>\n",
            "State shape: (4,), State type: <class 'numpy.ndarray'>\n",
            "State shape: (4,), State type: <class 'numpy.ndarray'>\n",
            "State shape: (4,), State type: <class 'numpy.ndarray'>\n",
            "State shape: (4,), State type: <class 'numpy.ndarray'>\n",
            "State shape: (4,), State type: <class 'numpy.ndarray'>\n",
            "State shape: (4,), State type: <class 'numpy.ndarray'>\n",
            "State shape: (4,), State type: <class 'numpy.ndarray'>\n",
            "State shape: (4,), State type: <class 'numpy.ndarray'>\n",
            "State shape: (4,), State type: <class 'numpy.ndarray'>\n",
            "State shape: (4,), State type: <class 'numpy.ndarray'>\n",
            "State shape: (4,), State type: <class 'numpy.ndarray'>\n",
            "State shape: (4,), State type: <class 'numpy.ndarray'>\n",
            "State shape: (4,), State type: <class 'numpy.ndarray'>\n",
            "State shape: (4,), State type: <class 'numpy.ndarray'>\n",
            "State shape: (4,), State type: <class 'numpy.ndarray'>\n",
            "State shape: (4,), State type: <class 'numpy.ndarray'>\n",
            "State shape: (4,), State type: <class 'numpy.ndarray'>\n",
            "State shape: (4,), State type: <class 'numpy.ndarray'>\n",
            "State shape: (4,), State type: <class 'numpy.ndarray'>\n",
            "State shape: (4,), State type: <class 'numpy.ndarray'>\n",
            "State shape: (4,), State type: <class 'numpy.ndarray'>\n",
            "State shape: (4,), State type: <class 'numpy.ndarray'>\n",
            "State shape: (4,), State type: <class 'numpy.ndarray'>\n",
            "State shape: (4,), State type: <class 'numpy.ndarray'>\n",
            "State shape: (4,), State type: <class 'numpy.ndarray'>\n",
            "State shape: (4,), State type: <class 'numpy.ndarray'>\n",
            "State shape: (4,), State type: <class 'numpy.ndarray'>\n",
            "State shape: (4,), State type: <class 'numpy.ndarray'>\n",
            "State shape: (4,), State type: <class 'numpy.ndarray'>\n",
            "State shape: (4,), State type: <class 'numpy.ndarray'>\n",
            "State shape: (4,), State type: <class 'numpy.ndarray'>\n",
            "State shape: (4,), State type: <class 'numpy.ndarray'>\n",
            "State shape: (4,), State type: <class 'numpy.ndarray'>\n",
            "State shape: (4,), State type: <class 'numpy.ndarray'>\n",
            "State shape: (4,), State type: <class 'numpy.ndarray'>\n",
            "State shape: (4,), State type: <class 'numpy.ndarray'>\n",
            "State shape: (4,), State type: <class 'numpy.ndarray'>\n",
            "State shape: (4,), State type: <class 'numpy.ndarray'>\n",
            "State shape: (4,), State type: <class 'numpy.ndarray'>\n",
            "State shape: (4,), State type: <class 'numpy.ndarray'>\n",
            "State shape: (4,), State type: <class 'numpy.ndarray'>\n",
            "State shape: (4,), State type: <class 'numpy.ndarray'>\n",
            "State shape: (4,), State type: <class 'numpy.ndarray'>\n",
            "State shape: (4,), State type: <class 'numpy.ndarray'>\n",
            "State shape: (4,), State type: <class 'numpy.ndarray'>\n",
            "State shape: (4,), State type: <class 'numpy.ndarray'>\n",
            "State shape: (4,), State type: <class 'numpy.ndarray'>\n",
            "State shape: (4,), State type: <class 'numpy.ndarray'>\n",
            "State shape: (4,), State type: <class 'numpy.ndarray'>\n",
            "State shape: (4,), State type: <class 'numpy.ndarray'>\n",
            "State shape: (4,), State type: <class 'numpy.ndarray'>\n",
            "State shape: (4,), State type: <class 'numpy.ndarray'>\n",
            "State shape: (4,), State type: <class 'numpy.ndarray'>\n",
            "State shape: (4,), State type: <class 'numpy.ndarray'>\n",
            "State shape: (4,), State type: <class 'numpy.ndarray'>\n",
            "State shape: (4,), State type: <class 'numpy.ndarray'>\n",
            "State shape: (4,), State type: <class 'numpy.ndarray'>\n",
            "State shape: (4,), State type: <class 'numpy.ndarray'>\n",
            "State shape: (4,), State type: <class 'numpy.ndarray'>\n",
            "State shape: (4,), State type: <class 'numpy.ndarray'>\n",
            "State shape: (4,), State type: <class 'numpy.ndarray'>\n",
            "State shape: (4,), State type: <class 'numpy.ndarray'>\n",
            "State shape: (4,), State type: <class 'numpy.ndarray'>\n",
            "State shape: (4,), State type: <class 'numpy.ndarray'>\n",
            "State shape: (4,), State type: <class 'numpy.ndarray'>\n",
            "State shape: (4,), State type: <class 'numpy.ndarray'>\n",
            "State shape: (4,), State type: <class 'numpy.ndarray'>\n",
            "State shape: (4,), State type: <class 'numpy.ndarray'>\n",
            "State shape: (4,), State type: <class 'numpy.ndarray'>\n",
            "State shape: (4,), State type: <class 'numpy.ndarray'>\n",
            "State shape: (4,), State type: <class 'numpy.ndarray'>\n",
            "State shape: (4,), State type: <class 'numpy.ndarray'>\n",
            "State shape: (4,), State type: <class 'numpy.ndarray'>\n",
            "State shape: (4,), State type: <class 'numpy.ndarray'>\n",
            "State shape: (4,), State type: <class 'numpy.ndarray'>\n",
            "State shape: (4,), State type: <class 'numpy.ndarray'>\n",
            "State shape: (4,), State type: <class 'numpy.ndarray'>\n",
            "State shape: (4,), State type: <class 'numpy.ndarray'>\n",
            "State shape: (4,), State type: <class 'numpy.ndarray'>\n",
            "State shape: (4,), State type: <class 'numpy.ndarray'>\n",
            "State shape: (4,), State type: <class 'numpy.ndarray'>\n",
            "State shape: (4,), State type: <class 'numpy.ndarray'>\n",
            "State shape: (4,), State type: <class 'numpy.ndarray'>\n",
            "State shape: (4,), State type: <class 'numpy.ndarray'>\n",
            "State shape: (4,), State type: <class 'numpy.ndarray'>\n",
            "State shape: (4,), State type: <class 'numpy.ndarray'>\n",
            "State shape: (4,), State type: <class 'numpy.ndarray'>\n",
            "State shape: (4,), State type: <class 'numpy.ndarray'>\n",
            "State shape: (4,), State type: <class 'numpy.ndarray'>\n",
            "State shape: (4,), State type: <class 'numpy.ndarray'>\n",
            "State shape: (4,), State type: <class 'numpy.ndarray'>\n",
            "State shape: (4,), State type: <class 'numpy.ndarray'>\n",
            "State shape: (4,), State type: <class 'numpy.ndarray'>\n",
            "State shape: (4,), State type: <class 'numpy.ndarray'>\n",
            "State shape: (4,), State type: <class 'numpy.ndarray'>\n",
            "State shape: (4,), State type: <class 'numpy.ndarray'>\n",
            "State shape: (4,), State type: <class 'numpy.ndarray'>\n",
            "State shape: (4,), State type: <class 'numpy.ndarray'>\n",
            "State shape: (4,), State type: <class 'numpy.ndarray'>\n",
            "State shape: (4,), State type: <class 'numpy.ndarray'>\n",
            "State shape: (4,), State type: <class 'numpy.ndarray'>\n",
            "State shape: (4,), State type: <class 'numpy.ndarray'>\n",
            "State shape: (4,), State type: <class 'numpy.ndarray'>\n",
            "State shape: (4,), State type: <class 'numpy.ndarray'>\n",
            "State shape: (4,), State type: <class 'numpy.ndarray'>\n",
            "State shape: (4,), State type: <class 'numpy.ndarray'>\n",
            "State shape: (4,), State type: <class 'numpy.ndarray'>\n",
            "State shape: (4,), State type: <class 'numpy.ndarray'>\n",
            "State shape: (4,), State type: <class 'numpy.ndarray'>\n",
            "State shape: (4,), State type: <class 'numpy.ndarray'>\n",
            "State shape: (4,), State type: <class 'numpy.ndarray'>\n",
            "State shape: (4,), State type: <class 'numpy.ndarray'>\n",
            "State shape: (4,), State type: <class 'numpy.ndarray'>\n",
            "State shape: (4,), State type: <class 'numpy.ndarray'>\n",
            "State shape: (4,), State type: <class 'numpy.ndarray'>\n",
            "State shape: (4,), State type: <class 'numpy.ndarray'>\n",
            "State shape: (4,), State type: <class 'numpy.ndarray'>\n",
            "State shape: (4,), State type: <class 'numpy.ndarray'>\n",
            "State shape: (4,), State type: <class 'numpy.ndarray'>\n",
            "State shape: (4,), State type: <class 'numpy.ndarray'>\n",
            "State shape: (4,), State type: <class 'numpy.ndarray'>\n",
            "State shape: (4,), State type: <class 'numpy.ndarray'>\n",
            "State shape: (4,), State type: <class 'numpy.ndarray'>\n",
            "State shape: (4,), State type: <class 'numpy.ndarray'>\n",
            "State shape: (4,), State type: <class 'numpy.ndarray'>\n",
            "State shape: (4,), State type: <class 'numpy.ndarray'>\n",
            "State shape: (4,), State type: <class 'numpy.ndarray'>\n",
            "State shape: (4,), State type: <class 'numpy.ndarray'>\n",
            "State shape: (4,), State type: <class 'numpy.ndarray'>\n",
            "State shape: (4,), State type: <class 'numpy.ndarray'>\n",
            "State shape: (4,), State type: <class 'numpy.ndarray'>\n",
            "State shape: (4,), State type: <class 'numpy.ndarray'>\n",
            "State shape: (4,), State type: <class 'numpy.ndarray'>\n",
            "State shape: (4,), State type: <class 'numpy.ndarray'>\n",
            "State shape: (4,), State type: <class 'numpy.ndarray'>\n",
            "State shape: (4,), State type: <class 'numpy.ndarray'>\n",
            "State shape: (4,), State type: <class 'numpy.ndarray'>\n",
            "State shape: (4,), State type: <class 'numpy.ndarray'>\n",
            "State shape: (4,), State type: <class 'numpy.ndarray'>\n",
            "State shape: (4,), State type: <class 'numpy.ndarray'>\n",
            "State shape: (4,), State type: <class 'numpy.ndarray'>\n",
            "State shape: (4,), State type: <class 'numpy.ndarray'>\n",
            "State shape: (4,), State type: <class 'numpy.ndarray'>\n",
            "State shape: (4,), State type: <class 'numpy.ndarray'>\n",
            "State shape: (4,), State type: <class 'numpy.ndarray'>\n",
            "State shape: (4,), State type: <class 'numpy.ndarray'>\n",
            "State shape: (4,), State type: <class 'numpy.ndarray'>\n",
            "State shape: (4,), State type: <class 'numpy.ndarray'>\n",
            "State shape: (4,), State type: <class 'numpy.ndarray'>\n",
            "State shape: (4,), State type: <class 'numpy.ndarray'>\n",
            "State shape: (4,), State type: <class 'numpy.ndarray'>\n",
            "State shape: (4,), State type: <class 'numpy.ndarray'>\n",
            "State shape: (4,), State type: <class 'numpy.ndarray'>\n",
            "State shape: (4,), State type: <class 'numpy.ndarray'>\n",
            "State shape: (4,), State type: <class 'numpy.ndarray'>\n",
            "State shape: (4,), State type: <class 'numpy.ndarray'>\n",
            "State shape: (4,), State type: <class 'numpy.ndarray'>\n",
            "State shape: (4,), State type: <class 'numpy.ndarray'>\n",
            "State shape: (4,), State type: <class 'numpy.ndarray'>\n",
            "State shape: (4,), State type: <class 'numpy.ndarray'>\n",
            "State shape: (4,), State type: <class 'numpy.ndarray'>\n",
            "State shape: (4,), State type: <class 'numpy.ndarray'>\n",
            "State shape: (4,), State type: <class 'numpy.ndarray'>\n",
            "State shape: (4,), State type: <class 'numpy.ndarray'>\n",
            "State shape: (4,), State type: <class 'numpy.ndarray'>\n",
            "State shape: (4,), State type: <class 'numpy.ndarray'>\n",
            "State shape: (4,), State type: <class 'numpy.ndarray'>\n",
            "State shape: (4,), State type: <class 'numpy.ndarray'>\n",
            "State shape: (4,), State type: <class 'numpy.ndarray'>\n",
            "State shape: (4,), State type: <class 'numpy.ndarray'>\n",
            "State shape: (4,), State type: <class 'numpy.ndarray'>\n",
            "State shape: (4,), State type: <class 'numpy.ndarray'>\n",
            "State shape: (4,), State type: <class 'numpy.ndarray'>\n",
            "State shape: (4,), State type: <class 'numpy.ndarray'>\n",
            "State shape: (4,), State type: <class 'numpy.ndarray'>\n",
            "State shape: (4,), State type: <class 'numpy.ndarray'>\n",
            "State shape: (4,), State type: <class 'numpy.ndarray'>\n",
            "State shape: (4,), State type: <class 'numpy.ndarray'>\n",
            "State shape: (4,), State type: <class 'numpy.ndarray'>\n",
            "State shape: (4,), State type: <class 'numpy.ndarray'>\n",
            "State shape: (4,), State type: <class 'numpy.ndarray'>\n",
            "State shape: (4,), State type: <class 'numpy.ndarray'>\n",
            "State shape: (4,), State type: <class 'numpy.ndarray'>\n",
            "State shape: (4,), State type: <class 'numpy.ndarray'>\n",
            "State shape: (4,), State type: <class 'numpy.ndarray'>\n",
            "State shape: (4,), State type: <class 'numpy.ndarray'>\n",
            "State shape: (4,), State type: <class 'numpy.ndarray'>\n",
            "State shape: (4,), State type: <class 'numpy.ndarray'>\n",
            "State shape: (4,), State type: <class 'numpy.ndarray'>\n",
            "State shape: (4,), State type: <class 'numpy.ndarray'>\n",
            "State shape: (4,), State type: <class 'numpy.ndarray'>\n",
            "State shape: (4,), State type: <class 'numpy.ndarray'>\n",
            "State shape: (4,), State type: <class 'numpy.ndarray'>\n",
            "State shape: (4,), State type: <class 'numpy.ndarray'>\n",
            "State shape: (4,), State type: <class 'numpy.ndarray'>\n",
            "State shape: (4,), State type: <class 'numpy.ndarray'>\n",
            "State shape: (4,), State type: <class 'numpy.ndarray'>\n",
            "State shape: (4,), State type: <class 'numpy.ndarray'>\n",
            "State shape: (4,), State type: <class 'numpy.ndarray'>\n",
            "State shape: (4,), State type: <class 'numpy.ndarray'>\n",
            "State shape: (4,), State type: <class 'numpy.ndarray'>\n",
            "State shape: (4,), State type: <class 'numpy.ndarray'>\n",
            "State shape: (4,), State type: <class 'numpy.ndarray'>\n",
            "State shape: (4,), State type: <class 'numpy.ndarray'>\n",
            "State shape: (4,), State type: <class 'numpy.ndarray'>\n",
            "State shape: (4,), State type: <class 'numpy.ndarray'>\n",
            "State shape: (4,), State type: <class 'numpy.ndarray'>\n",
            "State shape: (4,), State type: <class 'numpy.ndarray'>\n",
            "State shape: (4,), State type: <class 'numpy.ndarray'>\n",
            "State shape: (4,), State type: <class 'numpy.ndarray'>\n",
            "State shape: (4,), State type: <class 'numpy.ndarray'>\n",
            "State shape: (4,), State type: <class 'numpy.ndarray'>\n",
            "State shape: (4,), State type: <class 'numpy.ndarray'>\n",
            "State shape: (4,), State type: <class 'numpy.ndarray'>\n",
            "State shape: (4,), State type: <class 'numpy.ndarray'>\n",
            "State shape: (4,), State type: <class 'numpy.ndarray'>\n",
            "State shape: (4,), State type: <class 'numpy.ndarray'>\n",
            "State shape: (4,), State type: <class 'numpy.ndarray'>\n",
            "State shape: (4,), State type: <class 'numpy.ndarray'>\n",
            "State shape: (4,), State type: <class 'numpy.ndarray'>\n",
            "State shape: (4,), State type: <class 'numpy.ndarray'>\n",
            "State shape: (4,), State type: <class 'numpy.ndarray'>\n",
            "State shape: (4,), State type: <class 'numpy.ndarray'>\n",
            "Episode 7 Reward: 500.0\n",
            "State shape: (4,), State type: <class 'numpy.ndarray'>\n",
            "State shape: (4,), State type: <class 'numpy.ndarray'>\n",
            "State shape: (4,), State type: <class 'numpy.ndarray'>\n",
            "State shape: (4,), State type: <class 'numpy.ndarray'>\n",
            "State shape: (4,), State type: <class 'numpy.ndarray'>\n",
            "State shape: (4,), State type: <class 'numpy.ndarray'>\n",
            "State shape: (4,), State type: <class 'numpy.ndarray'>\n",
            "State shape: (4,), State type: <class 'numpy.ndarray'>\n",
            "State shape: (4,), State type: <class 'numpy.ndarray'>\n",
            "State shape: (4,), State type: <class 'numpy.ndarray'>\n",
            "State shape: (4,), State type: <class 'numpy.ndarray'>\n",
            "State shape: (4,), State type: <class 'numpy.ndarray'>\n",
            "State shape: (4,), State type: <class 'numpy.ndarray'>\n",
            "State shape: (4,), State type: <class 'numpy.ndarray'>\n",
            "State shape: (4,), State type: <class 'numpy.ndarray'>\n",
            "State shape: (4,), State type: <class 'numpy.ndarray'>\n",
            "State shape: (4,), State type: <class 'numpy.ndarray'>\n",
            "State shape: (4,), State type: <class 'numpy.ndarray'>\n",
            "State shape: (4,), State type: <class 'numpy.ndarray'>\n",
            "State shape: (4,), State type: <class 'numpy.ndarray'>\n",
            "State shape: (4,), State type: <class 'numpy.ndarray'>\n",
            "State shape: (4,), State type: <class 'numpy.ndarray'>\n",
            "State shape: (4,), State type: <class 'numpy.ndarray'>\n",
            "State shape: (4,), State type: <class 'numpy.ndarray'>\n",
            "State shape: (4,), State type: <class 'numpy.ndarray'>\n",
            "State shape: (4,), State type: <class 'numpy.ndarray'>\n",
            "State shape: (4,), State type: <class 'numpy.ndarray'>\n",
            "State shape: (4,), State type: <class 'numpy.ndarray'>\n",
            "State shape: (4,), State type: <class 'numpy.ndarray'>\n",
            "State shape: (4,), State type: <class 'numpy.ndarray'>\n",
            "State shape: (4,), State type: <class 'numpy.ndarray'>\n",
            "State shape: (4,), State type: <class 'numpy.ndarray'>\n",
            "State shape: (4,), State type: <class 'numpy.ndarray'>\n",
            "State shape: (4,), State type: <class 'numpy.ndarray'>\n",
            "State shape: (4,), State type: <class 'numpy.ndarray'>\n",
            "State shape: (4,), State type: <class 'numpy.ndarray'>\n",
            "State shape: (4,), State type: <class 'numpy.ndarray'>\n",
            "State shape: (4,), State type: <class 'numpy.ndarray'>\n",
            "State shape: (4,), State type: <class 'numpy.ndarray'>\n",
            "State shape: (4,), State type: <class 'numpy.ndarray'>\n",
            "State shape: (4,), State type: <class 'numpy.ndarray'>\n",
            "State shape: (4,), State type: <class 'numpy.ndarray'>\n",
            "State shape: (4,), State type: <class 'numpy.ndarray'>\n",
            "State shape: (4,), State type: <class 'numpy.ndarray'>\n",
            "State shape: (4,), State type: <class 'numpy.ndarray'>\n",
            "State shape: (4,), State type: <class 'numpy.ndarray'>\n",
            "State shape: (4,), State type: <class 'numpy.ndarray'>\n",
            "State shape: (4,), State type: <class 'numpy.ndarray'>\n",
            "State shape: (4,), State type: <class 'numpy.ndarray'>\n",
            "State shape: (4,), State type: <class 'numpy.ndarray'>\n",
            "State shape: (4,), State type: <class 'numpy.ndarray'>\n",
            "State shape: (4,), State type: <class 'numpy.ndarray'>\n",
            "State shape: (4,), State type: <class 'numpy.ndarray'>\n",
            "State shape: (4,), State type: <class 'numpy.ndarray'>\n",
            "State shape: (4,), State type: <class 'numpy.ndarray'>\n",
            "State shape: (4,), State type: <class 'numpy.ndarray'>\n",
            "State shape: (4,), State type: <class 'numpy.ndarray'>\n",
            "State shape: (4,), State type: <class 'numpy.ndarray'>\n",
            "State shape: (4,), State type: <class 'numpy.ndarray'>\n",
            "State shape: (4,), State type: <class 'numpy.ndarray'>\n",
            "State shape: (4,), State type: <class 'numpy.ndarray'>\n",
            "State shape: (4,), State type: <class 'numpy.ndarray'>\n",
            "State shape: (4,), State type: <class 'numpy.ndarray'>\n",
            "State shape: (4,), State type: <class 'numpy.ndarray'>\n",
            "State shape: (4,), State type: <class 'numpy.ndarray'>\n",
            "State shape: (4,), State type: <class 'numpy.ndarray'>\n",
            "State shape: (4,), State type: <class 'numpy.ndarray'>\n",
            "State shape: (4,), State type: <class 'numpy.ndarray'>\n",
            "State shape: (4,), State type: <class 'numpy.ndarray'>\n",
            "State shape: (4,), State type: <class 'numpy.ndarray'>\n",
            "State shape: (4,), State type: <class 'numpy.ndarray'>\n",
            "State shape: (4,), State type: <class 'numpy.ndarray'>\n",
            "State shape: (4,), State type: <class 'numpy.ndarray'>\n",
            "State shape: (4,), State type: <class 'numpy.ndarray'>\n",
            "State shape: (4,), State type: <class 'numpy.ndarray'>\n",
            "State shape: (4,), State type: <class 'numpy.ndarray'>\n",
            "State shape: (4,), State type: <class 'numpy.ndarray'>\n",
            "State shape: (4,), State type: <class 'numpy.ndarray'>\n",
            "State shape: (4,), State type: <class 'numpy.ndarray'>\n",
            "State shape: (4,), State type: <class 'numpy.ndarray'>\n",
            "State shape: (4,), State type: <class 'numpy.ndarray'>\n",
            "State shape: (4,), State type: <class 'numpy.ndarray'>\n",
            "State shape: (4,), State type: <class 'numpy.ndarray'>\n",
            "State shape: (4,), State type: <class 'numpy.ndarray'>\n",
            "State shape: (4,), State type: <class 'numpy.ndarray'>\n",
            "State shape: (4,), State type: <class 'numpy.ndarray'>\n",
            "State shape: (4,), State type: <class 'numpy.ndarray'>\n",
            "State shape: (4,), State type: <class 'numpy.ndarray'>\n",
            "State shape: (4,), State type: <class 'numpy.ndarray'>\n",
            "State shape: (4,), State type: <class 'numpy.ndarray'>\n",
            "State shape: (4,), State type: <class 'numpy.ndarray'>\n",
            "State shape: (4,), State type: <class 'numpy.ndarray'>\n",
            "State shape: (4,), State type: <class 'numpy.ndarray'>\n",
            "State shape: (4,), State type: <class 'numpy.ndarray'>\n",
            "State shape: (4,), State type: <class 'numpy.ndarray'>\n",
            "State shape: (4,), State type: <class 'numpy.ndarray'>\n",
            "State shape: (4,), State type: <class 'numpy.ndarray'>\n",
            "State shape: (4,), State type: <class 'numpy.ndarray'>\n",
            "State shape: (4,), State type: <class 'numpy.ndarray'>\n",
            "State shape: (4,), State type: <class 'numpy.ndarray'>\n",
            "State shape: (4,), State type: <class 'numpy.ndarray'>\n",
            "State shape: (4,), State type: <class 'numpy.ndarray'>\n",
            "State shape: (4,), State type: <class 'numpy.ndarray'>\n",
            "State shape: (4,), State type: <class 'numpy.ndarray'>\n",
            "State shape: (4,), State type: <class 'numpy.ndarray'>\n",
            "State shape: (4,), State type: <class 'numpy.ndarray'>\n",
            "State shape: (4,), State type: <class 'numpy.ndarray'>\n",
            "State shape: (4,), State type: <class 'numpy.ndarray'>\n",
            "State shape: (4,), State type: <class 'numpy.ndarray'>\n",
            "State shape: (4,), State type: <class 'numpy.ndarray'>\n",
            "State shape: (4,), State type: <class 'numpy.ndarray'>\n",
            "State shape: (4,), State type: <class 'numpy.ndarray'>\n",
            "State shape: (4,), State type: <class 'numpy.ndarray'>\n",
            "State shape: (4,), State type: <class 'numpy.ndarray'>\n",
            "State shape: (4,), State type: <class 'numpy.ndarray'>\n",
            "State shape: (4,), State type: <class 'numpy.ndarray'>\n",
            "State shape: (4,), State type: <class 'numpy.ndarray'>\n",
            "State shape: (4,), State type: <class 'numpy.ndarray'>\n",
            "State shape: (4,), State type: <class 'numpy.ndarray'>\n",
            "State shape: (4,), State type: <class 'numpy.ndarray'>\n",
            "State shape: (4,), State type: <class 'numpy.ndarray'>\n",
            "State shape: (4,), State type: <class 'numpy.ndarray'>\n",
            "State shape: (4,), State type: <class 'numpy.ndarray'>\n",
            "State shape: (4,), State type: <class 'numpy.ndarray'>\n",
            "State shape: (4,), State type: <class 'numpy.ndarray'>\n",
            "State shape: (4,), State type: <class 'numpy.ndarray'>\n",
            "State shape: (4,), State type: <class 'numpy.ndarray'>\n",
            "State shape: (4,), State type: <class 'numpy.ndarray'>\n",
            "State shape: (4,), State type: <class 'numpy.ndarray'>\n",
            "State shape: (4,), State type: <class 'numpy.ndarray'>\n",
            "State shape: (4,), State type: <class 'numpy.ndarray'>\n",
            "State shape: (4,), State type: <class 'numpy.ndarray'>\n",
            "State shape: (4,), State type: <class 'numpy.ndarray'>\n",
            "State shape: (4,), State type: <class 'numpy.ndarray'>\n",
            "State shape: (4,), State type: <class 'numpy.ndarray'>\n",
            "State shape: (4,), State type: <class 'numpy.ndarray'>\n",
            "State shape: (4,), State type: <class 'numpy.ndarray'>\n",
            "State shape: (4,), State type: <class 'numpy.ndarray'>\n",
            "State shape: (4,), State type: <class 'numpy.ndarray'>\n",
            "State shape: (4,), State type: <class 'numpy.ndarray'>\n",
            "State shape: (4,), State type: <class 'numpy.ndarray'>\n",
            "State shape: (4,), State type: <class 'numpy.ndarray'>\n",
            "State shape: (4,), State type: <class 'numpy.ndarray'>\n",
            "State shape: (4,), State type: <class 'numpy.ndarray'>\n",
            "State shape: (4,), State type: <class 'numpy.ndarray'>\n",
            "State shape: (4,), State type: <class 'numpy.ndarray'>\n",
            "State shape: (4,), State type: <class 'numpy.ndarray'>\n",
            "State shape: (4,), State type: <class 'numpy.ndarray'>\n",
            "State shape: (4,), State type: <class 'numpy.ndarray'>\n",
            "State shape: (4,), State type: <class 'numpy.ndarray'>\n",
            "State shape: (4,), State type: <class 'numpy.ndarray'>\n",
            "State shape: (4,), State type: <class 'numpy.ndarray'>\n",
            "State shape: (4,), State type: <class 'numpy.ndarray'>\n",
            "State shape: (4,), State type: <class 'numpy.ndarray'>\n",
            "State shape: (4,), State type: <class 'numpy.ndarray'>\n",
            "State shape: (4,), State type: <class 'numpy.ndarray'>\n",
            "State shape: (4,), State type: <class 'numpy.ndarray'>\n",
            "State shape: (4,), State type: <class 'numpy.ndarray'>\n",
            "State shape: (4,), State type: <class 'numpy.ndarray'>\n",
            "State shape: (4,), State type: <class 'numpy.ndarray'>\n",
            "State shape: (4,), State type: <class 'numpy.ndarray'>\n",
            "State shape: (4,), State type: <class 'numpy.ndarray'>\n",
            "State shape: (4,), State type: <class 'numpy.ndarray'>\n",
            "State shape: (4,), State type: <class 'numpy.ndarray'>\n",
            "State shape: (4,), State type: <class 'numpy.ndarray'>\n",
            "State shape: (4,), State type: <class 'numpy.ndarray'>\n",
            "State shape: (4,), State type: <class 'numpy.ndarray'>\n",
            "State shape: (4,), State type: <class 'numpy.ndarray'>\n",
            "State shape: (4,), State type: <class 'numpy.ndarray'>\n",
            "State shape: (4,), State type: <class 'numpy.ndarray'>\n",
            "State shape: (4,), State type: <class 'numpy.ndarray'>\n",
            "State shape: (4,), State type: <class 'numpy.ndarray'>\n",
            "State shape: (4,), State type: <class 'numpy.ndarray'>\n",
            "State shape: (4,), State type: <class 'numpy.ndarray'>\n",
            "State shape: (4,), State type: <class 'numpy.ndarray'>\n",
            "State shape: (4,), State type: <class 'numpy.ndarray'>\n",
            "State shape: (4,), State type: <class 'numpy.ndarray'>\n",
            "State shape: (4,), State type: <class 'numpy.ndarray'>\n",
            "State shape: (4,), State type: <class 'numpy.ndarray'>\n",
            "State shape: (4,), State type: <class 'numpy.ndarray'>\n",
            "State shape: (4,), State type: <class 'numpy.ndarray'>\n",
            "State shape: (4,), State type: <class 'numpy.ndarray'>\n",
            "State shape: (4,), State type: <class 'numpy.ndarray'>\n",
            "State shape: (4,), State type: <class 'numpy.ndarray'>\n",
            "State shape: (4,), State type: <class 'numpy.ndarray'>\n",
            "State shape: (4,), State type: <class 'numpy.ndarray'>\n",
            "State shape: (4,), State type: <class 'numpy.ndarray'>\n",
            "State shape: (4,), State type: <class 'numpy.ndarray'>\n",
            "State shape: (4,), State type: <class 'numpy.ndarray'>\n",
            "State shape: (4,), State type: <class 'numpy.ndarray'>\n",
            "State shape: (4,), State type: <class 'numpy.ndarray'>\n",
            "State shape: (4,), State type: <class 'numpy.ndarray'>\n",
            "State shape: (4,), State type: <class 'numpy.ndarray'>\n",
            "State shape: (4,), State type: <class 'numpy.ndarray'>\n",
            "State shape: (4,), State type: <class 'numpy.ndarray'>\n",
            "State shape: (4,), State type: <class 'numpy.ndarray'>\n",
            "State shape: (4,), State type: <class 'numpy.ndarray'>\n",
            "State shape: (4,), State type: <class 'numpy.ndarray'>\n",
            "State shape: (4,), State type: <class 'numpy.ndarray'>\n",
            "State shape: (4,), State type: <class 'numpy.ndarray'>\n",
            "State shape: (4,), State type: <class 'numpy.ndarray'>\n",
            "State shape: (4,), State type: <class 'numpy.ndarray'>\n",
            "State shape: (4,), State type: <class 'numpy.ndarray'>\n",
            "State shape: (4,), State type: <class 'numpy.ndarray'>\n",
            "State shape: (4,), State type: <class 'numpy.ndarray'>\n",
            "State shape: (4,), State type: <class 'numpy.ndarray'>\n",
            "State shape: (4,), State type: <class 'numpy.ndarray'>\n",
            "State shape: (4,), State type: <class 'numpy.ndarray'>\n",
            "State shape: (4,), State type: <class 'numpy.ndarray'>\n",
            "State shape: (4,), State type: <class 'numpy.ndarray'>\n",
            "State shape: (4,), State type: <class 'numpy.ndarray'>\n",
            "State shape: (4,), State type: <class 'numpy.ndarray'>\n",
            "State shape: (4,), State type: <class 'numpy.ndarray'>\n",
            "State shape: (4,), State type: <class 'numpy.ndarray'>\n",
            "State shape: (4,), State type: <class 'numpy.ndarray'>\n",
            "State shape: (4,), State type: <class 'numpy.ndarray'>\n",
            "State shape: (4,), State type: <class 'numpy.ndarray'>\n",
            "State shape: (4,), State type: <class 'numpy.ndarray'>\n",
            "State shape: (4,), State type: <class 'numpy.ndarray'>\n",
            "State shape: (4,), State type: <class 'numpy.ndarray'>\n",
            "State shape: (4,), State type: <class 'numpy.ndarray'>\n",
            "State shape: (4,), State type: <class 'numpy.ndarray'>\n",
            "State shape: (4,), State type: <class 'numpy.ndarray'>\n",
            "State shape: (4,), State type: <class 'numpy.ndarray'>\n",
            "State shape: (4,), State type: <class 'numpy.ndarray'>\n",
            "State shape: (4,), State type: <class 'numpy.ndarray'>\n",
            "State shape: (4,), State type: <class 'numpy.ndarray'>\n",
            "State shape: (4,), State type: <class 'numpy.ndarray'>\n",
            "State shape: (4,), State type: <class 'numpy.ndarray'>\n",
            "State shape: (4,), State type: <class 'numpy.ndarray'>\n",
            "State shape: (4,), State type: <class 'numpy.ndarray'>\n",
            "State shape: (4,), State type: <class 'numpy.ndarray'>\n",
            "State shape: (4,), State type: <class 'numpy.ndarray'>\n",
            "State shape: (4,), State type: <class 'numpy.ndarray'>\n",
            "State shape: (4,), State type: <class 'numpy.ndarray'>\n",
            "State shape: (4,), State type: <class 'numpy.ndarray'>\n",
            "State shape: (4,), State type: <class 'numpy.ndarray'>\n",
            "State shape: (4,), State type: <class 'numpy.ndarray'>\n",
            "State shape: (4,), State type: <class 'numpy.ndarray'>\n",
            "State shape: (4,), State type: <class 'numpy.ndarray'>\n",
            "State shape: (4,), State type: <class 'numpy.ndarray'>\n",
            "State shape: (4,), State type: <class 'numpy.ndarray'>\n",
            "State shape: (4,), State type: <class 'numpy.ndarray'>\n",
            "State shape: (4,), State type: <class 'numpy.ndarray'>\n",
            "State shape: (4,), State type: <class 'numpy.ndarray'>\n",
            "State shape: (4,), State type: <class 'numpy.ndarray'>\n",
            "State shape: (4,), State type: <class 'numpy.ndarray'>\n",
            "State shape: (4,), State type: <class 'numpy.ndarray'>\n",
            "State shape: (4,), State type: <class 'numpy.ndarray'>\n",
            "State shape: (4,), State type: <class 'numpy.ndarray'>\n",
            "State shape: (4,), State type: <class 'numpy.ndarray'>\n",
            "State shape: (4,), State type: <class 'numpy.ndarray'>\n",
            "State shape: (4,), State type: <class 'numpy.ndarray'>\n",
            "State shape: (4,), State type: <class 'numpy.ndarray'>\n",
            "State shape: (4,), State type: <class 'numpy.ndarray'>\n",
            "State shape: (4,), State type: <class 'numpy.ndarray'>\n",
            "State shape: (4,), State type: <class 'numpy.ndarray'>\n",
            "State shape: (4,), State type: <class 'numpy.ndarray'>\n",
            "State shape: (4,), State type: <class 'numpy.ndarray'>\n",
            "State shape: (4,), State type: <class 'numpy.ndarray'>\n",
            "State shape: (4,), State type: <class 'numpy.ndarray'>\n",
            "State shape: (4,), State type: <class 'numpy.ndarray'>\n",
            "State shape: (4,), State type: <class 'numpy.ndarray'>\n",
            "State shape: (4,), State type: <class 'numpy.ndarray'>\n",
            "State shape: (4,), State type: <class 'numpy.ndarray'>\n",
            "State shape: (4,), State type: <class 'numpy.ndarray'>\n",
            "State shape: (4,), State type: <class 'numpy.ndarray'>\n",
            "State shape: (4,), State type: <class 'numpy.ndarray'>\n",
            "State shape: (4,), State type: <class 'numpy.ndarray'>\n",
            "State shape: (4,), State type: <class 'numpy.ndarray'>\n",
            "State shape: (4,), State type: <class 'numpy.ndarray'>\n",
            "State shape: (4,), State type: <class 'numpy.ndarray'>\n",
            "State shape: (4,), State type: <class 'numpy.ndarray'>\n",
            "State shape: (4,), State type: <class 'numpy.ndarray'>\n",
            "State shape: (4,), State type: <class 'numpy.ndarray'>\n",
            "State shape: (4,), State type: <class 'numpy.ndarray'>\n",
            "State shape: (4,), State type: <class 'numpy.ndarray'>\n",
            "State shape: (4,), State type: <class 'numpy.ndarray'>\n",
            "State shape: (4,), State type: <class 'numpy.ndarray'>\n",
            "State shape: (4,), State type: <class 'numpy.ndarray'>\n",
            "State shape: (4,), State type: <class 'numpy.ndarray'>\n",
            "State shape: (4,), State type: <class 'numpy.ndarray'>\n",
            "State shape: (4,), State type: <class 'numpy.ndarray'>\n",
            "State shape: (4,), State type: <class 'numpy.ndarray'>\n",
            "State shape: (4,), State type: <class 'numpy.ndarray'>\n",
            "State shape: (4,), State type: <class 'numpy.ndarray'>\n",
            "State shape: (4,), State type: <class 'numpy.ndarray'>\n",
            "State shape: (4,), State type: <class 'numpy.ndarray'>\n",
            "State shape: (4,), State type: <class 'numpy.ndarray'>\n",
            "State shape: (4,), State type: <class 'numpy.ndarray'>\n",
            "State shape: (4,), State type: <class 'numpy.ndarray'>\n",
            "State shape: (4,), State type: <class 'numpy.ndarray'>\n",
            "State shape: (4,), State type: <class 'numpy.ndarray'>\n",
            "State shape: (4,), State type: <class 'numpy.ndarray'>\n",
            "State shape: (4,), State type: <class 'numpy.ndarray'>\n",
            "State shape: (4,), State type: <class 'numpy.ndarray'>\n",
            "State shape: (4,), State type: <class 'numpy.ndarray'>\n",
            "State shape: (4,), State type: <class 'numpy.ndarray'>\n",
            "State shape: (4,), State type: <class 'numpy.ndarray'>\n",
            "State shape: (4,), State type: <class 'numpy.ndarray'>\n",
            "State shape: (4,), State type: <class 'numpy.ndarray'>\n",
            "State shape: (4,), State type: <class 'numpy.ndarray'>\n",
            "State shape: (4,), State type: <class 'numpy.ndarray'>\n",
            "State shape: (4,), State type: <class 'numpy.ndarray'>\n",
            "State shape: (4,), State type: <class 'numpy.ndarray'>\n",
            "State shape: (4,), State type: <class 'numpy.ndarray'>\n",
            "State shape: (4,), State type: <class 'numpy.ndarray'>\n",
            "State shape: (4,), State type: <class 'numpy.ndarray'>\n",
            "State shape: (4,), State type: <class 'numpy.ndarray'>\n",
            "State shape: (4,), State type: <class 'numpy.ndarray'>\n",
            "State shape: (4,), State type: <class 'numpy.ndarray'>\n",
            "State shape: (4,), State type: <class 'numpy.ndarray'>\n",
            "State shape: (4,), State type: <class 'numpy.ndarray'>\n",
            "State shape: (4,), State type: <class 'numpy.ndarray'>\n",
            "State shape: (4,), State type: <class 'numpy.ndarray'>\n",
            "State shape: (4,), State type: <class 'numpy.ndarray'>\n",
            "State shape: (4,), State type: <class 'numpy.ndarray'>\n",
            "State shape: (4,), State type: <class 'numpy.ndarray'>\n",
            "State shape: (4,), State type: <class 'numpy.ndarray'>\n",
            "State shape: (4,), State type: <class 'numpy.ndarray'>\n",
            "State shape: (4,), State type: <class 'numpy.ndarray'>\n",
            "State shape: (4,), State type: <class 'numpy.ndarray'>\n",
            "State shape: (4,), State type: <class 'numpy.ndarray'>\n",
            "State shape: (4,), State type: <class 'numpy.ndarray'>\n",
            "State shape: (4,), State type: <class 'numpy.ndarray'>\n",
            "State shape: (4,), State type: <class 'numpy.ndarray'>\n",
            "State shape: (4,), State type: <class 'numpy.ndarray'>\n",
            "State shape: (4,), State type: <class 'numpy.ndarray'>\n",
            "State shape: (4,), State type: <class 'numpy.ndarray'>\n",
            "State shape: (4,), State type: <class 'numpy.ndarray'>\n",
            "State shape: (4,), State type: <class 'numpy.ndarray'>\n",
            "State shape: (4,), State type: <class 'numpy.ndarray'>\n",
            "State shape: (4,), State type: <class 'numpy.ndarray'>\n",
            "State shape: (4,), State type: <class 'numpy.ndarray'>\n",
            "State shape: (4,), State type: <class 'numpy.ndarray'>\n",
            "State shape: (4,), State type: <class 'numpy.ndarray'>\n",
            "State shape: (4,), State type: <class 'numpy.ndarray'>\n",
            "State shape: (4,), State type: <class 'numpy.ndarray'>\n",
            "State shape: (4,), State type: <class 'numpy.ndarray'>\n",
            "State shape: (4,), State type: <class 'numpy.ndarray'>\n",
            "State shape: (4,), State type: <class 'numpy.ndarray'>\n",
            "State shape: (4,), State type: <class 'numpy.ndarray'>\n",
            "State shape: (4,), State type: <class 'numpy.ndarray'>\n",
            "State shape: (4,), State type: <class 'numpy.ndarray'>\n",
            "State shape: (4,), State type: <class 'numpy.ndarray'>\n",
            "State shape: (4,), State type: <class 'numpy.ndarray'>\n",
            "State shape: (4,), State type: <class 'numpy.ndarray'>\n",
            "State shape: (4,), State type: <class 'numpy.ndarray'>\n",
            "State shape: (4,), State type: <class 'numpy.ndarray'>\n",
            "State shape: (4,), State type: <class 'numpy.ndarray'>\n",
            "State shape: (4,), State type: <class 'numpy.ndarray'>\n",
            "State shape: (4,), State type: <class 'numpy.ndarray'>\n",
            "State shape: (4,), State type: <class 'numpy.ndarray'>\n",
            "State shape: (4,), State type: <class 'numpy.ndarray'>\n",
            "State shape: (4,), State type: <class 'numpy.ndarray'>\n",
            "State shape: (4,), State type: <class 'numpy.ndarray'>\n",
            "State shape: (4,), State type: <class 'numpy.ndarray'>\n",
            "State shape: (4,), State type: <class 'numpy.ndarray'>\n",
            "State shape: (4,), State type: <class 'numpy.ndarray'>\n",
            "State shape: (4,), State type: <class 'numpy.ndarray'>\n",
            "State shape: (4,), State type: <class 'numpy.ndarray'>\n",
            "State shape: (4,), State type: <class 'numpy.ndarray'>\n",
            "State shape: (4,), State type: <class 'numpy.ndarray'>\n",
            "State shape: (4,), State type: <class 'numpy.ndarray'>\n",
            "State shape: (4,), State type: <class 'numpy.ndarray'>\n",
            "State shape: (4,), State type: <class 'numpy.ndarray'>\n",
            "State shape: (4,), State type: <class 'numpy.ndarray'>\n",
            "State shape: (4,), State type: <class 'numpy.ndarray'>\n",
            "State shape: (4,), State type: <class 'numpy.ndarray'>\n",
            "State shape: (4,), State type: <class 'numpy.ndarray'>\n",
            "State shape: (4,), State type: <class 'numpy.ndarray'>\n",
            "State shape: (4,), State type: <class 'numpy.ndarray'>\n",
            "State shape: (4,), State type: <class 'numpy.ndarray'>\n",
            "State shape: (4,), State type: <class 'numpy.ndarray'>\n",
            "State shape: (4,), State type: <class 'numpy.ndarray'>\n",
            "State shape: (4,), State type: <class 'numpy.ndarray'>\n",
            "State shape: (4,), State type: <class 'numpy.ndarray'>\n",
            "State shape: (4,), State type: <class 'numpy.ndarray'>\n",
            "State shape: (4,), State type: <class 'numpy.ndarray'>\n",
            "State shape: (4,), State type: <class 'numpy.ndarray'>\n",
            "State shape: (4,), State type: <class 'numpy.ndarray'>\n",
            "State shape: (4,), State type: <class 'numpy.ndarray'>\n",
            "State shape: (4,), State type: <class 'numpy.ndarray'>\n",
            "State shape: (4,), State type: <class 'numpy.ndarray'>\n",
            "State shape: (4,), State type: <class 'numpy.ndarray'>\n",
            "State shape: (4,), State type: <class 'numpy.ndarray'>\n",
            "State shape: (4,), State type: <class 'numpy.ndarray'>\n",
            "State shape: (4,), State type: <class 'numpy.ndarray'>\n",
            "State shape: (4,), State type: <class 'numpy.ndarray'>\n",
            "State shape: (4,), State type: <class 'numpy.ndarray'>\n",
            "State shape: (4,), State type: <class 'numpy.ndarray'>\n",
            "State shape: (4,), State type: <class 'numpy.ndarray'>\n",
            "State shape: (4,), State type: <class 'numpy.ndarray'>\n",
            "State shape: (4,), State type: <class 'numpy.ndarray'>\n",
            "State shape: (4,), State type: <class 'numpy.ndarray'>\n",
            "State shape: (4,), State type: <class 'numpy.ndarray'>\n",
            "State shape: (4,), State type: <class 'numpy.ndarray'>\n",
            "State shape: (4,), State type: <class 'numpy.ndarray'>\n",
            "State shape: (4,), State type: <class 'numpy.ndarray'>\n",
            "State shape: (4,), State type: <class 'numpy.ndarray'>\n",
            "State shape: (4,), State type: <class 'numpy.ndarray'>\n",
            "State shape: (4,), State type: <class 'numpy.ndarray'>\n",
            "State shape: (4,), State type: <class 'numpy.ndarray'>\n",
            "State shape: (4,), State type: <class 'numpy.ndarray'>\n",
            "State shape: (4,), State type: <class 'numpy.ndarray'>\n",
            "State shape: (4,), State type: <class 'numpy.ndarray'>\n",
            "State shape: (4,), State type: <class 'numpy.ndarray'>\n",
            "State shape: (4,), State type: <class 'numpy.ndarray'>\n",
            "State shape: (4,), State type: <class 'numpy.ndarray'>\n",
            "State shape: (4,), State type: <class 'numpy.ndarray'>\n",
            "State shape: (4,), State type: <class 'numpy.ndarray'>\n",
            "State shape: (4,), State type: <class 'numpy.ndarray'>\n",
            "State shape: (4,), State type: <class 'numpy.ndarray'>\n",
            "State shape: (4,), State type: <class 'numpy.ndarray'>\n",
            "State shape: (4,), State type: <class 'numpy.ndarray'>\n",
            "State shape: (4,), State type: <class 'numpy.ndarray'>\n",
            "State shape: (4,), State type: <class 'numpy.ndarray'>\n",
            "State shape: (4,), State type: <class 'numpy.ndarray'>\n",
            "State shape: (4,), State type: <class 'numpy.ndarray'>\n",
            "State shape: (4,), State type: <class 'numpy.ndarray'>\n",
            "State shape: (4,), State type: <class 'numpy.ndarray'>\n",
            "State shape: (4,), State type: <class 'numpy.ndarray'>\n",
            "State shape: (4,), State type: <class 'numpy.ndarray'>\n",
            "State shape: (4,), State type: <class 'numpy.ndarray'>\n",
            "State shape: (4,), State type: <class 'numpy.ndarray'>\n",
            "State shape: (4,), State type: <class 'numpy.ndarray'>\n",
            "State shape: (4,), State type: <class 'numpy.ndarray'>\n",
            "State shape: (4,), State type: <class 'numpy.ndarray'>\n",
            "State shape: (4,), State type: <class 'numpy.ndarray'>\n",
            "State shape: (4,), State type: <class 'numpy.ndarray'>\n",
            "State shape: (4,), State type: <class 'numpy.ndarray'>\n",
            "State shape: (4,), State type: <class 'numpy.ndarray'>\n",
            "State shape: (4,), State type: <class 'numpy.ndarray'>\n",
            "State shape: (4,), State type: <class 'numpy.ndarray'>\n",
            "State shape: (4,), State type: <class 'numpy.ndarray'>\n",
            "State shape: (4,), State type: <class 'numpy.ndarray'>\n",
            "State shape: (4,), State type: <class 'numpy.ndarray'>\n",
            "State shape: (4,), State type: <class 'numpy.ndarray'>\n",
            "State shape: (4,), State type: <class 'numpy.ndarray'>\n",
            "State shape: (4,), State type: <class 'numpy.ndarray'>\n",
            "State shape: (4,), State type: <class 'numpy.ndarray'>\n",
            "State shape: (4,), State type: <class 'numpy.ndarray'>\n",
            "State shape: (4,), State type: <class 'numpy.ndarray'>\n",
            "State shape: (4,), State type: <class 'numpy.ndarray'>\n",
            "State shape: (4,), State type: <class 'numpy.ndarray'>\n",
            "State shape: (4,), State type: <class 'numpy.ndarray'>\n",
            "State shape: (4,), State type: <class 'numpy.ndarray'>\n",
            "State shape: (4,), State type: <class 'numpy.ndarray'>\n",
            "State shape: (4,), State type: <class 'numpy.ndarray'>\n",
            "State shape: (4,), State type: <class 'numpy.ndarray'>\n",
            "State shape: (4,), State type: <class 'numpy.ndarray'>\n",
            "State shape: (4,), State type: <class 'numpy.ndarray'>\n",
            "State shape: (4,), State type: <class 'numpy.ndarray'>\n",
            "State shape: (4,), State type: <class 'numpy.ndarray'>\n",
            "State shape: (4,), State type: <class 'numpy.ndarray'>\n",
            "State shape: (4,), State type: <class 'numpy.ndarray'>\n",
            "State shape: (4,), State type: <class 'numpy.ndarray'>\n",
            "State shape: (4,), State type: <class 'numpy.ndarray'>\n",
            "State shape: (4,), State type: <class 'numpy.ndarray'>\n",
            "State shape: (4,), State type: <class 'numpy.ndarray'>\n",
            "State shape: (4,), State type: <class 'numpy.ndarray'>\n",
            "State shape: (4,), State type: <class 'numpy.ndarray'>\n",
            "State shape: (4,), State type: <class 'numpy.ndarray'>\n",
            "State shape: (4,), State type: <class 'numpy.ndarray'>\n",
            "State shape: (4,), State type: <class 'numpy.ndarray'>\n",
            "State shape: (4,), State type: <class 'numpy.ndarray'>\n",
            "State shape: (4,), State type: <class 'numpy.ndarray'>\n",
            "State shape: (4,), State type: <class 'numpy.ndarray'>\n",
            "State shape: (4,), State type: <class 'numpy.ndarray'>\n",
            "State shape: (4,), State type: <class 'numpy.ndarray'>\n",
            "State shape: (4,), State type: <class 'numpy.ndarray'>\n",
            "State shape: (4,), State type: <class 'numpy.ndarray'>\n",
            "State shape: (4,), State type: <class 'numpy.ndarray'>\n",
            "State shape: (4,), State type: <class 'numpy.ndarray'>\n",
            "State shape: (4,), State type: <class 'numpy.ndarray'>\n",
            "State shape: (4,), State type: <class 'numpy.ndarray'>\n",
            "State shape: (4,), State type: <class 'numpy.ndarray'>\n",
            "State shape: (4,), State type: <class 'numpy.ndarray'>\n",
            "State shape: (4,), State type: <class 'numpy.ndarray'>\n",
            "State shape: (4,), State type: <class 'numpy.ndarray'>\n",
            "State shape: (4,), State type: <class 'numpy.ndarray'>\n",
            "State shape: (4,), State type: <class 'numpy.ndarray'>\n",
            "State shape: (4,), State type: <class 'numpy.ndarray'>\n",
            "State shape: (4,), State type: <class 'numpy.ndarray'>\n",
            "State shape: (4,), State type: <class 'numpy.ndarray'>\n",
            "State shape: (4,), State type: <class 'numpy.ndarray'>\n",
            "State shape: (4,), State type: <class 'numpy.ndarray'>\n",
            "State shape: (4,), State type: <class 'numpy.ndarray'>\n",
            "State shape: (4,), State type: <class 'numpy.ndarray'>\n",
            "State shape: (4,), State type: <class 'numpy.ndarray'>\n",
            "State shape: (4,), State type: <class 'numpy.ndarray'>\n",
            "State shape: (4,), State type: <class 'numpy.ndarray'>\n",
            "State shape: (4,), State type: <class 'numpy.ndarray'>\n",
            "State shape: (4,), State type: <class 'numpy.ndarray'>\n",
            "State shape: (4,), State type: <class 'numpy.ndarray'>\n",
            "State shape: (4,), State type: <class 'numpy.ndarray'>\n",
            "State shape: (4,), State type: <class 'numpy.ndarray'>\n",
            "State shape: (4,), State type: <class 'numpy.ndarray'>\n",
            "State shape: (4,), State type: <class 'numpy.ndarray'>\n",
            "State shape: (4,), State type: <class 'numpy.ndarray'>\n",
            "Episode 8 Reward: 500.0\n",
            "State shape: (4,), State type: <class 'numpy.ndarray'>\n",
            "State shape: (4,), State type: <class 'numpy.ndarray'>\n",
            "State shape: (4,), State type: <class 'numpy.ndarray'>\n",
            "State shape: (4,), State type: <class 'numpy.ndarray'>\n",
            "State shape: (4,), State type: <class 'numpy.ndarray'>\n",
            "State shape: (4,), State type: <class 'numpy.ndarray'>\n",
            "State shape: (4,), State type: <class 'numpy.ndarray'>\n",
            "State shape: (4,), State type: <class 'numpy.ndarray'>\n",
            "State shape: (4,), State type: <class 'numpy.ndarray'>\n",
            "State shape: (4,), State type: <class 'numpy.ndarray'>\n",
            "State shape: (4,), State type: <class 'numpy.ndarray'>\n",
            "State shape: (4,), State type: <class 'numpy.ndarray'>\n",
            "State shape: (4,), State type: <class 'numpy.ndarray'>\n",
            "State shape: (4,), State type: <class 'numpy.ndarray'>\n",
            "State shape: (4,), State type: <class 'numpy.ndarray'>\n",
            "State shape: (4,), State type: <class 'numpy.ndarray'>\n",
            "State shape: (4,), State type: <class 'numpy.ndarray'>\n",
            "State shape: (4,), State type: <class 'numpy.ndarray'>\n",
            "State shape: (4,), State type: <class 'numpy.ndarray'>\n",
            "State shape: (4,), State type: <class 'numpy.ndarray'>\n",
            "State shape: (4,), State type: <class 'numpy.ndarray'>\n",
            "State shape: (4,), State type: <class 'numpy.ndarray'>\n",
            "State shape: (4,), State type: <class 'numpy.ndarray'>\n",
            "State shape: (4,), State type: <class 'numpy.ndarray'>\n",
            "State shape: (4,), State type: <class 'numpy.ndarray'>\n",
            "State shape: (4,), State type: <class 'numpy.ndarray'>\n",
            "State shape: (4,), State type: <class 'numpy.ndarray'>\n",
            "State shape: (4,), State type: <class 'numpy.ndarray'>\n",
            "State shape: (4,), State type: <class 'numpy.ndarray'>\n",
            "State shape: (4,), State type: <class 'numpy.ndarray'>\n",
            "State shape: (4,), State type: <class 'numpy.ndarray'>\n",
            "State shape: (4,), State type: <class 'numpy.ndarray'>\n",
            "State shape: (4,), State type: <class 'numpy.ndarray'>\n",
            "State shape: (4,), State type: <class 'numpy.ndarray'>\n",
            "State shape: (4,), State type: <class 'numpy.ndarray'>\n",
            "State shape: (4,), State type: <class 'numpy.ndarray'>\n",
            "State shape: (4,), State type: <class 'numpy.ndarray'>\n",
            "State shape: (4,), State type: <class 'numpy.ndarray'>\n",
            "State shape: (4,), State type: <class 'numpy.ndarray'>\n",
            "State shape: (4,), State type: <class 'numpy.ndarray'>\n",
            "State shape: (4,), State type: <class 'numpy.ndarray'>\n",
            "State shape: (4,), State type: <class 'numpy.ndarray'>\n",
            "State shape: (4,), State type: <class 'numpy.ndarray'>\n",
            "State shape: (4,), State type: <class 'numpy.ndarray'>\n",
            "State shape: (4,), State type: <class 'numpy.ndarray'>\n",
            "State shape: (4,), State type: <class 'numpy.ndarray'>\n",
            "State shape: (4,), State type: <class 'numpy.ndarray'>\n",
            "State shape: (4,), State type: <class 'numpy.ndarray'>\n",
            "State shape: (4,), State type: <class 'numpy.ndarray'>\n",
            "State shape: (4,), State type: <class 'numpy.ndarray'>\n",
            "State shape: (4,), State type: <class 'numpy.ndarray'>\n",
            "State shape: (4,), State type: <class 'numpy.ndarray'>\n",
            "State shape: (4,), State type: <class 'numpy.ndarray'>\n",
            "State shape: (4,), State type: <class 'numpy.ndarray'>\n",
            "State shape: (4,), State type: <class 'numpy.ndarray'>\n",
            "State shape: (4,), State type: <class 'numpy.ndarray'>\n",
            "State shape: (4,), State type: <class 'numpy.ndarray'>\n",
            "State shape: (4,), State type: <class 'numpy.ndarray'>\n",
            "State shape: (4,), State type: <class 'numpy.ndarray'>\n",
            "State shape: (4,), State type: <class 'numpy.ndarray'>\n",
            "State shape: (4,), State type: <class 'numpy.ndarray'>\n",
            "State shape: (4,), State type: <class 'numpy.ndarray'>\n",
            "State shape: (4,), State type: <class 'numpy.ndarray'>\n",
            "State shape: (4,), State type: <class 'numpy.ndarray'>\n",
            "State shape: (4,), State type: <class 'numpy.ndarray'>\n",
            "State shape: (4,), State type: <class 'numpy.ndarray'>\n",
            "State shape: (4,), State type: <class 'numpy.ndarray'>\n",
            "State shape: (4,), State type: <class 'numpy.ndarray'>\n",
            "State shape: (4,), State type: <class 'numpy.ndarray'>\n",
            "State shape: (4,), State type: <class 'numpy.ndarray'>\n",
            "State shape: (4,), State type: <class 'numpy.ndarray'>\n",
            "State shape: (4,), State type: <class 'numpy.ndarray'>\n",
            "State shape: (4,), State type: <class 'numpy.ndarray'>\n",
            "State shape: (4,), State type: <class 'numpy.ndarray'>\n",
            "State shape: (4,), State type: <class 'numpy.ndarray'>\n",
            "State shape: (4,), State type: <class 'numpy.ndarray'>\n",
            "State shape: (4,), State type: <class 'numpy.ndarray'>\n",
            "State shape: (4,), State type: <class 'numpy.ndarray'>\n",
            "State shape: (4,), State type: <class 'numpy.ndarray'>\n",
            "State shape: (4,), State type: <class 'numpy.ndarray'>\n",
            "State shape: (4,), State type: <class 'numpy.ndarray'>\n",
            "State shape: (4,), State type: <class 'numpy.ndarray'>\n",
            "State shape: (4,), State type: <class 'numpy.ndarray'>\n",
            "State shape: (4,), State type: <class 'numpy.ndarray'>\n",
            "State shape: (4,), State type: <class 'numpy.ndarray'>\n",
            "State shape: (4,), State type: <class 'numpy.ndarray'>\n",
            "State shape: (4,), State type: <class 'numpy.ndarray'>\n",
            "State shape: (4,), State type: <class 'numpy.ndarray'>\n",
            "State shape: (4,), State type: <class 'numpy.ndarray'>\n",
            "State shape: (4,), State type: <class 'numpy.ndarray'>\n",
            "State shape: (4,), State type: <class 'numpy.ndarray'>\n",
            "State shape: (4,), State type: <class 'numpy.ndarray'>\n",
            "State shape: (4,), State type: <class 'numpy.ndarray'>\n",
            "State shape: (4,), State type: <class 'numpy.ndarray'>\n",
            "State shape: (4,), State type: <class 'numpy.ndarray'>\n",
            "State shape: (4,), State type: <class 'numpy.ndarray'>\n",
            "State shape: (4,), State type: <class 'numpy.ndarray'>\n",
            "State shape: (4,), State type: <class 'numpy.ndarray'>\n",
            "State shape: (4,), State type: <class 'numpy.ndarray'>\n",
            "State shape: (4,), State type: <class 'numpy.ndarray'>\n",
            "State shape: (4,), State type: <class 'numpy.ndarray'>\n",
            "State shape: (4,), State type: <class 'numpy.ndarray'>\n",
            "State shape: (4,), State type: <class 'numpy.ndarray'>\n",
            "State shape: (4,), State type: <class 'numpy.ndarray'>\n",
            "State shape: (4,), State type: <class 'numpy.ndarray'>\n",
            "State shape: (4,), State type: <class 'numpy.ndarray'>\n",
            "State shape: (4,), State type: <class 'numpy.ndarray'>\n",
            "State shape: (4,), State type: <class 'numpy.ndarray'>\n",
            "State shape: (4,), State type: <class 'numpy.ndarray'>\n",
            "State shape: (4,), State type: <class 'numpy.ndarray'>\n",
            "State shape: (4,), State type: <class 'numpy.ndarray'>\n",
            "State shape: (4,), State type: <class 'numpy.ndarray'>\n",
            "State shape: (4,), State type: <class 'numpy.ndarray'>\n",
            "State shape: (4,), State type: <class 'numpy.ndarray'>\n",
            "State shape: (4,), State type: <class 'numpy.ndarray'>\n",
            "State shape: (4,), State type: <class 'numpy.ndarray'>\n",
            "State shape: (4,), State type: <class 'numpy.ndarray'>\n",
            "State shape: (4,), State type: <class 'numpy.ndarray'>\n",
            "State shape: (4,), State type: <class 'numpy.ndarray'>\n",
            "State shape: (4,), State type: <class 'numpy.ndarray'>\n",
            "State shape: (4,), State type: <class 'numpy.ndarray'>\n",
            "State shape: (4,), State type: <class 'numpy.ndarray'>\n",
            "State shape: (4,), State type: <class 'numpy.ndarray'>\n",
            "State shape: (4,), State type: <class 'numpy.ndarray'>\n",
            "State shape: (4,), State type: <class 'numpy.ndarray'>\n",
            "State shape: (4,), State type: <class 'numpy.ndarray'>\n",
            "State shape: (4,), State type: <class 'numpy.ndarray'>\n",
            "State shape: (4,), State type: <class 'numpy.ndarray'>\n",
            "State shape: (4,), State type: <class 'numpy.ndarray'>\n",
            "State shape: (4,), State type: <class 'numpy.ndarray'>\n",
            "State shape: (4,), State type: <class 'numpy.ndarray'>\n",
            "State shape: (4,), State type: <class 'numpy.ndarray'>\n",
            "State shape: (4,), State type: <class 'numpy.ndarray'>\n",
            "State shape: (4,), State type: <class 'numpy.ndarray'>\n",
            "State shape: (4,), State type: <class 'numpy.ndarray'>\n",
            "State shape: (4,), State type: <class 'numpy.ndarray'>\n",
            "State shape: (4,), State type: <class 'numpy.ndarray'>\n",
            "State shape: (4,), State type: <class 'numpy.ndarray'>\n",
            "State shape: (4,), State type: <class 'numpy.ndarray'>\n",
            "State shape: (4,), State type: <class 'numpy.ndarray'>\n",
            "State shape: (4,), State type: <class 'numpy.ndarray'>\n",
            "State shape: (4,), State type: <class 'numpy.ndarray'>\n",
            "State shape: (4,), State type: <class 'numpy.ndarray'>\n",
            "State shape: (4,), State type: <class 'numpy.ndarray'>\n",
            "State shape: (4,), State type: <class 'numpy.ndarray'>\n",
            "State shape: (4,), State type: <class 'numpy.ndarray'>\n",
            "State shape: (4,), State type: <class 'numpy.ndarray'>\n",
            "State shape: (4,), State type: <class 'numpy.ndarray'>\n",
            "State shape: (4,), State type: <class 'numpy.ndarray'>\n",
            "State shape: (4,), State type: <class 'numpy.ndarray'>\n",
            "State shape: (4,), State type: <class 'numpy.ndarray'>\n",
            "State shape: (4,), State type: <class 'numpy.ndarray'>\n",
            "State shape: (4,), State type: <class 'numpy.ndarray'>\n",
            "State shape: (4,), State type: <class 'numpy.ndarray'>\n",
            "State shape: (4,), State type: <class 'numpy.ndarray'>\n",
            "State shape: (4,), State type: <class 'numpy.ndarray'>\n",
            "State shape: (4,), State type: <class 'numpy.ndarray'>\n",
            "State shape: (4,), State type: <class 'numpy.ndarray'>\n",
            "State shape: (4,), State type: <class 'numpy.ndarray'>\n",
            "State shape: (4,), State type: <class 'numpy.ndarray'>\n",
            "State shape: (4,), State type: <class 'numpy.ndarray'>\n",
            "State shape: (4,), State type: <class 'numpy.ndarray'>\n",
            "State shape: (4,), State type: <class 'numpy.ndarray'>\n",
            "State shape: (4,), State type: <class 'numpy.ndarray'>\n",
            "State shape: (4,), State type: <class 'numpy.ndarray'>\n",
            "State shape: (4,), State type: <class 'numpy.ndarray'>\n",
            "State shape: (4,), State type: <class 'numpy.ndarray'>\n",
            "State shape: (4,), State type: <class 'numpy.ndarray'>\n",
            "State shape: (4,), State type: <class 'numpy.ndarray'>\n",
            "State shape: (4,), State type: <class 'numpy.ndarray'>\n",
            "State shape: (4,), State type: <class 'numpy.ndarray'>\n",
            "State shape: (4,), State type: <class 'numpy.ndarray'>\n",
            "State shape: (4,), State type: <class 'numpy.ndarray'>\n",
            "State shape: (4,), State type: <class 'numpy.ndarray'>\n",
            "State shape: (4,), State type: <class 'numpy.ndarray'>\n",
            "State shape: (4,), State type: <class 'numpy.ndarray'>\n",
            "State shape: (4,), State type: <class 'numpy.ndarray'>\n",
            "State shape: (4,), State type: <class 'numpy.ndarray'>\n",
            "State shape: (4,), State type: <class 'numpy.ndarray'>\n",
            "State shape: (4,), State type: <class 'numpy.ndarray'>\n",
            "State shape: (4,), State type: <class 'numpy.ndarray'>\n",
            "State shape: (4,), State type: <class 'numpy.ndarray'>\n",
            "State shape: (4,), State type: <class 'numpy.ndarray'>\n",
            "State shape: (4,), State type: <class 'numpy.ndarray'>\n",
            "State shape: (4,), State type: <class 'numpy.ndarray'>\n",
            "State shape: (4,), State type: <class 'numpy.ndarray'>\n",
            "State shape: (4,), State type: <class 'numpy.ndarray'>\n",
            "State shape: (4,), State type: <class 'numpy.ndarray'>\n",
            "State shape: (4,), State type: <class 'numpy.ndarray'>\n",
            "State shape: (4,), State type: <class 'numpy.ndarray'>\n",
            "State shape: (4,), State type: <class 'numpy.ndarray'>\n",
            "State shape: (4,), State type: <class 'numpy.ndarray'>\n",
            "State shape: (4,), State type: <class 'numpy.ndarray'>\n",
            "State shape: (4,), State type: <class 'numpy.ndarray'>\n",
            "State shape: (4,), State type: <class 'numpy.ndarray'>\n",
            "State shape: (4,), State type: <class 'numpy.ndarray'>\n",
            "State shape: (4,), State type: <class 'numpy.ndarray'>\n",
            "State shape: (4,), State type: <class 'numpy.ndarray'>\n",
            "State shape: (4,), State type: <class 'numpy.ndarray'>\n",
            "State shape: (4,), State type: <class 'numpy.ndarray'>\n",
            "State shape: (4,), State type: <class 'numpy.ndarray'>\n",
            "State shape: (4,), State type: <class 'numpy.ndarray'>\n",
            "State shape: (4,), State type: <class 'numpy.ndarray'>\n",
            "State shape: (4,), State type: <class 'numpy.ndarray'>\n",
            "State shape: (4,), State type: <class 'numpy.ndarray'>\n",
            "State shape: (4,), State type: <class 'numpy.ndarray'>\n",
            "State shape: (4,), State type: <class 'numpy.ndarray'>\n",
            "State shape: (4,), State type: <class 'numpy.ndarray'>\n",
            "State shape: (4,), State type: <class 'numpy.ndarray'>\n",
            "State shape: (4,), State type: <class 'numpy.ndarray'>\n",
            "State shape: (4,), State type: <class 'numpy.ndarray'>\n",
            "State shape: (4,), State type: <class 'numpy.ndarray'>\n",
            "State shape: (4,), State type: <class 'numpy.ndarray'>\n",
            "State shape: (4,), State type: <class 'numpy.ndarray'>\n",
            "State shape: (4,), State type: <class 'numpy.ndarray'>\n",
            "State shape: (4,), State type: <class 'numpy.ndarray'>\n",
            "State shape: (4,), State type: <class 'numpy.ndarray'>\n",
            "State shape: (4,), State type: <class 'numpy.ndarray'>\n",
            "State shape: (4,), State type: <class 'numpy.ndarray'>\n",
            "State shape: (4,), State type: <class 'numpy.ndarray'>\n",
            "State shape: (4,), State type: <class 'numpy.ndarray'>\n",
            "State shape: (4,), State type: <class 'numpy.ndarray'>\n",
            "State shape: (4,), State type: <class 'numpy.ndarray'>\n",
            "State shape: (4,), State type: <class 'numpy.ndarray'>\n",
            "State shape: (4,), State type: <class 'numpy.ndarray'>\n",
            "State shape: (4,), State type: <class 'numpy.ndarray'>\n",
            "State shape: (4,), State type: <class 'numpy.ndarray'>\n",
            "State shape: (4,), State type: <class 'numpy.ndarray'>\n",
            "State shape: (4,), State type: <class 'numpy.ndarray'>\n",
            "State shape: (4,), State type: <class 'numpy.ndarray'>\n",
            "State shape: (4,), State type: <class 'numpy.ndarray'>\n",
            "State shape: (4,), State type: <class 'numpy.ndarray'>\n",
            "State shape: (4,), State type: <class 'numpy.ndarray'>\n",
            "State shape: (4,), State type: <class 'numpy.ndarray'>\n",
            "State shape: (4,), State type: <class 'numpy.ndarray'>\n",
            "State shape: (4,), State type: <class 'numpy.ndarray'>\n",
            "State shape: (4,), State type: <class 'numpy.ndarray'>\n",
            "State shape: (4,), State type: <class 'numpy.ndarray'>\n",
            "State shape: (4,), State type: <class 'numpy.ndarray'>\n",
            "State shape: (4,), State type: <class 'numpy.ndarray'>\n",
            "State shape: (4,), State type: <class 'numpy.ndarray'>\n",
            "State shape: (4,), State type: <class 'numpy.ndarray'>\n",
            "State shape: (4,), State type: <class 'numpy.ndarray'>\n",
            "State shape: (4,), State type: <class 'numpy.ndarray'>\n",
            "State shape: (4,), State type: <class 'numpy.ndarray'>\n",
            "State shape: (4,), State type: <class 'numpy.ndarray'>\n",
            "State shape: (4,), State type: <class 'numpy.ndarray'>\n",
            "State shape: (4,), State type: <class 'numpy.ndarray'>\n",
            "State shape: (4,), State type: <class 'numpy.ndarray'>\n",
            "State shape: (4,), State type: <class 'numpy.ndarray'>\n",
            "State shape: (4,), State type: <class 'numpy.ndarray'>\n",
            "State shape: (4,), State type: <class 'numpy.ndarray'>\n",
            "State shape: (4,), State type: <class 'numpy.ndarray'>\n",
            "State shape: (4,), State type: <class 'numpy.ndarray'>\n",
            "State shape: (4,), State type: <class 'numpy.ndarray'>\n",
            "State shape: (4,), State type: <class 'numpy.ndarray'>\n",
            "State shape: (4,), State type: <class 'numpy.ndarray'>\n",
            "State shape: (4,), State type: <class 'numpy.ndarray'>\n",
            "State shape: (4,), State type: <class 'numpy.ndarray'>\n",
            "State shape: (4,), State type: <class 'numpy.ndarray'>\n",
            "State shape: (4,), State type: <class 'numpy.ndarray'>\n",
            "State shape: (4,), State type: <class 'numpy.ndarray'>\n",
            "State shape: (4,), State type: <class 'numpy.ndarray'>\n",
            "State shape: (4,), State type: <class 'numpy.ndarray'>\n",
            "State shape: (4,), State type: <class 'numpy.ndarray'>\n",
            "State shape: (4,), State type: <class 'numpy.ndarray'>\n",
            "State shape: (4,), State type: <class 'numpy.ndarray'>\n",
            "State shape: (4,), State type: <class 'numpy.ndarray'>\n",
            "State shape: (4,), State type: <class 'numpy.ndarray'>\n",
            "State shape: (4,), State type: <class 'numpy.ndarray'>\n",
            "State shape: (4,), State type: <class 'numpy.ndarray'>\n",
            "State shape: (4,), State type: <class 'numpy.ndarray'>\n",
            "State shape: (4,), State type: <class 'numpy.ndarray'>\n",
            "State shape: (4,), State type: <class 'numpy.ndarray'>\n",
            "State shape: (4,), State type: <class 'numpy.ndarray'>\n",
            "State shape: (4,), State type: <class 'numpy.ndarray'>\n",
            "State shape: (4,), State type: <class 'numpy.ndarray'>\n",
            "State shape: (4,), State type: <class 'numpy.ndarray'>\n",
            "State shape: (4,), State type: <class 'numpy.ndarray'>\n",
            "State shape: (4,), State type: <class 'numpy.ndarray'>\n",
            "State shape: (4,), State type: <class 'numpy.ndarray'>\n",
            "State shape: (4,), State type: <class 'numpy.ndarray'>\n",
            "State shape: (4,), State type: <class 'numpy.ndarray'>\n",
            "State shape: (4,), State type: <class 'numpy.ndarray'>\n",
            "State shape: (4,), State type: <class 'numpy.ndarray'>\n",
            "State shape: (4,), State type: <class 'numpy.ndarray'>\n",
            "State shape: (4,), State type: <class 'numpy.ndarray'>\n",
            "State shape: (4,), State type: <class 'numpy.ndarray'>\n",
            "State shape: (4,), State type: <class 'numpy.ndarray'>\n",
            "State shape: (4,), State type: <class 'numpy.ndarray'>\n",
            "State shape: (4,), State type: <class 'numpy.ndarray'>\n",
            "State shape: (4,), State type: <class 'numpy.ndarray'>\n",
            "State shape: (4,), State type: <class 'numpy.ndarray'>\n",
            "State shape: (4,), State type: <class 'numpy.ndarray'>\n",
            "State shape: (4,), State type: <class 'numpy.ndarray'>\n",
            "State shape: (4,), State type: <class 'numpy.ndarray'>\n",
            "State shape: (4,), State type: <class 'numpy.ndarray'>\n",
            "State shape: (4,), State type: <class 'numpy.ndarray'>\n",
            "State shape: (4,), State type: <class 'numpy.ndarray'>\n",
            "State shape: (4,), State type: <class 'numpy.ndarray'>\n",
            "State shape: (4,), State type: <class 'numpy.ndarray'>\n",
            "State shape: (4,), State type: <class 'numpy.ndarray'>\n",
            "State shape: (4,), State type: <class 'numpy.ndarray'>\n",
            "State shape: (4,), State type: <class 'numpy.ndarray'>\n",
            "State shape: (4,), State type: <class 'numpy.ndarray'>\n",
            "State shape: (4,), State type: <class 'numpy.ndarray'>\n",
            "State shape: (4,), State type: <class 'numpy.ndarray'>\n",
            "State shape: (4,), State type: <class 'numpy.ndarray'>\n",
            "State shape: (4,), State type: <class 'numpy.ndarray'>\n",
            "State shape: (4,), State type: <class 'numpy.ndarray'>\n",
            "State shape: (4,), State type: <class 'numpy.ndarray'>\n",
            "State shape: (4,), State type: <class 'numpy.ndarray'>\n",
            "State shape: (4,), State type: <class 'numpy.ndarray'>\n",
            "State shape: (4,), State type: <class 'numpy.ndarray'>\n",
            "State shape: (4,), State type: <class 'numpy.ndarray'>\n",
            "State shape: (4,), State type: <class 'numpy.ndarray'>\n",
            "State shape: (4,), State type: <class 'numpy.ndarray'>\n",
            "State shape: (4,), State type: <class 'numpy.ndarray'>\n",
            "State shape: (4,), State type: <class 'numpy.ndarray'>\n",
            "State shape: (4,), State type: <class 'numpy.ndarray'>\n",
            "State shape: (4,), State type: <class 'numpy.ndarray'>\n",
            "State shape: (4,), State type: <class 'numpy.ndarray'>\n",
            "State shape: (4,), State type: <class 'numpy.ndarray'>\n",
            "State shape: (4,), State type: <class 'numpy.ndarray'>\n",
            "State shape: (4,), State type: <class 'numpy.ndarray'>\n",
            "State shape: (4,), State type: <class 'numpy.ndarray'>\n",
            "State shape: (4,), State type: <class 'numpy.ndarray'>\n",
            "State shape: (4,), State type: <class 'numpy.ndarray'>\n",
            "State shape: (4,), State type: <class 'numpy.ndarray'>\n",
            "State shape: (4,), State type: <class 'numpy.ndarray'>\n",
            "State shape: (4,), State type: <class 'numpy.ndarray'>\n",
            "State shape: (4,), State type: <class 'numpy.ndarray'>\n",
            "State shape: (4,), State type: <class 'numpy.ndarray'>\n",
            "State shape: (4,), State type: <class 'numpy.ndarray'>\n",
            "State shape: (4,), State type: <class 'numpy.ndarray'>\n",
            "State shape: (4,), State type: <class 'numpy.ndarray'>\n",
            "State shape: (4,), State type: <class 'numpy.ndarray'>\n",
            "State shape: (4,), State type: <class 'numpy.ndarray'>\n",
            "State shape: (4,), State type: <class 'numpy.ndarray'>\n",
            "State shape: (4,), State type: <class 'numpy.ndarray'>\n",
            "State shape: (4,), State type: <class 'numpy.ndarray'>\n",
            "State shape: (4,), State type: <class 'numpy.ndarray'>\n",
            "State shape: (4,), State type: <class 'numpy.ndarray'>\n",
            "State shape: (4,), State type: <class 'numpy.ndarray'>\n",
            "State shape: (4,), State type: <class 'numpy.ndarray'>\n",
            "State shape: (4,), State type: <class 'numpy.ndarray'>\n",
            "State shape: (4,), State type: <class 'numpy.ndarray'>\n",
            "State shape: (4,), State type: <class 'numpy.ndarray'>\n",
            "State shape: (4,), State type: <class 'numpy.ndarray'>\n",
            "State shape: (4,), State type: <class 'numpy.ndarray'>\n",
            "State shape: (4,), State type: <class 'numpy.ndarray'>\n",
            "State shape: (4,), State type: <class 'numpy.ndarray'>\n",
            "State shape: (4,), State type: <class 'numpy.ndarray'>\n",
            "State shape: (4,), State type: <class 'numpy.ndarray'>\n",
            "State shape: (4,), State type: <class 'numpy.ndarray'>\n",
            "State shape: (4,), State type: <class 'numpy.ndarray'>\n",
            "State shape: (4,), State type: <class 'numpy.ndarray'>\n",
            "State shape: (4,), State type: <class 'numpy.ndarray'>\n",
            "State shape: (4,), State type: <class 'numpy.ndarray'>\n",
            "State shape: (4,), State type: <class 'numpy.ndarray'>\n",
            "State shape: (4,), State type: <class 'numpy.ndarray'>\n",
            "State shape: (4,), State type: <class 'numpy.ndarray'>\n",
            "State shape: (4,), State type: <class 'numpy.ndarray'>\n",
            "State shape: (4,), State type: <class 'numpy.ndarray'>\n",
            "State shape: (4,), State type: <class 'numpy.ndarray'>\n",
            "State shape: (4,), State type: <class 'numpy.ndarray'>\n",
            "State shape: (4,), State type: <class 'numpy.ndarray'>\n",
            "State shape: (4,), State type: <class 'numpy.ndarray'>\n",
            "State shape: (4,), State type: <class 'numpy.ndarray'>\n",
            "State shape: (4,), State type: <class 'numpy.ndarray'>\n",
            "State shape: (4,), State type: <class 'numpy.ndarray'>\n",
            "State shape: (4,), State type: <class 'numpy.ndarray'>\n",
            "State shape: (4,), State type: <class 'numpy.ndarray'>\n",
            "State shape: (4,), State type: <class 'numpy.ndarray'>\n",
            "State shape: (4,), State type: <class 'numpy.ndarray'>\n",
            "State shape: (4,), State type: <class 'numpy.ndarray'>\n",
            "State shape: (4,), State type: <class 'numpy.ndarray'>\n",
            "State shape: (4,), State type: <class 'numpy.ndarray'>\n",
            "State shape: (4,), State type: <class 'numpy.ndarray'>\n",
            "State shape: (4,), State type: <class 'numpy.ndarray'>\n",
            "State shape: (4,), State type: <class 'numpy.ndarray'>\n",
            "State shape: (4,), State type: <class 'numpy.ndarray'>\n",
            "State shape: (4,), State type: <class 'numpy.ndarray'>\n",
            "State shape: (4,), State type: <class 'numpy.ndarray'>\n",
            "State shape: (4,), State type: <class 'numpy.ndarray'>\n",
            "State shape: (4,), State type: <class 'numpy.ndarray'>\n",
            "State shape: (4,), State type: <class 'numpy.ndarray'>\n",
            "State shape: (4,), State type: <class 'numpy.ndarray'>\n",
            "State shape: (4,), State type: <class 'numpy.ndarray'>\n",
            "State shape: (4,), State type: <class 'numpy.ndarray'>\n",
            "State shape: (4,), State type: <class 'numpy.ndarray'>\n",
            "State shape: (4,), State type: <class 'numpy.ndarray'>\n",
            "State shape: (4,), State type: <class 'numpy.ndarray'>\n",
            "State shape: (4,), State type: <class 'numpy.ndarray'>\n",
            "State shape: (4,), State type: <class 'numpy.ndarray'>\n",
            "State shape: (4,), State type: <class 'numpy.ndarray'>\n",
            "State shape: (4,), State type: <class 'numpy.ndarray'>\n",
            "State shape: (4,), State type: <class 'numpy.ndarray'>\n",
            "State shape: (4,), State type: <class 'numpy.ndarray'>\n",
            "State shape: (4,), State type: <class 'numpy.ndarray'>\n",
            "State shape: (4,), State type: <class 'numpy.ndarray'>\n",
            "State shape: (4,), State type: <class 'numpy.ndarray'>\n",
            "State shape: (4,), State type: <class 'numpy.ndarray'>\n",
            "State shape: (4,), State type: <class 'numpy.ndarray'>\n",
            "State shape: (4,), State type: <class 'numpy.ndarray'>\n",
            "State shape: (4,), State type: <class 'numpy.ndarray'>\n",
            "State shape: (4,), State type: <class 'numpy.ndarray'>\n",
            "State shape: (4,), State type: <class 'numpy.ndarray'>\n",
            "State shape: (4,), State type: <class 'numpy.ndarray'>\n",
            "State shape: (4,), State type: <class 'numpy.ndarray'>\n",
            "State shape: (4,), State type: <class 'numpy.ndarray'>\n",
            "State shape: (4,), State type: <class 'numpy.ndarray'>\n",
            "State shape: (4,), State type: <class 'numpy.ndarray'>\n",
            "State shape: (4,), State type: <class 'numpy.ndarray'>\n",
            "State shape: (4,), State type: <class 'numpy.ndarray'>\n",
            "State shape: (4,), State type: <class 'numpy.ndarray'>\n",
            "State shape: (4,), State type: <class 'numpy.ndarray'>\n",
            "State shape: (4,), State type: <class 'numpy.ndarray'>\n",
            "State shape: (4,), State type: <class 'numpy.ndarray'>\n",
            "State shape: (4,), State type: <class 'numpy.ndarray'>\n",
            "State shape: (4,), State type: <class 'numpy.ndarray'>\n",
            "State shape: (4,), State type: <class 'numpy.ndarray'>\n",
            "State shape: (4,), State type: <class 'numpy.ndarray'>\n",
            "State shape: (4,), State type: <class 'numpy.ndarray'>\n",
            "State shape: (4,), State type: <class 'numpy.ndarray'>\n",
            "State shape: (4,), State type: <class 'numpy.ndarray'>\n",
            "State shape: (4,), State type: <class 'numpy.ndarray'>\n",
            "State shape: (4,), State type: <class 'numpy.ndarray'>\n",
            "State shape: (4,), State type: <class 'numpy.ndarray'>\n",
            "State shape: (4,), State type: <class 'numpy.ndarray'>\n",
            "State shape: (4,), State type: <class 'numpy.ndarray'>\n",
            "State shape: (4,), State type: <class 'numpy.ndarray'>\n",
            "State shape: (4,), State type: <class 'numpy.ndarray'>\n",
            "State shape: (4,), State type: <class 'numpy.ndarray'>\n",
            "State shape: (4,), State type: <class 'numpy.ndarray'>\n",
            "State shape: (4,), State type: <class 'numpy.ndarray'>\n",
            "State shape: (4,), State type: <class 'numpy.ndarray'>\n",
            "State shape: (4,), State type: <class 'numpy.ndarray'>\n",
            "State shape: (4,), State type: <class 'numpy.ndarray'>\n",
            "State shape: (4,), State type: <class 'numpy.ndarray'>\n",
            "State shape: (4,), State type: <class 'numpy.ndarray'>\n",
            "State shape: (4,), State type: <class 'numpy.ndarray'>\n",
            "State shape: (4,), State type: <class 'numpy.ndarray'>\n",
            "State shape: (4,), State type: <class 'numpy.ndarray'>\n",
            "State shape: (4,), State type: <class 'numpy.ndarray'>\n",
            "State shape: (4,), State type: <class 'numpy.ndarray'>\n",
            "State shape: (4,), State type: <class 'numpy.ndarray'>\n",
            "State shape: (4,), State type: <class 'numpy.ndarray'>\n",
            "State shape: (4,), State type: <class 'numpy.ndarray'>\n",
            "State shape: (4,), State type: <class 'numpy.ndarray'>\n",
            "State shape: (4,), State type: <class 'numpy.ndarray'>\n",
            "State shape: (4,), State type: <class 'numpy.ndarray'>\n",
            "State shape: (4,), State type: <class 'numpy.ndarray'>\n",
            "State shape: (4,), State type: <class 'numpy.ndarray'>\n",
            "State shape: (4,), State type: <class 'numpy.ndarray'>\n",
            "State shape: (4,), State type: <class 'numpy.ndarray'>\n",
            "State shape: (4,), State type: <class 'numpy.ndarray'>\n",
            "State shape: (4,), State type: <class 'numpy.ndarray'>\n",
            "State shape: (4,), State type: <class 'numpy.ndarray'>\n",
            "State shape: (4,), State type: <class 'numpy.ndarray'>\n",
            "State shape: (4,), State type: <class 'numpy.ndarray'>\n",
            "State shape: (4,), State type: <class 'numpy.ndarray'>\n",
            "State shape: (4,), State type: <class 'numpy.ndarray'>\n",
            "State shape: (4,), State type: <class 'numpy.ndarray'>\n",
            "State shape: (4,), State type: <class 'numpy.ndarray'>\n",
            "State shape: (4,), State type: <class 'numpy.ndarray'>\n",
            "State shape: (4,), State type: <class 'numpy.ndarray'>\n",
            "State shape: (4,), State type: <class 'numpy.ndarray'>\n",
            "State shape: (4,), State type: <class 'numpy.ndarray'>\n",
            "State shape: (4,), State type: <class 'numpy.ndarray'>\n",
            "State shape: (4,), State type: <class 'numpy.ndarray'>\n",
            "State shape: (4,), State type: <class 'numpy.ndarray'>\n",
            "State shape: (4,), State type: <class 'numpy.ndarray'>\n",
            "State shape: (4,), State type: <class 'numpy.ndarray'>\n",
            "State shape: (4,), State type: <class 'numpy.ndarray'>\n",
            "State shape: (4,), State type: <class 'numpy.ndarray'>\n",
            "State shape: (4,), State type: <class 'numpy.ndarray'>\n",
            "State shape: (4,), State type: <class 'numpy.ndarray'>\n",
            "State shape: (4,), State type: <class 'numpy.ndarray'>\n",
            "State shape: (4,), State type: <class 'numpy.ndarray'>\n",
            "State shape: (4,), State type: <class 'numpy.ndarray'>\n",
            "State shape: (4,), State type: <class 'numpy.ndarray'>\n",
            "State shape: (4,), State type: <class 'numpy.ndarray'>\n",
            "State shape: (4,), State type: <class 'numpy.ndarray'>\n",
            "State shape: (4,), State type: <class 'numpy.ndarray'>\n",
            "State shape: (4,), State type: <class 'numpy.ndarray'>\n",
            "State shape: (4,), State type: <class 'numpy.ndarray'>\n",
            "State shape: (4,), State type: <class 'numpy.ndarray'>\n",
            "State shape: (4,), State type: <class 'numpy.ndarray'>\n",
            "State shape: (4,), State type: <class 'numpy.ndarray'>\n",
            "State shape: (4,), State type: <class 'numpy.ndarray'>\n",
            "State shape: (4,), State type: <class 'numpy.ndarray'>\n",
            "State shape: (4,), State type: <class 'numpy.ndarray'>\n",
            "State shape: (4,), State type: <class 'numpy.ndarray'>\n",
            "State shape: (4,), State type: <class 'numpy.ndarray'>\n",
            "State shape: (4,), State type: <class 'numpy.ndarray'>\n",
            "State shape: (4,), State type: <class 'numpy.ndarray'>\n",
            "State shape: (4,), State type: <class 'numpy.ndarray'>\n",
            "State shape: (4,), State type: <class 'numpy.ndarray'>\n",
            "State shape: (4,), State type: <class 'numpy.ndarray'>\n",
            "Episode 9 Reward: 500.0\n",
            "State shape: (4,), State type: <class 'numpy.ndarray'>\n",
            "State shape: (4,), State type: <class 'numpy.ndarray'>\n",
            "State shape: (4,), State type: <class 'numpy.ndarray'>\n",
            "State shape: (4,), State type: <class 'numpy.ndarray'>\n",
            "State shape: (4,), State type: <class 'numpy.ndarray'>\n",
            "State shape: (4,), State type: <class 'numpy.ndarray'>\n",
            "State shape: (4,), State type: <class 'numpy.ndarray'>\n",
            "State shape: (4,), State type: <class 'numpy.ndarray'>\n",
            "State shape: (4,), State type: <class 'numpy.ndarray'>\n",
            "State shape: (4,), State type: <class 'numpy.ndarray'>\n",
            "State shape: (4,), State type: <class 'numpy.ndarray'>\n",
            "State shape: (4,), State type: <class 'numpy.ndarray'>\n",
            "State shape: (4,), State type: <class 'numpy.ndarray'>\n",
            "State shape: (4,), State type: <class 'numpy.ndarray'>\n",
            "State shape: (4,), State type: <class 'numpy.ndarray'>\n",
            "State shape: (4,), State type: <class 'numpy.ndarray'>\n",
            "State shape: (4,), State type: <class 'numpy.ndarray'>\n",
            "State shape: (4,), State type: <class 'numpy.ndarray'>\n",
            "State shape: (4,), State type: <class 'numpy.ndarray'>\n",
            "State shape: (4,), State type: <class 'numpy.ndarray'>\n",
            "State shape: (4,), State type: <class 'numpy.ndarray'>\n",
            "State shape: (4,), State type: <class 'numpy.ndarray'>\n",
            "State shape: (4,), State type: <class 'numpy.ndarray'>\n",
            "State shape: (4,), State type: <class 'numpy.ndarray'>\n",
            "State shape: (4,), State type: <class 'numpy.ndarray'>\n",
            "State shape: (4,), State type: <class 'numpy.ndarray'>\n",
            "State shape: (4,), State type: <class 'numpy.ndarray'>\n",
            "State shape: (4,), State type: <class 'numpy.ndarray'>\n",
            "State shape: (4,), State type: <class 'numpy.ndarray'>\n",
            "State shape: (4,), State type: <class 'numpy.ndarray'>\n",
            "State shape: (4,), State type: <class 'numpy.ndarray'>\n",
            "State shape: (4,), State type: <class 'numpy.ndarray'>\n",
            "State shape: (4,), State type: <class 'numpy.ndarray'>\n",
            "State shape: (4,), State type: <class 'numpy.ndarray'>\n",
            "State shape: (4,), State type: <class 'numpy.ndarray'>\n",
            "State shape: (4,), State type: <class 'numpy.ndarray'>\n",
            "State shape: (4,), State type: <class 'numpy.ndarray'>\n",
            "State shape: (4,), State type: <class 'numpy.ndarray'>\n",
            "State shape: (4,), State type: <class 'numpy.ndarray'>\n",
            "State shape: (4,), State type: <class 'numpy.ndarray'>\n",
            "State shape: (4,), State type: <class 'numpy.ndarray'>\n",
            "State shape: (4,), State type: <class 'numpy.ndarray'>\n",
            "State shape: (4,), State type: <class 'numpy.ndarray'>\n",
            "State shape: (4,), State type: <class 'numpy.ndarray'>\n",
            "State shape: (4,), State type: <class 'numpy.ndarray'>\n",
            "State shape: (4,), State type: <class 'numpy.ndarray'>\n",
            "State shape: (4,), State type: <class 'numpy.ndarray'>\n",
            "State shape: (4,), State type: <class 'numpy.ndarray'>\n",
            "State shape: (4,), State type: <class 'numpy.ndarray'>\n",
            "State shape: (4,), State type: <class 'numpy.ndarray'>\n",
            "State shape: (4,), State type: <class 'numpy.ndarray'>\n",
            "State shape: (4,), State type: <class 'numpy.ndarray'>\n",
            "State shape: (4,), State type: <class 'numpy.ndarray'>\n",
            "State shape: (4,), State type: <class 'numpy.ndarray'>\n",
            "State shape: (4,), State type: <class 'numpy.ndarray'>\n",
            "State shape: (4,), State type: <class 'numpy.ndarray'>\n",
            "State shape: (4,), State type: <class 'numpy.ndarray'>\n",
            "State shape: (4,), State type: <class 'numpy.ndarray'>\n",
            "State shape: (4,), State type: <class 'numpy.ndarray'>\n",
            "State shape: (4,), State type: <class 'numpy.ndarray'>\n",
            "State shape: (4,), State type: <class 'numpy.ndarray'>\n",
            "State shape: (4,), State type: <class 'numpy.ndarray'>\n",
            "State shape: (4,), State type: <class 'numpy.ndarray'>\n",
            "State shape: (4,), State type: <class 'numpy.ndarray'>\n",
            "State shape: (4,), State type: <class 'numpy.ndarray'>\n",
            "State shape: (4,), State type: <class 'numpy.ndarray'>\n",
            "State shape: (4,), State type: <class 'numpy.ndarray'>\n",
            "State shape: (4,), State type: <class 'numpy.ndarray'>\n",
            "State shape: (4,), State type: <class 'numpy.ndarray'>\n",
            "State shape: (4,), State type: <class 'numpy.ndarray'>\n",
            "State shape: (4,), State type: <class 'numpy.ndarray'>\n",
            "State shape: (4,), State type: <class 'numpy.ndarray'>\n",
            "State shape: (4,), State type: <class 'numpy.ndarray'>\n",
            "State shape: (4,), State type: <class 'numpy.ndarray'>\n",
            "State shape: (4,), State type: <class 'numpy.ndarray'>\n",
            "State shape: (4,), State type: <class 'numpy.ndarray'>\n",
            "State shape: (4,), State type: <class 'numpy.ndarray'>\n",
            "State shape: (4,), State type: <class 'numpy.ndarray'>\n",
            "State shape: (4,), State type: <class 'numpy.ndarray'>\n",
            "State shape: (4,), State type: <class 'numpy.ndarray'>\n",
            "State shape: (4,), State type: <class 'numpy.ndarray'>\n",
            "State shape: (4,), State type: <class 'numpy.ndarray'>\n",
            "State shape: (4,), State type: <class 'numpy.ndarray'>\n",
            "State shape: (4,), State type: <class 'numpy.ndarray'>\n",
            "State shape: (4,), State type: <class 'numpy.ndarray'>\n",
            "State shape: (4,), State type: <class 'numpy.ndarray'>\n",
            "State shape: (4,), State type: <class 'numpy.ndarray'>\n",
            "State shape: (4,), State type: <class 'numpy.ndarray'>\n",
            "State shape: (4,), State type: <class 'numpy.ndarray'>\n",
            "State shape: (4,), State type: <class 'numpy.ndarray'>\n",
            "State shape: (4,), State type: <class 'numpy.ndarray'>\n",
            "State shape: (4,), State type: <class 'numpy.ndarray'>\n",
            "State shape: (4,), State type: <class 'numpy.ndarray'>\n",
            "State shape: (4,), State type: <class 'numpy.ndarray'>\n",
            "State shape: (4,), State type: <class 'numpy.ndarray'>\n",
            "State shape: (4,), State type: <class 'numpy.ndarray'>\n",
            "State shape: (4,), State type: <class 'numpy.ndarray'>\n",
            "State shape: (4,), State type: <class 'numpy.ndarray'>\n",
            "State shape: (4,), State type: <class 'numpy.ndarray'>\n",
            "State shape: (4,), State type: <class 'numpy.ndarray'>\n",
            "State shape: (4,), State type: <class 'numpy.ndarray'>\n",
            "State shape: (4,), State type: <class 'numpy.ndarray'>\n",
            "State shape: (4,), State type: <class 'numpy.ndarray'>\n",
            "State shape: (4,), State type: <class 'numpy.ndarray'>\n",
            "State shape: (4,), State type: <class 'numpy.ndarray'>\n",
            "State shape: (4,), State type: <class 'numpy.ndarray'>\n",
            "State shape: (4,), State type: <class 'numpy.ndarray'>\n",
            "State shape: (4,), State type: <class 'numpy.ndarray'>\n",
            "State shape: (4,), State type: <class 'numpy.ndarray'>\n",
            "State shape: (4,), State type: <class 'numpy.ndarray'>\n",
            "State shape: (4,), State type: <class 'numpy.ndarray'>\n",
            "State shape: (4,), State type: <class 'numpy.ndarray'>\n",
            "State shape: (4,), State type: <class 'numpy.ndarray'>\n",
            "State shape: (4,), State type: <class 'numpy.ndarray'>\n",
            "State shape: (4,), State type: <class 'numpy.ndarray'>\n",
            "State shape: (4,), State type: <class 'numpy.ndarray'>\n",
            "State shape: (4,), State type: <class 'numpy.ndarray'>\n",
            "State shape: (4,), State type: <class 'numpy.ndarray'>\n",
            "State shape: (4,), State type: <class 'numpy.ndarray'>\n",
            "State shape: (4,), State type: <class 'numpy.ndarray'>\n",
            "State shape: (4,), State type: <class 'numpy.ndarray'>\n",
            "State shape: (4,), State type: <class 'numpy.ndarray'>\n",
            "State shape: (4,), State type: <class 'numpy.ndarray'>\n",
            "State shape: (4,), State type: <class 'numpy.ndarray'>\n",
            "State shape: (4,), State type: <class 'numpy.ndarray'>\n",
            "State shape: (4,), State type: <class 'numpy.ndarray'>\n",
            "State shape: (4,), State type: <class 'numpy.ndarray'>\n",
            "State shape: (4,), State type: <class 'numpy.ndarray'>\n",
            "State shape: (4,), State type: <class 'numpy.ndarray'>\n",
            "State shape: (4,), State type: <class 'numpy.ndarray'>\n",
            "State shape: (4,), State type: <class 'numpy.ndarray'>\n",
            "State shape: (4,), State type: <class 'numpy.ndarray'>\n",
            "State shape: (4,), State type: <class 'numpy.ndarray'>\n",
            "State shape: (4,), State type: <class 'numpy.ndarray'>\n",
            "State shape: (4,), State type: <class 'numpy.ndarray'>\n",
            "State shape: (4,), State type: <class 'numpy.ndarray'>\n",
            "State shape: (4,), State type: <class 'numpy.ndarray'>\n",
            "State shape: (4,), State type: <class 'numpy.ndarray'>\n",
            "State shape: (4,), State type: <class 'numpy.ndarray'>\n",
            "State shape: (4,), State type: <class 'numpy.ndarray'>\n",
            "State shape: (4,), State type: <class 'numpy.ndarray'>\n",
            "State shape: (4,), State type: <class 'numpy.ndarray'>\n",
            "State shape: (4,), State type: <class 'numpy.ndarray'>\n",
            "State shape: (4,), State type: <class 'numpy.ndarray'>\n",
            "State shape: (4,), State type: <class 'numpy.ndarray'>\n",
            "State shape: (4,), State type: <class 'numpy.ndarray'>\n",
            "State shape: (4,), State type: <class 'numpy.ndarray'>\n",
            "State shape: (4,), State type: <class 'numpy.ndarray'>\n",
            "State shape: (4,), State type: <class 'numpy.ndarray'>\n",
            "State shape: (4,), State type: <class 'numpy.ndarray'>\n",
            "State shape: (4,), State type: <class 'numpy.ndarray'>\n",
            "State shape: (4,), State type: <class 'numpy.ndarray'>\n",
            "State shape: (4,), State type: <class 'numpy.ndarray'>\n",
            "State shape: (4,), State type: <class 'numpy.ndarray'>\n",
            "State shape: (4,), State type: <class 'numpy.ndarray'>\n",
            "State shape: (4,), State type: <class 'numpy.ndarray'>\n",
            "State shape: (4,), State type: <class 'numpy.ndarray'>\n",
            "State shape: (4,), State type: <class 'numpy.ndarray'>\n",
            "State shape: (4,), State type: <class 'numpy.ndarray'>\n",
            "State shape: (4,), State type: <class 'numpy.ndarray'>\n",
            "State shape: (4,), State type: <class 'numpy.ndarray'>\n",
            "State shape: (4,), State type: <class 'numpy.ndarray'>\n",
            "State shape: (4,), State type: <class 'numpy.ndarray'>\n",
            "State shape: (4,), State type: <class 'numpy.ndarray'>\n",
            "State shape: (4,), State type: <class 'numpy.ndarray'>\n",
            "State shape: (4,), State type: <class 'numpy.ndarray'>\n",
            "State shape: (4,), State type: <class 'numpy.ndarray'>\n",
            "State shape: (4,), State type: <class 'numpy.ndarray'>\n",
            "State shape: (4,), State type: <class 'numpy.ndarray'>\n",
            "State shape: (4,), State type: <class 'numpy.ndarray'>\n",
            "State shape: (4,), State type: <class 'numpy.ndarray'>\n",
            "State shape: (4,), State type: <class 'numpy.ndarray'>\n",
            "State shape: (4,), State type: <class 'numpy.ndarray'>\n",
            "State shape: (4,), State type: <class 'numpy.ndarray'>\n",
            "State shape: (4,), State type: <class 'numpy.ndarray'>\n",
            "State shape: (4,), State type: <class 'numpy.ndarray'>\n",
            "State shape: (4,), State type: <class 'numpy.ndarray'>\n",
            "State shape: (4,), State type: <class 'numpy.ndarray'>\n",
            "State shape: (4,), State type: <class 'numpy.ndarray'>\n",
            "State shape: (4,), State type: <class 'numpy.ndarray'>\n",
            "State shape: (4,), State type: <class 'numpy.ndarray'>\n",
            "State shape: (4,), State type: <class 'numpy.ndarray'>\n",
            "State shape: (4,), State type: <class 'numpy.ndarray'>\n",
            "State shape: (4,), State type: <class 'numpy.ndarray'>\n",
            "State shape: (4,), State type: <class 'numpy.ndarray'>\n",
            "State shape: (4,), State type: <class 'numpy.ndarray'>\n",
            "State shape: (4,), State type: <class 'numpy.ndarray'>\n",
            "State shape: (4,), State type: <class 'numpy.ndarray'>\n",
            "State shape: (4,), State type: <class 'numpy.ndarray'>\n",
            "State shape: (4,), State type: <class 'numpy.ndarray'>\n",
            "State shape: (4,), State type: <class 'numpy.ndarray'>\n",
            "State shape: (4,), State type: <class 'numpy.ndarray'>\n",
            "State shape: (4,), State type: <class 'numpy.ndarray'>\n",
            "State shape: (4,), State type: <class 'numpy.ndarray'>\n",
            "State shape: (4,), State type: <class 'numpy.ndarray'>\n",
            "State shape: (4,), State type: <class 'numpy.ndarray'>\n",
            "State shape: (4,), State type: <class 'numpy.ndarray'>\n",
            "State shape: (4,), State type: <class 'numpy.ndarray'>\n",
            "State shape: (4,), State type: <class 'numpy.ndarray'>\n",
            "State shape: (4,), State type: <class 'numpy.ndarray'>\n",
            "State shape: (4,), State type: <class 'numpy.ndarray'>\n",
            "State shape: (4,), State type: <class 'numpy.ndarray'>\n",
            "State shape: (4,), State type: <class 'numpy.ndarray'>\n",
            "State shape: (4,), State type: <class 'numpy.ndarray'>\n",
            "State shape: (4,), State type: <class 'numpy.ndarray'>\n",
            "State shape: (4,), State type: <class 'numpy.ndarray'>\n",
            "State shape: (4,), State type: <class 'numpy.ndarray'>\n",
            "State shape: (4,), State type: <class 'numpy.ndarray'>\n",
            "State shape: (4,), State type: <class 'numpy.ndarray'>\n",
            "State shape: (4,), State type: <class 'numpy.ndarray'>\n",
            "State shape: (4,), State type: <class 'numpy.ndarray'>\n",
            "State shape: (4,), State type: <class 'numpy.ndarray'>\n",
            "State shape: (4,), State type: <class 'numpy.ndarray'>\n",
            "State shape: (4,), State type: <class 'numpy.ndarray'>\n",
            "State shape: (4,), State type: <class 'numpy.ndarray'>\n",
            "State shape: (4,), State type: <class 'numpy.ndarray'>\n",
            "State shape: (4,), State type: <class 'numpy.ndarray'>\n",
            "State shape: (4,), State type: <class 'numpy.ndarray'>\n",
            "State shape: (4,), State type: <class 'numpy.ndarray'>\n",
            "State shape: (4,), State type: <class 'numpy.ndarray'>\n",
            "State shape: (4,), State type: <class 'numpy.ndarray'>\n",
            "State shape: (4,), State type: <class 'numpy.ndarray'>\n",
            "State shape: (4,), State type: <class 'numpy.ndarray'>\n",
            "State shape: (4,), State type: <class 'numpy.ndarray'>\n",
            "State shape: (4,), State type: <class 'numpy.ndarray'>\n",
            "State shape: (4,), State type: <class 'numpy.ndarray'>\n",
            "State shape: (4,), State type: <class 'numpy.ndarray'>\n",
            "State shape: (4,), State type: <class 'numpy.ndarray'>\n",
            "State shape: (4,), State type: <class 'numpy.ndarray'>\n",
            "State shape: (4,), State type: <class 'numpy.ndarray'>\n",
            "State shape: (4,), State type: <class 'numpy.ndarray'>\n",
            "State shape: (4,), State type: <class 'numpy.ndarray'>\n",
            "State shape: (4,), State type: <class 'numpy.ndarray'>\n",
            "State shape: (4,), State type: <class 'numpy.ndarray'>\n",
            "State shape: (4,), State type: <class 'numpy.ndarray'>\n",
            "State shape: (4,), State type: <class 'numpy.ndarray'>\n",
            "State shape: (4,), State type: <class 'numpy.ndarray'>\n",
            "State shape: (4,), State type: <class 'numpy.ndarray'>\n",
            "State shape: (4,), State type: <class 'numpy.ndarray'>\n",
            "State shape: (4,), State type: <class 'numpy.ndarray'>\n",
            "State shape: (4,), State type: <class 'numpy.ndarray'>\n",
            "State shape: (4,), State type: <class 'numpy.ndarray'>\n",
            "State shape: (4,), State type: <class 'numpy.ndarray'>\n",
            "State shape: (4,), State type: <class 'numpy.ndarray'>\n",
            "State shape: (4,), State type: <class 'numpy.ndarray'>\n",
            "State shape: (4,), State type: <class 'numpy.ndarray'>\n",
            "State shape: (4,), State type: <class 'numpy.ndarray'>\n",
            "State shape: (4,), State type: <class 'numpy.ndarray'>\n",
            "State shape: (4,), State type: <class 'numpy.ndarray'>\n",
            "State shape: (4,), State type: <class 'numpy.ndarray'>\n",
            "State shape: (4,), State type: <class 'numpy.ndarray'>\n",
            "State shape: (4,), State type: <class 'numpy.ndarray'>\n",
            "State shape: (4,), State type: <class 'numpy.ndarray'>\n",
            "State shape: (4,), State type: <class 'numpy.ndarray'>\n",
            "State shape: (4,), State type: <class 'numpy.ndarray'>\n",
            "State shape: (4,), State type: <class 'numpy.ndarray'>\n",
            "State shape: (4,), State type: <class 'numpy.ndarray'>\n",
            "State shape: (4,), State type: <class 'numpy.ndarray'>\n",
            "State shape: (4,), State type: <class 'numpy.ndarray'>\n",
            "State shape: (4,), State type: <class 'numpy.ndarray'>\n",
            "State shape: (4,), State type: <class 'numpy.ndarray'>\n",
            "State shape: (4,), State type: <class 'numpy.ndarray'>\n",
            "State shape: (4,), State type: <class 'numpy.ndarray'>\n",
            "State shape: (4,), State type: <class 'numpy.ndarray'>\n",
            "State shape: (4,), State type: <class 'numpy.ndarray'>\n",
            "State shape: (4,), State type: <class 'numpy.ndarray'>\n",
            "State shape: (4,), State type: <class 'numpy.ndarray'>\n",
            "State shape: (4,), State type: <class 'numpy.ndarray'>\n",
            "State shape: (4,), State type: <class 'numpy.ndarray'>\n",
            "State shape: (4,), State type: <class 'numpy.ndarray'>\n",
            "State shape: (4,), State type: <class 'numpy.ndarray'>\n",
            "State shape: (4,), State type: <class 'numpy.ndarray'>\n",
            "State shape: (4,), State type: <class 'numpy.ndarray'>\n",
            "State shape: (4,), State type: <class 'numpy.ndarray'>\n",
            "State shape: (4,), State type: <class 'numpy.ndarray'>\n",
            "State shape: (4,), State type: <class 'numpy.ndarray'>\n",
            "State shape: (4,), State type: <class 'numpy.ndarray'>\n",
            "State shape: (4,), State type: <class 'numpy.ndarray'>\n",
            "State shape: (4,), State type: <class 'numpy.ndarray'>\n",
            "State shape: (4,), State type: <class 'numpy.ndarray'>\n",
            "State shape: (4,), State type: <class 'numpy.ndarray'>\n",
            "State shape: (4,), State type: <class 'numpy.ndarray'>\n",
            "State shape: (4,), State type: <class 'numpy.ndarray'>\n",
            "State shape: (4,), State type: <class 'numpy.ndarray'>\n",
            "State shape: (4,), State type: <class 'numpy.ndarray'>\n",
            "State shape: (4,), State type: <class 'numpy.ndarray'>\n",
            "State shape: (4,), State type: <class 'numpy.ndarray'>\n",
            "State shape: (4,), State type: <class 'numpy.ndarray'>\n",
            "State shape: (4,), State type: <class 'numpy.ndarray'>\n",
            "State shape: (4,), State type: <class 'numpy.ndarray'>\n",
            "State shape: (4,), State type: <class 'numpy.ndarray'>\n",
            "State shape: (4,), State type: <class 'numpy.ndarray'>\n",
            "State shape: (4,), State type: <class 'numpy.ndarray'>\n",
            "State shape: (4,), State type: <class 'numpy.ndarray'>\n",
            "State shape: (4,), State type: <class 'numpy.ndarray'>\n",
            "State shape: (4,), State type: <class 'numpy.ndarray'>\n",
            "State shape: (4,), State type: <class 'numpy.ndarray'>\n",
            "State shape: (4,), State type: <class 'numpy.ndarray'>\n",
            "State shape: (4,), State type: <class 'numpy.ndarray'>\n",
            "State shape: (4,), State type: <class 'numpy.ndarray'>\n",
            "State shape: (4,), State type: <class 'numpy.ndarray'>\n",
            "State shape: (4,), State type: <class 'numpy.ndarray'>\n",
            "State shape: (4,), State type: <class 'numpy.ndarray'>\n",
            "State shape: (4,), State type: <class 'numpy.ndarray'>\n",
            "State shape: (4,), State type: <class 'numpy.ndarray'>\n",
            "State shape: (4,), State type: <class 'numpy.ndarray'>\n",
            "State shape: (4,), State type: <class 'numpy.ndarray'>\n",
            "State shape: (4,), State type: <class 'numpy.ndarray'>\n",
            "State shape: (4,), State type: <class 'numpy.ndarray'>\n",
            "State shape: (4,), State type: <class 'numpy.ndarray'>\n",
            "State shape: (4,), State type: <class 'numpy.ndarray'>\n",
            "State shape: (4,), State type: <class 'numpy.ndarray'>\n",
            "State shape: (4,), State type: <class 'numpy.ndarray'>\n",
            "State shape: (4,), State type: <class 'numpy.ndarray'>\n",
            "State shape: (4,), State type: <class 'numpy.ndarray'>\n",
            "State shape: (4,), State type: <class 'numpy.ndarray'>\n",
            "State shape: (4,), State type: <class 'numpy.ndarray'>\n",
            "State shape: (4,), State type: <class 'numpy.ndarray'>\n",
            "State shape: (4,), State type: <class 'numpy.ndarray'>\n",
            "State shape: (4,), State type: <class 'numpy.ndarray'>\n",
            "State shape: (4,), State type: <class 'numpy.ndarray'>\n",
            "State shape: (4,), State type: <class 'numpy.ndarray'>\n",
            "State shape: (4,), State type: <class 'numpy.ndarray'>\n",
            "State shape: (4,), State type: <class 'numpy.ndarray'>\n",
            "State shape: (4,), State type: <class 'numpy.ndarray'>\n",
            "State shape: (4,), State type: <class 'numpy.ndarray'>\n",
            "State shape: (4,), State type: <class 'numpy.ndarray'>\n",
            "State shape: (4,), State type: <class 'numpy.ndarray'>\n",
            "State shape: (4,), State type: <class 'numpy.ndarray'>\n",
            "State shape: (4,), State type: <class 'numpy.ndarray'>\n",
            "State shape: (4,), State type: <class 'numpy.ndarray'>\n",
            "State shape: (4,), State type: <class 'numpy.ndarray'>\n",
            "State shape: (4,), State type: <class 'numpy.ndarray'>\n",
            "State shape: (4,), State type: <class 'numpy.ndarray'>\n",
            "State shape: (4,), State type: <class 'numpy.ndarray'>\n",
            "State shape: (4,), State type: <class 'numpy.ndarray'>\n",
            "State shape: (4,), State type: <class 'numpy.ndarray'>\n",
            "State shape: (4,), State type: <class 'numpy.ndarray'>\n",
            "State shape: (4,), State type: <class 'numpy.ndarray'>\n",
            "State shape: (4,), State type: <class 'numpy.ndarray'>\n",
            "State shape: (4,), State type: <class 'numpy.ndarray'>\n",
            "State shape: (4,), State type: <class 'numpy.ndarray'>\n",
            "State shape: (4,), State type: <class 'numpy.ndarray'>\n",
            "State shape: (4,), State type: <class 'numpy.ndarray'>\n",
            "State shape: (4,), State type: <class 'numpy.ndarray'>\n",
            "State shape: (4,), State type: <class 'numpy.ndarray'>\n",
            "State shape: (4,), State type: <class 'numpy.ndarray'>\n",
            "State shape: (4,), State type: <class 'numpy.ndarray'>\n",
            "State shape: (4,), State type: <class 'numpy.ndarray'>\n",
            "State shape: (4,), State type: <class 'numpy.ndarray'>\n",
            "State shape: (4,), State type: <class 'numpy.ndarray'>\n",
            "State shape: (4,), State type: <class 'numpy.ndarray'>\n",
            "State shape: (4,), State type: <class 'numpy.ndarray'>\n",
            "State shape: (4,), State type: <class 'numpy.ndarray'>\n",
            "State shape: (4,), State type: <class 'numpy.ndarray'>\n",
            "State shape: (4,), State type: <class 'numpy.ndarray'>\n",
            "State shape: (4,), State type: <class 'numpy.ndarray'>\n",
            "State shape: (4,), State type: <class 'numpy.ndarray'>\n",
            "State shape: (4,), State type: <class 'numpy.ndarray'>\n",
            "State shape: (4,), State type: <class 'numpy.ndarray'>\n",
            "State shape: (4,), State type: <class 'numpy.ndarray'>\n",
            "State shape: (4,), State type: <class 'numpy.ndarray'>\n",
            "State shape: (4,), State type: <class 'numpy.ndarray'>\n",
            "State shape: (4,), State type: <class 'numpy.ndarray'>\n",
            "State shape: (4,), State type: <class 'numpy.ndarray'>\n",
            "State shape: (4,), State type: <class 'numpy.ndarray'>\n",
            "State shape: (4,), State type: <class 'numpy.ndarray'>\n",
            "State shape: (4,), State type: <class 'numpy.ndarray'>\n",
            "State shape: (4,), State type: <class 'numpy.ndarray'>\n",
            "State shape: (4,), State type: <class 'numpy.ndarray'>\n",
            "State shape: (4,), State type: <class 'numpy.ndarray'>\n",
            "State shape: (4,), State type: <class 'numpy.ndarray'>\n",
            "State shape: (4,), State type: <class 'numpy.ndarray'>\n",
            "State shape: (4,), State type: <class 'numpy.ndarray'>\n",
            "State shape: (4,), State type: <class 'numpy.ndarray'>\n",
            "State shape: (4,), State type: <class 'numpy.ndarray'>\n",
            "State shape: (4,), State type: <class 'numpy.ndarray'>\n",
            "State shape: (4,), State type: <class 'numpy.ndarray'>\n",
            "State shape: (4,), State type: <class 'numpy.ndarray'>\n",
            "State shape: (4,), State type: <class 'numpy.ndarray'>\n",
            "State shape: (4,), State type: <class 'numpy.ndarray'>\n",
            "State shape: (4,), State type: <class 'numpy.ndarray'>\n",
            "State shape: (4,), State type: <class 'numpy.ndarray'>\n",
            "State shape: (4,), State type: <class 'numpy.ndarray'>\n",
            "State shape: (4,), State type: <class 'numpy.ndarray'>\n",
            "State shape: (4,), State type: <class 'numpy.ndarray'>\n",
            "State shape: (4,), State type: <class 'numpy.ndarray'>\n",
            "State shape: (4,), State type: <class 'numpy.ndarray'>\n",
            "State shape: (4,), State type: <class 'numpy.ndarray'>\n",
            "State shape: (4,), State type: <class 'numpy.ndarray'>\n",
            "State shape: (4,), State type: <class 'numpy.ndarray'>\n",
            "State shape: (4,), State type: <class 'numpy.ndarray'>\n",
            "State shape: (4,), State type: <class 'numpy.ndarray'>\n",
            "State shape: (4,), State type: <class 'numpy.ndarray'>\n",
            "State shape: (4,), State type: <class 'numpy.ndarray'>\n",
            "State shape: (4,), State type: <class 'numpy.ndarray'>\n",
            "State shape: (4,), State type: <class 'numpy.ndarray'>\n",
            "State shape: (4,), State type: <class 'numpy.ndarray'>\n",
            "State shape: (4,), State type: <class 'numpy.ndarray'>\n",
            "State shape: (4,), State type: <class 'numpy.ndarray'>\n",
            "State shape: (4,), State type: <class 'numpy.ndarray'>\n",
            "State shape: (4,), State type: <class 'numpy.ndarray'>\n",
            "State shape: (4,), State type: <class 'numpy.ndarray'>\n",
            "State shape: (4,), State type: <class 'numpy.ndarray'>\n",
            "State shape: (4,), State type: <class 'numpy.ndarray'>\n",
            "State shape: (4,), State type: <class 'numpy.ndarray'>\n",
            "State shape: (4,), State type: <class 'numpy.ndarray'>\n",
            "State shape: (4,), State type: <class 'numpy.ndarray'>\n",
            "State shape: (4,), State type: <class 'numpy.ndarray'>\n",
            "State shape: (4,), State type: <class 'numpy.ndarray'>\n",
            "State shape: (4,), State type: <class 'numpy.ndarray'>\n",
            "State shape: (4,), State type: <class 'numpy.ndarray'>\n",
            "State shape: (4,), State type: <class 'numpy.ndarray'>\n",
            "State shape: (4,), State type: <class 'numpy.ndarray'>\n",
            "State shape: (4,), State type: <class 'numpy.ndarray'>\n",
            "State shape: (4,), State type: <class 'numpy.ndarray'>\n",
            "State shape: (4,), State type: <class 'numpy.ndarray'>\n",
            "State shape: (4,), State type: <class 'numpy.ndarray'>\n",
            "State shape: (4,), State type: <class 'numpy.ndarray'>\n",
            "State shape: (4,), State type: <class 'numpy.ndarray'>\n",
            "State shape: (4,), State type: <class 'numpy.ndarray'>\n",
            "State shape: (4,), State type: <class 'numpy.ndarray'>\n",
            "State shape: (4,), State type: <class 'numpy.ndarray'>\n",
            "State shape: (4,), State type: <class 'numpy.ndarray'>\n",
            "State shape: (4,), State type: <class 'numpy.ndarray'>\n",
            "State shape: (4,), State type: <class 'numpy.ndarray'>\n",
            "State shape: (4,), State type: <class 'numpy.ndarray'>\n",
            "State shape: (4,), State type: <class 'numpy.ndarray'>\n",
            "State shape: (4,), State type: <class 'numpy.ndarray'>\n",
            "State shape: (4,), State type: <class 'numpy.ndarray'>\n",
            "State shape: (4,), State type: <class 'numpy.ndarray'>\n",
            "State shape: (4,), State type: <class 'numpy.ndarray'>\n",
            "State shape: (4,), State type: <class 'numpy.ndarray'>\n",
            "State shape: (4,), State type: <class 'numpy.ndarray'>\n",
            "State shape: (4,), State type: <class 'numpy.ndarray'>\n",
            "State shape: (4,), State type: <class 'numpy.ndarray'>\n",
            "State shape: (4,), State type: <class 'numpy.ndarray'>\n",
            "State shape: (4,), State type: <class 'numpy.ndarray'>\n",
            "State shape: (4,), State type: <class 'numpy.ndarray'>\n",
            "State shape: (4,), State type: <class 'numpy.ndarray'>\n",
            "State shape: (4,), State type: <class 'numpy.ndarray'>\n",
            "State shape: (4,), State type: <class 'numpy.ndarray'>\n",
            "State shape: (4,), State type: <class 'numpy.ndarray'>\n",
            "State shape: (4,), State type: <class 'numpy.ndarray'>\n",
            "State shape: (4,), State type: <class 'numpy.ndarray'>\n",
            "State shape: (4,), State type: <class 'numpy.ndarray'>\n",
            "State shape: (4,), State type: <class 'numpy.ndarray'>\n",
            "State shape: (4,), State type: <class 'numpy.ndarray'>\n",
            "State shape: (4,), State type: <class 'numpy.ndarray'>\n",
            "State shape: (4,), State type: <class 'numpy.ndarray'>\n",
            "State shape: (4,), State type: <class 'numpy.ndarray'>\n",
            "State shape: (4,), State type: <class 'numpy.ndarray'>\n",
            "State shape: (4,), State type: <class 'numpy.ndarray'>\n",
            "State shape: (4,), State type: <class 'numpy.ndarray'>\n",
            "State shape: (4,), State type: <class 'numpy.ndarray'>\n",
            "State shape: (4,), State type: <class 'numpy.ndarray'>\n",
            "State shape: (4,), State type: <class 'numpy.ndarray'>\n",
            "State shape: (4,), State type: <class 'numpy.ndarray'>\n",
            "State shape: (4,), State type: <class 'numpy.ndarray'>\n",
            "State shape: (4,), State type: <class 'numpy.ndarray'>\n",
            "State shape: (4,), State type: <class 'numpy.ndarray'>\n",
            "State shape: (4,), State type: <class 'numpy.ndarray'>\n",
            "State shape: (4,), State type: <class 'numpy.ndarray'>\n",
            "State shape: (4,), State type: <class 'numpy.ndarray'>\n",
            "State shape: (4,), State type: <class 'numpy.ndarray'>\n",
            "State shape: (4,), State type: <class 'numpy.ndarray'>\n",
            "State shape: (4,), State type: <class 'numpy.ndarray'>\n",
            "State shape: (4,), State type: <class 'numpy.ndarray'>\n",
            "State shape: (4,), State type: <class 'numpy.ndarray'>\n",
            "State shape: (4,), State type: <class 'numpy.ndarray'>\n",
            "State shape: (4,), State type: <class 'numpy.ndarray'>\n",
            "State shape: (4,), State type: <class 'numpy.ndarray'>\n",
            "State shape: (4,), State type: <class 'numpy.ndarray'>\n",
            "State shape: (4,), State type: <class 'numpy.ndarray'>\n",
            "State shape: (4,), State type: <class 'numpy.ndarray'>\n",
            "State shape: (4,), State type: <class 'numpy.ndarray'>\n",
            "State shape: (4,), State type: <class 'numpy.ndarray'>\n",
            "State shape: (4,), State type: <class 'numpy.ndarray'>\n",
            "State shape: (4,), State type: <class 'numpy.ndarray'>\n",
            "State shape: (4,), State type: <class 'numpy.ndarray'>\n",
            "State shape: (4,), State type: <class 'numpy.ndarray'>\n",
            "State shape: (4,), State type: <class 'numpy.ndarray'>\n",
            "State shape: (4,), State type: <class 'numpy.ndarray'>\n"
          ]
        },
        {
          "output_type": "stream",
          "name": "stderr",
          "text": [
            "WARNING:imageio_ffmpeg:IMAGEIO FFMPEG_WRITER WARNING: input image is not divisible by macro_block_size=16, resizing from (600, 400) to (608, 400) to ensure video compatibility with most codecs and players. To prevent resizing, make your input image divisible by the macro_block_size or set the macro_block_size to 1 (risking incompatibility).\n"
          ]
        },
        {
          "output_type": "stream",
          "name": "stdout",
          "text": [
            "State shape: (4,), State type: <class 'numpy.ndarray'>\n",
            "State shape: (4,), State type: <class 'numpy.ndarray'>\n",
            "State shape: (4,), State type: <class 'numpy.ndarray'>\n",
            "State shape: (4,), State type: <class 'numpy.ndarray'>\n",
            "State shape: (4,), State type: <class 'numpy.ndarray'>\n",
            "State shape: (4,), State type: <class 'numpy.ndarray'>\n",
            "State shape: (4,), State type: <class 'numpy.ndarray'>\n",
            "State shape: (4,), State type: <class 'numpy.ndarray'>\n",
            "State shape: (4,), State type: <class 'numpy.ndarray'>\n",
            "State shape: (4,), State type: <class 'numpy.ndarray'>\n",
            "State shape: (4,), State type: <class 'numpy.ndarray'>\n",
            "State shape: (4,), State type: <class 'numpy.ndarray'>\n",
            "State shape: (4,), State type: <class 'numpy.ndarray'>\n",
            "State shape: (4,), State type: <class 'numpy.ndarray'>\n",
            "State shape: (4,), State type: <class 'numpy.ndarray'>\n",
            "State shape: (4,), State type: <class 'numpy.ndarray'>\n",
            "State shape: (4,), State type: <class 'numpy.ndarray'>\n",
            "Episode 10 Reward: 500.0\n",
            "Average Reward over 10 episodes: 476.0\n"
          ]
        }
      ],
      "source": [
        "env_name = 'CartPole-v1'\n",
        "env = gym.make(env_name, render_mode='rgb_array')\n",
        "\n",
        "num_episodes = 10\n",
        "device = torch.device(\"cuda\" if torch.cuda.is_available() else \"cpu\")\n",
        "\n",
        "# Assuming a2c_model is already trained and available\n",
        "model = a2c_model\n",
        "\n",
        "frames = []\n",
        "episode_rewards = []\n",
        "\n",
        "for i in range(num_episodes):\n",
        "    state = env.reset()\n",
        "    if isinstance(state, tuple):  # Handle different Gym API versions\n",
        "        state = state[0]\n",
        "\n",
        "    episode_reward = 0\n",
        "    done = False\n",
        "\n",
        "    while not done:\n",
        "        # Add the current frame to the list if it's the first episode\n",
        "        if i == 0:\n",
        "            frame = env.render()\n",
        "\n",
        "            # Check if frame is a list and handle accordingly\n",
        "            if isinstance(frame, list):\n",
        "                frame = np.array(frame[0])  # Assuming the first element of the list is the frame\n",
        "\n",
        "            # Check if the frame has the expected number of channels\n",
        "            if frame.shape[-1] not in (1, 2, 3, 4):\n",
        "                # Convert the frame to RGB if it has a different number of channels\n",
        "                frame = frame[..., :3]  # Assuming the first 3 channels are RGB\n",
        "            frames.append(frame)\n",
        "\n",
        "        # Debugging information\n",
        "        print(f\"State shape: {state.shape}, State type: {type(state)}\")\n",
        "\n",
        "        state = torch.FloatTensor(state).unsqueeze(0).to(device)\n",
        "        with torch.no_grad():\n",
        "            action_probs, _ = model.policy_net(state)\n",
        "        action = torch.multinomial(action_probs, 1).item()\n",
        "\n",
        "        next_state, reward, done, _ = env.step(action)\n",
        "        if isinstance(next_state, tuple):  # Handle different Gym API versions\n",
        "            next_state = next_state[0]\n",
        "\n",
        "        episode_reward += reward\n",
        "        state = next_state\n",
        "\n",
        "    episode_rewards.append(episode_reward)\n",
        "    print(f\"Episode {i + 1} Reward: {episode_reward}\")\n",
        "\n",
        "env.close()\n",
        "\n",
        "episode_rewards = np.array(episode_rewards)\n",
        "print(f\"Average Reward over {num_episodes} episodes: {np.mean(episode_rewards)}\")\n",
        "imageio.mimsave('./test.mp4', frames, fps=25)"
      ]
    },
    {
      "cell_type": "code",
      "execution_count": 20,
      "metadata": {
        "colab": {
          "base_uri": "https://localhost:8080/",
          "height": 284
        },
        "id": "85Uys0DYLmwB",
        "outputId": "7acfbdd5-88a9-4bf4-ea81-41fde0a947b2"
      },
      "outputs": [
        {
          "output_type": "execute_result",
          "data": {
            "text/plain": [
              "<IPython.core.display.HTML object>"
            ],
            "text/html": [
              "\n",
              "    <video width=400 controls>\n",
              "          <source src=\"data:video/mp4;base64,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\" type=\"video/mp4\">\n",
              "    </video>\n",
              "    "
            ]
          },
          "metadata": {},
          "execution_count": 20
        }
      ],
      "source": [
        "show_video('./test.mp4')"
      ]
    }
  ],
  "metadata": {
    "accelerator": "GPU",
    "colab": {
      "gpuType": "T4",
      "provenance": []
    },
    "kernelspec": {
      "display_name": "Python 3",
      "name": "python3"
    },
    "language_info": {
      "name": "python"
    }
  },
  "nbformat": 4,
  "nbformat_minor": 0
}